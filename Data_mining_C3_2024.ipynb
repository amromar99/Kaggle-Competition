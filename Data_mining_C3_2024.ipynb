{
  "cells": [
    {
      "cell_type": "code",
      "execution_count": null,
      "metadata": {
        "id": "QMWNhVmM8t_T"
      },
      "outputs": [],
      "source": [
        "# Eng/Amr Mostafa Omar\n",
        "# Nile University ,Cairo, Egypt\n",
        "# Data 16/4/2024"
      ]
    },
    {
      "cell_type": "code",
      "execution_count": null,
      "metadata": {
        "colab": {
          "base_uri": "https://localhost:8080/"
        },
        "id": "qiurBReXlssV",
        "outputId": "06885a45-a009-497d-f3dc-afb91dc3b6cc"
      },
      "outputs": [
        {
          "output_type": "stream",
          "name": "stdout",
          "text": [
            "Collecting langdetect\n",
            "  Downloading langdetect-1.0.9.tar.gz (981 kB)\n",
            "\u001b[?25l     \u001b[90m━━━━━━━━━━━━━━━━━━━━━━━━━━━━━━━━━━━━━━━━\u001b[0m \u001b[32m0.0/981.5 kB\u001b[0m \u001b[31m?\u001b[0m eta \u001b[36m-:--:--\u001b[0m\r\u001b[2K     \u001b[91m━━━━━━━━━\u001b[0m\u001b[91m╸\u001b[0m\u001b[90m━━━━━━━━━━━━━━━━━━━━━━━━━━━━━━\u001b[0m \u001b[32m235.5/981.5 kB\u001b[0m \u001b[31m6.8 MB/s\u001b[0m eta \u001b[36m0:00:01\u001b[0m\r\u001b[2K     \u001b[91m━━━━━━━━━━━━━━━━━━━━━━━━━━━━━━\u001b[0m\u001b[90m╺\u001b[0m\u001b[90m━━━━━━━━━\u001b[0m \u001b[32m737.3/981.5 kB\u001b[0m \u001b[31m10.6 MB/s\u001b[0m eta \u001b[36m0:00:01\u001b[0m\r\u001b[2K     \u001b[90m━━━━━━━━━━━━━━━━━━━━━━━━━━━━━━━━━━━━━━━━\u001b[0m \u001b[32m981.5/981.5 kB\u001b[0m \u001b[31m10.4 MB/s\u001b[0m eta \u001b[36m0:00:00\u001b[0m\n",
            "\u001b[?25h  Preparing metadata (setup.py) ... \u001b[?25l\u001b[?25hdone\n",
            "Requirement already satisfied: six in /usr/local/lib/python3.10/dist-packages (from langdetect) (1.16.0)\n",
            "Building wheels for collected packages: langdetect\n",
            "  Building wheel for langdetect (setup.py) ... \u001b[?25l\u001b[?25hdone\n",
            "  Created wheel for langdetect: filename=langdetect-1.0.9-py3-none-any.whl size=993227 sha256=e87d71a4c724109b6ed159caa68124912a2bc2fe70243f225d44cb2cf8ede2ff\n",
            "  Stored in directory: /root/.cache/pip/wheels/95/03/7d/59ea870c70ce4e5a370638b5462a7711ab78fba2f655d05106\n",
            "Successfully built langdetect\n",
            "Installing collected packages: langdetect\n",
            "Successfully installed langdetect-1.0.9\n"
          ]
        }
      ],
      "source": [
        "!pip install langdetect"
      ]
    },
    {
      "cell_type": "code",
      "execution_count": null,
      "metadata": {
        "colab": {
          "base_uri": "https://localhost:8080/"
        },
        "id": "42c80RUkrXgr",
        "outputId": "8b813ca8-1d26-4e8e-d75f-b934b1202ebf"
      },
      "outputs": [
        {
          "output_type": "stream",
          "name": "stdout",
          "text": [
            "Collecting scikit-optimize\n",
            "  Downloading scikit_optimize-0.10.1-py2.py3-none-any.whl (107 kB)\n",
            "\u001b[?25l     \u001b[90m━━━━━━━━━━━━━━━━━━━━━━━━━━━━━━━━━━━━━━━━\u001b[0m \u001b[32m0.0/107.7 kB\u001b[0m \u001b[31m?\u001b[0m eta \u001b[36m-:--:--\u001b[0m\r\u001b[2K     \u001b[90m━━━━━━━━━━━━━━━━━━━━━━━━━━━━━━━━━━━━━━━━\u001b[0m \u001b[32m107.7/107.7 kB\u001b[0m \u001b[31m3.7 MB/s\u001b[0m eta \u001b[36m0:00:00\u001b[0m\n",
            "\u001b[?25hRequirement already satisfied: joblib>=0.11 in /usr/local/lib/python3.10/dist-packages (from scikit-optimize) (1.4.0)\n",
            "Collecting pyaml>=16.9 (from scikit-optimize)\n",
            "  Downloading pyaml-24.4.0-py3-none-any.whl (24 kB)\n",
            "Requirement already satisfied: numpy>=1.20.3 in /usr/local/lib/python3.10/dist-packages (from scikit-optimize) (1.25.2)\n",
            "Requirement already satisfied: scipy>=1.1.0 in /usr/local/lib/python3.10/dist-packages (from scikit-optimize) (1.11.4)\n",
            "Requirement already satisfied: scikit-learn>=1.0.0 in /usr/local/lib/python3.10/dist-packages (from scikit-optimize) (1.2.2)\n",
            "Requirement already satisfied: packaging>=21.3 in /usr/local/lib/python3.10/dist-packages (from scikit-optimize) (24.0)\n",
            "Requirement already satisfied: PyYAML in /usr/local/lib/python3.10/dist-packages (from pyaml>=16.9->scikit-optimize) (6.0.1)\n",
            "Requirement already satisfied: threadpoolctl>=2.0.0 in /usr/local/lib/python3.10/dist-packages (from scikit-learn>=1.0.0->scikit-optimize) (3.4.0)\n",
            "Installing collected packages: pyaml, scikit-optimize\n",
            "Successfully installed pyaml-24.4.0 scikit-optimize-0.10.1\n"
          ]
        }
      ],
      "source": [
        "!pip install scikit-optimize"
      ]
    },
    {
      "cell_type": "markdown",
      "metadata": {
        "id": "66YUfeviUt3I"
      },
      "source": [
        "##**The methodology used in this project involves several steps:**"
      ]
    },
    {
      "cell_type": "markdown",
      "metadata": {
        "id": "veduzdbmZnCI"
      },
      "source": [
        "**1. Data Loading:**\n",
        "   - Mount Google Drive to access files.\n",
        "   - Load the training dataset from Google Drive using Pandas.\n",
        "\n",
        "**2. Explore Dataset:**\n",
        "   - Check the first few rows of the dataset to understand its structure.\n",
        "   - Check for missing values and handle them appropriately.\n",
        "   - Verify if all texts in the dataset are from the same language and remove non-English samples if necessary.\n",
        "\n",
        "**3. Data Preprocessing and Cleaning:(Apply 2 preprocessing techniques)**\n",
        "   - Preprocess the text data by removing non-alphanumeric characters, single letters, numbers, and non-English characters.\n",
        "   - Tokenize the text, remove stop words, and apply stemming or lemmatization for English text.\n",
        "   - Clean and preprocess the text using both stemming and lemmatization techniques separately.\n",
        "   \n",
        "**4. Describe and Analyze Dataset:**\n",
        "   - Analyze word frequency to identify common and uncommon words.\n",
        "   - Visualize the distribution of text lengths and label counts using histograms and bar charts.\n",
        "   - Drop samples with label 2 from the dataset to ensure binary labels (0 or 1).\n",
        "\n",
        "**5. Preprocessing and Splitting Data:**\n",
        "   - Split the preprocessed data into training and validation sets for each preprocessing approach.\n",
        "\n",
        "**6. Model Training and Evaluation Trials:**\n",
        "   - Perform multiple model training and evaluation trials using different combinations of preprocessing techniques and classifiers.\n",
        "   - For each trial:\n",
        "     - Train classifiers such as XGBoost Classifier and Logistic Regression on the preprocessed data.\n",
        "     - Tune hyperparameters using techniques like Randomized Search.\n",
        "     - Evaluate model performance using AUROC as the metric.\n",
        "\n",
        "**7. Load Testing Data and Preprocess:**\n",
        "   - Load the testing data from Google Drive.\n",
        "   - Apply the same preprocessing steps as done for the training data.\n",
        "\n",
        "**8. Get Predictions and Save Files:**\n",
        "   - Use the trained models to make predictions on the testing data.\n",
        "   - Save the prediction files into CSV format for further analysis or submission.\n"
      ]
    },
    {
      "cell_type": "markdown",
      "metadata": {
        "id": "clohTOpuYHIB"
      },
      "source": [
        "##**1-Problem Definition:**"
      ]
    },
    {
      "cell_type": "markdown",
      "metadata": {
        "id": "ztyqGCQEYF25"
      },
      "source": [
        "* **Input:** The input consists of Reddit post titles.\n",
        "* **Output:** The output is a binary classification indicating whether the post title is fake news or not.\n",
        "* **Data mining function:** A classification algorithm is required to perform the task. This involves training a model on labeled data to predict the class labels of new instances.\n",
        "* **Challenges:** Some challenges include:\n",
        "Data quality: Ensuring the quality and reliability of the labeled data is crucial.\n",
        "* **Feature extraction:** Identifying informative features from the text data that can effectively distinguish between fake and genuine news.\n",
        "* **Model selection:** Choosing an appropriate classification algorithm and optimizing its parameters.\n",
        "Handling imbalanced data: If there's a significant class imbalance in the dataset, it may affect the model's performance.\n",
        "* **Impact:** The impact of successfully classifying Reddit post titles as fake news or genuine can help in combating misinformation and disinformation on social media platforms, contributing to a healthier online information ecosystem.\n",
        "* **Ideal solution:** An ideal solution would involve:\n",
        "1. High accuracy in classifying post titles.\n",
        "2. Robustness to handle variations in language and topic.\n",
        "3. Scalability to process a large volume of data efficiently.\n",
        "4. Interpretability to understand the factors influencing the classification decisions.\n",
        "5. Regular updates to adapt to evolving trends and tactics used in spreading fake news."
      ]
    },
    {
      "cell_type": "code",
      "execution_count": null,
      "metadata": {
        "colab": {
          "base_uri": "https://localhost:8080/"
        },
        "id": "yExks04z6sYy",
        "outputId": "bf036ffc-f85d-465e-b275-9edd5d2ee048"
      },
      "outputs": [
        {
          "output_type": "stream",
          "name": "stderr",
          "text": [
            "[nltk_data] Downloading package wordnet to /root/nltk_data...\n"
          ]
        },
        {
          "output_type": "execute_result",
          "data": {
            "text/plain": [
              "True"
            ]
          },
          "metadata": {},
          "execution_count": 4
        }
      ],
      "source": [
        "# Import  libraries\n",
        "import pandas as pd\n",
        "import numpy as np\n",
        "import re\n",
        "import matplotlib.pyplot as plt\n",
        "import seaborn as sns\n",
        "from sklearn.model_selection import train_test_split\n",
        "from sklearn.model_selection import train_test_split, GridSearchCV, RandomizedSearchCV\n",
        "from sklearn.feature_extraction.text import CountVectorizer, TfidfVectorizer\n",
        "from sklearn.pipeline import Pipeline\n",
        "from sklearn.metrics import roc_auc_score\n",
        "import xgboost as xgb\n",
        "from langdetect import detect\n",
        "from skopt import BayesSearchCV\n",
        "import nltk\n",
        "from nltk.tokenize import word_tokenize\n",
        "from nltk.corpus import stopwords\n",
        "from nltk.stem import PorterStemmer\n",
        "from langdetect import detect\n",
        "from sklearn.base import BaseEstimator, TransformerMixin\n",
        "from gensim.models import Word2Vec\n",
        "from gensim.models import KeyedVectors\n",
        "from bokeh.models import NumeralTickFormatter\n",
        "from sklearn.linear_model import LogisticRegression\n",
        "from sklearn.ensemble import RandomForestClassifier\n",
        "from sklearn.tree import DecisionTreeClassifier\n",
        "from nltk.stem import WordNetLemmatizer\n",
        "nltk.download('wordnet')"
      ]
    },
    {
      "cell_type": "code",
      "execution_count": null,
      "metadata": {
        "id": "WgbKaVHU6vKI"
      },
      "outputs": [],
      "source": [
        "# Mount Google Drive to access files\n",
        "from google.colab import drive"
      ]
    },
    {
      "cell_type": "code",
      "execution_count": null,
      "metadata": {
        "colab": {
          "base_uri": "https://localhost:8080/"
        },
        "id": "TjPXJq486ylr",
        "outputId": "c23702f6-6a06-4862-b02e-5313c2598d35"
      },
      "outputs": [
        {
          "output_type": "stream",
          "name": "stdout",
          "text": [
            "Mounted at /content/gdrive\n"
          ]
        }
      ],
      "source": [
        "drive.mount('/content/gdrive')"
      ]
    },
    {
      "cell_type": "markdown",
      "metadata": {
        "id": "8ED4DEKVNsn6"
      },
      "source": [
        "##**2-Data Loading:**"
      ]
    },
    {
      "cell_type": "code",
      "execution_count": null,
      "metadata": {
        "id": "UnEHEwqkNljC"
      },
      "outputs": [],
      "source": [
        "data = pd.read_csv('/content/gdrive/MyDrive/xy_train.csv')"
      ]
    },
    {
      "cell_type": "code",
      "execution_count": null,
      "metadata": {
        "colab": {
          "base_uri": "https://localhost:8080/"
        },
        "id": "Z1enDn6ZYZDu",
        "outputId": "a9dd6ef0-c6ad-4cbf-bc54-befb69cc0391"
      },
      "outputs": [
        {
          "data": {
            "text/plain": [
              "(60000, 3)"
            ]
          },
          "execution_count": 8,
          "metadata": {},
          "output_type": "execute_result"
        }
      ],
      "source": [
        "data.shape"
      ]
    },
    {
      "cell_type": "markdown",
      "metadata": {
        "id": "gV47OYBT80kj"
      },
      "source": [
        "###**Explore dataset**"
      ]
    },
    {
      "cell_type": "code",
      "execution_count": null,
      "metadata": {
        "colab": {
          "base_uri": "https://localhost:8080/"
        },
        "id": "xSFhZgrn80lA",
        "outputId": "2f1fc882-90b8-4902-81f4-18b7c0c59ae7"
      },
      "outputs": [
        {
          "name": "stdout",
          "output_type": "stream",
          "text": [
            "First few rows of the dataset:\n",
            "       id                                               text  label\n",
            "0  265723  A group of friends began to volunteer at a hom...      0\n",
            "1  284269  British Prime Minister @Theresa_May on Nerve A...      0\n",
            "2  207715  In 1961, Goodyear released a kit that allows P...      0\n",
            "3  551106  Happy Birthday, Bob Barker! The Price Is Right...      0\n",
            "4    8584  Obama to Nation: 聙\"Innocent Cops and Unarmed Y...      0\n",
            "5  117912  In the 1920鈥檚, Hitler was forbidden to address...      0\n",
            "6  213064  Nerd Wins Scrabble with word you've never hear...      0\n",
            "7  398923  Why 95.8% of Female Newscasters Have the Same ...      1\n",
            "8  314798  Donald Trump Says He'll Do This If More 'Inapp...      0\n",
            "9   20243  5 crazy facts about Lamborghini's outrageous e...      0\n"
          ]
        }
      ],
      "source": [
        "# Check the first few rows of the dataset\n",
        "print(\"First few rows of the dataset:\")\n",
        "print(data.head(10))"
      ]
    },
    {
      "cell_type": "code",
      "execution_count": null,
      "metadata": {
        "colab": {
          "base_uri": "https://localhost:8080/"
        },
        "id": "oN4il9eM80lD",
        "outputId": "5433835c-a801-4a2e-e950-a92ecee51e68"
      },
      "outputs": [
        {
          "name": "stdout",
          "output_type": "stream",
          "text": [
            "<class 'pandas.core.frame.DataFrame'>\n",
            "RangeIndex: 60000 entries, 0 to 59999\n",
            "Data columns (total 3 columns):\n",
            " #   Column  Non-Null Count  Dtype \n",
            "---  ------  --------------  ----- \n",
            " 0   id      60000 non-null  int64 \n",
            " 1   text    60000 non-null  object\n",
            " 2   label   60000 non-null  int64 \n",
            "dtypes: int64(2), object(1)\n",
            "memory usage: 1.4+ MB\n"
          ]
        }
      ],
      "source": [
        "data.info()"
      ]
    },
    {
      "cell_type": "code",
      "execution_count": null,
      "metadata": {
        "colab": {
          "base_uri": "https://localhost:8080/"
        },
        "id": "E5vWY8_180lE",
        "outputId": "f8724e27-1a5c-41d0-f47b-b6984e911561"
      },
      "outputs": [
        {
          "data": {
            "text/plain": [
              "Index(['id', 'text', 'label'], dtype='object')"
            ]
          },
          "execution_count": 11,
          "metadata": {},
          "output_type": "execute_result"
        }
      ],
      "source": [
        "data.columns"
      ]
    },
    {
      "cell_type": "code",
      "execution_count": null,
      "metadata": {
        "colab": {
          "base_uri": "https://localhost:8080/"
        },
        "id": "0X-2nM7r80lF",
        "outputId": "279fb465-5a16-45ab-ff56-b7b3ad9a8d4a"
      },
      "outputs": [
        {
          "name": "stdout",
          "output_type": "stream",
          "text": [
            "\n",
            "Missing values:\n",
            "id       0\n",
            "text     0\n",
            "label    0\n",
            "dtype: int64\n"
          ]
        }
      ],
      "source": [
        "# Check for missing values\n",
        "print(\"\\nMissing values:\")\n",
        "print(data.isnull().sum())"
      ]
    },
    {
      "cell_type": "markdown",
      "metadata": {
        "id": "RBTjfg3p7oL-"
      },
      "source": [
        "## **Check if all texts in dataset are from same language**"
      ]
    },
    {
      "cell_type": "code",
      "execution_count": null,
      "metadata": {
        "id": "Qcc_USz47pdJ"
      },
      "outputs": [],
      "source": [
        "languages = set()"
      ]
    },
    {
      "cell_type": "code",
      "execution_count": null,
      "metadata": {
        "colab": {
          "base_uri": "https://localhost:8080/"
        },
        "id": "Y0rX3bvd7tsJ",
        "outputId": "baa03cf7-1df0-42c6-b9fb-16842c5d8676"
      },
      "outputs": [
        {
          "name": "stdout",
          "output_type": "stream",
          "text": [
            "Text in the dataset is in multiple languages.\n"
          ]
        }
      ],
      "source": [
        "for text in data['text']:\n",
        "    try:\n",
        "        lang = detect(text)\n",
        "        languages.add(lang)\n",
        "    except:\n",
        "        pass  #\n",
        "\n",
        "if len(languages) == 1:\n",
        "    print(f\"All text in the dataset is in {languages.pop()} language.\")\n",
        "else:\n",
        "    print(\"Text in the dataset is in multiple languages.\")"
      ]
    },
    {
      "cell_type": "code",
      "execution_count": null,
      "metadata": {
        "id": "W6EdLjB77t55"
      },
      "outputs": [],
      "source": [
        "total_samples = len(data['id'])\n",
        "non_english_samples = []\n",
        "english_samples = []\n",
        "\n",
        "for idx, text in zip(data['id'], data['text']):\n",
        "    try:\n",
        "        lang = detect(text)\n",
        "        # Check if language is English\n",
        "        if lang == 'en':\n",
        "            # Store the ID and text of English samples\n",
        "            english_samples.append((idx, text))\n",
        "        else:\n",
        "            # Store the ID of non-English sample\n",
        "            non_english_samples.append(idx)\n",
        "    except:\n",
        "        pass  # Handle exceptions gracefully"
      ]
    },
    {
      "cell_type": "code",
      "execution_count": null,
      "metadata": {
        "colab": {
          "base_uri": "https://localhost:8080/"
        },
        "id": "E4rqfN7371LA",
        "outputId": "110118f4-bca6-4f26-d7b9-e3acfe929bb6"
      },
      "outputs": [
        {
          "name": "stdout",
          "output_type": "stream",
          "text": [
            "Sample IDs that are not in English: [431198, 542881, 297566, 324530, 232823, 402676, 279768, 348737, 20593, 27695, 308546, 411997, 107486, 343588, 557099, 339458, 505207, 136580, 21013, 261476, 463539, 353553, 79735, 531858, 492556, 233466, 359877, 109376, 152415, 321376, 154318, 303665, 140013, 351615, 504261, 535423, 225426, 387551, 424961, 64334, 58362, 444458, 497711, 351108, 299404, 244975, 237670, 422423, 51843, 361474, 350619, 259057, 113540, 403522, 264336, 263501, 447310, 312326, 546018, 336848, 80038, 96985, 276664, 348709, 136447, 495740, 4651, 117987, 241366, 277437, 180735, 478839, 363687, 106726, 274757, 27193, 222350, 544093, 131305, 135803, 46438, 501801, 404779, 346779, 420748, 234089, 508874, 495472, 543563, 253036, 302967, 139272, 249882, 252157, 115866, 482848, 444610, 335690, 81900, 76413, 137996, 527939, 376376, 532200, 218489, 310160, 198374, 239843, 177042, 368315, 134188, 408905, 314894, 295069, 18207, 513716, 269612, 300817, 352352, 481547, 275696, 64253, 491094, 264698, 560987, 47296, 393274, 511880, 65761, 234265, 59257, 547520, 485692, 432079, 176842, 188650, 308920, 387439, 404610, 9112, 23309, 290781, 70658, 511546, 5144, 383219, 164996, 424545, 145604, 412602, 104260, 189187, 477030, 224664, 487351, 142982, 157369, 179708, 184380, 306850, 74080, 205934, 255204, 90283, 313424, 312056, 312078, 524152, 144470, 523039, 466740, 535227, 506560, 163589, 343892, 182195, 144505, 375377, 311786, 377793, 188558, 485184, 529270, 86302, 531641, 446808]\n",
            "Percentage of text that is not in English language: 0.31 %\n"
          ]
        }
      ],
      "source": [
        "# Calculate the percentage of non-English text\n",
        "percentage_non_english = (len(non_english_samples) / total_samples) * 100\n",
        "\n",
        "print(\"Sample IDs that are not in English:\", non_english_samples)\n",
        "print(\"Percentage of text that is not in English language:\", percentage_non_english, \"%\")"
      ]
    },
    {
      "cell_type": "code",
      "execution_count": null,
      "metadata": {
        "id": "HvVnevNU71dR"
      },
      "outputs": [],
      "source": [
        "# Drop non-English samples from the DataFrame\n",
        "data = data[~data['id'].isin(non_english_samples)]"
      ]
    },
    {
      "cell_type": "code",
      "execution_count": null,
      "metadata": {
        "colab": {
          "base_uri": "https://localhost:8080/"
        },
        "id": "x1jazeUE_pqB",
        "outputId": "5acbabd8-f72c-4399-a324-bc1e05978911"
      },
      "outputs": [
        {
          "data": {
            "text/plain": [
              "(59814, 3)"
            ]
          },
          "execution_count": 18,
          "metadata": {},
          "output_type": "execute_result"
        }
      ],
      "source": [
        "data.shape"
      ]
    },
    {
      "cell_type": "markdown",
      "metadata": {
        "id": "bJQ3y2PI6oCx"
      },
      "source": [
        "## **Data preprocessing and cleaning**"
      ]
    },
    {
      "cell_type": "code",
      "execution_count": null,
      "metadata": {
        "colab": {
          "base_uri": "https://localhost:8080/"
        },
        "id": "HCGtoTkY6pOi",
        "outputId": "deca8a20-1405-49d5-8c27-c2498ec15b7d"
      },
      "outputs": [
        {
          "name": "stderr",
          "output_type": "stream",
          "text": [
            "[nltk_data] Downloading package stopwords to /root/nltk_data...\n",
            "[nltk_data]   Unzipping corpora/stopwords.zip.\n",
            "[nltk_data] Downloading package punkt to /root/nltk_data...\n",
            "[nltk_data]   Unzipping tokenizers/punkt.zip.\n"
          ]
        },
        {
          "data": {
            "text/plain": [
              "True"
            ]
          },
          "execution_count": 19,
          "metadata": {},
          "output_type": "execute_result"
        }
      ],
      "source": [
        "nltk.download('stopwords')\n",
        "nltk.download('punkt')"
      ]
    },
    {
      "cell_type": "code",
      "execution_count": null,
      "metadata": {
        "id": "lPx88YUt65GQ"
      },
      "outputs": [],
      "source": [
        "def preprocess_text_stemmer(text):\n",
        "    # Remove non-alphanumeric characters\n",
        "    text = re.sub(r'\\W+', ' ', str(text))\n",
        "    # Remove single letters\n",
        "    text = re.sub(r'\\b\\w{1}\\b', '', str(text))\n",
        "    # Remove numbers\n",
        "    text = re.sub(r'\\b\\d+\\b', '', str(text))\n",
        "\n",
        "    # Remove non-English characters (keep only English words)\n",
        "    text = re.sub(r'[^\\x00-\\x7F]+', '', str(text))\n",
        "\n",
        "    # Remove words with numbers\n",
        "    text = re.sub(r'\\b\\w*\\d\\w*\\b', '', str(text))\n",
        "    # Remove words with special characters\n",
        "    text = re.sub(r'\\b\\w*[^\\w\\s]+\\w*\\b', '', str(text))\n",
        "\n",
        "    # Detect language\n",
        "    try:\n",
        "        lang = detect(text)\n",
        "    except:\n",
        "        lang = 'unknown'\n",
        "\n",
        "    # Only preprocess English text\n",
        "    if lang == 'en':\n",
        "        # Tokenize the text\n",
        "        tokens = word_tokenize(text)\n",
        "\n",
        "        # Remove stop words\n",
        "        stop_words = set(stopwords.words('english'))\n",
        "        filtered_tokens = [word for word in tokens if word.lower() not in stop_words]\n",
        "\n",
        "        # Stemming\n",
        "        stemmer = PorterStemmer()\n",
        "        stemmed_tokens = [stemmer.stem(word) for word in filtered_tokens]\n",
        "\n",
        "        # Join tokens back into text\n",
        "        preprocessed_text = ' '.join(stemmed_tokens)\n",
        "    else:\n",
        "        # Return original text for non-English\n",
        "        preprocessed_text = text\n",
        "\n",
        "    return preprocessed_text"
      ]
    },
    {
      "cell_type": "code",
      "execution_count": null,
      "metadata": {
        "id": "x-QqS_TrMWct"
      },
      "outputs": [],
      "source": [
        "# Apply preprocessing function\n",
        "data['text_stemmer'] = data['text'].apply(preprocess_text_stemmer)"
      ]
    },
    {
      "cell_type": "code",
      "execution_count": null,
      "metadata": {
        "colab": {
          "base_uri": "https://localhost:8080/"
        },
        "id": "7QZHZXo9McDi",
        "outputId": "0e69ff08-06ad-479a-adab-0e9ef13dcdcc"
      },
      "outputs": [
        {
          "name": "stdout",
          "output_type": "stream",
          "text": [
            "\n",
            "Cleaned text:\n",
            "0        group friend began volunt homeless shelter nei...\n",
            "1        british prime minist theresa_may nerv attack f...\n",
            "2        goodyear releas kit allow brought heel http yo...\n",
            "3        happi birthday bob barker price right host lik...\n",
            "4        obama nation innoc cop unarm young black men d...\n",
            "                               ...                        \n",
            "59995      finish sniper simo hyh invas finland ussr color\n",
            "59996    nigerian princ scam took kansa man year later ...\n",
            "59997         safe smoke marijuana pregnanc surpris answer\n",
            "59998    juliu caesar upon realiz everyon room knife ex...\n",
            "59999    jeff bridg releas leep tape new album design h...\n",
            "Name: text_stemmer, Length: 59814, dtype: object\n"
          ]
        }
      ],
      "source": [
        "# Print cleaned texts\n",
        "print(\"\\nCleaned text:\")\n",
        "print(data['text_stemmer'])"
      ]
    },
    {
      "cell_type": "code",
      "execution_count": null,
      "metadata": {
        "id": "29A8eSRAP9y2"
      },
      "outputs": [],
      "source": [
        "def preprocess_text_lemmatized(text):\n",
        "\n",
        "\n",
        "    # Remove non-alphanumeric characters\n",
        "    text = re.sub(r'\\W+', ' ', str(text))\n",
        "    # Remove single letters\n",
        "    text = re.sub(r'\\b\\w{1}\\b', '', str(text))\n",
        "    # Remove numbers\n",
        "    text = re.sub(r'\\b\\d+\\b', '', str(text))\n",
        "\n",
        "    # Remove non-English characters (keep only English words)\n",
        "    text = re.sub(r'[^\\x00-\\x7F]+', '', str(text))\n",
        "\n",
        "    # Remove words with numbers\n",
        "    text = re.sub(r'\\b\\w*\\d\\w*\\b', '', str(text))\n",
        "    # Remove words with special characters\n",
        "    text = re.sub(r'\\b\\w*[^\\w\\s]+\\w*\\b', '', str(text))\n",
        "\n",
        "    # Detect language\n",
        "    try:\n",
        "        lang = detect(text)\n",
        "    except:\n",
        "        lang = 'unknown'\n",
        "\n",
        "    # Only preprocess English text\n",
        "    if lang == 'en':\n",
        "        # Tokenize the text\n",
        "        tokens = word_tokenize(text)\n",
        "\n",
        "        # Remove stop words\n",
        "        stop_words = set(stopwords.words('english'))\n",
        "        filtered_tokens = [word for word in tokens if word.lower() not in stop_words]\n",
        "\n",
        "        # Lemmatization\n",
        "        lemmatizer = WordNetLemmatizer()\n",
        "        lemmatized_tokens = [lemmatizer.lemmatize(word) for word in filtered_tokens]\n",
        "\n",
        "        # Join tokens back into text\n",
        "        preprocessed_text = ' '.join(lemmatized_tokens)\n",
        "    else:\n",
        "        # Return original text for non-English\n",
        "        preprocessed_text = text\n",
        "\n",
        "    return preprocessed_text"
      ]
    },
    {
      "cell_type": "code",
      "execution_count": null,
      "metadata": {
        "id": "ArOj0bR0P-Nd"
      },
      "outputs": [],
      "source": [
        "# Apply preprocessing function to 'title' column\n",
        "data['text_lemmatized'] = data['text'].apply(preprocess_text_lemmatized)"
      ]
    },
    {
      "cell_type": "code",
      "execution_count": null,
      "metadata": {
        "colab": {
          "base_uri": "https://localhost:8080/"
        },
        "id": "IRxV6r6wP-V1",
        "outputId": "14569bbd-9352-4a2b-b345-274c5e7a444f"
      },
      "outputs": [
        {
          "name": "stdout",
          "output_type": "stream",
          "text": [
            "\n",
            "Cleaned text:\n",
            "0        group friend began volunteer homeless shelter ...\n",
            "1        British Prime Minister Theresa_May Nerve Attac...\n",
            "2        Goodyear released kit allows brought heel http...\n",
            "3        Happy Birthday Bob Barker Price Right Host Lik...\n",
            "4        Obama Nation Innocent Cops Unarmed Young Black...\n",
            "                               ...                        \n",
            "59995    Finish Sniper Simo Hyh invasion Finland USSR c...\n",
            "59996    Nigerian Prince Scam took Kansas man year late...\n",
            "59997      Safe Smoke Marijuana Pregnancy Surprised Answer\n",
            "59998    Julius Caesar upon realizing everyone room kni...\n",
            "59999    Jeff Bridges Releasing leeping Tapes New Album...\n",
            "Name: text_lemmatized, Length: 59814, dtype: object\n"
          ]
        }
      ],
      "source": [
        "# Print cleaned texts\n",
        "print(\"\\nCleaned text:\")\n",
        "print(data['text_lemmatized'])"
      ]
    },
    {
      "cell_type": "code",
      "execution_count": null,
      "metadata": {
        "colab": {
          "base_uri": "https://localhost:8080/"
        },
        "id": "tY6OEmYz7Lux",
        "outputId": "3b5a5455-01ed-4294-8e66-a30c37d3bf97"
      },
      "outputs": [
        {
          "data": {
            "text/plain": [
              "(59814, 5)"
            ]
          },
          "execution_count": 26,
          "metadata": {},
          "output_type": "execute_result"
        }
      ],
      "source": [
        "data.shape"
      ]
    },
    {
      "cell_type": "markdown",
      "metadata": {
        "id": "gpL-2rZE9IR1"
      },
      "source": [
        "###**Discribe and analyise dataset**"
      ]
    },
    {
      "cell_type": "code",
      "execution_count": null,
      "metadata": {
        "colab": {
          "base_uri": "https://localhost:8080/"
        },
        "id": "1v_15B6Q5UMj",
        "outputId": "3695865f-1163-4ce5-9098-5a7916e52df1"
      },
      "outputs": [
        {
          "data": {
            "text/plain": [
              "new         3758\n",
              "one         3301\n",
              "like        3120\n",
              "look        2851\n",
              "color       2737\n",
              "man         2721\n",
              "get         2602\n",
              "trump       2592\n",
              "say         2352\n",
              "peopl       2323\n",
              "use         2308\n",
              "first       2253\n",
              "make        2235\n",
              "old         2232\n",
              "time        2036\n",
              "found       2000\n",
              "poster      1958\n",
              "day         1935\n",
              "war         1853\n",
              "post        1649\n",
              "world       1570\n",
              "work        1530\n",
              "show        1520\n",
              "american    1509\n",
              "us          1501\n",
              "life        1495\n",
              "take        1491\n",
              "help        1446\n",
              "go          1430\n",
              "state       1407\n",
              "back        1370\n",
              "two         1368\n",
              "school      1347\n",
              "see         1335\n",
              "photo       1324\n",
              "made        1316\n",
              "right       1313\n",
              "save        1305\n",
              "hous        1258\n",
              "Name: count, dtype: int64"
            ]
          },
          "execution_count": 27,
          "metadata": {},
          "output_type": "execute_result"
        }
      ],
      "source": [
        "# Word Frequency of most common words\n",
        "word_freq = pd.Series(\" \".join(data[\"text_stemmer\"]).split()).value_counts()\n",
        "word_freq[1:40]"
      ]
    },
    {
      "cell_type": "code",
      "execution_count": null,
      "metadata": {
        "colab": {
          "base_uri": "https://localhost:8080/"
        },
        "id": "40X50YgB8Dq0",
        "outputId": "01794895-f5f5-4a2c-cc49-642408b3307b"
      },
      "outputs": [
        {
          "data": {
            "text/plain": [
              "gaviria                   1\n",
              "emilio                    1\n",
              "tearabl                   1\n",
              "beeker                    1\n",
              "cleverest                 1\n",
              "gular                     1\n",
              "ntiqu                     1\n",
              "eurow                     1\n",
              "wahoo                     1\n",
              "theist                    1\n",
              "viewabl                   1\n",
              "pittock                   1\n",
              "bloodmoon                 1\n",
              "foodsut                   1\n",
              "maureen                   1\n",
              "budden                    1\n",
              "redcup                    1\n",
              "deadass                   1\n",
              "tastic                    1\n",
              "toffe                     1\n",
              "stillpati                 1\n",
              "futureleak                1\n",
              "illegitm                  1\n",
              "yanquiuxo                 1\n",
              "edward_taserhand          1\n",
              "photon                    1\n",
              "zen                       1\n",
              "drued                     1\n",
              "cleanser                  1\n",
              "perspir                   1\n",
              "antivietnam               1\n",
              "jade_pornsurg             1\n",
              "lute                      1\n",
              "jowl                      1\n",
              "fatdonuthol               1\n",
              "quavo                     1\n",
              "boron                     1\n",
              "legasov                   1\n",
              "valeri                    1\n",
              "jetpack                   1\n",
              "teckkg                    1\n",
              "wheredidthevegetablego    1\n",
              "vocalist                  1\n",
              "nee                       1\n",
              "kolhoz                    1\n",
              "cdnd                      1\n",
              "algobrix                  1\n",
              "scherer                   1\n",
              "costilla                  1\n",
              "wahr                      1\n",
              "Name: count, dtype: int64"
            ]
          },
          "execution_count": 28,
          "metadata": {},
          "output_type": "execute_result"
        }
      ],
      "source": [
        "# list most uncommon words\n",
        "word_freq[-50:]"
      ]
    },
    {
      "cell_type": "code",
      "execution_count": null,
      "metadata": {
        "colab": {
          "base_uri": "https://localhost:8080/"
        },
        "id": "MyF1Xx6x-8u8",
        "outputId": "dcbf5c65-bb3a-4843-b3e0-eb60f1897d34"
      },
      "outputs": [
        {
          "data": {
            "text/plain": [
              "label\n",
              "0    32032\n",
              "1    27553\n",
              "2      229\n",
              "Name: count, dtype: int64"
            ]
          },
          "execution_count": 29,
          "metadata": {},
          "output_type": "execute_result"
        }
      ],
      "source": [
        "# Distribution of ratings\n",
        "data[\"label\"].value_counts()"
      ]
    },
    {
      "cell_type": "markdown",
      "metadata": {
        "id": "4qki0x3fdfB-"
      },
      "source": [
        "###**Data Visualization**\n",
        "\n"
      ]
    },
    {
      "cell_type": "code",
      "execution_count": null,
      "metadata": {
        "id": "kC5RVKGHbPTu"
      },
      "outputs": [],
      "source": [
        "# a histogram of text lengths\n",
        "data['text_length'] = data['text_stemmer'].apply(len)"
      ]
    },
    {
      "cell_type": "code",
      "execution_count": null,
      "metadata": {
        "colab": {
          "base_uri": "https://localhost:8080/",
          "height": 584
        },
        "id": "xYxwydXEbPWs",
        "outputId": "71a313a5-d2d3-4c91-da21-09fcc54daf4a"
      },
      "outputs": [
        {
          "data": {
            "image/png": "[encoded data removed]",
            "text/plain": [
              "<Figure size 1000x600 with 1 Axes>"
            ]
          },
          "metadata": {},
          "output_type": "display_data"
        }
      ],
      "source": [
        "plt.figure(figsize=(10, 6))\n",
        "sns.histplot(data['text_length'], bins=4)\n",
        "plt.title('Distribution of Text Lengths')\n",
        "plt.xlabel('Text Length')\n",
        "plt.ylabel('Frequency')\n",
        "plt.show()"
      ]
    },
    {
      "cell_type": "code",
      "execution_count": null,
      "metadata": {
        "colab": {
          "base_uri": "https://localhost:8080/",
          "height": 607
        },
        "id": "nnMtRV7_CiRh",
        "outputId": "fdf568f5-2726-42ab-da2a-d3ae61a7d8fa"
      },
      "outputs": [
        {
          "output_type": "display_data",
          "data": {
            "text/plain": [
              "<Figure size 800x600 with 1 Axes>"
            ],
            "image/png": "[encoded data removed]"
          },
          "metadata": {}
        }
      ],
      "source": [
        "label_counts = data[\"label\"].value_counts()\n",
        "\n",
        "# Plotting the bar chart\n",
        "plt.figure(figsize=(8, 6))\n",
        "label_counts.plot(kind='bar')\n",
        "plt.xlabel('Labels')\n",
        "plt.ylabel('Count')\n",
        "plt.title('Distribution of Labels')\n",
        "plt.tight_layout()\n",
        "plt.show()"
      ]
    },
    {
      "cell_type": "code",
      "source": [
        "# Drop label 2 from the dataset\n",
        "data = data[data[\"label\"] != 2]"
      ],
      "metadata": {
        "id": "XR5dVTfcFFCJ"
      },
      "execution_count": null,
      "outputs": []
    },
    {
      "cell_type": "code",
      "source": [
        "label_counts = data[\"label\"].value_counts()\n",
        "\n",
        "# Plotting the bar chart\n",
        "plt.figure(figsize=(8, 6))\n",
        "label_counts.plot(kind='bar')\n",
        "plt.xlabel('Labels')\n",
        "plt.ylabel('Count')\n",
        "plt.title('Distribution of Labels')\n",
        "plt.tight_layout()\n",
        "plt.show()"
      ],
      "metadata": {
        "colab": {
          "base_uri": "https://localhost:8080/",
          "height": 607
        },
        "id": "VB8jjboQFIQf",
        "outputId": "63cc2927-d2cb-48a6-fd0d-087a597ee2e3"
      },
      "execution_count": null,
      "outputs": [
        {
          "output_type": "display_data",
          "data": {
            "text/plain": [
              "<Figure size 800x600 with 1 Axes>"
            ],
            "image/png": "[encoded data removed]"
          },
          "metadata": {}
        }
      ]
    },
    {
      "cell_type": "markdown",
      "source": [
        "### `We droped label 2 from dataset ,as labels od data should be binary 0 or 1.Existing of third category has no meaning speacialy in our case (Real VS Fake news)`"
      ],
      "metadata": {
        "id": "zL3HhiveJO9b"
      }
    },
    {
      "cell_type": "markdown",
      "metadata": {
        "id": "pWkukJcEaI8t"
      },
      "source": [
        "## **Preprocessing 1**"
      ]
    },
    {
      "cell_type": "markdown",
      "metadata": {
        "id": "TAFk1AYul5AN"
      },
      "source": [
        "## **Split data into training and validation set**"
      ]
    },
    {
      "cell_type": "code",
      "execution_count": null,
      "metadata": {
        "id": "m8nNwmg-fq3m"
      },
      "outputs": [],
      "source": [
        "# Split the data into train and validation sets\n",
        "X_train, X_val, y_train, y_val = train_test_split(data['text_stemmer'], data['label'], test_size=0.2, random_state=42, stratify=data['label'] , shuffle=True)"
      ]
    },
    {
      "cell_type": "code",
      "execution_count": null,
      "metadata": {
        "colab": {
          "base_uri": "https://localhost:8080/"
        },
        "id": "H-jVeUuRQNYK",
        "outputId": "3395c4b0-f3d4-4c32-bd88-7ba6f3f03656"
      },
      "outputs": [
        {
          "data": {
            "text/plain": [
              "(47851,)"
            ]
          },
          "execution_count": 33,
          "metadata": {},
          "output_type": "execute_result"
        }
      ],
      "source": [
        "X_train.shape"
      ]
    },
    {
      "cell_type": "code",
      "execution_count": null,
      "metadata": {
        "colab": {
          "base_uri": "https://localhost:8080/"
        },
        "id": "_1KMwX1HQRJx",
        "outputId": "48afaa17-d0dc-4ca1-a408-619526b08732"
      },
      "outputs": [
        {
          "data": {
            "text/plain": [
              "(11963,)"
            ]
          },
          "execution_count": 34,
          "metadata": {},
          "output_type": "execute_result"
        }
      ],
      "source": [
        "X_val.shape"
      ]
    },
    {
      "cell_type": "code",
      "execution_count": null,
      "metadata": {
        "colab": {
          "base_uri": "https://localhost:8080/"
        },
        "id": "13fLvHAoQVRw",
        "outputId": "29dd535f-2cd7-4e45-9a1f-a8c4ca45542f"
      },
      "outputs": [
        {
          "data": {
            "text/plain": [
              "(47851,)"
            ]
          },
          "execution_count": 35,
          "metadata": {},
          "output_type": "execute_result"
        }
      ],
      "source": [
        "y_train.shape"
      ]
    },
    {
      "cell_type": "code",
      "execution_count": null,
      "metadata": {
        "colab": {
          "base_uri": "https://localhost:8080/"
        },
        "id": "qGIfQSDmQVen",
        "outputId": "0624a41e-91b9-4610-a030-428565011250"
      },
      "outputs": [
        {
          "data": {
            "text/plain": [
              "(11963,)"
            ]
          },
          "execution_count": 36,
          "metadata": {},
          "output_type": "execute_result"
        }
      ],
      "source": [
        "y_val.shape"
      ]
    },
    {
      "cell_type": "markdown",
      "source": [
        "##**Expectation :Trial 1**\n",
        "* XGBoost is a powerful algorithm known for its effectiveness in handling structured and unstructured data, including text data.\n",
        "TF-IDF vectorization captures important term frequencies while reducing the impact of common terms.\n",
        "* AUROC expectation: Moderate to good, around 0.75 to 0.85."
      ],
      "metadata": {
        "id": "Fasn-GC845U2"
      }
    },
    {
      "cell_type": "markdown",
      "metadata": {
        "id": "Rl-K7dMkgYEv"
      },
      "source": [
        "##**Trial 1**"
      ]
    },
    {
      "cell_type": "code",
      "execution_count": null,
      "metadata": {
        "id": "bx5eT3-Qgd-M"
      },
      "outputs": [],
      "source": [
        "# Iteration 1\n",
        "pipeline_1 = Pipeline([\n",
        "    ('vect', TfidfVectorizer(analyzer='word')),\n",
        "    ('clf', xgb.XGBClassifier())\n",
        "])\n",
        "\n",
        "param_grid_1 = {\n",
        "    'vect__ngram_range': [(1, 1), (1, 2), (1, 3)],\n",
        "    'clf__learning_rate': [0.1, 0.01],\n",
        "    'clf__max_depth': [3, 5, 7]\n",
        "}"
      ]
    },
    {
      "cell_type": "code",
      "execution_count": null,
      "metadata": {
        "colab": {
          "base_uri": "https://localhost:8080/",
          "height": 152
        },
        "id": "CEFRT3k9frCi",
        "outputId": "ed733039-effa-4887-e82a-ec57bcfb4b3f"
      },
      "outputs": [
        {
          "data": {
            "text/html": [
              "<style>#sk-container-id-1 {color: black;background-color: white;}#sk-container-id-1 pre{padding: 0;}#sk-container-id-1 div.sk-toggleable {background-color: white;}#sk-container-id-1 label.sk-toggleable__label {cursor: pointer;display: block;width: 100%;margin-bottom: 0;padding: 0.3em;box-sizing: border-box;text-align: center;}#sk-container-id-1 label.sk-toggleable__label-arrow:before {content: \"▸\";float: left;margin-right: 0.25em;color: #696969;}#sk-container-id-1 label.sk-toggleable__label-arrow:hover:before {color: black;}#sk-container-id-1 div.sk-estimator:hover label.sk-toggleable__label-arrow:before {color: black;}#sk-container-id-1 div.sk-toggleable__content {max-height: 0;max-width: 0;overflow: hidden;text-align: left;background-color: #f0f8ff;}#sk-container-id-1 div.sk-toggleable__content pre {margin: 0.2em;color: black;border-radius: 0.25em;background-color: #f0f8ff;}#sk-container-id-1 input.sk-toggleable__control:checked~div.sk-toggleable__content {max-height: 200px;max-width: 100%;overflow: auto;}#sk-container-id-1 input.sk-toggleable__control:checked~label.sk-toggleable__label-arrow:before {content: \"▾\";}#sk-container-id-1 div.sk-estimator input.sk-toggleable__control:checked~label.sk-toggleable__label {background-color: #d4ebff;}#sk-container-id-1 div.sk-label input.sk-toggleable__control:checked~label.sk-toggleable__label {background-color: #d4ebff;}#sk-container-id-1 input.sk-hidden--visually {border: 0;clip: rect(1px 1px 1px 1px);clip: rect(1px, 1px, 1px, 1px);height: 1px;margin: -1px;overflow: hidden;padding: 0;position: absolute;width: 1px;}#sk-container-id-1 div.sk-estimator {font-family: monospace;background-color: #f0f8ff;border: 1px dotted black;border-radius: 0.25em;box-sizing: border-box;margin-bottom: 0.5em;}#sk-container-id-1 div.sk-estimator:hover {background-color: #d4ebff;}#sk-container-id-1 div.sk-parallel-item::after {content: \"\";width: 100%;border-bottom: 1px solid gray;flex-grow: 1;}#sk-container-id-1 div.sk-label:hover label.sk-toggleable__label {background-color: #d4ebff;}#sk-container-id-1 div.sk-serial::before {content: \"\";position: absolute;border-left: 1px solid gray;box-sizing: border-box;top: 0;bottom: 0;left: 50%;z-index: 0;}#sk-container-id-1 div.sk-serial {display: flex;flex-direction: column;align-items: center;background-color: white;padding-right: 0.2em;padding-left: 0.2em;position: relative;}#sk-container-id-1 div.sk-item {position: relative;z-index: 1;}#sk-container-id-1 div.sk-parallel {display: flex;align-items: stretch;justify-content: center;background-color: white;position: relative;}#sk-container-id-1 div.sk-item::before, #sk-container-id-1 div.sk-parallel-item::before {content: \"\";position: absolute;border-left: 1px solid gray;box-sizing: border-box;top: 0;bottom: 0;left: 50%;z-index: -1;}#sk-container-id-1 div.sk-parallel-item {display: flex;flex-direction: column;z-index: 1;position: relative;background-color: white;}#sk-container-id-1 div.sk-parallel-item:first-child::after {align-self: flex-end;width: 50%;}#sk-container-id-1 div.sk-parallel-item:last-child::after {align-self: flex-start;width: 50%;}#sk-container-id-1 div.sk-parallel-item:only-child::after {width: 0;}#sk-container-id-1 div.sk-dashed-wrapped {border: 1px dashed gray;margin: 0 0.4em 0.5em 0.4em;box-sizing: border-box;padding-bottom: 0.4em;background-color: white;}#sk-container-id-1 div.sk-label label {font-family: monospace;font-weight: bold;display: inline-block;line-height: 1.2em;}#sk-container-id-1 div.sk-label-container {text-align: center;}#sk-container-id-1 div.sk-container {/* jupyter's `normalize.less` sets `[hidden] { display: none; }` but bootstrap.min.css set `[hidden] { display: none !important; }` so we also need the `!important` here to be able to override the default hidden behavior on the sphinx rendered scikit-learn.org. See: https://github.com/scikit-learn/scikit-learn/issues/21755 */display: inline-block !important;position: relative;}#sk-container-id-1 div.sk-text-repr-fallback {display: none;}</style><div id=\"sk-container-id-1\" class=\"sk-top-container\"><div class=\"sk-text-repr-fallback\"><pre>RandomizedSearchCV(estimator=Pipeline(steps=[(&#x27;vect&#x27;, TfidfVectorizer()),\n",
              "                                             (&#x27;clf&#x27;,\n",
              "                                              XGBClassifier(base_score=None,\n",
              "                                                            booster=None,\n",
              "                                                            callbacks=None,\n",
              "                                                            colsample_bylevel=None,\n",
              "                                                            colsample_bynode=None,\n",
              "                                                            colsample_bytree=None,\n",
              "                                                            device=None,\n",
              "                                                            early_stopping_rounds=None,\n",
              "                                                            enable_categorical=False,\n",
              "                                                            eval_metric=None,\n",
              "                                                            feature_types=None,\n",
              "                                                            gamma=None,\n",
              "                                                            grow_policy=None,\n",
              "                                                            importance_type=No...\n",
              "                                                            max_cat_to_onehot=None,\n",
              "                                                            max_delta_step=None,\n",
              "                                                            max_depth=None,\n",
              "                                                            max_leaves=None,\n",
              "                                                            min_child_weight=None,\n",
              "                                                            missing=nan,\n",
              "                                                            monotone_constraints=None,\n",
              "                                                            multi_strategy=None,\n",
              "                                                            n_estimators=None,\n",
              "                                                            n_jobs=None,\n",
              "                                                            num_parallel_tree=None,\n",
              "                                                            random_state=None, ...))]),\n",
              "                   param_distributions={&#x27;clf__learning_rate&#x27;: [0.1, 0.01],\n",
              "                                        &#x27;clf__max_depth&#x27;: [3, 5, 7],\n",
              "                                        &#x27;vect__ngram_range&#x27;: [(1, 1), (1, 2),\n",
              "                                                              (1, 3)]})</pre><b>In a Jupyter environment, please rerun this cell to show the HTML representation or trust the notebook. <br />On GitHub, the HTML representation is unable to render, please try loading this page with nbviewer.org.</b></div><div class=\"sk-container\" hidden><div class=\"sk-item sk-dashed-wrapped\"><div class=\"sk-label-container\"><div class=\"sk-label sk-toggleable\"><input class=\"sk-toggleable__control sk-hidden--visually\" id=\"sk-estimator-id-1\" type=\"checkbox\" ><label for=\"sk-estimator-id-1\" class=\"sk-toggleable__label sk-toggleable__label-arrow\">RandomizedSearchCV</label><div class=\"sk-toggleable__content\"><pre>RandomizedSearchCV(estimator=Pipeline(steps=[(&#x27;vect&#x27;, TfidfVectorizer()),\n",
              "                                             (&#x27;clf&#x27;,\n",
              "                                              XGBClassifier(base_score=None,\n",
              "                                                            booster=None,\n",
              "                                                            callbacks=None,\n",
              "                                                            colsample_bylevel=None,\n",
              "                                                            colsample_bynode=None,\n",
              "                                                            colsample_bytree=None,\n",
              "                                                            device=None,\n",
              "                                                            early_stopping_rounds=None,\n",
              "                                                            enable_categorical=False,\n",
              "                                                            eval_metric=None,\n",
              "                                                            feature_types=None,\n",
              "                                                            gamma=None,\n",
              "                                                            grow_policy=None,\n",
              "                                                            importance_type=No...\n",
              "                                                            max_cat_to_onehot=None,\n",
              "                                                            max_delta_step=None,\n",
              "                                                            max_depth=None,\n",
              "                                                            max_leaves=None,\n",
              "                                                            min_child_weight=None,\n",
              "                                                            missing=nan,\n",
              "                                                            monotone_constraints=None,\n",
              "                                                            multi_strategy=None,\n",
              "                                                            n_estimators=None,\n",
              "                                                            n_jobs=None,\n",
              "                                                            num_parallel_tree=None,\n",
              "                                                            random_state=None, ...))]),\n",
              "                   param_distributions={&#x27;clf__learning_rate&#x27;: [0.1, 0.01],\n",
              "                                        &#x27;clf__max_depth&#x27;: [3, 5, 7],\n",
              "                                        &#x27;vect__ngram_range&#x27;: [(1, 1), (1, 2),\n",
              "                                                              (1, 3)]})</pre></div></div></div><div class=\"sk-parallel\"><div class=\"sk-parallel-item\"><div class=\"sk-item\"><div class=\"sk-label-container\"><div class=\"sk-label sk-toggleable\"><input class=\"sk-toggleable__control sk-hidden--visually\" id=\"sk-estimator-id-2\" type=\"checkbox\" ><label for=\"sk-estimator-id-2\" class=\"sk-toggleable__label sk-toggleable__label-arrow\">estimator: Pipeline</label><div class=\"sk-toggleable__content\"><pre>Pipeline(steps=[(&#x27;vect&#x27;, TfidfVectorizer()),\n",
              "                (&#x27;clf&#x27;,\n",
              "                 XGBClassifier(base_score=None, booster=None, callbacks=None,\n",
              "                               colsample_bylevel=None, colsample_bynode=None,\n",
              "                               colsample_bytree=None, device=None,\n",
              "                               early_stopping_rounds=None,\n",
              "                               enable_categorical=False, eval_metric=None,\n",
              "                               feature_types=None, gamma=None, grow_policy=None,\n",
              "                               importance_type=None,\n",
              "                               interaction_constraints=None, learning_rate=None,\n",
              "                               max_bin=None, max_cat_threshold=None,\n",
              "                               max_cat_to_onehot=None, max_delta_step=None,\n",
              "                               max_depth=None, max_leaves=None,\n",
              "                               min_child_weight=None, missing=nan,\n",
              "                               monotone_constraints=None, multi_strategy=None,\n",
              "                               n_estimators=None, n_jobs=None,\n",
              "                               num_parallel_tree=None, random_state=None, ...))])</pre></div></div></div><div class=\"sk-serial\"><div class=\"sk-item\"><div class=\"sk-serial\"><div class=\"sk-item\"><div class=\"sk-estimator sk-toggleable\"><input class=\"sk-toggleable__control sk-hidden--visually\" id=\"sk-estimator-id-3\" type=\"checkbox\" ><label for=\"sk-estimator-id-3\" class=\"sk-toggleable__label sk-toggleable__label-arrow\">TfidfVectorizer</label><div class=\"sk-toggleable__content\"><pre>TfidfVectorizer()</pre></div></div></div><div class=\"sk-item\"><div class=\"sk-estimator sk-toggleable\"><input class=\"sk-toggleable__control sk-hidden--visually\" id=\"sk-estimator-id-4\" type=\"checkbox\" ><label for=\"sk-estimator-id-4\" class=\"sk-toggleable__label sk-toggleable__label-arrow\">XGBClassifier</label><div class=\"sk-toggleable__content\"><pre>XGBClassifier(base_score=None, booster=None, callbacks=None,\n",
              "              colsample_bylevel=None, colsample_bynode=None,\n",
              "              colsample_bytree=None, device=None, early_stopping_rounds=None,\n",
              "              enable_categorical=False, eval_metric=None, feature_types=None,\n",
              "              gamma=None, grow_policy=None, importance_type=None,\n",
              "              interaction_constraints=None, learning_rate=None, max_bin=None,\n",
              "              max_cat_threshold=None, max_cat_to_onehot=None,\n",
              "              max_delta_step=None, max_depth=None, max_leaves=None,\n",
              "              min_child_weight=None, missing=nan, monotone_constraints=None,\n",
              "              multi_strategy=None, n_estimators=None, n_jobs=None,\n",
              "              num_parallel_tree=None, random_state=None, ...)</pre></div></div></div></div></div></div></div></div></div></div></div></div>"
            ],
            "text/plain": [
              "RandomizedSearchCV(estimator=Pipeline(steps=[('vect', TfidfVectorizer()),\n",
              "                                             ('clf',\n",
              "                                              XGBClassifier(base_score=None,\n",
              "                                                            booster=None,\n",
              "                                                            callbacks=None,\n",
              "                                                            colsample_bylevel=None,\n",
              "                                                            colsample_bynode=None,\n",
              "                                                            colsample_bytree=None,\n",
              "                                                            device=None,\n",
              "                                                            early_stopping_rounds=None,\n",
              "                                                            enable_categorical=False,\n",
              "                                                            eval_metric=None,\n",
              "                                                            feature_types=None,\n",
              "                                                            gamma=None,\n",
              "                                                            grow_policy=None,\n",
              "                                                            importance_type=No...\n",
              "                                                            max_cat_to_onehot=None,\n",
              "                                                            max_delta_step=None,\n",
              "                                                            max_depth=None,\n",
              "                                                            max_leaves=None,\n",
              "                                                            min_child_weight=None,\n",
              "                                                            missing=nan,\n",
              "                                                            monotone_constraints=None,\n",
              "                                                            multi_strategy=None,\n",
              "                                                            n_estimators=None,\n",
              "                                                            n_jobs=None,\n",
              "                                                            num_parallel_tree=None,\n",
              "                                                            random_state=None, ...))]),\n",
              "                   param_distributions={'clf__learning_rate': [0.1, 0.01],\n",
              "                                        'clf__max_depth': [3, 5, 7],\n",
              "                                        'vect__ngram_range': [(1, 1), (1, 2),\n",
              "                                                              (1, 3)]})"
            ]
          },
          "execution_count": 38,
          "metadata": {},
          "output_type": "execute_result"
        }
      ],
      "source": [
        "random_search_1 = RandomizedSearchCV(pipeline_1, param_grid_1, cv=1)\n",
        "# Training model\n",
        "random_search_1.fit(X_train, y_train)"
      ]
    },
    {
      "cell_type": "code",
      "execution_count": null,
      "metadata": {
        "id": "Jp7PU6OZfrGv"
      },
      "outputs": [],
      "source": [
        "best_model_1 = random_search_1.best_estimator_"
      ]
    },
    {
      "cell_type": "code",
      "execution_count": null,
      "metadata": {
        "id": "ZHagB5KKgqji"
      },
      "outputs": [],
      "source": [
        "y_pred_1 = best_model_1.predict_proba(X_val)\n",
        "auroc_1 = roc_auc_score(y_val, y_pred_1)"
      ]
    },
    {
      "cell_type": "code",
      "execution_count": null,
      "metadata": {
        "colab": {
          "base_uri": "https://localhost:8080/"
        },
        "id": "29jH_t9ags_M",
        "outputId": "982a8536-d96c-43af-82ad-22d40278bda0"
      },
      "outputs": [
        {
          "name": "stdout",
          "output_type": "stream",
          "text": [
            "AUROC for Iteration 1: 0.7816916680131986\n"
          ]
        }
      ],
      "source": [
        "# Print AUROC for trial 1\n",
        "print(\"AUROC for Iteration 1:\", auroc_1)"
      ]
    },
    {
      "cell_type": "markdown",
      "source": [
        "##**Observations:**\n",
        "* AUROC : 0.7817 falls within the expected range, indicating a reasonable performance."
      ],
      "metadata": {
        "id": "w5gHEBDM5qHj"
      }
    },
    {
      "cell_type": "markdown",
      "source": [
        "##**Expectation: Trial 2**\n",
        "* Logistic Regression is a commonly used classifier for text classification tasks.TF-IDF vectorization provides meaningful term weights for the Logistic Regression model.\n",
        "* AUROC expectation: Good, around 0.80 to 0.85."
      ],
      "metadata": {
        "id": "fSru1nBZ52R0"
      }
    },
    {
      "cell_type": "markdown",
      "metadata": {
        "id": "yRYJbFabhpFO"
      },
      "source": [
        "##**Trial 2**"
      ]
    },
    {
      "cell_type": "code",
      "execution_count": null,
      "metadata": {
        "id": "xJSf0pzBiItw"
      },
      "outputs": [],
      "source": [
        "pipeline_2 = Pipeline([\n",
        "    ('tfidf', TfidfVectorizer(analyzer='word')),\n",
        "    ('clf', LogisticRegression())\n",
        "])\n",
        "\n",
        "# Define the parameter grid\n",
        "param_grid_2 = {\n",
        "    'tfidf__max_features': [1000, 2000, 3000],\n",
        "    'clf__C': [0.1, 1.0, 10.0]\n",
        "}\n"
      ]
    },
    {
      "cell_type": "code",
      "execution_count": null,
      "metadata": {
        "colab": {
          "base_uri": "https://localhost:8080/",
          "height": 1000
        },
        "id": "jqIukW0ViL-B",
        "outputId": "9f7867c0-e1df-4587-a8b8-14625d2efece"
      },
      "outputs": [
        {
          "name": "stderr",
          "output_type": "stream",
          "text": [
            "/usr/local/lib/python3.10/dist-packages/sklearn/model_selection/_search.py:305: UserWarning: The total space of parameters 9 is smaller than n_iter=10. Running 9 iterations. For exhaustive searches, use GridSearchCV.\n",
            "  warnings.warn(\n",
            "/usr/local/lib/python3.10/dist-packages/sklearn/linear_model/_logistic.py:458: ConvergenceWarning: lbfgs failed to converge (status=1):\n",
            "STOP: TOTAL NO. of ITERATIONS REACHED LIMIT.\n",
            "\n",
            "Increase the number of iterations (max_iter) or scale the data as shown in:\n",
            "    https://scikit-learn.org/stable/modules/preprocessing.html\n",
            "Please also refer to the documentation for alternative solver options:\n",
            "    https://scikit-learn.org/stable/modules/linear_model.html#logistic-regression\n",
            "  n_iter_i = _check_optimize_result(\n",
            "/usr/local/lib/python3.10/dist-packages/sklearn/linear_model/_logistic.py:458: ConvergenceWarning: lbfgs failed to converge (status=1):\n",
            "STOP: TOTAL NO. of ITERATIONS REACHED LIMIT.\n",
            "\n",
            "Increase the number of iterations (max_iter) or scale the data as shown in:\n",
            "    https://scikit-learn.org/stable/modules/preprocessing.html\n",
            "Please also refer to the documentation for alternative solver options:\n",
            "    https://scikit-learn.org/stable/modules/linear_model.html#logistic-regression\n",
            "  n_iter_i = _check_optimize_result(\n",
            "/usr/local/lib/python3.10/dist-packages/sklearn/linear_model/_logistic.py:458: ConvergenceWarning: lbfgs failed to converge (status=1):\n",
            "STOP: TOTAL NO. of ITERATIONS REACHED LIMIT.\n",
            "\n",
            "Increase the number of iterations (max_iter) or scale the data as shown in:\n",
            "    https://scikit-learn.org/stable/modules/preprocessing.html\n",
            "Please also refer to the documentation for alternative solver options:\n",
            "    https://scikit-learn.org/stable/modules/linear_model.html#logistic-regression\n",
            "  n_iter_i = _check_optimize_result(\n",
            "/usr/local/lib/python3.10/dist-packages/sklearn/linear_model/_logistic.py:458: ConvergenceWarning: lbfgs failed to converge (status=1):\n",
            "STOP: TOTAL NO. of ITERATIONS REACHED LIMIT.\n",
            "\n",
            "Increase the number of iterations (max_iter) or scale the data as shown in:\n",
            "    https://scikit-learn.org/stable/modules/preprocessing.html\n",
            "Please also refer to the documentation for alternative solver options:\n",
            "    https://scikit-learn.org/stable/modules/linear_model.html#logistic-regression\n",
            "  n_iter_i = _check_optimize_result(\n",
            "/usr/local/lib/python3.10/dist-packages/sklearn/linear_model/_logistic.py:458: ConvergenceWarning: lbfgs failed to converge (status=1):\n",
            "STOP: TOTAL NO. of ITERATIONS REACHED LIMIT.\n",
            "\n",
            "Increase the number of iterations (max_iter) or scale the data as shown in:\n",
            "    https://scikit-learn.org/stable/modules/preprocessing.html\n",
            "Please also refer to the documentation for alternative solver options:\n",
            "    https://scikit-learn.org/stable/modules/linear_model.html#logistic-regression\n",
            "  n_iter_i = _check_optimize_result(\n",
            "/usr/local/lib/python3.10/dist-packages/sklearn/linear_model/_logistic.py:458: ConvergenceWarning: lbfgs failed to converge (status=1):\n",
            "STOP: TOTAL NO. of ITERATIONS REACHED LIMIT.\n",
            "\n",
            "Increase the number of iterations (max_iter) or scale the data as shown in:\n",
            "    https://scikit-learn.org/stable/modules/preprocessing.html\n",
            "Please also refer to the documentation for alternative solver options:\n",
            "    https://scikit-learn.org/stable/modules/linear_model.html#logistic-regression\n",
            "  n_iter_i = _check_optimize_result(\n",
            "/usr/local/lib/python3.10/dist-packages/sklearn/linear_model/_logistic.py:458: ConvergenceWarning: lbfgs failed to converge (status=1):\n",
            "STOP: TOTAL NO. of ITERATIONS REACHED LIMIT.\n",
            "\n",
            "Increase the number of iterations (max_iter) or scale the data as shown in:\n",
            "    https://scikit-learn.org/stable/modules/preprocessing.html\n",
            "Please also refer to the documentation for alternative solver options:\n",
            "    https://scikit-learn.org/stable/modules/linear_model.html#logistic-regression\n",
            "  n_iter_i = _check_optimize_result(\n",
            "/usr/local/lib/python3.10/dist-packages/sklearn/linear_model/_logistic.py:458: ConvergenceWarning: lbfgs failed to converge (status=1):\n",
            "STOP: TOTAL NO. of ITERATIONS REACHED LIMIT.\n",
            "\n",
            "Increase the number of iterations (max_iter) or scale the data as shown in:\n",
            "    https://scikit-learn.org/stable/modules/preprocessing.html\n",
            "Please also refer to the documentation for alternative solver options:\n",
            "    https://scikit-learn.org/stable/modules/linear_model.html#logistic-regression\n",
            "  n_iter_i = _check_optimize_result(\n",
            "/usr/local/lib/python3.10/dist-packages/sklearn/linear_model/_logistic.py:458: ConvergenceWarning: lbfgs failed to converge (status=1):\n",
            "STOP: TOTAL NO. of ITERATIONS REACHED LIMIT.\n",
            "\n",
            "Increase the number of iterations (max_iter) or scale the data as shown in:\n",
            "    https://scikit-learn.org/stable/modules/preprocessing.html\n",
            "Please also refer to the documentation for alternative solver options:\n",
            "    https://scikit-learn.org/stable/modules/linear_model.html#logistic-regression\n",
            "  n_iter_i = _check_optimize_result(\n",
            "/usr/local/lib/python3.10/dist-packages/sklearn/linear_model/_logistic.py:458: ConvergenceWarning: lbfgs failed to converge (status=1):\n",
            "STOP: TOTAL NO. of ITERATIONS REACHED LIMIT.\n",
            "\n",
            "Increase the number of iterations (max_iter) or scale the data as shown in:\n",
            "    https://scikit-learn.org/stable/modules/preprocessing.html\n",
            "Please also refer to the documentation for alternative solver options:\n",
            "    https://scikit-learn.org/stable/modules/linear_model.html#logistic-regression\n",
            "  n_iter_i = _check_optimize_result(\n",
            "/usr/local/lib/python3.10/dist-packages/sklearn/linear_model/_logistic.py:458: ConvergenceWarning: lbfgs failed to converge (status=1):\n",
            "STOP: TOTAL NO. of ITERATIONS REACHED LIMIT.\n",
            "\n",
            "Increase the number of iterations (max_iter) or scale the data as shown in:\n",
            "    https://scikit-learn.org/stable/modules/preprocessing.html\n",
            "Please also refer to the documentation for alternative solver options:\n",
            "    https://scikit-learn.org/stable/modules/linear_model.html#logistic-regression\n",
            "  n_iter_i = _check_optimize_result(\n",
            "/usr/local/lib/python3.10/dist-packages/sklearn/linear_model/_logistic.py:458: ConvergenceWarning: lbfgs failed to converge (status=1):\n",
            "STOP: TOTAL NO. of ITERATIONS REACHED LIMIT.\n",
            "\n",
            "Increase the number of iterations (max_iter) or scale the data as shown in:\n",
            "    https://scikit-learn.org/stable/modules/preprocessing.html\n",
            "Please also refer to the documentation for alternative solver options:\n",
            "    https://scikit-learn.org/stable/modules/linear_model.html#logistic-regression\n",
            "  n_iter_i = _check_optimize_result(\n",
            "/usr/local/lib/python3.10/dist-packages/sklearn/linear_model/_logistic.py:458: ConvergenceWarning: lbfgs failed to converge (status=1):\n",
            "STOP: TOTAL NO. of ITERATIONS REACHED LIMIT.\n",
            "\n",
            "Increase the number of iterations (max_iter) or scale the data as shown in:\n",
            "    https://scikit-learn.org/stable/modules/preprocessing.html\n",
            "Please also refer to the documentation for alternative solver options:\n",
            "    https://scikit-learn.org/stable/modules/linear_model.html#logistic-regression\n",
            "  n_iter_i = _check_optimize_result(\n",
            "/usr/local/lib/python3.10/dist-packages/sklearn/linear_model/_logistic.py:458: ConvergenceWarning: lbfgs failed to converge (status=1):\n",
            "STOP: TOTAL NO. of ITERATIONS REACHED LIMIT.\n",
            "\n",
            "Increase the number of iterations (max_iter) or scale the data as shown in:\n",
            "    https://scikit-learn.org/stable/modules/preprocessing.html\n",
            "Please also refer to the documentation for alternative solver options:\n",
            "    https://scikit-learn.org/stable/modules/linear_model.html#logistic-regression\n",
            "  n_iter_i = _check_optimize_result(\n",
            "/usr/local/lib/python3.10/dist-packages/sklearn/linear_model/_logistic.py:458: ConvergenceWarning: lbfgs failed to converge (status=1):\n",
            "STOP: TOTAL NO. of ITERATIONS REACHED LIMIT.\n",
            "\n",
            "Increase the number of iterations (max_iter) or scale the data as shown in:\n",
            "    https://scikit-learn.org/stable/modules/preprocessing.html\n",
            "Please also refer to the documentation for alternative solver options:\n",
            "    https://scikit-learn.org/stable/modules/linear_model.html#logistic-regression\n",
            "  n_iter_i = _check_optimize_result(\n",
            "/usr/local/lib/python3.10/dist-packages/sklearn/linear_model/_logistic.py:458: ConvergenceWarning: lbfgs failed to converge (status=1):\n",
            "STOP: TOTAL NO. of ITERATIONS REACHED LIMIT.\n",
            "\n",
            "Increase the number of iterations (max_iter) or scale the data as shown in:\n",
            "    https://scikit-learn.org/stable/modules/preprocessing.html\n",
            "Please also refer to the documentation for alternative solver options:\n",
            "    https://scikit-learn.org/stable/modules/linear_model.html#logistic-regression\n",
            "  n_iter_i = _check_optimize_result(\n",
            "/usr/local/lib/python3.10/dist-packages/sklearn/linear_model/_logistic.py:458: ConvergenceWarning: lbfgs failed to converge (status=1):\n",
            "STOP: TOTAL NO. of ITERATIONS REACHED LIMIT.\n",
            "\n",
            "Increase the number of iterations (max_iter) or scale the data as shown in:\n",
            "    https://scikit-learn.org/stable/modules/preprocessing.html\n",
            "Please also refer to the documentation for alternative solver options:\n",
            "    https://scikit-learn.org/stable/modules/linear_model.html#logistic-regression\n",
            "  n_iter_i = _check_optimize_result(\n",
            "/usr/local/lib/python3.10/dist-packages/sklearn/linear_model/_logistic.py:458: ConvergenceWarning: lbfgs failed to converge (status=1):\n",
            "STOP: TOTAL NO. of ITERATIONS REACHED LIMIT.\n",
            "\n",
            "Increase the number of iterations (max_iter) or scale the data as shown in:\n",
            "    https://scikit-learn.org/stable/modules/preprocessing.html\n",
            "Please also refer to the documentation for alternative solver options:\n",
            "    https://scikit-learn.org/stable/modules/linear_model.html#logistic-regression\n",
            "  n_iter_i = _check_optimize_result(\n",
            "/usr/local/lib/python3.10/dist-packages/sklearn/linear_model/_logistic.py:458: ConvergenceWarning: lbfgs failed to converge (status=1):\n",
            "STOP: TOTAL NO. of ITERATIONS REACHED LIMIT.\n",
            "\n",
            "Increase the number of iterations (max_iter) or scale the data as shown in:\n",
            "    https://scikit-learn.org/stable/modules/preprocessing.html\n",
            "Please also refer to the documentation for alternative solver options:\n",
            "    https://scikit-learn.org/stable/modules/linear_model.html#logistic-regression\n",
            "  n_iter_i = _check_optimize_result(\n",
            "/usr/local/lib/python3.10/dist-packages/sklearn/linear_model/_logistic.py:458: ConvergenceWarning: lbfgs failed to converge (status=1):\n",
            "STOP: TOTAL NO. of ITERATIONS REACHED LIMIT.\n",
            "\n",
            "Increase the number of iterations (max_iter) or scale the data as shown in:\n",
            "    https://scikit-learn.org/stable/modules/preprocessing.html\n",
            "Please also refer to the documentation for alternative solver options:\n",
            "    https://scikit-learn.org/stable/modules/linear_model.html#logistic-regression\n",
            "  n_iter_i = _check_optimize_result(\n",
            "/usr/local/lib/python3.10/dist-packages/sklearn/linear_model/_logistic.py:458: ConvergenceWarning: lbfgs failed to converge (status=1):\n",
            "STOP: TOTAL NO. of ITERATIONS REACHED LIMIT.\n",
            "\n",
            "Increase the number of iterations (max_iter) or scale the data as shown in:\n",
            "    https://scikit-learn.org/stable/modules/preprocessing.html\n",
            "Please also refer to the documentation for alternative solver options:\n",
            "    https://scikit-learn.org/stable/modules/linear_model.html#logistic-regression\n",
            "  n_iter_i = _check_optimize_result(\n",
            "/usr/local/lib/python3.10/dist-packages/sklearn/linear_model/_logistic.py:458: ConvergenceWarning: lbfgs failed to converge (status=1):\n",
            "STOP: TOTAL NO. of ITERATIONS REACHED LIMIT.\n",
            "\n",
            "Increase the number of iterations (max_iter) or scale the data as shown in:\n",
            "    https://scikit-learn.org/stable/modules/preprocessing.html\n",
            "Please also refer to the documentation for alternative solver options:\n",
            "    https://scikit-learn.org/stable/modules/linear_model.html#logistic-regression\n",
            "  n_iter_i = _check_optimize_result(\n"
          ]
        },
        {
          "data": {
            "text/html": [
              "<style>#sk-container-id-2 {color: black;background-color: white;}#sk-container-id-2 pre{padding: 0;}#sk-container-id-2 div.sk-toggleable {background-color: white;}#sk-container-id-2 label.sk-toggleable__label {cursor: pointer;display: block;width: 100%;margin-bottom: 0;padding: 0.3em;box-sizing: border-box;text-align: center;}#sk-container-id-2 label.sk-toggleable__label-arrow:before {content: \"▸\";float: left;margin-right: 0.25em;color: #696969;}#sk-container-id-2 label.sk-toggleable__label-arrow:hover:before {color: black;}#sk-container-id-2 div.sk-estimator:hover label.sk-toggleable__label-arrow:before {color: black;}#sk-container-id-2 div.sk-toggleable__content {max-height: 0;max-width: 0;overflow: hidden;text-align: left;background-color: #f0f8ff;}#sk-container-id-2 div.sk-toggleable__content pre {margin: 0.2em;color: black;border-radius: 0.25em;background-color: #f0f8ff;}#sk-container-id-2 input.sk-toggleable__control:checked~div.sk-toggleable__content {max-height: 200px;max-width: 100%;overflow: auto;}#sk-container-id-2 input.sk-toggleable__control:checked~label.sk-toggleable__label-arrow:before {content: \"▾\";}#sk-container-id-2 div.sk-estimator input.sk-toggleable__control:checked~label.sk-toggleable__label {background-color: #d4ebff;}#sk-container-id-2 div.sk-label input.sk-toggleable__control:checked~label.sk-toggleable__label {background-color: #d4ebff;}#sk-container-id-2 input.sk-hidden--visually {border: 0;clip: rect(1px 1px 1px 1px);clip: rect(1px, 1px, 1px, 1px);height: 1px;margin: -1px;overflow: hidden;padding: 0;position: absolute;width: 1px;}#sk-container-id-2 div.sk-estimator {font-family: monospace;background-color: #f0f8ff;border: 1px dotted black;border-radius: 0.25em;box-sizing: border-box;margin-bottom: 0.5em;}#sk-container-id-2 div.sk-estimator:hover {background-color: #d4ebff;}#sk-container-id-2 div.sk-parallel-item::after {content: \"\";width: 100%;border-bottom: 1px solid gray;flex-grow: 1;}#sk-container-id-2 div.sk-label:hover label.sk-toggleable__label {background-color: #d4ebff;}#sk-container-id-2 div.sk-serial::before {content: \"\";position: absolute;border-left: 1px solid gray;box-sizing: border-box;top: 0;bottom: 0;left: 50%;z-index: 0;}#sk-container-id-2 div.sk-serial {display: flex;flex-direction: column;align-items: center;background-color: white;padding-right: 0.2em;padding-left: 0.2em;position: relative;}#sk-container-id-2 div.sk-item {position: relative;z-index: 1;}#sk-container-id-2 div.sk-parallel {display: flex;align-items: stretch;justify-content: center;background-color: white;position: relative;}#sk-container-id-2 div.sk-item::before, #sk-container-id-2 div.sk-parallel-item::before {content: \"\";position: absolute;border-left: 1px solid gray;box-sizing: border-box;top: 0;bottom: 0;left: 50%;z-index: -1;}#sk-container-id-2 div.sk-parallel-item {display: flex;flex-direction: column;z-index: 1;position: relative;background-color: white;}#sk-container-id-2 div.sk-parallel-item:first-child::after {align-self: flex-end;width: 50%;}#sk-container-id-2 div.sk-parallel-item:last-child::after {align-self: flex-start;width: 50%;}#sk-container-id-2 div.sk-parallel-item:only-child::after {width: 0;}#sk-container-id-2 div.sk-dashed-wrapped {border: 1px dashed gray;margin: 0 0.4em 0.5em 0.4em;box-sizing: border-box;padding-bottom: 0.4em;background-color: white;}#sk-container-id-2 div.sk-label label {font-family: monospace;font-weight: bold;display: inline-block;line-height: 1.2em;}#sk-container-id-2 div.sk-label-container {text-align: center;}#sk-container-id-2 div.sk-container {/* jupyter's `normalize.less` sets `[hidden] { display: none; }` but bootstrap.min.css set `[hidden] { display: none !important; }` so we also need the `!important` here to be able to override the default hidden behavior on the sphinx rendered scikit-learn.org. See: https://github.com/scikit-learn/scikit-learn/issues/21755 */display: inline-block !important;position: relative;}#sk-container-id-2 div.sk-text-repr-fallback {display: none;}</style><div id=\"sk-container-id-2\" class=\"sk-top-container\"><div class=\"sk-text-repr-fallback\"><pre>RandomizedSearchCV(estimator=Pipeline(steps=[(&#x27;tfidf&#x27;, TfidfVectorizer()),\n",
              "                                             (&#x27;clf&#x27;, LogisticRegression())]),\n",
              "                   param_distributions={&#x27;clf__C&#x27;: [0.1, 1.0, 10.0],\n",
              "                                        &#x27;tfidf__max_features&#x27;: [1000, 2000,\n",
              "                                                                3000]})</pre><b>In a Jupyter environment, please rerun this cell to show the HTML representation or trust the notebook. <br />On GitHub, the HTML representation is unable to render, please try loading this page with nbviewer.org.</b></div><div class=\"sk-container\" hidden><div class=\"sk-item sk-dashed-wrapped\"><div class=\"sk-label-container\"><div class=\"sk-label sk-toggleable\"><input class=\"sk-toggleable__control sk-hidden--visually\" id=\"sk-estimator-id-5\" type=\"checkbox\" ><label for=\"sk-estimator-id-5\" class=\"sk-toggleable__label sk-toggleable__label-arrow\">RandomizedSearchCV</label><div class=\"sk-toggleable__content\"><pre>RandomizedSearchCV(estimator=Pipeline(steps=[(&#x27;tfidf&#x27;, TfidfVectorizer()),\n",
              "                                             (&#x27;clf&#x27;, LogisticRegression())]),\n",
              "                   param_distributions={&#x27;clf__C&#x27;: [0.1, 1.0, 10.0],\n",
              "                                        &#x27;tfidf__max_features&#x27;: [1000, 2000,\n",
              "                                                                3000]})</pre></div></div></div><div class=\"sk-parallel\"><div class=\"sk-parallel-item\"><div class=\"sk-item\"><div class=\"sk-label-container\"><div class=\"sk-label sk-toggleable\"><input class=\"sk-toggleable__control sk-hidden--visually\" id=\"sk-estimator-id-6\" type=\"checkbox\" ><label for=\"sk-estimator-id-6\" class=\"sk-toggleable__label sk-toggleable__label-arrow\">estimator: Pipeline</label><div class=\"sk-toggleable__content\"><pre>Pipeline(steps=[(&#x27;tfidf&#x27;, TfidfVectorizer()), (&#x27;clf&#x27;, LogisticRegression())])</pre></div></div></div><div class=\"sk-serial\"><div class=\"sk-item\"><div class=\"sk-serial\"><div class=\"sk-item\"><div class=\"sk-estimator sk-toggleable\"><input class=\"sk-toggleable__control sk-hidden--visually\" id=\"sk-estimator-id-7\" type=\"checkbox\" ><label for=\"sk-estimator-id-7\" class=\"sk-toggleable__label sk-toggleable__label-arrow\">TfidfVectorizer</label><div class=\"sk-toggleable__content\"><pre>TfidfVectorizer()</pre></div></div></div><div class=\"sk-item\"><div class=\"sk-estimator sk-toggleable\"><input class=\"sk-toggleable__control sk-hidden--visually\" id=\"sk-estimator-id-8\" type=\"checkbox\" ><label for=\"sk-estimator-id-8\" class=\"sk-toggleable__label sk-toggleable__label-arrow\">LogisticRegression</label><div class=\"sk-toggleable__content\"><pre>LogisticRegression()</pre></div></div></div></div></div></div></div></div></div></div></div></div>"
            ],
            "text/plain": [
              "RandomizedSearchCV(estimator=Pipeline(steps=[('tfidf', TfidfVectorizer()),\n",
              "                                             ('clf', LogisticRegression())]),\n",
              "                   param_distributions={'clf__C': [0.1, 1.0, 10.0],\n",
              "                                        'tfidf__max_features': [1000, 2000,\n",
              "                                                                3000]})"
            ]
          },
          "execution_count": 44,
          "metadata": {},
          "output_type": "execute_result"
        }
      ],
      "source": [
        "# Create RandomizedSearchCV with the pipeline and parameter grid\n",
        "random_search_2 = RandomizedSearchCV(pipeline_2, param_distributions=param_grid_2, n_iter=10, cv=1)\n",
        "\n",
        "# Training model\n",
        "random_search_2.fit(X_train, y_train)"
      ]
    },
    {
      "cell_type": "code",
      "execution_count": null,
      "metadata": {
        "id": "xgEDXPp0iXw8"
      },
      "outputs": [],
      "source": [
        "best_model_2 = random_search_2.best_estimator_"
      ]
    },
    {
      "cell_type": "code",
      "execution_count": null,
      "metadata": {
        "id": "Puojl6b2iHsQ"
      },
      "outputs": [],
      "source": [
        "y_pred_probs = best_model_2.predict_proba(X_val)\n",
        "auroc_2 = roc_auc_score(y_val, y_pred_probs)"
      ]
    },
    {
      "cell_type": "code",
      "execution_count": null,
      "metadata": {
        "colab": {
          "base_uri": "https://localhost:8080/"
        },
        "id": "9Cx_-M9jiHvQ",
        "outputId": "e230aac9-8fd3-4271-a5d5-c5c1d3f96ae6"
      },
      "outputs": [
        {
          "name": "stdout",
          "output_type": "stream",
          "text": [
            "AUROC for Iteration 2: 0.8171304156306415\n"
          ]
        }
      ],
      "source": [
        "# Print AUROC for trial 2\n",
        "print(\"AUROC for Iteration 2:\", auroc_2)"
      ]
    },
    {
      "cell_type": "markdown",
      "source": [
        "##**Observations: Trial 2**\n",
        "* AUROC : 0.8171 meets the expectation, demonstrating the effectiveness of Logistic Regression with TF-IDF"
      ],
      "metadata": {
        "id": "Uu7rwFEA676E"
      }
    },
    {
      "cell_type": "markdown",
      "source": [
        "##**Expectation: Trial 3**\n",
        "* Character-level analysis with Logistic Regression may not capture semantic meaning as effectively as word-level analysis.\n",
        "The penalty parameter and ngram range can significantly impact the model's performance.\n",
        "* AUROC expectation: Lower due to character-level analysis, around 0.50 to 0.60."
      ],
      "metadata": {
        "id": "WUpsXtY77K4t"
      }
    },
    {
      "cell_type": "markdown",
      "metadata": {
        "id": "YQsoE1Whhw2o"
      },
      "source": [
        "##**Trial 3**"
      ]
    },
    {
      "cell_type": "code",
      "execution_count": null,
      "metadata": {
        "id": "mR1Yzv88AviP"
      },
      "outputs": [],
      "source": [
        "# Define the pipeline\n",
        "pipeline_3 = Pipeline([\n",
        "    ('vect', CountVectorizer(analyzer='char')),\n",
        "    ('clf', LogisticRegression())\n",
        "])\n",
        "\n",
        "# Define the parameter grid\n",
        "param_grid_3 = {\n",
        "    'vect__ngram_range': [(1, 1), (1, 2), (1, 3)],\n",
        "    'clf__C': [1.0, 0.1, 0.01],\n",
        "    'clf__penalty': ['l2']\n",
        "}"
      ]
    },
    {
      "cell_type": "code",
      "execution_count": null,
      "metadata": {
        "colab": {
          "base_uri": "https://localhost:8080/",
          "height": 1000
        },
        "id": "KjbX2WIKAvig",
        "outputId": "50cf7331-0436-4469-c46c-884eba4b4afd"
      },
      "outputs": [
        {
          "name": "stderr",
          "output_type": "stream",
          "text": [
            "/usr/local/lib/python3.10/dist-packages/sklearn/model_selection/_search.py:305: UserWarning: The total space of parameters 9 is smaller than n_iter=10. Running 9 iterations. For exhaustive searches, use GridSearchCV.\n",
            "  warnings.warn(\n",
            "/usr/local/lib/python3.10/dist-packages/sklearn/linear_model/_logistic.py:458: ConvergenceWarning: lbfgs failed to converge (status=1):\n",
            "STOP: TOTAL NO. of ITERATIONS REACHED LIMIT.\n",
            "\n",
            "Increase the number of iterations (max_iter) or scale the data as shown in:\n",
            "    https://scikit-learn.org/stable/modules/preprocessing.html\n",
            "Please also refer to the documentation for alternative solver options:\n",
            "    https://scikit-learn.org/stable/modules/linear_model.html#logistic-regression\n",
            "  n_iter_i = _check_optimize_result(\n",
            "/usr/local/lib/python3.10/dist-packages/sklearn/model_selection/_validation.py:778: UserWarning: Scoring failed. The score on this train-test partition for these parameters will be set to nan. Details: \n",
            "Traceback (most recent call last):\n",
            "  File \"/usr/local/lib/python3.10/dist-packages/sklearn/model_selection/_validation.py\", line 767, in _score\n",
            "    scores = scorer(estimator, X_test, y_test)\n",
            "  File \"/usr/local/lib/python3.10/dist-packages/sklearn/metrics/_scorer.py\", line 234, in __call__\n",
            "    return self._score(\n",
            "  File \"/usr/local/lib/python3.10/dist-packages/sklearn/metrics/_scorer.py\", line 367, in _score\n",
            "    raise ValueError(\"{0} format is not supported\".format(y_type))\n",
            "ValueError: multiclass format is not supported\n",
            "\n",
            "  warnings.warn(\n",
            "/usr/local/lib/python3.10/dist-packages/sklearn/linear_model/_logistic.py:458: ConvergenceWarning: lbfgs failed to converge (status=1):\n",
            "STOP: TOTAL NO. of ITERATIONS REACHED LIMIT.\n",
            "\n",
            "Increase the number of iterations (max_iter) or scale the data as shown in:\n",
            "    https://scikit-learn.org/stable/modules/preprocessing.html\n",
            "Please also refer to the documentation for alternative solver options:\n",
            "    https://scikit-learn.org/stable/modules/linear_model.html#logistic-regression\n",
            "  n_iter_i = _check_optimize_result(\n",
            "/usr/local/lib/python3.10/dist-packages/sklearn/model_selection/_validation.py:778: UserWarning: Scoring failed. The score on this train-test partition for these parameters will be set to nan. Details: \n",
            "Traceback (most recent call last):\n",
            "  File \"/usr/local/lib/python3.10/dist-packages/sklearn/model_selection/_validation.py\", line 767, in _score\n",
            "    scores = scorer(estimator, X_test, y_test)\n",
            "  File \"/usr/local/lib/python3.10/dist-packages/sklearn/metrics/_scorer.py\", line 234, in __call__\n",
            "    return self._score(\n",
            "  File \"/usr/local/lib/python3.10/dist-packages/sklearn/metrics/_scorer.py\", line 367, in _score\n",
            "    raise ValueError(\"{0} format is not supported\".format(y_type))\n",
            "ValueError: multiclass format is not supported\n",
            "\n",
            "  warnings.warn(\n",
            "/usr/local/lib/python3.10/dist-packages/sklearn/linear_model/_logistic.py:458: ConvergenceWarning: lbfgs failed to converge (status=1):\n",
            "STOP: TOTAL NO. of ITERATIONS REACHED LIMIT.\n",
            "\n",
            "Increase the number of iterations (max_iter) or scale the data as shown in:\n",
            "    https://scikit-learn.org/stable/modules/preprocessing.html\n",
            "Please also refer to the documentation for alternative solver options:\n",
            "    https://scikit-learn.org/stable/modules/linear_model.html#logistic-regression\n",
            "  n_iter_i = _check_optimize_result(\n",
            "/usr/local/lib/python3.10/dist-packages/sklearn/model_selection/_validation.py:778: UserWarning: Scoring failed. The score on this train-test partition for these parameters will be set to nan. Details: \n",
            "Traceback (most recent call last):\n",
            "  File \"/usr/local/lib/python3.10/dist-packages/sklearn/model_selection/_validation.py\", line 767, in _score\n",
            "    scores = scorer(estimator, X_test, y_test)\n",
            "  File \"/usr/local/lib/python3.10/dist-packages/sklearn/metrics/_scorer.py\", line 234, in __call__\n",
            "    return self._score(\n",
            "  File \"/usr/local/lib/python3.10/dist-packages/sklearn/metrics/_scorer.py\", line 367, in _score\n",
            "    raise ValueError(\"{0} format is not supported\".format(y_type))\n",
            "ValueError: multiclass format is not supported\n",
            "\n",
            "  warnings.warn(\n",
            "/usr/local/lib/python3.10/dist-packages/sklearn/linear_model/_logistic.py:458: ConvergenceWarning: lbfgs failed to converge (status=1):\n",
            "STOP: TOTAL NO. of ITERATIONS REACHED LIMIT.\n",
            "\n",
            "Increase the number of iterations (max_iter) or scale the data as shown in:\n",
            "    https://scikit-learn.org/stable/modules/preprocessing.html\n",
            "Please also refer to the documentation for alternative solver options:\n",
            "    https://scikit-learn.org/stable/modules/linear_model.html#logistic-regression\n",
            "  n_iter_i = _check_optimize_result(\n",
            "/usr/local/lib/python3.10/dist-packages/sklearn/model_selection/_validation.py:778: UserWarning: Scoring failed. The score on this train-test partition for these parameters will be set to nan. Details: \n",
            "Traceback (most recent call last):\n",
            "  File \"/usr/local/lib/python3.10/dist-packages/sklearn/model_selection/_validation.py\", line 767, in _score\n",
            "    scores = scorer(estimator, X_test, y_test)\n",
            "  File \"/usr/local/lib/python3.10/dist-packages/sklearn/metrics/_scorer.py\", line 234, in __call__\n",
            "    return self._score(\n",
            "  File \"/usr/local/lib/python3.10/dist-packages/sklearn/metrics/_scorer.py\", line 367, in _score\n",
            "    raise ValueError(\"{0} format is not supported\".format(y_type))\n",
            "ValueError: multiclass format is not supported\n",
            "\n",
            "  warnings.warn(\n",
            "/usr/local/lib/python3.10/dist-packages/sklearn/linear_model/_logistic.py:458: ConvergenceWarning: lbfgs failed to converge (status=1):\n",
            "STOP: TOTAL NO. of ITERATIONS REACHED LIMIT.\n",
            "\n",
            "Increase the number of iterations (max_iter) or scale the data as shown in:\n",
            "    https://scikit-learn.org/stable/modules/preprocessing.html\n",
            "Please also refer to the documentation for alternative solver options:\n",
            "    https://scikit-learn.org/stable/modules/linear_model.html#logistic-regression\n",
            "  n_iter_i = _check_optimize_result(\n",
            "/usr/local/lib/python3.10/dist-packages/sklearn/model_selection/_validation.py:778: UserWarning: Scoring failed. The score on this train-test partition for these parameters will be set to nan. Details: \n",
            "Traceback (most recent call last):\n",
            "  File \"/usr/local/lib/python3.10/dist-packages/sklearn/model_selection/_validation.py\", line 767, in _score\n",
            "    scores = scorer(estimator, X_test, y_test)\n",
            "  File \"/usr/local/lib/python3.10/dist-packages/sklearn/metrics/_scorer.py\", line 234, in __call__\n",
            "    return self._score(\n",
            "  File \"/usr/local/lib/python3.10/dist-packages/sklearn/metrics/_scorer.py\", line 367, in _score\n",
            "    raise ValueError(\"{0} format is not supported\".format(y_type))\n",
            "ValueError: multiclass format is not supported\n",
            "\n",
            "  warnings.warn(\n",
            "/usr/local/lib/python3.10/dist-packages/sklearn/linear_model/_logistic.py:458: ConvergenceWarning: lbfgs failed to converge (status=1):\n",
            "STOP: TOTAL NO. of ITERATIONS REACHED LIMIT.\n",
            "\n",
            "Increase the number of iterations (max_iter) or scale the data as shown in:\n",
            "    https://scikit-learn.org/stable/modules/preprocessing.html\n",
            "Please also refer to the documentation for alternative solver options:\n",
            "    https://scikit-learn.org/stable/modules/linear_model.html#logistic-regression\n",
            "  n_iter_i = _check_optimize_result(\n",
            "/usr/local/lib/python3.10/dist-packages/sklearn/model_selection/_validation.py:778: UserWarning: Scoring failed. The score on this train-test partition for these parameters will be set to nan. Details: \n",
            "Traceback (most recent call last):\n",
            "  File \"/usr/local/lib/python3.10/dist-packages/sklearn/model_selection/_validation.py\", line 767, in _score\n",
            "    scores = scorer(estimator, X_test, y_test)\n",
            "  File \"/usr/local/lib/python3.10/dist-packages/sklearn/metrics/_scorer.py\", line 234, in __call__\n",
            "    return self._score(\n",
            "  File \"/usr/local/lib/python3.10/dist-packages/sklearn/metrics/_scorer.py\", line 367, in _score\n",
            "    raise ValueError(\"{0} format is not supported\".format(y_type))\n",
            "ValueError: multiclass format is not supported\n",
            "\n",
            "  warnings.warn(\n",
            "/usr/local/lib/python3.10/dist-packages/sklearn/linear_model/_logistic.py:458: ConvergenceWarning: lbfgs failed to converge (status=1):\n",
            "STOP: TOTAL NO. of ITERATIONS REACHED LIMIT.\n",
            "\n",
            "Increase the number of iterations (max_iter) or scale the data as shown in:\n",
            "    https://scikit-learn.org/stable/modules/preprocessing.html\n",
            "Please also refer to the documentation for alternative solver options:\n",
            "    https://scikit-learn.org/stable/modules/linear_model.html#logistic-regression\n",
            "  n_iter_i = _check_optimize_result(\n",
            "/usr/local/lib/python3.10/dist-packages/sklearn/model_selection/_validation.py:778: UserWarning: Scoring failed. The score on this train-test partition for these parameters will be set to nan. Details: \n",
            "Traceback (most recent call last):\n",
            "  File \"/usr/local/lib/python3.10/dist-packages/sklearn/model_selection/_validation.py\", line 767, in _score\n",
            "    scores = scorer(estimator, X_test, y_test)\n",
            "  File \"/usr/local/lib/python3.10/dist-packages/sklearn/metrics/_scorer.py\", line 234, in __call__\n",
            "    return self._score(\n",
            "  File \"/usr/local/lib/python3.10/dist-packages/sklearn/metrics/_scorer.py\", line 367, in _score\n",
            "    raise ValueError(\"{0} format is not supported\".format(y_type))\n",
            "ValueError: multiclass format is not supported\n",
            "\n",
            "  warnings.warn(\n",
            "/usr/local/lib/python3.10/dist-packages/sklearn/linear_model/_logistic.py:458: ConvergenceWarning: lbfgs failed to converge (status=1):\n",
            "STOP: TOTAL NO. of ITERATIONS REACHED LIMIT.\n",
            "\n",
            "Increase the number of iterations (max_iter) or scale the data as shown in:\n",
            "    https://scikit-learn.org/stable/modules/preprocessing.html\n",
            "Please also refer to the documentation for alternative solver options:\n",
            "    https://scikit-learn.org/stable/modules/linear_model.html#logistic-regression\n",
            "  n_iter_i = _check_optimize_result(\n",
            "/usr/local/lib/python3.10/dist-packages/sklearn/model_selection/_validation.py:778: UserWarning: Scoring failed. The score on this train-test partition for these parameters will be set to nan. Details: \n",
            "Traceback (most recent call last):\n",
            "  File \"/usr/local/lib/python3.10/dist-packages/sklearn/model_selection/_validation.py\", line 767, in _score\n",
            "    scores = scorer(estimator, X_test, y_test)\n",
            "  File \"/usr/local/lib/python3.10/dist-packages/sklearn/metrics/_scorer.py\", line 234, in __call__\n",
            "    return self._score(\n",
            "  File \"/usr/local/lib/python3.10/dist-packages/sklearn/metrics/_scorer.py\", line 367, in _score\n",
            "    raise ValueError(\"{0} format is not supported\".format(y_type))\n",
            "ValueError: multiclass format is not supported\n",
            "\n",
            "  warnings.warn(\n",
            "/usr/local/lib/python3.10/dist-packages/sklearn/linear_model/_logistic.py:458: ConvergenceWarning: lbfgs failed to converge (status=1):\n",
            "STOP: TOTAL NO. of ITERATIONS REACHED LIMIT.\n",
            "\n",
            "Increase the number of iterations (max_iter) or scale the data as shown in:\n",
            "    https://scikit-learn.org/stable/modules/preprocessing.html\n",
            "Please also refer to the documentation for alternative solver options:\n",
            "    https://scikit-learn.org/stable/modules/linear_model.html#logistic-regression\n",
            "  n_iter_i = _check_optimize_result(\n",
            "/usr/local/lib/python3.10/dist-packages/sklearn/model_selection/_validation.py:778: UserWarning: Scoring failed. The score on this train-test partition for these parameters will be set to nan. Details: \n",
            "Traceback (most recent call last):\n",
            "  File \"/usr/local/lib/python3.10/dist-packages/sklearn/model_selection/_validation.py\", line 767, in _score\n",
            "    scores = scorer(estimator, X_test, y_test)\n",
            "  File \"/usr/local/lib/python3.10/dist-packages/sklearn/metrics/_scorer.py\", line 234, in __call__\n",
            "    return self._score(\n",
            "  File \"/usr/local/lib/python3.10/dist-packages/sklearn/metrics/_scorer.py\", line 367, in _score\n",
            "    raise ValueError(\"{0} format is not supported\".format(y_type))\n",
            "ValueError: multiclass format is not supported\n",
            "\n",
            "  warnings.warn(\n",
            "/usr/local/lib/python3.10/dist-packages/sklearn/linear_model/_logistic.py:458: ConvergenceWarning: lbfgs failed to converge (status=1):\n",
            "STOP: TOTAL NO. of ITERATIONS REACHED LIMIT.\n",
            "\n",
            "Increase the number of iterations (max_iter) or scale the data as shown in:\n",
            "    https://scikit-learn.org/stable/modules/preprocessing.html\n",
            "Please also refer to the documentation for alternative solver options:\n",
            "    https://scikit-learn.org/stable/modules/linear_model.html#logistic-regression\n",
            "  n_iter_i = _check_optimize_result(\n",
            "/usr/local/lib/python3.10/dist-packages/sklearn/model_selection/_validation.py:778: UserWarning: Scoring failed. The score on this train-test partition for these parameters will be set to nan. Details: \n",
            "Traceback (most recent call last):\n",
            "  File \"/usr/local/lib/python3.10/dist-packages/sklearn/model_selection/_validation.py\", line 767, in _score\n",
            "    scores = scorer(estimator, X_test, y_test)\n",
            "  File \"/usr/local/lib/python3.10/dist-packages/sklearn/metrics/_scorer.py\", line 234, in __call__\n",
            "    return self._score(\n",
            "  File \"/usr/local/lib/python3.10/dist-packages/sklearn/metrics/_scorer.py\", line 367, in _score\n",
            "    raise ValueError(\"{0} format is not supported\".format(y_type))\n",
            "ValueError: multiclass format is not supported\n",
            "\n",
            "  warnings.warn(\n",
            "/usr/local/lib/python3.10/dist-packages/sklearn/linear_model/_logistic.py:458: ConvergenceWarning: lbfgs failed to converge (status=1):\n",
            "STOP: TOTAL NO. of ITERATIONS REACHED LIMIT.\n",
            "\n",
            "Increase the number of iterations (max_iter) or scale the data as shown in:\n",
            "    https://scikit-learn.org/stable/modules/preprocessing.html\n",
            "Please also refer to the documentation for alternative solver options:\n",
            "    https://scikit-learn.org/stable/modules/linear_model.html#logistic-regression\n",
            "  n_iter_i = _check_optimize_result(\n",
            "/usr/local/lib/python3.10/dist-packages/sklearn/model_selection/_validation.py:778: UserWarning: Scoring failed. The score on this train-test partition for these parameters will be set to nan. Details: \n",
            "Traceback (most recent call last):\n",
            "  File \"/usr/local/lib/python3.10/dist-packages/sklearn/model_selection/_validation.py\", line 767, in _score\n",
            "    scores = scorer(estimator, X_test, y_test)\n",
            "  File \"/usr/local/lib/python3.10/dist-packages/sklearn/metrics/_scorer.py\", line 234, in __call__\n",
            "    return self._score(\n",
            "  File \"/usr/local/lib/python3.10/dist-packages/sklearn/metrics/_scorer.py\", line 367, in _score\n",
            "    raise ValueError(\"{0} format is not supported\".format(y_type))\n",
            "ValueError: multiclass format is not supported\n",
            "\n",
            "  warnings.warn(\n",
            "/usr/local/lib/python3.10/dist-packages/sklearn/linear_model/_logistic.py:458: ConvergenceWarning: lbfgs failed to converge (status=1):\n",
            "STOP: TOTAL NO. of ITERATIONS REACHED LIMIT.\n",
            "\n",
            "Increase the number of iterations (max_iter) or scale the data as shown in:\n",
            "    https://scikit-learn.org/stable/modules/preprocessing.html\n",
            "Please also refer to the documentation for alternative solver options:\n",
            "    https://scikit-learn.org/stable/modules/linear_model.html#logistic-regression\n",
            "  n_iter_i = _check_optimize_result(\n",
            "/usr/local/lib/python3.10/dist-packages/sklearn/model_selection/_validation.py:778: UserWarning: Scoring failed. The score on this train-test partition for these parameters will be set to nan. Details: \n",
            "Traceback (most recent call last):\n",
            "  File \"/usr/local/lib/python3.10/dist-packages/sklearn/model_selection/_validation.py\", line 767, in _score\n",
            "    scores = scorer(estimator, X_test, y_test)\n",
            "  File \"/usr/local/lib/python3.10/dist-packages/sklearn/metrics/_scorer.py\", line 234, in __call__\n",
            "    return self._score(\n",
            "  File \"/usr/local/lib/python3.10/dist-packages/sklearn/metrics/_scorer.py\", line 367, in _score\n",
            "    raise ValueError(\"{0} format is not supported\".format(y_type))\n",
            "ValueError: multiclass format is not supported\n",
            "\n",
            "  warnings.warn(\n",
            "/usr/local/lib/python3.10/dist-packages/sklearn/linear_model/_logistic.py:458: ConvergenceWarning: lbfgs failed to converge (status=1):\n",
            "STOP: TOTAL NO. of ITERATIONS REACHED LIMIT.\n",
            "\n",
            "Increase the number of iterations (max_iter) or scale the data as shown in:\n",
            "    https://scikit-learn.org/stable/modules/preprocessing.html\n",
            "Please also refer to the documentation for alternative solver options:\n",
            "    https://scikit-learn.org/stable/modules/linear_model.html#logistic-regression\n",
            "  n_iter_i = _check_optimize_result(\n",
            "/usr/local/lib/python3.10/dist-packages/sklearn/model_selection/_validation.py:778: UserWarning: Scoring failed. The score on this train-test partition for these parameters will be set to nan. Details: \n",
            "Traceback (most recent call last):\n",
            "  File \"/usr/local/lib/python3.10/dist-packages/sklearn/model_selection/_validation.py\", line 767, in _score\n",
            "    scores = scorer(estimator, X_test, y_test)\n",
            "  File \"/usr/local/lib/python3.10/dist-packages/sklearn/metrics/_scorer.py\", line 234, in __call__\n",
            "    return self._score(\n",
            "  File \"/usr/local/lib/python3.10/dist-packages/sklearn/metrics/_scorer.py\", line 367, in _score\n",
            "    raise ValueError(\"{0} format is not supported\".format(y_type))\n",
            "ValueError: multiclass format is not supported\n",
            "\n",
            "  warnings.warn(\n",
            "/usr/local/lib/python3.10/dist-packages/sklearn/linear_model/_logistic.py:458: ConvergenceWarning: lbfgs failed to converge (status=1):\n",
            "STOP: TOTAL NO. of ITERATIONS REACHED LIMIT.\n",
            "\n",
            "Increase the number of iterations (max_iter) or scale the data as shown in:\n",
            "    https://scikit-learn.org/stable/modules/preprocessing.html\n",
            "Please also refer to the documentation for alternative solver options:\n",
            "    https://scikit-learn.org/stable/modules/linear_model.html#logistic-regression\n",
            "  n_iter_i = _check_optimize_result(\n",
            "/usr/local/lib/python3.10/dist-packages/sklearn/model_selection/_validation.py:778: UserWarning: Scoring failed. The score on this train-test partition for these parameters will be set to nan. Details: \n",
            "Traceback (most recent call last):\n",
            "  File \"/usr/local/lib/python3.10/dist-packages/sklearn/model_selection/_validation.py\", line 767, in _score\n",
            "    scores = scorer(estimator, X_test, y_test)\n",
            "  File \"/usr/local/lib/python3.10/dist-packages/sklearn/metrics/_scorer.py\", line 234, in __call__\n",
            "    return self._score(\n",
            "  File \"/usr/local/lib/python3.10/dist-packages/sklearn/metrics/_scorer.py\", line 367, in _score\n",
            "    raise ValueError(\"{0} format is not supported\".format(y_type))\n",
            "ValueError: multiclass format is not supported\n",
            "\n",
            "  warnings.warn(\n",
            "/usr/local/lib/python3.10/dist-packages/sklearn/linear_model/_logistic.py:458: ConvergenceWarning: lbfgs failed to converge (status=1):\n",
            "STOP: TOTAL NO. of ITERATIONS REACHED LIMIT.\n",
            "\n",
            "Increase the number of iterations (max_iter) or scale the data as shown in:\n",
            "    https://scikit-learn.org/stable/modules/preprocessing.html\n",
            "Please also refer to the documentation for alternative solver options:\n",
            "    https://scikit-learn.org/stable/modules/linear_model.html#logistic-regression\n",
            "  n_iter_i = _check_optimize_result(\n",
            "/usr/local/lib/python3.10/dist-packages/sklearn/model_selection/_validation.py:778: UserWarning: Scoring failed. The score on this train-test partition for these parameters will be set to nan. Details: \n",
            "Traceback (most recent call last):\n",
            "  File \"/usr/local/lib/python3.10/dist-packages/sklearn/model_selection/_validation.py\", line 767, in _score\n",
            "    scores = scorer(estimator, X_test, y_test)\n",
            "  File \"/usr/local/lib/python3.10/dist-packages/sklearn/metrics/_scorer.py\", line 234, in __call__\n",
            "    return self._score(\n",
            "  File \"/usr/local/lib/python3.10/dist-packages/sklearn/metrics/_scorer.py\", line 367, in _score\n",
            "    raise ValueError(\"{0} format is not supported\".format(y_type))\n",
            "ValueError: multiclass format is not supported\n",
            "\n",
            "  warnings.warn(\n",
            "/usr/local/lib/python3.10/dist-packages/sklearn/linear_model/_logistic.py:458: ConvergenceWarning: lbfgs failed to converge (status=1):\n",
            "STOP: TOTAL NO. of ITERATIONS REACHED LIMIT.\n",
            "\n",
            "Increase the number of iterations (max_iter) or scale the data as shown in:\n",
            "    https://scikit-learn.org/stable/modules/preprocessing.html\n",
            "Please also refer to the documentation for alternative solver options:\n",
            "    https://scikit-learn.org/stable/modules/linear_model.html#logistic-regression\n",
            "  n_iter_i = _check_optimize_result(\n",
            "/usr/local/lib/python3.10/dist-packages/sklearn/model_selection/_validation.py:778: UserWarning: Scoring failed. The score on this train-test partition for these parameters will be set to nan. Details: \n",
            "Traceback (most recent call last):\n",
            "  File \"/usr/local/lib/python3.10/dist-packages/sklearn/model_selection/_validation.py\", line 767, in _score\n",
            "    scores = scorer(estimator, X_test, y_test)\n",
            "  File \"/usr/local/lib/python3.10/dist-packages/sklearn/metrics/_scorer.py\", line 234, in __call__\n",
            "    return self._score(\n",
            "  File \"/usr/local/lib/python3.10/dist-packages/sklearn/metrics/_scorer.py\", line 367, in _score\n",
            "    raise ValueError(\"{0} format is not supported\".format(y_type))\n",
            "ValueError: multiclass format is not supported\n",
            "\n",
            "  warnings.warn(\n",
            "/usr/local/lib/python3.10/dist-packages/sklearn/linear_model/_logistic.py:458: ConvergenceWarning: lbfgs failed to converge (status=1):\n",
            "STOP: TOTAL NO. of ITERATIONS REACHED LIMIT.\n",
            "\n",
            "Increase the number of iterations (max_iter) or scale the data as shown in:\n",
            "    https://scikit-learn.org/stable/modules/preprocessing.html\n",
            "Please also refer to the documentation for alternative solver options:\n",
            "    https://scikit-learn.org/stable/modules/linear_model.html#logistic-regression\n",
            "  n_iter_i = _check_optimize_result(\n",
            "/usr/local/lib/python3.10/dist-packages/sklearn/model_selection/_validation.py:778: UserWarning: Scoring failed. The score on this train-test partition for these parameters will be set to nan. Details: \n",
            "Traceback (most recent call last):\n",
            "  File \"/usr/local/lib/python3.10/dist-packages/sklearn/model_selection/_validation.py\", line 767, in _score\n",
            "    scores = scorer(estimator, X_test, y_test)\n",
            "  File \"/usr/local/lib/python3.10/dist-packages/sklearn/metrics/_scorer.py\", line 234, in __call__\n",
            "    return self._score(\n",
            "  File \"/usr/local/lib/python3.10/dist-packages/sklearn/metrics/_scorer.py\", line 367, in _score\n",
            "    raise ValueError(\"{0} format is not supported\".format(y_type))\n",
            "ValueError: multiclass format is not supported\n",
            "\n",
            "  warnings.warn(\n",
            "/usr/local/lib/python3.10/dist-packages/sklearn/linear_model/_logistic.py:458: ConvergenceWarning: lbfgs failed to converge (status=1):\n",
            "STOP: TOTAL NO. of ITERATIONS REACHED LIMIT.\n",
            "\n",
            "Increase the number of iterations (max_iter) or scale the data as shown in:\n",
            "    https://scikit-learn.org/stable/modules/preprocessing.html\n",
            "Please also refer to the documentation for alternative solver options:\n",
            "    https://scikit-learn.org/stable/modules/linear_model.html#logistic-regression\n",
            "  n_iter_i = _check_optimize_result(\n",
            "/usr/local/lib/python3.10/dist-packages/sklearn/model_selection/_validation.py:778: UserWarning: Scoring failed. The score on this train-test partition for these parameters will be set to nan. Details: \n",
            "Traceback (most recent call last):\n",
            "  File \"/usr/local/lib/python3.10/dist-packages/sklearn/model_selection/_validation.py\", line 767, in _score\n",
            "    scores = scorer(estimator, X_test, y_test)\n",
            "  File \"/usr/local/lib/python3.10/dist-packages/sklearn/metrics/_scorer.py\", line 234, in __call__\n",
            "    return self._score(\n",
            "  File \"/usr/local/lib/python3.10/dist-packages/sklearn/metrics/_scorer.py\", line 367, in _score\n",
            "    raise ValueError(\"{0} format is not supported\".format(y_type))\n",
            "ValueError: multiclass format is not supported\n",
            "\n",
            "  warnings.warn(\n",
            "/usr/local/lib/python3.10/dist-packages/sklearn/linear_model/_logistic.py:458: ConvergenceWarning: lbfgs failed to converge (status=1):\n",
            "STOP: TOTAL NO. of ITERATIONS REACHED LIMIT.\n",
            "\n",
            "Increase the number of iterations (max_iter) or scale the data as shown in:\n",
            "    https://scikit-learn.org/stable/modules/preprocessing.html\n",
            "Please also refer to the documentation for alternative solver options:\n",
            "    https://scikit-learn.org/stable/modules/linear_model.html#logistic-regression\n",
            "  n_iter_i = _check_optimize_result(\n",
            "/usr/local/lib/python3.10/dist-packages/sklearn/model_selection/_validation.py:778: UserWarning: Scoring failed. The score on this train-test partition for these parameters will be set to nan. Details: \n",
            "Traceback (most recent call last):\n",
            "  File \"/usr/local/lib/python3.10/dist-packages/sklearn/model_selection/_validation.py\", line 767, in _score\n",
            "    scores = scorer(estimator, X_test, y_test)\n",
            "  File \"/usr/local/lib/python3.10/dist-packages/sklearn/metrics/_scorer.py\", line 234, in __call__\n",
            "    return self._score(\n",
            "  File \"/usr/local/lib/python3.10/dist-packages/sklearn/metrics/_scorer.py\", line 367, in _score\n",
            "    raise ValueError(\"{0} format is not supported\".format(y_type))\n",
            "ValueError: multiclass format is not supported\n",
            "\n",
            "  warnings.warn(\n",
            "/usr/local/lib/python3.10/dist-packages/sklearn/linear_model/_logistic.py:458: ConvergenceWarning: lbfgs failed to converge (status=1):\n",
            "STOP: TOTAL NO. of ITERATIONS REACHED LIMIT.\n",
            "\n",
            "Increase the number of iterations (max_iter) or scale the data as shown in:\n",
            "    https://scikit-learn.org/stable/modules/preprocessing.html\n",
            "Please also refer to the documentation for alternative solver options:\n",
            "    https://scikit-learn.org/stable/modules/linear_model.html#logistic-regression\n",
            "  n_iter_i = _check_optimize_result(\n",
            "/usr/local/lib/python3.10/dist-packages/sklearn/model_selection/_validation.py:778: UserWarning: Scoring failed. The score on this train-test partition for these parameters will be set to nan. Details: \n",
            "Traceback (most recent call last):\n",
            "  File \"/usr/local/lib/python3.10/dist-packages/sklearn/model_selection/_validation.py\", line 767, in _score\n",
            "    scores = scorer(estimator, X_test, y_test)\n",
            "  File \"/usr/local/lib/python3.10/dist-packages/sklearn/metrics/_scorer.py\", line 234, in __call__\n",
            "    return self._score(\n",
            "  File \"/usr/local/lib/python3.10/dist-packages/sklearn/metrics/_scorer.py\", line 367, in _score\n",
            "    raise ValueError(\"{0} format is not supported\".format(y_type))\n",
            "ValueError: multiclass format is not supported\n",
            "\n",
            "  warnings.warn(\n",
            "/usr/local/lib/python3.10/dist-packages/sklearn/linear_model/_logistic.py:458: ConvergenceWarning: lbfgs failed to converge (status=1):\n",
            "STOP: TOTAL NO. of ITERATIONS REACHED LIMIT.\n",
            "\n",
            "Increase the number of iterations (max_iter) or scale the data as shown in:\n",
            "    https://scikit-learn.org/stable/modules/preprocessing.html\n",
            "Please also refer to the documentation for alternative solver options:\n",
            "    https://scikit-learn.org/stable/modules/linear_model.html#logistic-regression\n",
            "  n_iter_i = _check_optimize_result(\n",
            "/usr/local/lib/python3.10/dist-packages/sklearn/model_selection/_validation.py:778: UserWarning: Scoring failed. The score on this train-test partition for these parameters will be set to nan. Details: \n",
            "Traceback (most recent call last):\n",
            "  File \"/usr/local/lib/python3.10/dist-packages/sklearn/model_selection/_validation.py\", line 767, in _score\n",
            "    scores = scorer(estimator, X_test, y_test)\n",
            "  File \"/usr/local/lib/python3.10/dist-packages/sklearn/metrics/_scorer.py\", line 234, in __call__\n",
            "    return self._score(\n",
            "  File \"/usr/local/lib/python3.10/dist-packages/sklearn/metrics/_scorer.py\", line 367, in _score\n",
            "    raise ValueError(\"{0} format is not supported\".format(y_type))\n",
            "ValueError: multiclass format is not supported\n",
            "\n",
            "  warnings.warn(\n",
            "/usr/local/lib/python3.10/dist-packages/sklearn/linear_model/_logistic.py:458: ConvergenceWarning: lbfgs failed to converge (status=1):\n",
            "STOP: TOTAL NO. of ITERATIONS REACHED LIMIT.\n",
            "\n",
            "Increase the number of iterations (max_iter) or scale the data as shown in:\n",
            "    https://scikit-learn.org/stable/modules/preprocessing.html\n",
            "Please also refer to the documentation for alternative solver options:\n",
            "    https://scikit-learn.org/stable/modules/linear_model.html#logistic-regression\n",
            "  n_iter_i = _check_optimize_result(\n",
            "/usr/local/lib/python3.10/dist-packages/sklearn/model_selection/_validation.py:778: UserWarning: Scoring failed. The score on this train-test partition for these parameters will be set to nan. Details: \n",
            "Traceback (most recent call last):\n",
            "  File \"/usr/local/lib/python3.10/dist-packages/sklearn/model_selection/_validation.py\", line 767, in _score\n",
            "    scores = scorer(estimator, X_test, y_test)\n",
            "  File \"/usr/local/lib/python3.10/dist-packages/sklearn/metrics/_scorer.py\", line 234, in __call__\n",
            "    return self._score(\n",
            "  File \"/usr/local/lib/python3.10/dist-packages/sklearn/metrics/_scorer.py\", line 367, in _score\n",
            "    raise ValueError(\"{0} format is not supported\".format(y_type))\n",
            "ValueError: multiclass format is not supported\n",
            "\n",
            "  warnings.warn(\n",
            "/usr/local/lib/python3.10/dist-packages/sklearn/linear_model/_logistic.py:458: ConvergenceWarning: lbfgs failed to converge (status=1):\n",
            "STOP: TOTAL NO. of ITERATIONS REACHED LIMIT.\n",
            "\n",
            "Increase the number of iterations (max_iter) or scale the data as shown in:\n",
            "    https://scikit-learn.org/stable/modules/preprocessing.html\n",
            "Please also refer to the documentation for alternative solver options:\n",
            "    https://scikit-learn.org/stable/modules/linear_model.html#logistic-regression\n",
            "  n_iter_i = _check_optimize_result(\n",
            "/usr/local/lib/python3.10/dist-packages/sklearn/model_selection/_validation.py:778: UserWarning: Scoring failed. The score on this train-test partition for these parameters will be set to nan. Details: \n",
            "Traceback (most recent call last):\n",
            "  File \"/usr/local/lib/python3.10/dist-packages/sklearn/model_selection/_validation.py\", line 767, in _score\n",
            "    scores = scorer(estimator, X_test, y_test)\n",
            "  File \"/usr/local/lib/python3.10/dist-packages/sklearn/metrics/_scorer.py\", line 234, in __call__\n",
            "    return self._score(\n",
            "  File \"/usr/local/lib/python3.10/dist-packages/sklearn/metrics/_scorer.py\", line 367, in _score\n",
            "    raise ValueError(\"{0} format is not supported\".format(y_type))\n",
            "ValueError: multiclass format is not supported\n",
            "\n",
            "  warnings.warn(\n",
            "/usr/local/lib/python3.10/dist-packages/sklearn/linear_model/_logistic.py:458: ConvergenceWarning: lbfgs failed to converge (status=1):\n",
            "STOP: TOTAL NO. of ITERATIONS REACHED LIMIT.\n",
            "\n",
            "Increase the number of iterations (max_iter) or scale the data as shown in:\n",
            "    https://scikit-learn.org/stable/modules/preprocessing.html\n",
            "Please also refer to the documentation for alternative solver options:\n",
            "    https://scikit-learn.org/stable/modules/linear_model.html#logistic-regression\n",
            "  n_iter_i = _check_optimize_result(\n",
            "/usr/local/lib/python3.10/dist-packages/sklearn/model_selection/_validation.py:778: UserWarning: Scoring failed. The score on this train-test partition for these parameters will be set to nan. Details: \n",
            "Traceback (most recent call last):\n",
            "  File \"/usr/local/lib/python3.10/dist-packages/sklearn/model_selection/_validation.py\", line 767, in _score\n",
            "    scores = scorer(estimator, X_test, y_test)\n",
            "  File \"/usr/local/lib/python3.10/dist-packages/sklearn/metrics/_scorer.py\", line 234, in __call__\n",
            "    return self._score(\n",
            "  File \"/usr/local/lib/python3.10/dist-packages/sklearn/metrics/_scorer.py\", line 367, in _score\n",
            "    raise ValueError(\"{0} format is not supported\".format(y_type))\n",
            "ValueError: multiclass format is not supported\n",
            "\n",
            "  warnings.warn(\n",
            "/usr/local/lib/python3.10/dist-packages/sklearn/linear_model/_logistic.py:458: ConvergenceWarning: lbfgs failed to converge (status=1):\n",
            "STOP: TOTAL NO. of ITERATIONS REACHED LIMIT.\n",
            "\n",
            "Increase the number of iterations (max_iter) or scale the data as shown in:\n",
            "    https://scikit-learn.org/stable/modules/preprocessing.html\n",
            "Please also refer to the documentation for alternative solver options:\n",
            "    https://scikit-learn.org/stable/modules/linear_model.html#logistic-regression\n",
            "  n_iter_i = _check_optimize_result(\n",
            "/usr/local/lib/python3.10/dist-packages/sklearn/model_selection/_validation.py:778: UserWarning: Scoring failed. The score on this train-test partition for these parameters will be set to nan. Details: \n",
            "Traceback (most recent call last):\n",
            "  File \"/usr/local/lib/python3.10/dist-packages/sklearn/model_selection/_validation.py\", line 767, in _score\n",
            "    scores = scorer(estimator, X_test, y_test)\n",
            "  File \"/usr/local/lib/python3.10/dist-packages/sklearn/metrics/_scorer.py\", line 234, in __call__\n",
            "    return self._score(\n",
            "  File \"/usr/local/lib/python3.10/dist-packages/sklearn/metrics/_scorer.py\", line 367, in _score\n",
            "    raise ValueError(\"{0} format is not supported\".format(y_type))\n",
            "ValueError: multiclass format is not supported\n",
            "\n",
            "  warnings.warn(\n",
            "/usr/local/lib/python3.10/dist-packages/sklearn/linear_model/_logistic.py:458: ConvergenceWarning: lbfgs failed to converge (status=1):\n",
            "STOP: TOTAL NO. of ITERATIONS REACHED LIMIT.\n",
            "\n",
            "Increase the number of iterations (max_iter) or scale the data as shown in:\n",
            "    https://scikit-learn.org/stable/modules/preprocessing.html\n",
            "Please also refer to the documentation for alternative solver options:\n",
            "    https://scikit-learn.org/stable/modules/linear_model.html#logistic-regression\n",
            "  n_iter_i = _check_optimize_result(\n",
            "/usr/local/lib/python3.10/dist-packages/sklearn/model_selection/_validation.py:778: UserWarning: Scoring failed. The score on this train-test partition for these parameters will be set to nan. Details: \n",
            "Traceback (most recent call last):\n",
            "  File \"/usr/local/lib/python3.10/dist-packages/sklearn/model_selection/_validation.py\", line 767, in _score\n",
            "    scores = scorer(estimator, X_test, y_test)\n",
            "  File \"/usr/local/lib/python3.10/dist-packages/sklearn/metrics/_scorer.py\", line 234, in __call__\n",
            "    return self._score(\n",
            "  File \"/usr/local/lib/python3.10/dist-packages/sklearn/metrics/_scorer.py\", line 367, in _score\n",
            "    raise ValueError(\"{0} format is not supported\".format(y_type))\n",
            "ValueError: multiclass format is not supported\n",
            "\n",
            "  warnings.warn(\n",
            "/usr/local/lib/python3.10/dist-packages/sklearn/linear_model/_logistic.py:458: ConvergenceWarning: lbfgs failed to converge (status=1):\n",
            "STOP: TOTAL NO. of ITERATIONS REACHED LIMIT.\n",
            "\n",
            "Increase the number of iterations (max_iter) or scale the data as shown in:\n",
            "    https://scikit-learn.org/stable/modules/preprocessing.html\n",
            "Please also refer to the documentation for alternative solver options:\n",
            "    https://scikit-learn.org/stable/modules/linear_model.html#logistic-regression\n",
            "  n_iter_i = _check_optimize_result(\n",
            "/usr/local/lib/python3.10/dist-packages/sklearn/model_selection/_validation.py:778: UserWarning: Scoring failed. The score on this train-test partition for these parameters will be set to nan. Details: \n",
            "Traceback (most recent call last):\n",
            "  File \"/usr/local/lib/python3.10/dist-packages/sklearn/model_selection/_validation.py\", line 767, in _score\n",
            "    scores = scorer(estimator, X_test, y_test)\n",
            "  File \"/usr/local/lib/python3.10/dist-packages/sklearn/metrics/_scorer.py\", line 234, in __call__\n",
            "    return self._score(\n",
            "  File \"/usr/local/lib/python3.10/dist-packages/sklearn/metrics/_scorer.py\", line 367, in _score\n",
            "    raise ValueError(\"{0} format is not supported\".format(y_type))\n",
            "ValueError: multiclass format is not supported\n",
            "\n",
            "  warnings.warn(\n",
            "/usr/local/lib/python3.10/dist-packages/sklearn/linear_model/_logistic.py:458: ConvergenceWarning: lbfgs failed to converge (status=1):\n",
            "STOP: TOTAL NO. of ITERATIONS REACHED LIMIT.\n",
            "\n",
            "Increase the number of iterations (max_iter) or scale the data as shown in:\n",
            "    https://scikit-learn.org/stable/modules/preprocessing.html\n",
            "Please also refer to the documentation for alternative solver options:\n",
            "    https://scikit-learn.org/stable/modules/linear_model.html#logistic-regression\n",
            "  n_iter_i = _check_optimize_result(\n",
            "/usr/local/lib/python3.10/dist-packages/sklearn/model_selection/_validation.py:778: UserWarning: Scoring failed. The score on this train-test partition for these parameters will be set to nan. Details: \n",
            "Traceback (most recent call last):\n",
            "  File \"/usr/local/lib/python3.10/dist-packages/sklearn/model_selection/_validation.py\", line 767, in _score\n",
            "    scores = scorer(estimator, X_test, y_test)\n",
            "  File \"/usr/local/lib/python3.10/dist-packages/sklearn/metrics/_scorer.py\", line 234, in __call__\n",
            "    return self._score(\n",
            "  File \"/usr/local/lib/python3.10/dist-packages/sklearn/metrics/_scorer.py\", line 367, in _score\n",
            "    raise ValueError(\"{0} format is not supported\".format(y_type))\n",
            "ValueError: multiclass format is not supported\n",
            "\n",
            "  warnings.warn(\n",
            "/usr/local/lib/python3.10/dist-packages/sklearn/linear_model/_logistic.py:458: ConvergenceWarning: lbfgs failed to converge (status=1):\n",
            "STOP: TOTAL NO. of ITERATIONS REACHED LIMIT.\n",
            "\n",
            "Increase the number of iterations (max_iter) or scale the data as shown in:\n",
            "    https://scikit-learn.org/stable/modules/preprocessing.html\n",
            "Please also refer to the documentation for alternative solver options:\n",
            "    https://scikit-learn.org/stable/modules/linear_model.html#logistic-regression\n",
            "  n_iter_i = _check_optimize_result(\n",
            "/usr/local/lib/python3.10/dist-packages/sklearn/model_selection/_validation.py:778: UserWarning: Scoring failed. The score on this train-test partition for these parameters will be set to nan. Details: \n",
            "Traceback (most recent call last):\n",
            "  File \"/usr/local/lib/python3.10/dist-packages/sklearn/model_selection/_validation.py\", line 767, in _score\n",
            "    scores = scorer(estimator, X_test, y_test)\n",
            "  File \"/usr/local/lib/python3.10/dist-packages/sklearn/metrics/_scorer.py\", line 234, in __call__\n",
            "    return self._score(\n",
            "  File \"/usr/local/lib/python3.10/dist-packages/sklearn/metrics/_scorer.py\", line 367, in _score\n",
            "    raise ValueError(\"{0} format is not supported\".format(y_type))\n",
            "ValueError: multiclass format is not supported\n",
            "\n",
            "  warnings.warn(\n",
            "/usr/local/lib/python3.10/dist-packages/sklearn/linear_model/_logistic.py:458: ConvergenceWarning: lbfgs failed to converge (status=1):\n",
            "STOP: TOTAL NO. of ITERATIONS REACHED LIMIT.\n",
            "\n",
            "Increase the number of iterations (max_iter) or scale the data as shown in:\n",
            "    https://scikit-learn.org/stable/modules/preprocessing.html\n",
            "Please also refer to the documentation for alternative solver options:\n",
            "    https://scikit-learn.org/stable/modules/linear_model.html#logistic-regression\n",
            "  n_iter_i = _check_optimize_result(\n",
            "/usr/local/lib/python3.10/dist-packages/sklearn/model_selection/_validation.py:778: UserWarning: Scoring failed. The score on this train-test partition for these parameters will be set to nan. Details: \n",
            "Traceback (most recent call last):\n",
            "  File \"/usr/local/lib/python3.10/dist-packages/sklearn/model_selection/_validation.py\", line 767, in _score\n",
            "    scores = scorer(estimator, X_test, y_test)\n",
            "  File \"/usr/local/lib/python3.10/dist-packages/sklearn/metrics/_scorer.py\", line 234, in __call__\n",
            "    return self._score(\n",
            "  File \"/usr/local/lib/python3.10/dist-packages/sklearn/metrics/_scorer.py\", line 367, in _score\n",
            "    raise ValueError(\"{0} format is not supported\".format(y_type))\n",
            "ValueError: multiclass format is not supported\n",
            "\n",
            "  warnings.warn(\n",
            "/usr/local/lib/python3.10/dist-packages/sklearn/linear_model/_logistic.py:458: ConvergenceWarning: lbfgs failed to converge (status=1):\n",
            "STOP: TOTAL NO. of ITERATIONS REACHED LIMIT.\n",
            "\n",
            "Increase the number of iterations (max_iter) or scale the data as shown in:\n",
            "    https://scikit-learn.org/stable/modules/preprocessing.html\n",
            "Please also refer to the documentation for alternative solver options:\n",
            "    https://scikit-learn.org/stable/modules/linear_model.html#logistic-regression\n",
            "  n_iter_i = _check_optimize_result(\n",
            "/usr/local/lib/python3.10/dist-packages/sklearn/model_selection/_validation.py:778: UserWarning: Scoring failed. The score on this train-test partition for these parameters will be set to nan. Details: \n",
            "Traceback (most recent call last):\n",
            "  File \"/usr/local/lib/python3.10/dist-packages/sklearn/model_selection/_validation.py\", line 767, in _score\n",
            "    scores = scorer(estimator, X_test, y_test)\n",
            "  File \"/usr/local/lib/python3.10/dist-packages/sklearn/metrics/_scorer.py\", line 234, in __call__\n",
            "    return self._score(\n",
            "  File \"/usr/local/lib/python3.10/dist-packages/sklearn/metrics/_scorer.py\", line 367, in _score\n",
            "    raise ValueError(\"{0} format is not supported\".format(y_type))\n",
            "ValueError: multiclass format is not supported\n",
            "\n",
            "  warnings.warn(\n",
            "/usr/local/lib/python3.10/dist-packages/sklearn/linear_model/_logistic.py:458: ConvergenceWarning: lbfgs failed to converge (status=1):\n",
            "STOP: TOTAL NO. of ITERATIONS REACHED LIMIT.\n",
            "\n",
            "Increase the number of iterations (max_iter) or scale the data as shown in:\n",
            "    https://scikit-learn.org/stable/modules/preprocessing.html\n",
            "Please also refer to the documentation for alternative solver options:\n",
            "    https://scikit-learn.org/stable/modules/linear_model.html#logistic-regression\n",
            "  n_iter_i = _check_optimize_result(\n",
            "/usr/local/lib/python3.10/dist-packages/sklearn/model_selection/_validation.py:778: UserWarning: Scoring failed. The score on this train-test partition for these parameters will be set to nan. Details: \n",
            "Traceback (most recent call last):\n",
            "  File \"/usr/local/lib/python3.10/dist-packages/sklearn/model_selection/_validation.py\", line 767, in _score\n",
            "    scores = scorer(estimator, X_test, y_test)\n",
            "  File \"/usr/local/lib/python3.10/dist-packages/sklearn/metrics/_scorer.py\", line 234, in __call__\n",
            "    return self._score(\n",
            "  File \"/usr/local/lib/python3.10/dist-packages/sklearn/metrics/_scorer.py\", line 367, in _score\n",
            "    raise ValueError(\"{0} format is not supported\".format(y_type))\n",
            "ValueError: multiclass format is not supported\n",
            "\n",
            "  warnings.warn(\n",
            "/usr/local/lib/python3.10/dist-packages/sklearn/linear_model/_logistic.py:458: ConvergenceWarning: lbfgs failed to converge (status=1):\n",
            "STOP: TOTAL NO. of ITERATIONS REACHED LIMIT.\n",
            "\n",
            "Increase the number of iterations (max_iter) or scale the data as shown in:\n",
            "    https://scikit-learn.org/stable/modules/preprocessing.html\n",
            "Please also refer to the documentation for alternative solver options:\n",
            "    https://scikit-learn.org/stable/modules/linear_model.html#logistic-regression\n",
            "  n_iter_i = _check_optimize_result(\n",
            "/usr/local/lib/python3.10/dist-packages/sklearn/model_selection/_validation.py:778: UserWarning: Scoring failed. The score on this train-test partition for these parameters will be set to nan. Details: \n",
            "Traceback (most recent call last):\n",
            "  File \"/usr/local/lib/python3.10/dist-packages/sklearn/model_selection/_validation.py\", line 767, in _score\n",
            "    scores = scorer(estimator, X_test, y_test)\n",
            "  File \"/usr/local/lib/python3.10/dist-packages/sklearn/metrics/_scorer.py\", line 234, in __call__\n",
            "    return self._score(\n",
            "  File \"/usr/local/lib/python3.10/dist-packages/sklearn/metrics/_scorer.py\", line 367, in _score\n",
            "    raise ValueError(\"{0} format is not supported\".format(y_type))\n",
            "ValueError: multiclass format is not supported\n",
            "\n",
            "  warnings.warn(\n",
            "/usr/local/lib/python3.10/dist-packages/sklearn/linear_model/_logistic.py:458: ConvergenceWarning: lbfgs failed to converge (status=1):\n",
            "STOP: TOTAL NO. of ITERATIONS REACHED LIMIT.\n",
            "\n",
            "Increase the number of iterations (max_iter) or scale the data as shown in:\n",
            "    https://scikit-learn.org/stable/modules/preprocessing.html\n",
            "Please also refer to the documentation for alternative solver options:\n",
            "    https://scikit-learn.org/stable/modules/linear_model.html#logistic-regression\n",
            "  n_iter_i = _check_optimize_result(\n",
            "/usr/local/lib/python3.10/dist-packages/sklearn/model_selection/_validation.py:778: UserWarning: Scoring failed. The score on this train-test partition for these parameters will be set to nan. Details: \n",
            "Traceback (most recent call last):\n",
            "  File \"/usr/local/lib/python3.10/dist-packages/sklearn/model_selection/_validation.py\", line 767, in _score\n",
            "    scores = scorer(estimator, X_test, y_test)\n",
            "  File \"/usr/local/lib/python3.10/dist-packages/sklearn/metrics/_scorer.py\", line 234, in __call__\n",
            "    return self._score(\n",
            "  File \"/usr/local/lib/python3.10/dist-packages/sklearn/metrics/_scorer.py\", line 367, in _score\n",
            "    raise ValueError(\"{0} format is not supported\".format(y_type))\n",
            "ValueError: multiclass format is not supported\n",
            "\n",
            "  warnings.warn(\n",
            "/usr/local/lib/python3.10/dist-packages/sklearn/linear_model/_logistic.py:458: ConvergenceWarning: lbfgs failed to converge (status=1):\n",
            "STOP: TOTAL NO. of ITERATIONS REACHED LIMIT.\n",
            "\n",
            "Increase the number of iterations (max_iter) or scale the data as shown in:\n",
            "    https://scikit-learn.org/stable/modules/preprocessing.html\n",
            "Please also refer to the documentation for alternative solver options:\n",
            "    https://scikit-learn.org/stable/modules/linear_model.html#logistic-regression\n",
            "  n_iter_i = _check_optimize_result(\n",
            "/usr/local/lib/python3.10/dist-packages/sklearn/model_selection/_validation.py:778: UserWarning: Scoring failed. The score on this train-test partition for these parameters will be set to nan. Details: \n",
            "Traceback (most recent call last):\n",
            "  File \"/usr/local/lib/python3.10/dist-packages/sklearn/model_selection/_validation.py\", line 767, in _score\n",
            "    scores = scorer(estimator, X_test, y_test)\n",
            "  File \"/usr/local/lib/python3.10/dist-packages/sklearn/metrics/_scorer.py\", line 234, in __call__\n",
            "    return self._score(\n",
            "  File \"/usr/local/lib/python3.10/dist-packages/sklearn/metrics/_scorer.py\", line 367, in _score\n",
            "    raise ValueError(\"{0} format is not supported\".format(y_type))\n",
            "ValueError: multiclass format is not supported\n",
            "\n",
            "  warnings.warn(\n",
            "/usr/local/lib/python3.10/dist-packages/sklearn/linear_model/_logistic.py:458: ConvergenceWarning: lbfgs failed to converge (status=1):\n",
            "STOP: TOTAL NO. of ITERATIONS REACHED LIMIT.\n",
            "\n",
            "Increase the number of iterations (max_iter) or scale the data as shown in:\n",
            "    https://scikit-learn.org/stable/modules/preprocessing.html\n",
            "Please also refer to the documentation for alternative solver options:\n",
            "    https://scikit-learn.org/stable/modules/linear_model.html#logistic-regression\n",
            "  n_iter_i = _check_optimize_result(\n",
            "/usr/local/lib/python3.10/dist-packages/sklearn/model_selection/_validation.py:778: UserWarning: Scoring failed. The score on this train-test partition for these parameters will be set to nan. Details: \n",
            "Traceback (most recent call last):\n",
            "  File \"/usr/local/lib/python3.10/dist-packages/sklearn/model_selection/_validation.py\", line 767, in _score\n",
            "    scores = scorer(estimator, X_test, y_test)\n",
            "  File \"/usr/local/lib/python3.10/dist-packages/sklearn/metrics/_scorer.py\", line 234, in __call__\n",
            "    return self._score(\n",
            "  File \"/usr/local/lib/python3.10/dist-packages/sklearn/metrics/_scorer.py\", line 367, in _score\n",
            "    raise ValueError(\"{0} format is not supported\".format(y_type))\n",
            "ValueError: multiclass format is not supported\n",
            "\n",
            "  warnings.warn(\n",
            "/usr/local/lib/python3.10/dist-packages/sklearn/linear_model/_logistic.py:458: ConvergenceWarning: lbfgs failed to converge (status=1):\n",
            "STOP: TOTAL NO. of ITERATIONS REACHED LIMIT.\n",
            "\n",
            "Increase the number of iterations (max_iter) or scale the data as shown in:\n",
            "    https://scikit-learn.org/stable/modules/preprocessing.html\n",
            "Please also refer to the documentation for alternative solver options:\n",
            "    https://scikit-learn.org/stable/modules/linear_model.html#logistic-regression\n",
            "  n_iter_i = _check_optimize_result(\n",
            "/usr/local/lib/python3.10/dist-packages/sklearn/model_selection/_validation.py:778: UserWarning: Scoring failed. The score on this train-test partition for these parameters will be set to nan. Details: \n",
            "Traceback (most recent call last):\n",
            "  File \"/usr/local/lib/python3.10/dist-packages/sklearn/model_selection/_validation.py\", line 767, in _score\n",
            "    scores = scorer(estimator, X_test, y_test)\n",
            "  File \"/usr/local/lib/python3.10/dist-packages/sklearn/metrics/_scorer.py\", line 234, in __call__\n",
            "    return self._score(\n",
            "  File \"/usr/local/lib/python3.10/dist-packages/sklearn/metrics/_scorer.py\", line 367, in _score\n",
            "    raise ValueError(\"{0} format is not supported\".format(y_type))\n",
            "ValueError: multiclass format is not supported\n",
            "\n",
            "  warnings.warn(\n",
            "/usr/local/lib/python3.10/dist-packages/sklearn/linear_model/_logistic.py:458: ConvergenceWarning: lbfgs failed to converge (status=1):\n",
            "STOP: TOTAL NO. of ITERATIONS REACHED LIMIT.\n",
            "\n",
            "Increase the number of iterations (max_iter) or scale the data as shown in:\n",
            "    https://scikit-learn.org/stable/modules/preprocessing.html\n",
            "Please also refer to the documentation for alternative solver options:\n",
            "    https://scikit-learn.org/stable/modules/linear_model.html#logistic-regression\n",
            "  n_iter_i = _check_optimize_result(\n",
            "/usr/local/lib/python3.10/dist-packages/sklearn/model_selection/_validation.py:778: UserWarning: Scoring failed. The score on this train-test partition for these parameters will be set to nan. Details: \n",
            "Traceback (most recent call last):\n",
            "  File \"/usr/local/lib/python3.10/dist-packages/sklearn/model_selection/_validation.py\", line 767, in _score\n",
            "    scores = scorer(estimator, X_test, y_test)\n",
            "  File \"/usr/local/lib/python3.10/dist-packages/sklearn/metrics/_scorer.py\", line 234, in __call__\n",
            "    return self._score(\n",
            "  File \"/usr/local/lib/python3.10/dist-packages/sklearn/metrics/_scorer.py\", line 367, in _score\n",
            "    raise ValueError(\"{0} format is not supported\".format(y_type))\n",
            "ValueError: multiclass format is not supported\n",
            "\n",
            "  warnings.warn(\n",
            "/usr/local/lib/python3.10/dist-packages/sklearn/linear_model/_logistic.py:458: ConvergenceWarning: lbfgs failed to converge (status=1):\n",
            "STOP: TOTAL NO. of ITERATIONS REACHED LIMIT.\n",
            "\n",
            "Increase the number of iterations (max_iter) or scale the data as shown in:\n",
            "    https://scikit-learn.org/stable/modules/preprocessing.html\n",
            "Please also refer to the documentation for alternative solver options:\n",
            "    https://scikit-learn.org/stable/modules/linear_model.html#logistic-regression\n",
            "  n_iter_i = _check_optimize_result(\n",
            "/usr/local/lib/python3.10/dist-packages/sklearn/model_selection/_validation.py:778: UserWarning: Scoring failed. The score on this train-test partition for these parameters will be set to nan. Details: \n",
            "Traceback (most recent call last):\n",
            "  File \"/usr/local/lib/python3.10/dist-packages/sklearn/model_selection/_validation.py\", line 767, in _score\n",
            "    scores = scorer(estimator, X_test, y_test)\n",
            "  File \"/usr/local/lib/python3.10/dist-packages/sklearn/metrics/_scorer.py\", line 234, in __call__\n",
            "    return self._score(\n",
            "  File \"/usr/local/lib/python3.10/dist-packages/sklearn/metrics/_scorer.py\", line 367, in _score\n",
            "    raise ValueError(\"{0} format is not supported\".format(y_type))\n",
            "ValueError: multiclass format is not supported\n",
            "\n",
            "  warnings.warn(\n",
            "/usr/local/lib/python3.10/dist-packages/sklearn/linear_model/_logistic.py:458: ConvergenceWarning: lbfgs failed to converge (status=1):\n",
            "STOP: TOTAL NO. of ITERATIONS REACHED LIMIT.\n",
            "\n",
            "Increase the number of iterations (max_iter) or scale the data as shown in:\n",
            "    https://scikit-learn.org/stable/modules/preprocessing.html\n",
            "Please also refer to the documentation for alternative solver options:\n",
            "    https://scikit-learn.org/stable/modules/linear_model.html#logistic-regression\n",
            "  n_iter_i = _check_optimize_result(\n",
            "/usr/local/lib/python3.10/dist-packages/sklearn/model_selection/_validation.py:778: UserWarning: Scoring failed. The score on this train-test partition for these parameters will be set to nan. Details: \n",
            "Traceback (most recent call last):\n",
            "  File \"/usr/local/lib/python3.10/dist-packages/sklearn/model_selection/_validation.py\", line 767, in _score\n",
            "    scores = scorer(estimator, X_test, y_test)\n",
            "  File \"/usr/local/lib/python3.10/dist-packages/sklearn/metrics/_scorer.py\", line 234, in __call__\n",
            "    return self._score(\n",
            "  File \"/usr/local/lib/python3.10/dist-packages/sklearn/metrics/_scorer.py\", line 367, in _score\n",
            "    raise ValueError(\"{0} format is not supported\".format(y_type))\n",
            "ValueError: multiclass format is not supported\n",
            "\n",
            "  warnings.warn(\n",
            "/usr/local/lib/python3.10/dist-packages/sklearn/linear_model/_logistic.py:458: ConvergenceWarning: lbfgs failed to converge (status=1):\n",
            "STOP: TOTAL NO. of ITERATIONS REACHED LIMIT.\n",
            "\n",
            "Increase the number of iterations (max_iter) or scale the data as shown in:\n",
            "    https://scikit-learn.org/stable/modules/preprocessing.html\n",
            "Please also refer to the documentation for alternative solver options:\n",
            "    https://scikit-learn.org/stable/modules/linear_model.html#logistic-regression\n",
            "  n_iter_i = _check_optimize_result(\n",
            "/usr/local/lib/python3.10/dist-packages/sklearn/model_selection/_validation.py:778: UserWarning: Scoring failed. The score on this train-test partition for these parameters will be set to nan. Details: \n",
            "Traceback (most recent call last):\n",
            "  File \"/usr/local/lib/python3.10/dist-packages/sklearn/model_selection/_validation.py\", line 767, in _score\n",
            "    scores = scorer(estimator, X_test, y_test)\n",
            "  File \"/usr/local/lib/python3.10/dist-packages/sklearn/metrics/_scorer.py\", line 234, in __call__\n",
            "    return self._score(\n",
            "  File \"/usr/local/lib/python3.10/dist-packages/sklearn/metrics/_scorer.py\", line 367, in _score\n",
            "    raise ValueError(\"{0} format is not supported\".format(y_type))\n",
            "ValueError: multiclass format is not supported\n",
            "\n",
            "  warnings.warn(\n",
            "/usr/local/lib/python3.10/dist-packages/sklearn/linear_model/_logistic.py:458: ConvergenceWarning: lbfgs failed to converge (status=1):\n",
            "STOP: TOTAL NO. of ITERATIONS REACHED LIMIT.\n",
            "\n",
            "Increase the number of iterations (max_iter) or scale the data as shown in:\n",
            "    https://scikit-learn.org/stable/modules/preprocessing.html\n",
            "Please also refer to the documentation for alternative solver options:\n",
            "    https://scikit-learn.org/stable/modules/linear_model.html#logistic-regression\n",
            "  n_iter_i = _check_optimize_result(\n",
            "/usr/local/lib/python3.10/dist-packages/sklearn/model_selection/_validation.py:778: UserWarning: Scoring failed. The score on this train-test partition for these parameters will be set to nan. Details: \n",
            "Traceback (most recent call last):\n",
            "  File \"/usr/local/lib/python3.10/dist-packages/sklearn/model_selection/_validation.py\", line 767, in _score\n",
            "    scores = scorer(estimator, X_test, y_test)\n",
            "  File \"/usr/local/lib/python3.10/dist-packages/sklearn/metrics/_scorer.py\", line 234, in __call__\n",
            "    return self._score(\n",
            "  File \"/usr/local/lib/python3.10/dist-packages/sklearn/metrics/_scorer.py\", line 367, in _score\n",
            "    raise ValueError(\"{0} format is not supported\".format(y_type))\n",
            "ValueError: multiclass format is not supported\n",
            "\n",
            "  warnings.warn(\n",
            "/usr/local/lib/python3.10/dist-packages/sklearn/linear_model/_logistic.py:458: ConvergenceWarning: lbfgs failed to converge (status=1):\n",
            "STOP: TOTAL NO. of ITERATIONS REACHED LIMIT.\n",
            "\n",
            "Increase the number of iterations (max_iter) or scale the data as shown in:\n",
            "    https://scikit-learn.org/stable/modules/preprocessing.html\n",
            "Please also refer to the documentation for alternative solver options:\n",
            "    https://scikit-learn.org/stable/modules/linear_model.html#logistic-regression\n",
            "  n_iter_i = _check_optimize_result(\n",
            "/usr/local/lib/python3.10/dist-packages/sklearn/model_selection/_validation.py:778: UserWarning: Scoring failed. The score on this train-test partition for these parameters will be set to nan. Details: \n",
            "Traceback (most recent call last):\n",
            "  File \"/usr/local/lib/python3.10/dist-packages/sklearn/model_selection/_validation.py\", line 767, in _score\n",
            "    scores = scorer(estimator, X_test, y_test)\n",
            "  File \"/usr/local/lib/python3.10/dist-packages/sklearn/metrics/_scorer.py\", line 234, in __call__\n",
            "    return self._score(\n",
            "  File \"/usr/local/lib/python3.10/dist-packages/sklearn/metrics/_scorer.py\", line 367, in _score\n",
            "    raise ValueError(\"{0} format is not supported\".format(y_type))\n",
            "ValueError: multiclass format is not supported\n",
            "\n",
            "  warnings.warn(\n",
            "/usr/local/lib/python3.10/dist-packages/sklearn/linear_model/_logistic.py:458: ConvergenceWarning: lbfgs failed to converge (status=1):\n",
            "STOP: TOTAL NO. of ITERATIONS REACHED LIMIT.\n",
            "\n",
            "Increase the number of iterations (max_iter) or scale the data as shown in:\n",
            "    https://scikit-learn.org/stable/modules/preprocessing.html\n",
            "Please also refer to the documentation for alternative solver options:\n",
            "    https://scikit-learn.org/stable/modules/linear_model.html#logistic-regression\n",
            "  n_iter_i = _check_optimize_result(\n",
            "/usr/local/lib/python3.10/dist-packages/sklearn/model_selection/_validation.py:778: UserWarning: Scoring failed. The score on this train-test partition for these parameters will be set to nan. Details: \n",
            "Traceback (most recent call last):\n",
            "  File \"/usr/local/lib/python3.10/dist-packages/sklearn/model_selection/_validation.py\", line 767, in _score\n",
            "    scores = scorer(estimator, X_test, y_test)\n",
            "  File \"/usr/local/lib/python3.10/dist-packages/sklearn/metrics/_scorer.py\", line 234, in __call__\n",
            "    return self._score(\n",
            "  File \"/usr/local/lib/python3.10/dist-packages/sklearn/metrics/_scorer.py\", line 367, in _score\n",
            "    raise ValueError(\"{0} format is not supported\".format(y_type))\n",
            "ValueError: multiclass format is not supported\n",
            "\n",
            "  warnings.warn(\n",
            "/usr/local/lib/python3.10/dist-packages/sklearn/linear_model/_logistic.py:458: ConvergenceWarning: lbfgs failed to converge (status=1):\n",
            "STOP: TOTAL NO. of ITERATIONS REACHED LIMIT.\n",
            "\n",
            "Increase the number of iterations (max_iter) or scale the data as shown in:\n",
            "    https://scikit-learn.org/stable/modules/preprocessing.html\n",
            "Please also refer to the documentation for alternative solver options:\n",
            "    https://scikit-learn.org/stable/modules/linear_model.html#logistic-regression\n",
            "  n_iter_i = _check_optimize_result(\n",
            "/usr/local/lib/python3.10/dist-packages/sklearn/model_selection/_validation.py:778: UserWarning: Scoring failed. The score on this train-test partition for these parameters will be set to nan. Details: \n",
            "Traceback (most recent call last):\n",
            "  File \"/usr/local/lib/python3.10/dist-packages/sklearn/model_selection/_validation.py\", line 767, in _score\n",
            "    scores = scorer(estimator, X_test, y_test)\n",
            "  File \"/usr/local/lib/python3.10/dist-packages/sklearn/metrics/_scorer.py\", line 234, in __call__\n",
            "    return self._score(\n",
            "  File \"/usr/local/lib/python3.10/dist-packages/sklearn/metrics/_scorer.py\", line 367, in _score\n",
            "    raise ValueError(\"{0} format is not supported\".format(y_type))\n",
            "ValueError: multiclass format is not supported\n",
            "\n",
            "  warnings.warn(\n",
            "/usr/local/lib/python3.10/dist-packages/sklearn/model_selection/_search.py:952: UserWarning: One or more of the test scores are non-finite: [nan nan nan nan nan nan nan nan nan]\n",
            "  warnings.warn(\n",
            "/usr/local/lib/python3.10/dist-packages/sklearn/linear_model/_logistic.py:458: ConvergenceWarning: lbfgs failed to converge (status=1):\n",
            "STOP: TOTAL NO. of ITERATIONS REACHED LIMIT.\n",
            "\n",
            "Increase the number of iterations (max_iter) or scale the data as shown in:\n",
            "    https://scikit-learn.org/stable/modules/preprocessing.html\n",
            "Please also refer to the documentation for alternative solver options:\n",
            "    https://scikit-learn.org/stable/modules/linear_model.html#logistic-regression\n",
            "  n_iter_i = _check_optimize_result(\n"
          ]
        },
        {
          "data": {
            "text/html": [
              "<style>#sk-container-id-3 {color: black;background-color: white;}#sk-container-id-3 pre{padding: 0;}#sk-container-id-3 div.sk-toggleable {background-color: white;}#sk-container-id-3 label.sk-toggleable__label {cursor: pointer;display: block;width: 100%;margin-bottom: 0;padding: 0.3em;box-sizing: border-box;text-align: center;}#sk-container-id-3 label.sk-toggleable__label-arrow:before {content: \"▸\";float: left;margin-right: 0.25em;color: #696969;}#sk-container-id-3 label.sk-toggleable__label-arrow:hover:before {color: black;}#sk-container-id-3 div.sk-estimator:hover label.sk-toggleable__label-arrow:before {color: black;}#sk-container-id-3 div.sk-toggleable__content {max-height: 0;max-width: 0;overflow: hidden;text-align: left;background-color: #f0f8ff;}#sk-container-id-3 div.sk-toggleable__content pre {margin: 0.2em;color: black;border-radius: 0.25em;background-color: #f0f8ff;}#sk-container-id-3 input.sk-toggleable__control:checked~div.sk-toggleable__content {max-height: 200px;max-width: 100%;overflow: auto;}#sk-container-id-3 input.sk-toggleable__control:checked~label.sk-toggleable__label-arrow:before {content: \"▾\";}#sk-container-id-3 div.sk-estimator input.sk-toggleable__control:checked~label.sk-toggleable__label {background-color: #d4ebff;}#sk-container-id-3 div.sk-label input.sk-toggleable__control:checked~label.sk-toggleable__label {background-color: #d4ebff;}#sk-container-id-3 input.sk-hidden--visually {border: 0;clip: rect(1px 1px 1px 1px);clip: rect(1px, 1px, 1px, 1px);height: 1px;margin: -1px;overflow: hidden;padding: 0;position: absolute;width: 1px;}#sk-container-id-3 div.sk-estimator {font-family: monospace;background-color: #f0f8ff;border: 1px dotted black;border-radius: 0.25em;box-sizing: border-box;margin-bottom: 0.5em;}#sk-container-id-3 div.sk-estimator:hover {background-color: #d4ebff;}#sk-container-id-3 div.sk-parallel-item::after {content: \"\";width: 100%;border-bottom: 1px solid gray;flex-grow: 1;}#sk-container-id-3 div.sk-label:hover label.sk-toggleable__label {background-color: #d4ebff;}#sk-container-id-3 div.sk-serial::before {content: \"\";position: absolute;border-left: 1px solid gray;box-sizing: border-box;top: 0;bottom: 0;left: 50%;z-index: 0;}#sk-container-id-3 div.sk-serial {display: flex;flex-direction: column;align-items: center;background-color: white;padding-right: 0.2em;padding-left: 0.2em;position: relative;}#sk-container-id-3 div.sk-item {position: relative;z-index: 1;}#sk-container-id-3 div.sk-parallel {display: flex;align-items: stretch;justify-content: center;background-color: white;position: relative;}#sk-container-id-3 div.sk-item::before, #sk-container-id-3 div.sk-parallel-item::before {content: \"\";position: absolute;border-left: 1px solid gray;box-sizing: border-box;top: 0;bottom: 0;left: 50%;z-index: -1;}#sk-container-id-3 div.sk-parallel-item {display: flex;flex-direction: column;z-index: 1;position: relative;background-color: white;}#sk-container-id-3 div.sk-parallel-item:first-child::after {align-self: flex-end;width: 50%;}#sk-container-id-3 div.sk-parallel-item:last-child::after {align-self: flex-start;width: 50%;}#sk-container-id-3 div.sk-parallel-item:only-child::after {width: 0;}#sk-container-id-3 div.sk-dashed-wrapped {border: 1px dashed gray;margin: 0 0.4em 0.5em 0.4em;box-sizing: border-box;padding-bottom: 0.4em;background-color: white;}#sk-container-id-3 div.sk-label label {font-family: monospace;font-weight: bold;display: inline-block;line-height: 1.2em;}#sk-container-id-3 div.sk-label-container {text-align: center;}#sk-container-id-3 div.sk-container {/* jupyter's `normalize.less` sets `[hidden] { display: none; }` but bootstrap.min.css set `[hidden] { display: none !important; }` so we also need the `!important` here to be able to override the default hidden behavior on the sphinx rendered scikit-learn.org. See: https://github.com/scikit-learn/scikit-learn/issues/21755 */display: inline-block !important;position: relative;}#sk-container-id-3 div.sk-text-repr-fallback {display: none;}</style><div id=\"sk-container-id-3\" class=\"sk-top-container\"><div class=\"sk-text-repr-fallback\"><pre>RandomizedSearchCV(estimator=Pipeline(steps=[(&#x27;vect&#x27;,\n",
              "                                              CountVectorizer(analyzer=&#x27;char&#x27;)),\n",
              "                                             (&#x27;clf&#x27;, LogisticRegression())]),\n",
              "                   param_distributions={&#x27;clf__C&#x27;: [1.0, 0.1, 0.01],\n",
              "                                        &#x27;clf__penalty&#x27;: [&#x27;l2&#x27;],\n",
              "                                        &#x27;vect__ngram_range&#x27;: [(1, 1), (1, 2),\n",
              "                                                              (1, 3)]},\n",
              "                   scoring=&#x27;roc_auc&#x27;)</pre><b>In a Jupyter environment, please rerun this cell to show the HTML representation or trust the notebook. <br />On GitHub, the HTML representation is unable to render, please try loading this page with nbviewer.org.</b></div><div class=\"sk-container\" hidden><div class=\"sk-item sk-dashed-wrapped\"><div class=\"sk-label-container\"><div class=\"sk-label sk-toggleable\"><input class=\"sk-toggleable__control sk-hidden--visually\" id=\"sk-estimator-id-9\" type=\"checkbox\" ><label for=\"sk-estimator-id-9\" class=\"sk-toggleable__label sk-toggleable__label-arrow\">RandomizedSearchCV</label><div class=\"sk-toggleable__content\"><pre>RandomizedSearchCV(estimator=Pipeline(steps=[(&#x27;vect&#x27;,\n",
              "                                              CountVectorizer(analyzer=&#x27;char&#x27;)),\n",
              "                                             (&#x27;clf&#x27;, LogisticRegression())]),\n",
              "                   param_distributions={&#x27;clf__C&#x27;: [1.0, 0.1, 0.01],\n",
              "                                        &#x27;clf__penalty&#x27;: [&#x27;l2&#x27;],\n",
              "                                        &#x27;vect__ngram_range&#x27;: [(1, 1), (1, 2),\n",
              "                                                              (1, 3)]},\n",
              "                   scoring=&#x27;roc_auc&#x27;)</pre></div></div></div><div class=\"sk-parallel\"><div class=\"sk-parallel-item\"><div class=\"sk-item\"><div class=\"sk-label-container\"><div class=\"sk-label sk-toggleable\"><input class=\"sk-toggleable__control sk-hidden--visually\" id=\"sk-estimator-id-10\" type=\"checkbox\" ><label for=\"sk-estimator-id-10\" class=\"sk-toggleable__label sk-toggleable__label-arrow\">estimator: Pipeline</label><div class=\"sk-toggleable__content\"><pre>Pipeline(steps=[(&#x27;vect&#x27;, CountVectorizer(analyzer=&#x27;char&#x27;)),\n",
              "                (&#x27;clf&#x27;, LogisticRegression())])</pre></div></div></div><div class=\"sk-serial\"><div class=\"sk-item\"><div class=\"sk-serial\"><div class=\"sk-item\"><div class=\"sk-estimator sk-toggleable\"><input class=\"sk-toggleable__control sk-hidden--visually\" id=\"sk-estimator-id-11\" type=\"checkbox\" ><label for=\"sk-estimator-id-11\" class=\"sk-toggleable__label sk-toggleable__label-arrow\">CountVectorizer</label><div class=\"sk-toggleable__content\"><pre>CountVectorizer(analyzer=&#x27;char&#x27;)</pre></div></div></div><div class=\"sk-item\"><div class=\"sk-estimator sk-toggleable\"><input class=\"sk-toggleable__control sk-hidden--visually\" id=\"sk-estimator-id-12\" type=\"checkbox\" ><label for=\"sk-estimator-id-12\" class=\"sk-toggleable__label sk-toggleable__label-arrow\">LogisticRegression</label><div class=\"sk-toggleable__content\"><pre>LogisticRegression()</pre></div></div></div></div></div></div></div></div></div></div></div></div>"
            ],
            "text/plain": [
              "RandomizedSearchCV(estimator=Pipeline(steps=[('vect',\n",
              "                                              CountVectorizer(analyzer='char')),\n",
              "                                             ('clf', LogisticRegression())]),\n",
              "                   param_distributions={'clf__C': [1.0, 0.1, 0.01],\n",
              "                                        'clf__penalty': ['l2'],\n",
              "                                        'vect__ngram_range': [(1, 1), (1, 2),\n",
              "                                                              (1, 3)]},\n",
              "                   scoring='roc_auc')"
            ]
          },
          "execution_count": 49,
          "metadata": {},
          "output_type": "execute_result"
        }
      ],
      "source": [
        "random_search_3 = RandomizedSearchCV(pipeline_3, param_distributions=param_grid_3, n_iter=10, cv=1, scoring='roc_auc')\n",
        "# Training model\n",
        "random_search_3.fit(X_train, y_train)"
      ]
    },
    {
      "cell_type": "code",
      "execution_count": null,
      "metadata": {
        "id": "lCuXsvPEAvih"
      },
      "outputs": [],
      "source": [
        "best_model_3 = random_search_3.best_estimator_"
      ]
    },
    {
      "cell_type": "code",
      "execution_count": null,
      "metadata": {
        "id": "TZoILYb4Avih"
      },
      "outputs": [],
      "source": [
        "y_pred_3 = best_model_3.predict_proba(X_val)\n",
        "auroc_3 = roc_auc_score(y_val, y_pred_3)"
      ]
    },
    {
      "cell_type": "code",
      "execution_count": null,
      "metadata": {
        "colab": {
          "base_uri": "https://localhost:8080/"
        },
        "id": "-srBXAYYAvii",
        "outputId": "a73506ce-abd3-4689-b451-015137fbe85a"
      },
      "outputs": [
        {
          "name": "stdout",
          "output_type": "stream",
          "text": [
            "AUROC for Iteration 3: 0.5538634029627735\n"
          ]
        }
      ],
      "source": [
        "# Print AUROC for trial 3\n",
        "print(\"AUROC for Iteration 3:\", auroc_3)"
      ]
    },
    {
      "cell_type": "markdown",
      "source": [
        "##**Observations: Trial 3**\n",
        "* AUROC : 0.5539 aligns with the lower expectation, indicating that character-level analysis may not be suitable for this task."
      ],
      "metadata": {
        "id": "g9ZLHX5M7d6V"
      }
    },
    {
      "cell_type": "markdown",
      "metadata": {
        "id": "aJQ-vhHWaQ7B"
      },
      "source": [
        "## **Preprocessing 2**"
      ]
    },
    {
      "cell_type": "markdown",
      "metadata": {
        "id": "lYVnOYRnhC_c"
      },
      "source": [
        "## **Split data into training and validation set**"
      ]
    },
    {
      "cell_type": "code",
      "execution_count": null,
      "metadata": {
        "id": "-pufLz-KTheW"
      },
      "outputs": [],
      "source": [
        "# Split the data into train and validation sets\n",
        "X_train, X_val, y_train, y_val = train_test_split(data['text_lemmatized'], data['label'], test_size=0.2, random_state=42, stratify=data['label'] , shuffle=True)"
      ]
    },
    {
      "cell_type": "markdown",
      "source": [
        "##**Expectation: Trial 4**\n",
        "* Similar to Trial 1 but with different hyperparameter settings and preprocessing, offering a chance for improved performance.\n",
        "* AUROC expectation: Moderate to good, similar to Trial 1, around 0.75 to 0.85."
      ],
      "metadata": {
        "id": "funvVwrn71gp"
      }
    },
    {
      "cell_type": "markdown",
      "metadata": {
        "id": "P7fG-2Sshw8k"
      },
      "source": [
        "##**Trial 4**"
      ]
    },
    {
      "cell_type": "code",
      "execution_count": null,
      "metadata": {
        "id": "Bwau4g9zUGKK"
      },
      "outputs": [],
      "source": [
        "# Iteration 4\n",
        "pipeline_4 = Pipeline([\n",
        "    ('vect', TfidfVectorizer(analyzer='word')),\n",
        "    ('clf', xgb.XGBClassifier())\n",
        "])\n",
        "\n",
        "param_grid_4 = {\n",
        "    'vect__ngram_range': [(1, 1), (1, 2), (1, 3)],\n",
        "    'clf__learning_rate': [0.1, 0.01],\n",
        "    'clf__max_depth': [3, 5, 7]\n",
        "}"
      ]
    },
    {
      "cell_type": "code",
      "execution_count": null,
      "metadata": {
        "colab": {
          "background_save": true
        },
        "id": "bQI-ChmXUGKL",
        "outputId": "77d187ee-2859-46bb-b2a2-225e93daea9b"
      },
      "outputs": [
        {
          "data": {
            "text/html": [
              "<style>#sk-container-id-6 {color: black;background-color: white;}#sk-container-id-6 pre{padding: 0;}#sk-container-id-6 div.sk-toggleable {background-color: white;}#sk-container-id-6 label.sk-toggleable__label {cursor: pointer;display: block;width: 100%;margin-bottom: 0;padding: 0.3em;box-sizing: border-box;text-align: center;}#sk-container-id-6 label.sk-toggleable__label-arrow:before {content: \"▸\";float: left;margin-right: 0.25em;color: #696969;}#sk-container-id-6 label.sk-toggleable__label-arrow:hover:before {color: black;}#sk-container-id-6 div.sk-estimator:hover label.sk-toggleable__label-arrow:before {color: black;}#sk-container-id-6 div.sk-toggleable__content {max-height: 0;max-width: 0;overflow: hidden;text-align: left;background-color: #f0f8ff;}#sk-container-id-6 div.sk-toggleable__content pre {margin: 0.2em;color: black;border-radius: 0.25em;background-color: #f0f8ff;}#sk-container-id-6 input.sk-toggleable__control:checked~div.sk-toggleable__content {max-height: 200px;max-width: 100%;overflow: auto;}#sk-container-id-6 input.sk-toggleable__control:checked~label.sk-toggleable__label-arrow:before {content: \"▾\";}#sk-container-id-6 div.sk-estimator input.sk-toggleable__control:checked~label.sk-toggleable__label {background-color: #d4ebff;}#sk-container-id-6 div.sk-label input.sk-toggleable__control:checked~label.sk-toggleable__label {background-color: #d4ebff;}#sk-container-id-6 input.sk-hidden--visually {border: 0;clip: rect(1px 1px 1px 1px);clip: rect(1px, 1px, 1px, 1px);height: 1px;margin: -1px;overflow: hidden;padding: 0;position: absolute;width: 1px;}#sk-container-id-6 div.sk-estimator {font-family: monospace;background-color: #f0f8ff;border: 1px dotted black;border-radius: 0.25em;box-sizing: border-box;margin-bottom: 0.5em;}#sk-container-id-6 div.sk-estimator:hover {background-color: #d4ebff;}#sk-container-id-6 div.sk-parallel-item::after {content: \"\";width: 100%;border-bottom: 1px solid gray;flex-grow: 1;}#sk-container-id-6 div.sk-label:hover label.sk-toggleable__label {background-color: #d4ebff;}#sk-container-id-6 div.sk-serial::before {content: \"\";position: absolute;border-left: 1px solid gray;box-sizing: border-box;top: 0;bottom: 0;left: 50%;z-index: 0;}#sk-container-id-6 div.sk-serial {display: flex;flex-direction: column;align-items: center;background-color: white;padding-right: 0.2em;padding-left: 0.2em;position: relative;}#sk-container-id-6 div.sk-item {position: relative;z-index: 1;}#sk-container-id-6 div.sk-parallel {display: flex;align-items: stretch;justify-content: center;background-color: white;position: relative;}#sk-container-id-6 div.sk-item::before, #sk-container-id-6 div.sk-parallel-item::before {content: \"\";position: absolute;border-left: 1px solid gray;box-sizing: border-box;top: 0;bottom: 0;left: 50%;z-index: -1;}#sk-container-id-6 div.sk-parallel-item {display: flex;flex-direction: column;z-index: 1;position: relative;background-color: white;}#sk-container-id-6 div.sk-parallel-item:first-child::after {align-self: flex-end;width: 50%;}#sk-container-id-6 div.sk-parallel-item:last-child::after {align-self: flex-start;width: 50%;}#sk-container-id-6 div.sk-parallel-item:only-child::after {width: 0;}#sk-container-id-6 div.sk-dashed-wrapped {border: 1px dashed gray;margin: 0 0.4em 0.5em 0.4em;box-sizing: border-box;padding-bottom: 0.4em;background-color: white;}#sk-container-id-6 div.sk-label label {font-family: monospace;font-weight: bold;display: inline-block;line-height: 1.2em;}#sk-container-id-6 div.sk-label-container {text-align: center;}#sk-container-id-6 div.sk-container {/* jupyter's `normalize.less` sets `[hidden] { display: none; }` but bootstrap.min.css set `[hidden] { display: none !important; }` so we also need the `!important` here to be able to override the default hidden behavior on the sphinx rendered scikit-learn.org. See: https://github.com/scikit-learn/scikit-learn/issues/21755 */display: inline-block !important;position: relative;}#sk-container-id-6 div.sk-text-repr-fallback {display: none;}</style><div id=\"sk-container-id-6\" class=\"sk-top-container\"><div class=\"sk-text-repr-fallback\"><pre>RandomizedSearchCV(estimator=Pipeline(steps=[(&#x27;vect&#x27;, TfidfVectorizer()),\n",
              "                                             (&#x27;clf&#x27;,\n",
              "                                              XGBClassifier(base_score=None,\n",
              "                                                            booster=None,\n",
              "                                                            callbacks=None,\n",
              "                                                            colsample_bylevel=None,\n",
              "                                                            colsample_bynode=None,\n",
              "                                                            colsample_bytree=None,\n",
              "                                                            device=None,\n",
              "                                                            early_stopping_rounds=None,\n",
              "                                                            enable_categorical=False,\n",
              "                                                            eval_metric=None,\n",
              "                                                            feature_types=None,\n",
              "                                                            gamma=None,\n",
              "                                                            grow_policy=None,\n",
              "                                                            importance_type=No...\n",
              "                                                            max_cat_to_onehot=None,\n",
              "                                                            max_delta_step=None,\n",
              "                                                            max_depth=None,\n",
              "                                                            max_leaves=None,\n",
              "                                                            min_child_weight=None,\n",
              "                                                            missing=nan,\n",
              "                                                            monotone_constraints=None,\n",
              "                                                            multi_strategy=None,\n",
              "                                                            n_estimators=None,\n",
              "                                                            n_jobs=None,\n",
              "                                                            num_parallel_tree=None,\n",
              "                                                            random_state=None, ...))]),\n",
              "                   param_distributions={&#x27;clf__learning_rate&#x27;: [0.1, 0.01],\n",
              "                                        &#x27;clf__max_depth&#x27;: [3, 5, 7],\n",
              "                                        &#x27;vect__ngram_range&#x27;: [(1, 1), (1, 2),\n",
              "                                                              (1, 3)]})</pre><b>In a Jupyter environment, please rerun this cell to show the HTML representation or trust the notebook. <br />On GitHub, the HTML representation is unable to render, please try loading this page with nbviewer.org.</b></div><div class=\"sk-container\" hidden><div class=\"sk-item sk-dashed-wrapped\"><div class=\"sk-label-container\"><div class=\"sk-label sk-toggleable\"><input class=\"sk-toggleable__control sk-hidden--visually\" id=\"sk-estimator-id-21\" type=\"checkbox\" ><label for=\"sk-estimator-id-21\" class=\"sk-toggleable__label sk-toggleable__label-arrow\">RandomizedSearchCV</label><div class=\"sk-toggleable__content\"><pre>RandomizedSearchCV(estimator=Pipeline(steps=[(&#x27;vect&#x27;, TfidfVectorizer()),\n",
              "                                             (&#x27;clf&#x27;,\n",
              "                                              XGBClassifier(base_score=None,\n",
              "                                                            booster=None,\n",
              "                                                            callbacks=None,\n",
              "                                                            colsample_bylevel=None,\n",
              "                                                            colsample_bynode=None,\n",
              "                                                            colsample_bytree=None,\n",
              "                                                            device=None,\n",
              "                                                            early_stopping_rounds=None,\n",
              "                                                            enable_categorical=False,\n",
              "                                                            eval_metric=None,\n",
              "                                                            feature_types=None,\n",
              "                                                            gamma=None,\n",
              "                                                            grow_policy=None,\n",
              "                                                            importance_type=No...\n",
              "                                                            max_cat_to_onehot=None,\n",
              "                                                            max_delta_step=None,\n",
              "                                                            max_depth=None,\n",
              "                                                            max_leaves=None,\n",
              "                                                            min_child_weight=None,\n",
              "                                                            missing=nan,\n",
              "                                                            monotone_constraints=None,\n",
              "                                                            multi_strategy=None,\n",
              "                                                            n_estimators=None,\n",
              "                                                            n_jobs=None,\n",
              "                                                            num_parallel_tree=None,\n",
              "                                                            random_state=None, ...))]),\n",
              "                   param_distributions={&#x27;clf__learning_rate&#x27;: [0.1, 0.01],\n",
              "                                        &#x27;clf__max_depth&#x27;: [3, 5, 7],\n",
              "                                        &#x27;vect__ngram_range&#x27;: [(1, 1), (1, 2),\n",
              "                                                              (1, 3)]})</pre></div></div></div><div class=\"sk-parallel\"><div class=\"sk-parallel-item\"><div class=\"sk-item\"><div class=\"sk-label-container\"><div class=\"sk-label sk-toggleable\"><input class=\"sk-toggleable__control sk-hidden--visually\" id=\"sk-estimator-id-22\" type=\"checkbox\" ><label for=\"sk-estimator-id-22\" class=\"sk-toggleable__label sk-toggleable__label-arrow\">estimator: Pipeline</label><div class=\"sk-toggleable__content\"><pre>Pipeline(steps=[(&#x27;vect&#x27;, TfidfVectorizer()),\n",
              "                (&#x27;clf&#x27;,\n",
              "                 XGBClassifier(base_score=None, booster=None, callbacks=None,\n",
              "                               colsample_bylevel=None, colsample_bynode=None,\n",
              "                               colsample_bytree=None, device=None,\n",
              "                               early_stopping_rounds=None,\n",
              "                               enable_categorical=False, eval_metric=None,\n",
              "                               feature_types=None, gamma=None, grow_policy=None,\n",
              "                               importance_type=None,\n",
              "                               interaction_constraints=None, learning_rate=None,\n",
              "                               max_bin=None, max_cat_threshold=None,\n",
              "                               max_cat_to_onehot=None, max_delta_step=None,\n",
              "                               max_depth=None, max_leaves=None,\n",
              "                               min_child_weight=None, missing=nan,\n",
              "                               monotone_constraints=None, multi_strategy=None,\n",
              "                               n_estimators=None, n_jobs=None,\n",
              "                               num_parallel_tree=None, random_state=None, ...))])</pre></div></div></div><div class=\"sk-serial\"><div class=\"sk-item\"><div class=\"sk-serial\"><div class=\"sk-item\"><div class=\"sk-estimator sk-toggleable\"><input class=\"sk-toggleable__control sk-hidden--visually\" id=\"sk-estimator-id-23\" type=\"checkbox\" ><label for=\"sk-estimator-id-23\" class=\"sk-toggleable__label sk-toggleable__label-arrow\">TfidfVectorizer</label><div class=\"sk-toggleable__content\"><pre>TfidfVectorizer()</pre></div></div></div><div class=\"sk-item\"><div class=\"sk-estimator sk-toggleable\"><input class=\"sk-toggleable__control sk-hidden--visually\" id=\"sk-estimator-id-24\" type=\"checkbox\" ><label for=\"sk-estimator-id-24\" class=\"sk-toggleable__label sk-toggleable__label-arrow\">XGBClassifier</label><div class=\"sk-toggleable__content\"><pre>XGBClassifier(base_score=None, booster=None, callbacks=None,\n",
              "              colsample_bylevel=None, colsample_bynode=None,\n",
              "              colsample_bytree=None, device=None, early_stopping_rounds=None,\n",
              "              enable_categorical=False, eval_metric=None, feature_types=None,\n",
              "              gamma=None, grow_policy=None, importance_type=None,\n",
              "              interaction_constraints=None, learning_rate=None, max_bin=None,\n",
              "              max_cat_threshold=None, max_cat_to_onehot=None,\n",
              "              max_delta_step=None, max_depth=None, max_leaves=None,\n",
              "              min_child_weight=None, missing=nan, monotone_constraints=None,\n",
              "              multi_strategy=None, n_estimators=None, n_jobs=None,\n",
              "              num_parallel_tree=None, random_state=None, ...)</pre></div></div></div></div></div></div></div></div></div></div></div></div>"
            ],
            "text/plain": [
              "RandomizedSearchCV(estimator=Pipeline(steps=[('vect', TfidfVectorizer()),\n",
              "                                             ('clf',\n",
              "                                              XGBClassifier(base_score=None,\n",
              "                                                            booster=None,\n",
              "                                                            callbacks=None,\n",
              "                                                            colsample_bylevel=None,\n",
              "                                                            colsample_bynode=None,\n",
              "                                                            colsample_bytree=None,\n",
              "                                                            device=None,\n",
              "                                                            early_stopping_rounds=None,\n",
              "                                                            enable_categorical=False,\n",
              "                                                            eval_metric=None,\n",
              "                                                            feature_types=None,\n",
              "                                                            gamma=None,\n",
              "                                                            grow_policy=None,\n",
              "                                                            importance_type=No...\n",
              "                                                            max_cat_to_onehot=None,\n",
              "                                                            max_delta_step=None,\n",
              "                                                            max_depth=None,\n",
              "                                                            max_leaves=None,\n",
              "                                                            min_child_weight=None,\n",
              "                                                            missing=nan,\n",
              "                                                            monotone_constraints=None,\n",
              "                                                            multi_strategy=None,\n",
              "                                                            n_estimators=None,\n",
              "                                                            n_jobs=None,\n",
              "                                                            num_parallel_tree=None,\n",
              "                                                            random_state=None, ...))]),\n",
              "                   param_distributions={'clf__learning_rate': [0.1, 0.01],\n",
              "                                        'clf__max_depth': [3, 5, 7],\n",
              "                                        'vect__ngram_range': [(1, 1), (1, 2),\n",
              "                                                              (1, 3)]})"
            ]
          },
          "execution_count": 109,
          "metadata": {},
          "output_type": "execute_result"
        }
      ],
      "source": [
        "random_search_4 = RandomizedSearchCV(pipeline_4, param_grid_4, cv=1)\n",
        "random_search_4.fit(X_train, y_train)"
      ]
    },
    {
      "cell_type": "code",
      "execution_count": null,
      "metadata": {
        "colab": {
          "background_save": true
        },
        "id": "jcDs2EoFUGKL"
      },
      "outputs": [],
      "source": [
        "best_model_4 = random_search_4.best_estimator_"
      ]
    },
    {
      "cell_type": "code",
      "execution_count": null,
      "metadata": {
        "colab": {
          "background_save": true
        },
        "id": "zgSJkOdPUGKL"
      },
      "outputs": [],
      "source": [
        "y_pred_4 = best_model_4.predict_proba(X_val)\n",
        "auroc_4 = roc_auc_score(y_val, y_pred_1)"
      ]
    },
    {
      "cell_type": "code",
      "execution_count": null,
      "metadata": {
        "colab": {
          "background_save": true
        },
        "id": "Zn9QxnnPUGKM",
        "outputId": "13afb931-7539-44bb-d22b-d1ad5d939ada"
      },
      "outputs": [
        {
          "name": "stdout",
          "output_type": "stream",
          "text": [
            "AUROC for Iteration 4: 0.7816916680131986\n"
          ]
        }
      ],
      "source": [
        "# Print AUROC for trial 1\n",
        "print(\"AUROC for Iteration 4:\", auroc_4)"
      ]
    },
    {
      "cell_type": "markdown",
      "source": [
        "##**Observations: Trial 4**\n",
        "* This falls within the expected range of moderate to good performance, as anticipated for a trial similar to Trial 1 but with different hyperparameter settings. The observed AUROC of 0.7817 indicates that this iteration achieved a reasonable performance level, consistent with the expectations based on the algorithm (XGBoost) and feature representation (TF-IDF vectorization).\n",
        "\n",
        "\n"
      ],
      "metadata": {
        "id": "CrEOO9Hr8VxF"
      }
    },
    {
      "cell_type": "markdown",
      "source": [
        "##**Expectation: Trial 5**\n",
        "* Similar to Trial 2 but with different hyperparameter settings and preprocessing, allowing exploration of different configurations.\n",
        "\n",
        "* AUROC expectation: Good, similar to Trial 2, around 0.80 to 0.85.\n"
      ],
      "metadata": {
        "id": "AuY8ywvR8nyn"
      }
    },
    {
      "cell_type": "markdown",
      "metadata": {
        "id": "4LFs3521hxDk"
      },
      "source": [
        "##**Trial 5**"
      ]
    },
    {
      "cell_type": "code",
      "execution_count": null,
      "metadata": {
        "id": "hQk3ESJMVvKd"
      },
      "outputs": [],
      "source": [
        "pipeline_5 = Pipeline([\n",
        "    ('tfidf', TfidfVectorizer(analyzer='word')),\n",
        "    ('clf', LogisticRegression())\n",
        "])\n",
        "\n",
        "# Define the parameter grid\n",
        "param_grid_5 = {\n",
        "    'tfidf__max_features': [1500, 4000, 5000],\n",
        "    'clf__C': [0.1, 1.0, 10.0]\n",
        "}"
      ]
    },
    {
      "cell_type": "code",
      "execution_count": null,
      "metadata": {
        "colab": {
          "base_uri": "https://localhost:8080/",
          "height": 1000
        },
        "id": "VhqpIcppVvKm",
        "outputId": "fd614fd7-9b9b-47f6-a051-25195d9a43ea"
      },
      "outputs": [
        {
          "name": "stderr",
          "output_type": "stream",
          "text": [
            "/usr/local/lib/python3.10/dist-packages/sklearn/model_selection/_search.py:305: UserWarning: The total space of parameters 9 is smaller than n_iter=10. Running 9 iterations. For exhaustive searches, use GridSearchCV.\n",
            "  warnings.warn(\n",
            "/usr/local/lib/python3.10/dist-packages/sklearn/linear_model/_logistic.py:458: ConvergenceWarning: lbfgs failed to converge (status=1):\n",
            "STOP: TOTAL NO. of ITERATIONS REACHED LIMIT.\n",
            "\n",
            "Increase the number of iterations (max_iter) or scale the data as shown in:\n",
            "    https://scikit-learn.org/stable/modules/preprocessing.html\n",
            "Please also refer to the documentation for alternative solver options:\n",
            "    https://scikit-learn.org/stable/modules/linear_model.html#logistic-regression\n",
            "  n_iter_i = _check_optimize_result(\n",
            "/usr/local/lib/python3.10/dist-packages/sklearn/linear_model/_logistic.py:458: ConvergenceWarning: lbfgs failed to converge (status=1):\n",
            "STOP: TOTAL NO. of ITERATIONS REACHED LIMIT.\n",
            "\n",
            "Increase the number of iterations (max_iter) or scale the data as shown in:\n",
            "    https://scikit-learn.org/stable/modules/preprocessing.html\n",
            "Please also refer to the documentation for alternative solver options:\n",
            "    https://scikit-learn.org/stable/modules/linear_model.html#logistic-regression\n",
            "  n_iter_i = _check_optimize_result(\n",
            "/usr/local/lib/python3.10/dist-packages/sklearn/linear_model/_logistic.py:458: ConvergenceWarning: lbfgs failed to converge (status=1):\n",
            "STOP: TOTAL NO. of ITERATIONS REACHED LIMIT.\n",
            "\n",
            "Increase the number of iterations (max_iter) or scale the data as shown in:\n",
            "    https://scikit-learn.org/stable/modules/preprocessing.html\n",
            "Please also refer to the documentation for alternative solver options:\n",
            "    https://scikit-learn.org/stable/modules/linear_model.html#logistic-regression\n",
            "  n_iter_i = _check_optimize_result(\n",
            "/usr/local/lib/python3.10/dist-packages/sklearn/linear_model/_logistic.py:458: ConvergenceWarning: lbfgs failed to converge (status=1):\n",
            "STOP: TOTAL NO. of ITERATIONS REACHED LIMIT.\n",
            "\n",
            "Increase the number of iterations (max_iter) or scale the data as shown in:\n",
            "    https://scikit-learn.org/stable/modules/preprocessing.html\n",
            "Please also refer to the documentation for alternative solver options:\n",
            "    https://scikit-learn.org/stable/modules/linear_model.html#logistic-regression\n",
            "  n_iter_i = _check_optimize_result(\n",
            "/usr/local/lib/python3.10/dist-packages/sklearn/linear_model/_logistic.py:458: ConvergenceWarning: lbfgs failed to converge (status=1):\n",
            "STOP: TOTAL NO. of ITERATIONS REACHED LIMIT.\n",
            "\n",
            "Increase the number of iterations (max_iter) or scale the data as shown in:\n",
            "    https://scikit-learn.org/stable/modules/preprocessing.html\n",
            "Please also refer to the documentation for alternative solver options:\n",
            "    https://scikit-learn.org/stable/modules/linear_model.html#logistic-regression\n",
            "  n_iter_i = _check_optimize_result(\n",
            "/usr/local/lib/python3.10/dist-packages/sklearn/linear_model/_logistic.py:458: ConvergenceWarning: lbfgs failed to converge (status=1):\n",
            "STOP: TOTAL NO. of ITERATIONS REACHED LIMIT.\n",
            "\n",
            "Increase the number of iterations (max_iter) or scale the data as shown in:\n",
            "    https://scikit-learn.org/stable/modules/preprocessing.html\n",
            "Please also refer to the documentation for alternative solver options:\n",
            "    https://scikit-learn.org/stable/modules/linear_model.html#logistic-regression\n",
            "  n_iter_i = _check_optimize_result(\n",
            "/usr/local/lib/python3.10/dist-packages/sklearn/linear_model/_logistic.py:458: ConvergenceWarning: lbfgs failed to converge (status=1):\n",
            "STOP: TOTAL NO. of ITERATIONS REACHED LIMIT.\n",
            "\n",
            "Increase the number of iterations (max_iter) or scale the data as shown in:\n",
            "    https://scikit-learn.org/stable/modules/preprocessing.html\n",
            "Please also refer to the documentation for alternative solver options:\n",
            "    https://scikit-learn.org/stable/modules/linear_model.html#logistic-regression\n",
            "  n_iter_i = _check_optimize_result(\n",
            "/usr/local/lib/python3.10/dist-packages/sklearn/linear_model/_logistic.py:458: ConvergenceWarning: lbfgs failed to converge (status=1):\n",
            "STOP: TOTAL NO. of ITERATIONS REACHED LIMIT.\n",
            "\n",
            "Increase the number of iterations (max_iter) or scale the data as shown in:\n",
            "    https://scikit-learn.org/stable/modules/preprocessing.html\n",
            "Please also refer to the documentation for alternative solver options:\n",
            "    https://scikit-learn.org/stable/modules/linear_model.html#logistic-regression\n",
            "  n_iter_i = _check_optimize_result(\n",
            "/usr/local/lib/python3.10/dist-packages/sklearn/linear_model/_logistic.py:458: ConvergenceWarning: lbfgs failed to converge (status=1):\n",
            "STOP: TOTAL NO. of ITERATIONS REACHED LIMIT.\n",
            "\n",
            "Increase the number of iterations (max_iter) or scale the data as shown in:\n",
            "    https://scikit-learn.org/stable/modules/preprocessing.html\n",
            "Please also refer to the documentation for alternative solver options:\n",
            "    https://scikit-learn.org/stable/modules/linear_model.html#logistic-regression\n",
            "  n_iter_i = _check_optimize_result(\n",
            "/usr/local/lib/python3.10/dist-packages/sklearn/linear_model/_logistic.py:458: ConvergenceWarning: lbfgs failed to converge (status=1):\n",
            "STOP: TOTAL NO. of ITERATIONS REACHED LIMIT.\n",
            "\n",
            "Increase the number of iterations (max_iter) or scale the data as shown in:\n",
            "    https://scikit-learn.org/stable/modules/preprocessing.html\n",
            "Please also refer to the documentation for alternative solver options:\n",
            "    https://scikit-learn.org/stable/modules/linear_model.html#logistic-regression\n",
            "  n_iter_i = _check_optimize_result(\n",
            "/usr/local/lib/python3.10/dist-packages/sklearn/linear_model/_logistic.py:458: ConvergenceWarning: lbfgs failed to converge (status=1):\n",
            "STOP: TOTAL NO. of ITERATIONS REACHED LIMIT.\n",
            "\n",
            "Increase the number of iterations (max_iter) or scale the data as shown in:\n",
            "    https://scikit-learn.org/stable/modules/preprocessing.html\n",
            "Please also refer to the documentation for alternative solver options:\n",
            "    https://scikit-learn.org/stable/modules/linear_model.html#logistic-regression\n",
            "  n_iter_i = _check_optimize_result(\n",
            "/usr/local/lib/python3.10/dist-packages/sklearn/linear_model/_logistic.py:458: ConvergenceWarning: lbfgs failed to converge (status=1):\n",
            "STOP: TOTAL NO. of ITERATIONS REACHED LIMIT.\n",
            "\n",
            "Increase the number of iterations (max_iter) or scale the data as shown in:\n",
            "    https://scikit-learn.org/stable/modules/preprocessing.html\n",
            "Please also refer to the documentation for alternative solver options:\n",
            "    https://scikit-learn.org/stable/modules/linear_model.html#logistic-regression\n",
            "  n_iter_i = _check_optimize_result(\n",
            "/usr/local/lib/python3.10/dist-packages/sklearn/linear_model/_logistic.py:458: ConvergenceWarning: lbfgs failed to converge (status=1):\n",
            "STOP: TOTAL NO. of ITERATIONS REACHED LIMIT.\n",
            "\n",
            "Increase the number of iterations (max_iter) or scale the data as shown in:\n",
            "    https://scikit-learn.org/stable/modules/preprocessing.html\n",
            "Please also refer to the documentation for alternative solver options:\n",
            "    https://scikit-learn.org/stable/modules/linear_model.html#logistic-regression\n",
            "  n_iter_i = _check_optimize_result(\n",
            "/usr/local/lib/python3.10/dist-packages/sklearn/linear_model/_logistic.py:458: ConvergenceWarning: lbfgs failed to converge (status=1):\n",
            "STOP: TOTAL NO. of ITERATIONS REACHED LIMIT.\n",
            "\n",
            "Increase the number of iterations (max_iter) or scale the data as shown in:\n",
            "    https://scikit-learn.org/stable/modules/preprocessing.html\n",
            "Please also refer to the documentation for alternative solver options:\n",
            "    https://scikit-learn.org/stable/modules/linear_model.html#logistic-regression\n",
            "  n_iter_i = _check_optimize_result(\n",
            "/usr/local/lib/python3.10/dist-packages/sklearn/linear_model/_logistic.py:458: ConvergenceWarning: lbfgs failed to converge (status=1):\n",
            "STOP: TOTAL NO. of ITERATIONS REACHED LIMIT.\n",
            "\n",
            "Increase the number of iterations (max_iter) or scale the data as shown in:\n",
            "    https://scikit-learn.org/stable/modules/preprocessing.html\n",
            "Please also refer to the documentation for alternative solver options:\n",
            "    https://scikit-learn.org/stable/modules/linear_model.html#logistic-regression\n",
            "  n_iter_i = _check_optimize_result(\n",
            "/usr/local/lib/python3.10/dist-packages/sklearn/linear_model/_logistic.py:458: ConvergenceWarning: lbfgs failed to converge (status=1):\n",
            "STOP: TOTAL NO. of ITERATIONS REACHED LIMIT.\n",
            "\n",
            "Increase the number of iterations (max_iter) or scale the data as shown in:\n",
            "    https://scikit-learn.org/stable/modules/preprocessing.html\n",
            "Please also refer to the documentation for alternative solver options:\n",
            "    https://scikit-learn.org/stable/modules/linear_model.html#logistic-regression\n",
            "  n_iter_i = _check_optimize_result(\n",
            "/usr/local/lib/python3.10/dist-packages/sklearn/linear_model/_logistic.py:458: ConvergenceWarning: lbfgs failed to converge (status=1):\n",
            "STOP: TOTAL NO. of ITERATIONS REACHED LIMIT.\n",
            "\n",
            "Increase the number of iterations (max_iter) or scale the data as shown in:\n",
            "    https://scikit-learn.org/stable/modules/preprocessing.html\n",
            "Please also refer to the documentation for alternative solver options:\n",
            "    https://scikit-learn.org/stable/modules/linear_model.html#logistic-regression\n",
            "  n_iter_i = _check_optimize_result(\n",
            "/usr/local/lib/python3.10/dist-packages/sklearn/linear_model/_logistic.py:458: ConvergenceWarning: lbfgs failed to converge (status=1):\n",
            "STOP: TOTAL NO. of ITERATIONS REACHED LIMIT.\n",
            "\n",
            "Increase the number of iterations (max_iter) or scale the data as shown in:\n",
            "    https://scikit-learn.org/stable/modules/preprocessing.html\n",
            "Please also refer to the documentation for alternative solver options:\n",
            "    https://scikit-learn.org/stable/modules/linear_model.html#logistic-regression\n",
            "  n_iter_i = _check_optimize_result(\n",
            "/usr/local/lib/python3.10/dist-packages/sklearn/linear_model/_logistic.py:458: ConvergenceWarning: lbfgs failed to converge (status=1):\n",
            "STOP: TOTAL NO. of ITERATIONS REACHED LIMIT.\n",
            "\n",
            "Increase the number of iterations (max_iter) or scale the data as shown in:\n",
            "    https://scikit-learn.org/stable/modules/preprocessing.html\n",
            "Please also refer to the documentation for alternative solver options:\n",
            "    https://scikit-learn.org/stable/modules/linear_model.html#logistic-regression\n",
            "  n_iter_i = _check_optimize_result(\n",
            "/usr/local/lib/python3.10/dist-packages/sklearn/linear_model/_logistic.py:458: ConvergenceWarning: lbfgs failed to converge (status=1):\n",
            "STOP: TOTAL NO. of ITERATIONS REACHED LIMIT.\n",
            "\n",
            "Increase the number of iterations (max_iter) or scale the data as shown in:\n",
            "    https://scikit-learn.org/stable/modules/preprocessing.html\n",
            "Please also refer to the documentation for alternative solver options:\n",
            "    https://scikit-learn.org/stable/modules/linear_model.html#logistic-regression\n",
            "  n_iter_i = _check_optimize_result(\n",
            "/usr/local/lib/python3.10/dist-packages/sklearn/linear_model/_logistic.py:458: ConvergenceWarning: lbfgs failed to converge (status=1):\n",
            "STOP: TOTAL NO. of ITERATIONS REACHED LIMIT.\n",
            "\n",
            "Increase the number of iterations (max_iter) or scale the data as shown in:\n",
            "    https://scikit-learn.org/stable/modules/preprocessing.html\n",
            "Please also refer to the documentation for alternative solver options:\n",
            "    https://scikit-learn.org/stable/modules/linear_model.html#logistic-regression\n",
            "  n_iter_i = _check_optimize_result(\n"
          ]
        },
        {
          "data": {
            "text/html": [
              "<style>#sk-container-id-4 {color: black;background-color: white;}#sk-container-id-4 pre{padding: 0;}#sk-container-id-4 div.sk-toggleable {background-color: white;}#sk-container-id-4 label.sk-toggleable__label {cursor: pointer;display: block;width: 100%;margin-bottom: 0;padding: 0.3em;box-sizing: border-box;text-align: center;}#sk-container-id-4 label.sk-toggleable__label-arrow:before {content: \"▸\";float: left;margin-right: 0.25em;color: #696969;}#sk-container-id-4 label.sk-toggleable__label-arrow:hover:before {color: black;}#sk-container-id-4 div.sk-estimator:hover label.sk-toggleable__label-arrow:before {color: black;}#sk-container-id-4 div.sk-toggleable__content {max-height: 0;max-width: 0;overflow: hidden;text-align: left;background-color: #f0f8ff;}#sk-container-id-4 div.sk-toggleable__content pre {margin: 0.2em;color: black;border-radius: 0.25em;background-color: #f0f8ff;}#sk-container-id-4 input.sk-toggleable__control:checked~div.sk-toggleable__content {max-height: 200px;max-width: 100%;overflow: auto;}#sk-container-id-4 input.sk-toggleable__control:checked~label.sk-toggleable__label-arrow:before {content: \"▾\";}#sk-container-id-4 div.sk-estimator input.sk-toggleable__control:checked~label.sk-toggleable__label {background-color: #d4ebff;}#sk-container-id-4 div.sk-label input.sk-toggleable__control:checked~label.sk-toggleable__label {background-color: #d4ebff;}#sk-container-id-4 input.sk-hidden--visually {border: 0;clip: rect(1px 1px 1px 1px);clip: rect(1px, 1px, 1px, 1px);height: 1px;margin: -1px;overflow: hidden;padding: 0;position: absolute;width: 1px;}#sk-container-id-4 div.sk-estimator {font-family: monospace;background-color: #f0f8ff;border: 1px dotted black;border-radius: 0.25em;box-sizing: border-box;margin-bottom: 0.5em;}#sk-container-id-4 div.sk-estimator:hover {background-color: #d4ebff;}#sk-container-id-4 div.sk-parallel-item::after {content: \"\";width: 100%;border-bottom: 1px solid gray;flex-grow: 1;}#sk-container-id-4 div.sk-label:hover label.sk-toggleable__label {background-color: #d4ebff;}#sk-container-id-4 div.sk-serial::before {content: \"\";position: absolute;border-left: 1px solid gray;box-sizing: border-box;top: 0;bottom: 0;left: 50%;z-index: 0;}#sk-container-id-4 div.sk-serial {display: flex;flex-direction: column;align-items: center;background-color: white;padding-right: 0.2em;padding-left: 0.2em;position: relative;}#sk-container-id-4 div.sk-item {position: relative;z-index: 1;}#sk-container-id-4 div.sk-parallel {display: flex;align-items: stretch;justify-content: center;background-color: white;position: relative;}#sk-container-id-4 div.sk-item::before, #sk-container-id-4 div.sk-parallel-item::before {content: \"\";position: absolute;border-left: 1px solid gray;box-sizing: border-box;top: 0;bottom: 0;left: 50%;z-index: -1;}#sk-container-id-4 div.sk-parallel-item {display: flex;flex-direction: column;z-index: 1;position: relative;background-color: white;}#sk-container-id-4 div.sk-parallel-item:first-child::after {align-self: flex-end;width: 50%;}#sk-container-id-4 div.sk-parallel-item:last-child::after {align-self: flex-start;width: 50%;}#sk-container-id-4 div.sk-parallel-item:only-child::after {width: 0;}#sk-container-id-4 div.sk-dashed-wrapped {border: 1px dashed gray;margin: 0 0.4em 0.5em 0.4em;box-sizing: border-box;padding-bottom: 0.4em;background-color: white;}#sk-container-id-4 div.sk-label label {font-family: monospace;font-weight: bold;display: inline-block;line-height: 1.2em;}#sk-container-id-4 div.sk-label-container {text-align: center;}#sk-container-id-4 div.sk-container {/* jupyter's `normalize.less` sets `[hidden] { display: none; }` but bootstrap.min.css set `[hidden] { display: none !important; }` so we also need the `!important` here to be able to override the default hidden behavior on the sphinx rendered scikit-learn.org. See: https://github.com/scikit-learn/scikit-learn/issues/21755 */display: inline-block !important;position: relative;}#sk-container-id-4 div.sk-text-repr-fallback {display: none;}</style><div id=\"sk-container-id-4\" class=\"sk-top-container\"><div class=\"sk-text-repr-fallback\"><pre>RandomizedSearchCV(estimator=Pipeline(steps=[(&#x27;tfidf&#x27;, TfidfVectorizer()),\n",
              "                                             (&#x27;clf&#x27;, LogisticRegression())]),\n",
              "                   param_distributions={&#x27;clf__C&#x27;: [0.1, 1.0, 10.0],\n",
              "                                        &#x27;tfidf__max_features&#x27;: [1000, 2000,\n",
              "                                                                3000]})</pre><b>In a Jupyter environment, please rerun this cell to show the HTML representation or trust the notebook. <br />On GitHub, the HTML representation is unable to render, please try loading this page with nbviewer.org.</b></div><div class=\"sk-container\" hidden><div class=\"sk-item sk-dashed-wrapped\"><div class=\"sk-label-container\"><div class=\"sk-label sk-toggleable\"><input class=\"sk-toggleable__control sk-hidden--visually\" id=\"sk-estimator-id-13\" type=\"checkbox\" ><label for=\"sk-estimator-id-13\" class=\"sk-toggleable__label sk-toggleable__label-arrow\">RandomizedSearchCV</label><div class=\"sk-toggleable__content\"><pre>RandomizedSearchCV(estimator=Pipeline(steps=[(&#x27;tfidf&#x27;, TfidfVectorizer()),\n",
              "                                             (&#x27;clf&#x27;, LogisticRegression())]),\n",
              "                   param_distributions={&#x27;clf__C&#x27;: [0.1, 1.0, 10.0],\n",
              "                                        &#x27;tfidf__max_features&#x27;: [1000, 2000,\n",
              "                                                                3000]})</pre></div></div></div><div class=\"sk-parallel\"><div class=\"sk-parallel-item\"><div class=\"sk-item\"><div class=\"sk-label-container\"><div class=\"sk-label sk-toggleable\"><input class=\"sk-toggleable__control sk-hidden--visually\" id=\"sk-estimator-id-14\" type=\"checkbox\" ><label for=\"sk-estimator-id-14\" class=\"sk-toggleable__label sk-toggleable__label-arrow\">estimator: Pipeline</label><div class=\"sk-toggleable__content\"><pre>Pipeline(steps=[(&#x27;tfidf&#x27;, TfidfVectorizer()), (&#x27;clf&#x27;, LogisticRegression())])</pre></div></div></div><div class=\"sk-serial\"><div class=\"sk-item\"><div class=\"sk-serial\"><div class=\"sk-item\"><div class=\"sk-estimator sk-toggleable\"><input class=\"sk-toggleable__control sk-hidden--visually\" id=\"sk-estimator-id-15\" type=\"checkbox\" ><label for=\"sk-estimator-id-15\" class=\"sk-toggleable__label sk-toggleable__label-arrow\">TfidfVectorizer</label><div class=\"sk-toggleable__content\"><pre>TfidfVectorizer()</pre></div></div></div><div class=\"sk-item\"><div class=\"sk-estimator sk-toggleable\"><input class=\"sk-toggleable__control sk-hidden--visually\" id=\"sk-estimator-id-16\" type=\"checkbox\" ><label for=\"sk-estimator-id-16\" class=\"sk-toggleable__label sk-toggleable__label-arrow\">LogisticRegression</label><div class=\"sk-toggleable__content\"><pre>LogisticRegression()</pre></div></div></div></div></div></div></div></div></div></div></div></div>"
            ],
            "text/plain": [
              "RandomizedSearchCV(estimator=Pipeline(steps=[('tfidf', TfidfVectorizer()),\n",
              "                                             ('clf', LogisticRegression())]),\n",
              "                   param_distributions={'clf__C': [0.1, 1.0, 10.0],\n",
              "                                        'tfidf__max_features': [1000, 2000,\n",
              "                                                                3000]})"
            ]
          },
          "execution_count": 55,
          "metadata": {},
          "output_type": "execute_result"
        }
      ],
      "source": [
        "# Create RandomizedSearchCV with the pipeline and parameter grid\n",
        "random_search_5 = RandomizedSearchCV(pipeline_5, param_distributions=param_grid_5, n_iter=10, cv=1)\n",
        "\n",
        "# Training model\n",
        "random_search_5.fit(X_train, y_train)"
      ]
    },
    {
      "cell_type": "code",
      "execution_count": null,
      "metadata": {
        "id": "79SyCQuPVvKn"
      },
      "outputs": [],
      "source": [
        "best_model_5 = random_search_5.best_estimator_"
      ]
    },
    {
      "cell_type": "code",
      "execution_count": null,
      "metadata": {
        "id": "eq6shLAWVvKn"
      },
      "outputs": [],
      "source": [
        "y_pred_probs = best_model_5.predict_proba(X_val)\n",
        "auroc_5 = roc_auc_score(y_val, y_pred_probs)"
      ]
    },
    {
      "cell_type": "code",
      "execution_count": null,
      "metadata": {
        "colab": {
          "base_uri": "https://localhost:8080/"
        },
        "id": "GxKT2R1UVvKo",
        "outputId": "2f7e3d9c-539c-47dd-e514-f70ef39c29b5"
      },
      "outputs": [
        {
          "name": "stdout",
          "output_type": "stream",
          "text": [
            "AUROC for Iteration 5: 0.82648143062752\n"
          ]
        }
      ],
      "source": [
        "# Print AUROC for trial 5\n",
        "print(\"AUROC for Iteration 5:\", auroc_5)"
      ]
    },
    {
      "cell_type": "markdown",
      "source": [
        "##**Observations:  Trial 5**\n",
        "AUROC : 0.8265 meets the expectation, indicating the effectiveness of Logistic Regression with TF-IDF. ` The best trial we found`"
      ],
      "metadata": {
        "id": "ouU31ayUnZyb"
      }
    },
    {
      "cell_type": "markdown",
      "source": [
        "##**Expectation: Trial 6**\n",
        "* Similar to Trial 3 but with different hyperparameter settings and preprocessing method, exploring alternatives for character-level analysis.\n",
        "\n",
        "* AUROC expectation: Lower, similar to Trial 3, around 0.50 to 0.60."
      ],
      "metadata": {
        "id": "DTnIQilPn-P8"
      }
    },
    {
      "cell_type": "markdown",
      "metadata": {
        "id": "5TeqSKfRVagR"
      },
      "source": [
        "##**Trial 6**"
      ]
    },
    {
      "cell_type": "code",
      "execution_count": null,
      "metadata": {
        "id": "VdrsBPBmWd8t"
      },
      "outputs": [],
      "source": [
        "# Define the pipeline\n",
        "pipeline_6 = Pipeline([\n",
        "    ('vect', CountVectorizer(analyzer='char')),\n",
        "    ('clf', LogisticRegression())\n",
        "])\n",
        "\n",
        "# Define the parameter grid\n",
        "param_grid_6 = {\n",
        "    'vect__ngram_range': [(1, 1), (1, 2), (1, 3)],\n",
        "    'clf__C': [1.0, 0.1, 0.01],\n",
        "    'clf__penalty': ['l2']\n",
        "}"
      ]
    },
    {
      "cell_type": "code",
      "execution_count": null,
      "metadata": {
        "colab": {
          "base_uri": "https://localhost:8080/",
          "height": 1000
        },
        "id": "eH8aOsTeWnfU",
        "outputId": "28281018-8051-42ac-f22d-0abf02d53cf0"
      },
      "outputs": [
        {
          "name": "stderr",
          "output_type": "stream",
          "text": [
            "/usr/local/lib/python3.10/dist-packages/sklearn/model_selection/_search.py:305: UserWarning: The total space of parameters 9 is smaller than n_iter=10. Running 9 iterations. For exhaustive searches, use GridSearchCV.\n",
            "  warnings.warn(\n",
            "/usr/local/lib/python3.10/dist-packages/sklearn/linear_model/_logistic.py:458: ConvergenceWarning: lbfgs failed to converge (status=1):\n",
            "STOP: TOTAL NO. of ITERATIONS REACHED LIMIT.\n",
            "\n",
            "Increase the number of iterations (max_iter) or scale the data as shown in:\n",
            "    https://scikit-learn.org/stable/modules/preprocessing.html\n",
            "Please also refer to the documentation for alternative solver options:\n",
            "    https://scikit-learn.org/stable/modules/linear_model.html#logistic-regression\n",
            "  n_iter_i = _check_optimize_result(\n",
            "/usr/local/lib/python3.10/dist-packages/sklearn/model_selection/_validation.py:778: UserWarning: Scoring failed. The score on this train-test partition for these parameters will be set to nan. Details: \n",
            "Traceback (most recent call last):\n",
            "  File \"/usr/local/lib/python3.10/dist-packages/sklearn/model_selection/_validation.py\", line 767, in _score\n",
            "    scores = scorer(estimator, X_test, y_test)\n",
            "  File \"/usr/local/lib/python3.10/dist-packages/sklearn/metrics/_scorer.py\", line 234, in __call__\n",
            "    return self._score(\n",
            "  File \"/usr/local/lib/python3.10/dist-packages/sklearn/metrics/_scorer.py\", line 367, in _score\n",
            "    raise ValueError(\"{0} format is not supported\".format(y_type))\n",
            "ValueError: multiclass format is not supported\n",
            "\n",
            "  warnings.warn(\n",
            "/usr/local/lib/python3.10/dist-packages/sklearn/linear_model/_logistic.py:458: ConvergenceWarning: lbfgs failed to converge (status=1):\n",
            "STOP: TOTAL NO. of ITERATIONS REACHED LIMIT.\n",
            "\n",
            "Increase the number of iterations (max_iter) or scale the data as shown in:\n",
            "    https://scikit-learn.org/stable/modules/preprocessing.html\n",
            "Please also refer to the documentation for alternative solver options:\n",
            "    https://scikit-learn.org/stable/modules/linear_model.html#logistic-regression\n",
            "  n_iter_i = _check_optimize_result(\n",
            "/usr/local/lib/python3.10/dist-packages/sklearn/model_selection/_validation.py:778: UserWarning: Scoring failed. The score on this train-test partition for these parameters will be set to nan. Details: \n",
            "Traceback (most recent call last):\n",
            "  File \"/usr/local/lib/python3.10/dist-packages/sklearn/model_selection/_validation.py\", line 767, in _score\n",
            "    scores = scorer(estimator, X_test, y_test)\n",
            "  File \"/usr/local/lib/python3.10/dist-packages/sklearn/metrics/_scorer.py\", line 234, in __call__\n",
            "    return self._score(\n",
            "  File \"/usr/local/lib/python3.10/dist-packages/sklearn/metrics/_scorer.py\", line 367, in _score\n",
            "    raise ValueError(\"{0} format is not supported\".format(y_type))\n",
            "ValueError: multiclass format is not supported\n",
            "\n",
            "  warnings.warn(\n",
            "/usr/local/lib/python3.10/dist-packages/sklearn/linear_model/_logistic.py:458: ConvergenceWarning: lbfgs failed to converge (status=1):\n",
            "STOP: TOTAL NO. of ITERATIONS REACHED LIMIT.\n",
            "\n",
            "Increase the number of iterations (max_iter) or scale the data as shown in:\n",
            "    https://scikit-learn.org/stable/modules/preprocessing.html\n",
            "Please also refer to the documentation for alternative solver options:\n",
            "    https://scikit-learn.org/stable/modules/linear_model.html#logistic-regression\n",
            "  n_iter_i = _check_optimize_result(\n",
            "/usr/local/lib/python3.10/dist-packages/sklearn/model_selection/_validation.py:778: UserWarning: Scoring failed. The score on this train-test partition for these parameters will be set to nan. Details: \n",
            "Traceback (most recent call last):\n",
            "  File \"/usr/local/lib/python3.10/dist-packages/sklearn/model_selection/_validation.py\", line 767, in _score\n",
            "    scores = scorer(estimator, X_test, y_test)\n",
            "  File \"/usr/local/lib/python3.10/dist-packages/sklearn/metrics/_scorer.py\", line 234, in __call__\n",
            "    return self._score(\n",
            "  File \"/usr/local/lib/python3.10/dist-packages/sklearn/metrics/_scorer.py\", line 367, in _score\n",
            "    raise ValueError(\"{0} format is not supported\".format(y_type))\n",
            "ValueError: multiclass format is not supported\n",
            "\n",
            "  warnings.warn(\n",
            "/usr/local/lib/python3.10/dist-packages/sklearn/linear_model/_logistic.py:458: ConvergenceWarning: lbfgs failed to converge (status=1):\n",
            "STOP: TOTAL NO. of ITERATIONS REACHED LIMIT.\n",
            "\n",
            "Increase the number of iterations (max_iter) or scale the data as shown in:\n",
            "    https://scikit-learn.org/stable/modules/preprocessing.html\n",
            "Please also refer to the documentation for alternative solver options:\n",
            "    https://scikit-learn.org/stable/modules/linear_model.html#logistic-regression\n",
            "  n_iter_i = _check_optimize_result(\n",
            "/usr/local/lib/python3.10/dist-packages/sklearn/model_selection/_validation.py:778: UserWarning: Scoring failed. The score on this train-test partition for these parameters will be set to nan. Details: \n",
            "Traceback (most recent call last):\n",
            "  File \"/usr/local/lib/python3.10/dist-packages/sklearn/model_selection/_validation.py\", line 767, in _score\n",
            "    scores = scorer(estimator, X_test, y_test)\n",
            "  File \"/usr/local/lib/python3.10/dist-packages/sklearn/metrics/_scorer.py\", line 234, in __call__\n",
            "    return self._score(\n",
            "  File \"/usr/local/lib/python3.10/dist-packages/sklearn/metrics/_scorer.py\", line 367, in _score\n",
            "    raise ValueError(\"{0} format is not supported\".format(y_type))\n",
            "ValueError: multiclass format is not supported\n",
            "\n",
            "  warnings.warn(\n",
            "/usr/local/lib/python3.10/dist-packages/sklearn/linear_model/_logistic.py:458: ConvergenceWarning: lbfgs failed to converge (status=1):\n",
            "STOP: TOTAL NO. of ITERATIONS REACHED LIMIT.\n",
            "\n",
            "Increase the number of iterations (max_iter) or scale the data as shown in:\n",
            "    https://scikit-learn.org/stable/modules/preprocessing.html\n",
            "Please also refer to the documentation for alternative solver options:\n",
            "    https://scikit-learn.org/stable/modules/linear_model.html#logistic-regression\n",
            "  n_iter_i = _check_optimize_result(\n",
            "/usr/local/lib/python3.10/dist-packages/sklearn/model_selection/_validation.py:778: UserWarning: Scoring failed. The score on this train-test partition for these parameters will be set to nan. Details: \n",
            "Traceback (most recent call last):\n",
            "  File \"/usr/local/lib/python3.10/dist-packages/sklearn/model_selection/_validation.py\", line 767, in _score\n",
            "    scores = scorer(estimator, X_test, y_test)\n",
            "  File \"/usr/local/lib/python3.10/dist-packages/sklearn/metrics/_scorer.py\", line 234, in __call__\n",
            "    return self._score(\n",
            "  File \"/usr/local/lib/python3.10/dist-packages/sklearn/metrics/_scorer.py\", line 367, in _score\n",
            "    raise ValueError(\"{0} format is not supported\".format(y_type))\n",
            "ValueError: multiclass format is not supported\n",
            "\n",
            "  warnings.warn(\n",
            "/usr/local/lib/python3.10/dist-packages/sklearn/linear_model/_logistic.py:458: ConvergenceWarning: lbfgs failed to converge (status=1):\n",
            "STOP: TOTAL NO. of ITERATIONS REACHED LIMIT.\n",
            "\n",
            "Increase the number of iterations (max_iter) or scale the data as shown in:\n",
            "    https://scikit-learn.org/stable/modules/preprocessing.html\n",
            "Please also refer to the documentation for alternative solver options:\n",
            "    https://scikit-learn.org/stable/modules/linear_model.html#logistic-regression\n",
            "  n_iter_i = _check_optimize_result(\n",
            "/usr/local/lib/python3.10/dist-packages/sklearn/model_selection/_validation.py:778: UserWarning: Scoring failed. The score on this train-test partition for these parameters will be set to nan. Details: \n",
            "Traceback (most recent call last):\n",
            "  File \"/usr/local/lib/python3.10/dist-packages/sklearn/model_selection/_validation.py\", line 767, in _score\n",
            "    scores = scorer(estimator, X_test, y_test)\n",
            "  File \"/usr/local/lib/python3.10/dist-packages/sklearn/metrics/_scorer.py\", line 234, in __call__\n",
            "    return self._score(\n",
            "  File \"/usr/local/lib/python3.10/dist-packages/sklearn/metrics/_scorer.py\", line 367, in _score\n",
            "    raise ValueError(\"{0} format is not supported\".format(y_type))\n",
            "ValueError: multiclass format is not supported\n",
            "\n",
            "  warnings.warn(\n",
            "/usr/local/lib/python3.10/dist-packages/sklearn/linear_model/_logistic.py:458: ConvergenceWarning: lbfgs failed to converge (status=1):\n",
            "STOP: TOTAL NO. of ITERATIONS REACHED LIMIT.\n",
            "\n",
            "Increase the number of iterations (max_iter) or scale the data as shown in:\n",
            "    https://scikit-learn.org/stable/modules/preprocessing.html\n",
            "Please also refer to the documentation for alternative solver options:\n",
            "    https://scikit-learn.org/stable/modules/linear_model.html#logistic-regression\n",
            "  n_iter_i = _check_optimize_result(\n",
            "/usr/local/lib/python3.10/dist-packages/sklearn/model_selection/_validation.py:778: UserWarning: Scoring failed. The score on this train-test partition for these parameters will be set to nan. Details: \n",
            "Traceback (most recent call last):\n",
            "  File \"/usr/local/lib/python3.10/dist-packages/sklearn/model_selection/_validation.py\", line 767, in _score\n",
            "    scores = scorer(estimator, X_test, y_test)\n",
            "  File \"/usr/local/lib/python3.10/dist-packages/sklearn/metrics/_scorer.py\", line 234, in __call__\n",
            "    return self._score(\n",
            "  File \"/usr/local/lib/python3.10/dist-packages/sklearn/metrics/_scorer.py\", line 367, in _score\n",
            "    raise ValueError(\"{0} format is not supported\".format(y_type))\n",
            "ValueError: multiclass format is not supported\n",
            "\n",
            "  warnings.warn(\n",
            "/usr/local/lib/python3.10/dist-packages/sklearn/linear_model/_logistic.py:458: ConvergenceWarning: lbfgs failed to converge (status=1):\n",
            "STOP: TOTAL NO. of ITERATIONS REACHED LIMIT.\n",
            "\n",
            "Increase the number of iterations (max_iter) or scale the data as shown in:\n",
            "    https://scikit-learn.org/stable/modules/preprocessing.html\n",
            "Please also refer to the documentation for alternative solver options:\n",
            "    https://scikit-learn.org/stable/modules/linear_model.html#logistic-regression\n",
            "  n_iter_i = _check_optimize_result(\n",
            "/usr/local/lib/python3.10/dist-packages/sklearn/model_selection/_validation.py:778: UserWarning: Scoring failed. The score on this train-test partition for these parameters will be set to nan. Details: \n",
            "Traceback (most recent call last):\n",
            "  File \"/usr/local/lib/python3.10/dist-packages/sklearn/model_selection/_validation.py\", line 767, in _score\n",
            "    scores = scorer(estimator, X_test, y_test)\n",
            "  File \"/usr/local/lib/python3.10/dist-packages/sklearn/metrics/_scorer.py\", line 234, in __call__\n",
            "    return self._score(\n",
            "  File \"/usr/local/lib/python3.10/dist-packages/sklearn/metrics/_scorer.py\", line 367, in _score\n",
            "    raise ValueError(\"{0} format is not supported\".format(y_type))\n",
            "ValueError: multiclass format is not supported\n",
            "\n",
            "  warnings.warn(\n",
            "/usr/local/lib/python3.10/dist-packages/sklearn/linear_model/_logistic.py:458: ConvergenceWarning: lbfgs failed to converge (status=1):\n",
            "STOP: TOTAL NO. of ITERATIONS REACHED LIMIT.\n",
            "\n",
            "Increase the number of iterations (max_iter) or scale the data as shown in:\n",
            "    https://scikit-learn.org/stable/modules/preprocessing.html\n",
            "Please also refer to the documentation for alternative solver options:\n",
            "    https://scikit-learn.org/stable/modules/linear_model.html#logistic-regression\n",
            "  n_iter_i = _check_optimize_result(\n",
            "/usr/local/lib/python3.10/dist-packages/sklearn/model_selection/_validation.py:778: UserWarning: Scoring failed. The score on this train-test partition for these parameters will be set to nan. Details: \n",
            "Traceback (most recent call last):\n",
            "  File \"/usr/local/lib/python3.10/dist-packages/sklearn/model_selection/_validation.py\", line 767, in _score\n",
            "    scores = scorer(estimator, X_test, y_test)\n",
            "  File \"/usr/local/lib/python3.10/dist-packages/sklearn/metrics/_scorer.py\", line 234, in __call__\n",
            "    return self._score(\n",
            "  File \"/usr/local/lib/python3.10/dist-packages/sklearn/metrics/_scorer.py\", line 367, in _score\n",
            "    raise ValueError(\"{0} format is not supported\".format(y_type))\n",
            "ValueError: multiclass format is not supported\n",
            "\n",
            "  warnings.warn(\n",
            "/usr/local/lib/python3.10/dist-packages/sklearn/linear_model/_logistic.py:458: ConvergenceWarning: lbfgs failed to converge (status=1):\n",
            "STOP: TOTAL NO. of ITERATIONS REACHED LIMIT.\n",
            "\n",
            "Increase the number of iterations (max_iter) or scale the data as shown in:\n",
            "    https://scikit-learn.org/stable/modules/preprocessing.html\n",
            "Please also refer to the documentation for alternative solver options:\n",
            "    https://scikit-learn.org/stable/modules/linear_model.html#logistic-regression\n",
            "  n_iter_i = _check_optimize_result(\n",
            "/usr/local/lib/python3.10/dist-packages/sklearn/model_selection/_validation.py:778: UserWarning: Scoring failed. The score on this train-test partition for these parameters will be set to nan. Details: \n",
            "Traceback (most recent call last):\n",
            "  File \"/usr/local/lib/python3.10/dist-packages/sklearn/model_selection/_validation.py\", line 767, in _score\n",
            "    scores = scorer(estimator, X_test, y_test)\n",
            "  File \"/usr/local/lib/python3.10/dist-packages/sklearn/metrics/_scorer.py\", line 234, in __call__\n",
            "    return self._score(\n",
            "  File \"/usr/local/lib/python3.10/dist-packages/sklearn/metrics/_scorer.py\", line 367, in _score\n",
            "    raise ValueError(\"{0} format is not supported\".format(y_type))\n",
            "ValueError: multiclass format is not supported\n",
            "\n",
            "  warnings.warn(\n",
            "/usr/local/lib/python3.10/dist-packages/sklearn/linear_model/_logistic.py:458: ConvergenceWarning: lbfgs failed to converge (status=1):\n",
            "STOP: TOTAL NO. of ITERATIONS REACHED LIMIT.\n",
            "\n",
            "Increase the number of iterations (max_iter) or scale the data as shown in:\n",
            "    https://scikit-learn.org/stable/modules/preprocessing.html\n",
            "Please also refer to the documentation for alternative solver options:\n",
            "    https://scikit-learn.org/stable/modules/linear_model.html#logistic-regression\n",
            "  n_iter_i = _check_optimize_result(\n",
            "/usr/local/lib/python3.10/dist-packages/sklearn/model_selection/_validation.py:778: UserWarning: Scoring failed. The score on this train-test partition for these parameters will be set to nan. Details: \n",
            "Traceback (most recent call last):\n",
            "  File \"/usr/local/lib/python3.10/dist-packages/sklearn/model_selection/_validation.py\", line 767, in _score\n",
            "    scores = scorer(estimator, X_test, y_test)\n",
            "  File \"/usr/local/lib/python3.10/dist-packages/sklearn/metrics/_scorer.py\", line 234, in __call__\n",
            "    return self._score(\n",
            "  File \"/usr/local/lib/python3.10/dist-packages/sklearn/metrics/_scorer.py\", line 367, in _score\n",
            "    raise ValueError(\"{0} format is not supported\".format(y_type))\n",
            "ValueError: multiclass format is not supported\n",
            "\n",
            "  warnings.warn(\n",
            "/usr/local/lib/python3.10/dist-packages/sklearn/linear_model/_logistic.py:458: ConvergenceWarning: lbfgs failed to converge (status=1):\n",
            "STOP: TOTAL NO. of ITERATIONS REACHED LIMIT.\n",
            "\n",
            "Increase the number of iterations (max_iter) or scale the data as shown in:\n",
            "    https://scikit-learn.org/stable/modules/preprocessing.html\n",
            "Please also refer to the documentation for alternative solver options:\n",
            "    https://scikit-learn.org/stable/modules/linear_model.html#logistic-regression\n",
            "  n_iter_i = _check_optimize_result(\n",
            "/usr/local/lib/python3.10/dist-packages/sklearn/model_selection/_validation.py:778: UserWarning: Scoring failed. The score on this train-test partition for these parameters will be set to nan. Details: \n",
            "Traceback (most recent call last):\n",
            "  File \"/usr/local/lib/python3.10/dist-packages/sklearn/model_selection/_validation.py\", line 767, in _score\n",
            "    scores = scorer(estimator, X_test, y_test)\n",
            "  File \"/usr/local/lib/python3.10/dist-packages/sklearn/metrics/_scorer.py\", line 234, in __call__\n",
            "    return self._score(\n",
            "  File \"/usr/local/lib/python3.10/dist-packages/sklearn/metrics/_scorer.py\", line 367, in _score\n",
            "    raise ValueError(\"{0} format is not supported\".format(y_type))\n",
            "ValueError: multiclass format is not supported\n",
            "\n",
            "  warnings.warn(\n",
            "/usr/local/lib/python3.10/dist-packages/sklearn/linear_model/_logistic.py:458: ConvergenceWarning: lbfgs failed to converge (status=1):\n",
            "STOP: TOTAL NO. of ITERATIONS REACHED LIMIT.\n",
            "\n",
            "Increase the number of iterations (max_iter) or scale the data as shown in:\n",
            "    https://scikit-learn.org/stable/modules/preprocessing.html\n",
            "Please also refer to the documentation for alternative solver options:\n",
            "    https://scikit-learn.org/stable/modules/linear_model.html#logistic-regression\n",
            "  n_iter_i = _check_optimize_result(\n",
            "/usr/local/lib/python3.10/dist-packages/sklearn/model_selection/_validation.py:778: UserWarning: Scoring failed. The score on this train-test partition for these parameters will be set to nan. Details: \n",
            "Traceback (most recent call last):\n",
            "  File \"/usr/local/lib/python3.10/dist-packages/sklearn/model_selection/_validation.py\", line 767, in _score\n",
            "    scores = scorer(estimator, X_test, y_test)\n",
            "  File \"/usr/local/lib/python3.10/dist-packages/sklearn/metrics/_scorer.py\", line 234, in __call__\n",
            "    return self._score(\n",
            "  File \"/usr/local/lib/python3.10/dist-packages/sklearn/metrics/_scorer.py\", line 367, in _score\n",
            "    raise ValueError(\"{0} format is not supported\".format(y_type))\n",
            "ValueError: multiclass format is not supported\n",
            "\n",
            "  warnings.warn(\n",
            "/usr/local/lib/python3.10/dist-packages/sklearn/linear_model/_logistic.py:458: ConvergenceWarning: lbfgs failed to converge (status=1):\n",
            "STOP: TOTAL NO. of ITERATIONS REACHED LIMIT.\n",
            "\n",
            "Increase the number of iterations (max_iter) or scale the data as shown in:\n",
            "    https://scikit-learn.org/stable/modules/preprocessing.html\n",
            "Please also refer to the documentation for alternative solver options:\n",
            "    https://scikit-learn.org/stable/modules/linear_model.html#logistic-regression\n",
            "  n_iter_i = _check_optimize_result(\n",
            "/usr/local/lib/python3.10/dist-packages/sklearn/model_selection/_validation.py:778: UserWarning: Scoring failed. The score on this train-test partition for these parameters will be set to nan. Details: \n",
            "Traceback (most recent call last):\n",
            "  File \"/usr/local/lib/python3.10/dist-packages/sklearn/model_selection/_validation.py\", line 767, in _score\n",
            "    scores = scorer(estimator, X_test, y_test)\n",
            "  File \"/usr/local/lib/python3.10/dist-packages/sklearn/metrics/_scorer.py\", line 234, in __call__\n",
            "    return self._score(\n",
            "  File \"/usr/local/lib/python3.10/dist-packages/sklearn/metrics/_scorer.py\", line 367, in _score\n",
            "    raise ValueError(\"{0} format is not supported\".format(y_type))\n",
            "ValueError: multiclass format is not supported\n",
            "\n",
            "  warnings.warn(\n",
            "/usr/local/lib/python3.10/dist-packages/sklearn/linear_model/_logistic.py:458: ConvergenceWarning: lbfgs failed to converge (status=1):\n",
            "STOP: TOTAL NO. of ITERATIONS REACHED LIMIT.\n",
            "\n",
            "Increase the number of iterations (max_iter) or scale the data as shown in:\n",
            "    https://scikit-learn.org/stable/modules/preprocessing.html\n",
            "Please also refer to the documentation for alternative solver options:\n",
            "    https://scikit-learn.org/stable/modules/linear_model.html#logistic-regression\n",
            "  n_iter_i = _check_optimize_result(\n",
            "/usr/local/lib/python3.10/dist-packages/sklearn/model_selection/_validation.py:778: UserWarning: Scoring failed. The score on this train-test partition for these parameters will be set to nan. Details: \n",
            "Traceback (most recent call last):\n",
            "  File \"/usr/local/lib/python3.10/dist-packages/sklearn/model_selection/_validation.py\", line 767, in _score\n",
            "    scores = scorer(estimator, X_test, y_test)\n",
            "  File \"/usr/local/lib/python3.10/dist-packages/sklearn/metrics/_scorer.py\", line 234, in __call__\n",
            "    return self._score(\n",
            "  File \"/usr/local/lib/python3.10/dist-packages/sklearn/metrics/_scorer.py\", line 367, in _score\n",
            "    raise ValueError(\"{0} format is not supported\".format(y_type))\n",
            "ValueError: multiclass format is not supported\n",
            "\n",
            "  warnings.warn(\n",
            "/usr/local/lib/python3.10/dist-packages/sklearn/linear_model/_logistic.py:458: ConvergenceWarning: lbfgs failed to converge (status=1):\n",
            "STOP: TOTAL NO. of ITERATIONS REACHED LIMIT.\n",
            "\n",
            "Increase the number of iterations (max_iter) or scale the data as shown in:\n",
            "    https://scikit-learn.org/stable/modules/preprocessing.html\n",
            "Please also refer to the documentation for alternative solver options:\n",
            "    https://scikit-learn.org/stable/modules/linear_model.html#logistic-regression\n",
            "  n_iter_i = _check_optimize_result(\n",
            "/usr/local/lib/python3.10/dist-packages/sklearn/model_selection/_validation.py:778: UserWarning: Scoring failed. The score on this train-test partition for these parameters will be set to nan. Details: \n",
            "Traceback (most recent call last):\n",
            "  File \"/usr/local/lib/python3.10/dist-packages/sklearn/model_selection/_validation.py\", line 767, in _score\n",
            "    scores = scorer(estimator, X_test, y_test)\n",
            "  File \"/usr/local/lib/python3.10/dist-packages/sklearn/metrics/_scorer.py\", line 234, in __call__\n",
            "    return self._score(\n",
            "  File \"/usr/local/lib/python3.10/dist-packages/sklearn/metrics/_scorer.py\", line 367, in _score\n",
            "    raise ValueError(\"{0} format is not supported\".format(y_type))\n",
            "ValueError: multiclass format is not supported\n",
            "\n",
            "  warnings.warn(\n",
            "/usr/local/lib/python3.10/dist-packages/sklearn/linear_model/_logistic.py:458: ConvergenceWarning: lbfgs failed to converge (status=1):\n",
            "STOP: TOTAL NO. of ITERATIONS REACHED LIMIT.\n",
            "\n",
            "Increase the number of iterations (max_iter) or scale the data as shown in:\n",
            "    https://scikit-learn.org/stable/modules/preprocessing.html\n",
            "Please also refer to the documentation for alternative solver options:\n",
            "    https://scikit-learn.org/stable/modules/linear_model.html#logistic-regression\n",
            "  n_iter_i = _check_optimize_result(\n",
            "/usr/local/lib/python3.10/dist-packages/sklearn/model_selection/_validation.py:778: UserWarning: Scoring failed. The score on this train-test partition for these parameters will be set to nan. Details: \n",
            "Traceback (most recent call last):\n",
            "  File \"/usr/local/lib/python3.10/dist-packages/sklearn/model_selection/_validation.py\", line 767, in _score\n",
            "    scores = scorer(estimator, X_test, y_test)\n",
            "  File \"/usr/local/lib/python3.10/dist-packages/sklearn/metrics/_scorer.py\", line 234, in __call__\n",
            "    return self._score(\n",
            "  File \"/usr/local/lib/python3.10/dist-packages/sklearn/metrics/_scorer.py\", line 367, in _score\n",
            "    raise ValueError(\"{0} format is not supported\".format(y_type))\n",
            "ValueError: multiclass format is not supported\n",
            "\n",
            "  warnings.warn(\n",
            "/usr/local/lib/python3.10/dist-packages/sklearn/linear_model/_logistic.py:458: ConvergenceWarning: lbfgs failed to converge (status=1):\n",
            "STOP: TOTAL NO. of ITERATIONS REACHED LIMIT.\n",
            "\n",
            "Increase the number of iterations (max_iter) or scale the data as shown in:\n",
            "    https://scikit-learn.org/stable/modules/preprocessing.html\n",
            "Please also refer to the documentation for alternative solver options:\n",
            "    https://scikit-learn.org/stable/modules/linear_model.html#logistic-regression\n",
            "  n_iter_i = _check_optimize_result(\n",
            "/usr/local/lib/python3.10/dist-packages/sklearn/model_selection/_validation.py:778: UserWarning: Scoring failed. The score on this train-test partition for these parameters will be set to nan. Details: \n",
            "Traceback (most recent call last):\n",
            "  File \"/usr/local/lib/python3.10/dist-packages/sklearn/model_selection/_validation.py\", line 767, in _score\n",
            "    scores = scorer(estimator, X_test, y_test)\n",
            "  File \"/usr/local/lib/python3.10/dist-packages/sklearn/metrics/_scorer.py\", line 234, in __call__\n",
            "    return self._score(\n",
            "  File \"/usr/local/lib/python3.10/dist-packages/sklearn/metrics/_scorer.py\", line 367, in _score\n",
            "    raise ValueError(\"{0} format is not supported\".format(y_type))\n",
            "ValueError: multiclass format is not supported\n",
            "\n",
            "  warnings.warn(\n",
            "/usr/local/lib/python3.10/dist-packages/sklearn/linear_model/_logistic.py:458: ConvergenceWarning: lbfgs failed to converge (status=1):\n",
            "STOP: TOTAL NO. of ITERATIONS REACHED LIMIT.\n",
            "\n",
            "Increase the number of iterations (max_iter) or scale the data as shown in:\n",
            "    https://scikit-learn.org/stable/modules/preprocessing.html\n",
            "Please also refer to the documentation for alternative solver options:\n",
            "    https://scikit-learn.org/stable/modules/linear_model.html#logistic-regression\n",
            "  n_iter_i = _check_optimize_result(\n",
            "/usr/local/lib/python3.10/dist-packages/sklearn/model_selection/_validation.py:778: UserWarning: Scoring failed. The score on this train-test partition for these parameters will be set to nan. Details: \n",
            "Traceback (most recent call last):\n",
            "  File \"/usr/local/lib/python3.10/dist-packages/sklearn/model_selection/_validation.py\", line 767, in _score\n",
            "    scores = scorer(estimator, X_test, y_test)\n",
            "  File \"/usr/local/lib/python3.10/dist-packages/sklearn/metrics/_scorer.py\", line 234, in __call__\n",
            "    return self._score(\n",
            "  File \"/usr/local/lib/python3.10/dist-packages/sklearn/metrics/_scorer.py\", line 367, in _score\n",
            "    raise ValueError(\"{0} format is not supported\".format(y_type))\n",
            "ValueError: multiclass format is not supported\n",
            "\n",
            "  warnings.warn(\n",
            "/usr/local/lib/python3.10/dist-packages/sklearn/linear_model/_logistic.py:458: ConvergenceWarning: lbfgs failed to converge (status=1):\n",
            "STOP: TOTAL NO. of ITERATIONS REACHED LIMIT.\n",
            "\n",
            "Increase the number of iterations (max_iter) or scale the data as shown in:\n",
            "    https://scikit-learn.org/stable/modules/preprocessing.html\n",
            "Please also refer to the documentation for alternative solver options:\n",
            "    https://scikit-learn.org/stable/modules/linear_model.html#logistic-regression\n",
            "  n_iter_i = _check_optimize_result(\n",
            "/usr/local/lib/python3.10/dist-packages/sklearn/model_selection/_validation.py:778: UserWarning: Scoring failed. The score on this train-test partition for these parameters will be set to nan. Details: \n",
            "Traceback (most recent call last):\n",
            "  File \"/usr/local/lib/python3.10/dist-packages/sklearn/model_selection/_validation.py\", line 767, in _score\n",
            "    scores = scorer(estimator, X_test, y_test)\n",
            "  File \"/usr/local/lib/python3.10/dist-packages/sklearn/metrics/_scorer.py\", line 234, in __call__\n",
            "    return self._score(\n",
            "  File \"/usr/local/lib/python3.10/dist-packages/sklearn/metrics/_scorer.py\", line 367, in _score\n",
            "    raise ValueError(\"{0} format is not supported\".format(y_type))\n",
            "ValueError: multiclass format is not supported\n",
            "\n",
            "  warnings.warn(\n",
            "/usr/local/lib/python3.10/dist-packages/sklearn/linear_model/_logistic.py:458: ConvergenceWarning: lbfgs failed to converge (status=1):\n",
            "STOP: TOTAL NO. of ITERATIONS REACHED LIMIT.\n",
            "\n",
            "Increase the number of iterations (max_iter) or scale the data as shown in:\n",
            "    https://scikit-learn.org/stable/modules/preprocessing.html\n",
            "Please also refer to the documentation for alternative solver options:\n",
            "    https://scikit-learn.org/stable/modules/linear_model.html#logistic-regression\n",
            "  n_iter_i = _check_optimize_result(\n",
            "/usr/local/lib/python3.10/dist-packages/sklearn/model_selection/_validation.py:778: UserWarning: Scoring failed. The score on this train-test partition for these parameters will be set to nan. Details: \n",
            "Traceback (most recent call last):\n",
            "  File \"/usr/local/lib/python3.10/dist-packages/sklearn/model_selection/_validation.py\", line 767, in _score\n",
            "    scores = scorer(estimator, X_test, y_test)\n",
            "  File \"/usr/local/lib/python3.10/dist-packages/sklearn/metrics/_scorer.py\", line 234, in __call__\n",
            "    return self._score(\n",
            "  File \"/usr/local/lib/python3.10/dist-packages/sklearn/metrics/_scorer.py\", line 367, in _score\n",
            "    raise ValueError(\"{0} format is not supported\".format(y_type))\n",
            "ValueError: multiclass format is not supported\n",
            "\n",
            "  warnings.warn(\n",
            "/usr/local/lib/python3.10/dist-packages/sklearn/linear_model/_logistic.py:458: ConvergenceWarning: lbfgs failed to converge (status=1):\n",
            "STOP: TOTAL NO. of ITERATIONS REACHED LIMIT.\n",
            "\n",
            "Increase the number of iterations (max_iter) or scale the data as shown in:\n",
            "    https://scikit-learn.org/stable/modules/preprocessing.html\n",
            "Please also refer to the documentation for alternative solver options:\n",
            "    https://scikit-learn.org/stable/modules/linear_model.html#logistic-regression\n",
            "  n_iter_i = _check_optimize_result(\n",
            "/usr/local/lib/python3.10/dist-packages/sklearn/model_selection/_validation.py:778: UserWarning: Scoring failed. The score on this train-test partition for these parameters will be set to nan. Details: \n",
            "Traceback (most recent call last):\n",
            "  File \"/usr/local/lib/python3.10/dist-packages/sklearn/model_selection/_validation.py\", line 767, in _score\n",
            "    scores = scorer(estimator, X_test, y_test)\n",
            "  File \"/usr/local/lib/python3.10/dist-packages/sklearn/metrics/_scorer.py\", line 234, in __call__\n",
            "    return self._score(\n",
            "  File \"/usr/local/lib/python3.10/dist-packages/sklearn/metrics/_scorer.py\", line 367, in _score\n",
            "    raise ValueError(\"{0} format is not supported\".format(y_type))\n",
            "ValueError: multiclass format is not supported\n",
            "\n",
            "  warnings.warn(\n",
            "/usr/local/lib/python3.10/dist-packages/sklearn/linear_model/_logistic.py:458: ConvergenceWarning: lbfgs failed to converge (status=1):\n",
            "STOP: TOTAL NO. of ITERATIONS REACHED LIMIT.\n",
            "\n",
            "Increase the number of iterations (max_iter) or scale the data as shown in:\n",
            "    https://scikit-learn.org/stable/modules/preprocessing.html\n",
            "Please also refer to the documentation for alternative solver options:\n",
            "    https://scikit-learn.org/stable/modules/linear_model.html#logistic-regression\n",
            "  n_iter_i = _check_optimize_result(\n",
            "/usr/local/lib/python3.10/dist-packages/sklearn/model_selection/_validation.py:778: UserWarning: Scoring failed. The score on this train-test partition for these parameters will be set to nan. Details: \n",
            "Traceback (most recent call last):\n",
            "  File \"/usr/local/lib/python3.10/dist-packages/sklearn/model_selection/_validation.py\", line 767, in _score\n",
            "    scores = scorer(estimator, X_test, y_test)\n",
            "  File \"/usr/local/lib/python3.10/dist-packages/sklearn/metrics/_scorer.py\", line 234, in __call__\n",
            "    return self._score(\n",
            "  File \"/usr/local/lib/python3.10/dist-packages/sklearn/metrics/_scorer.py\", line 367, in _score\n",
            "    raise ValueError(\"{0} format is not supported\".format(y_type))\n",
            "ValueError: multiclass format is not supported\n",
            "\n",
            "  warnings.warn(\n",
            "/usr/local/lib/python3.10/dist-packages/sklearn/linear_model/_logistic.py:458: ConvergenceWarning: lbfgs failed to converge (status=1):\n",
            "STOP: TOTAL NO. of ITERATIONS REACHED LIMIT.\n",
            "\n",
            "Increase the number of iterations (max_iter) or scale the data as shown in:\n",
            "    https://scikit-learn.org/stable/modules/preprocessing.html\n",
            "Please also refer to the documentation for alternative solver options:\n",
            "    https://scikit-learn.org/stable/modules/linear_model.html#logistic-regression\n",
            "  n_iter_i = _check_optimize_result(\n",
            "/usr/local/lib/python3.10/dist-packages/sklearn/model_selection/_validation.py:778: UserWarning: Scoring failed. The score on this train-test partition for these parameters will be set to nan. Details: \n",
            "Traceback (most recent call last):\n",
            "  File \"/usr/local/lib/python3.10/dist-packages/sklearn/model_selection/_validation.py\", line 767, in _score\n",
            "    scores = scorer(estimator, X_test, y_test)\n",
            "  File \"/usr/local/lib/python3.10/dist-packages/sklearn/metrics/_scorer.py\", line 234, in __call__\n",
            "    return self._score(\n",
            "  File \"/usr/local/lib/python3.10/dist-packages/sklearn/metrics/_scorer.py\", line 367, in _score\n",
            "    raise ValueError(\"{0} format is not supported\".format(y_type))\n",
            "ValueError: multiclass format is not supported\n",
            "\n",
            "  warnings.warn(\n",
            "/usr/local/lib/python3.10/dist-packages/sklearn/linear_model/_logistic.py:458: ConvergenceWarning: lbfgs failed to converge (status=1):\n",
            "STOP: TOTAL NO. of ITERATIONS REACHED LIMIT.\n",
            "\n",
            "Increase the number of iterations (max_iter) or scale the data as shown in:\n",
            "    https://scikit-learn.org/stable/modules/preprocessing.html\n",
            "Please also refer to the documentation for alternative solver options:\n",
            "    https://scikit-learn.org/stable/modules/linear_model.html#logistic-regression\n",
            "  n_iter_i = _check_optimize_result(\n",
            "/usr/local/lib/python3.10/dist-packages/sklearn/model_selection/_validation.py:778: UserWarning: Scoring failed. The score on this train-test partition for these parameters will be set to nan. Details: \n",
            "Traceback (most recent call last):\n",
            "  File \"/usr/local/lib/python3.10/dist-packages/sklearn/model_selection/_validation.py\", line 767, in _score\n",
            "    scores = scorer(estimator, X_test, y_test)\n",
            "  File \"/usr/local/lib/python3.10/dist-packages/sklearn/metrics/_scorer.py\", line 234, in __call__\n",
            "    return self._score(\n",
            "  File \"/usr/local/lib/python3.10/dist-packages/sklearn/metrics/_scorer.py\", line 367, in _score\n",
            "    raise ValueError(\"{0} format is not supported\".format(y_type))\n",
            "ValueError: multiclass format is not supported\n",
            "\n",
            "  warnings.warn(\n",
            "/usr/local/lib/python3.10/dist-packages/sklearn/linear_model/_logistic.py:458: ConvergenceWarning: lbfgs failed to converge (status=1):\n",
            "STOP: TOTAL NO. of ITERATIONS REACHED LIMIT.\n",
            "\n",
            "Increase the number of iterations (max_iter) or scale the data as shown in:\n",
            "    https://scikit-learn.org/stable/modules/preprocessing.html\n",
            "Please also refer to the documentation for alternative solver options:\n",
            "    https://scikit-learn.org/stable/modules/linear_model.html#logistic-regression\n",
            "  n_iter_i = _check_optimize_result(\n",
            "/usr/local/lib/python3.10/dist-packages/sklearn/model_selection/_validation.py:778: UserWarning: Scoring failed. The score on this train-test partition for these parameters will be set to nan. Details: \n",
            "Traceback (most recent call last):\n",
            "  File \"/usr/local/lib/python3.10/dist-packages/sklearn/model_selection/_validation.py\", line 767, in _score\n",
            "    scores = scorer(estimator, X_test, y_test)\n",
            "  File \"/usr/local/lib/python3.10/dist-packages/sklearn/metrics/_scorer.py\", line 234, in __call__\n",
            "    return self._score(\n",
            "  File \"/usr/local/lib/python3.10/dist-packages/sklearn/metrics/_scorer.py\", line 367, in _score\n",
            "    raise ValueError(\"{0} format is not supported\".format(y_type))\n",
            "ValueError: multiclass format is not supported\n",
            "\n",
            "  warnings.warn(\n",
            "/usr/local/lib/python3.10/dist-packages/sklearn/linear_model/_logistic.py:458: ConvergenceWarning: lbfgs failed to converge (status=1):\n",
            "STOP: TOTAL NO. of ITERATIONS REACHED LIMIT.\n",
            "\n",
            "Increase the number of iterations (max_iter) or scale the data as shown in:\n",
            "    https://scikit-learn.org/stable/modules/preprocessing.html\n",
            "Please also refer to the documentation for alternative solver options:\n",
            "    https://scikit-learn.org/stable/modules/linear_model.html#logistic-regression\n",
            "  n_iter_i = _check_optimize_result(\n",
            "/usr/local/lib/python3.10/dist-packages/sklearn/model_selection/_validation.py:778: UserWarning: Scoring failed. The score on this train-test partition for these parameters will be set to nan. Details: \n",
            "Traceback (most recent call last):\n",
            "  File \"/usr/local/lib/python3.10/dist-packages/sklearn/model_selection/_validation.py\", line 767, in _score\n",
            "    scores = scorer(estimator, X_test, y_test)\n",
            "  File \"/usr/local/lib/python3.10/dist-packages/sklearn/metrics/_scorer.py\", line 234, in __call__\n",
            "    return self._score(\n",
            "  File \"/usr/local/lib/python3.10/dist-packages/sklearn/metrics/_scorer.py\", line 367, in _score\n",
            "    raise ValueError(\"{0} format is not supported\".format(y_type))\n",
            "ValueError: multiclass format is not supported\n",
            "\n",
            "  warnings.warn(\n",
            "/usr/local/lib/python3.10/dist-packages/sklearn/linear_model/_logistic.py:458: ConvergenceWarning: lbfgs failed to converge (status=1):\n",
            "STOP: TOTAL NO. of ITERATIONS REACHED LIMIT.\n",
            "\n",
            "Increase the number of iterations (max_iter) or scale the data as shown in:\n",
            "    https://scikit-learn.org/stable/modules/preprocessing.html\n",
            "Please also refer to the documentation for alternative solver options:\n",
            "    https://scikit-learn.org/stable/modules/linear_model.html#logistic-regression\n",
            "  n_iter_i = _check_optimize_result(\n",
            "/usr/local/lib/python3.10/dist-packages/sklearn/model_selection/_validation.py:778: UserWarning: Scoring failed. The score on this train-test partition for these parameters will be set to nan. Details: \n",
            "Traceback (most recent call last):\n",
            "  File \"/usr/local/lib/python3.10/dist-packages/sklearn/model_selection/_validation.py\", line 767, in _score\n",
            "    scores = scorer(estimator, X_test, y_test)\n",
            "  File \"/usr/local/lib/python3.10/dist-packages/sklearn/metrics/_scorer.py\", line 234, in __call__\n",
            "    return self._score(\n",
            "  File \"/usr/local/lib/python3.10/dist-packages/sklearn/metrics/_scorer.py\", line 367, in _score\n",
            "    raise ValueError(\"{0} format is not supported\".format(y_type))\n",
            "ValueError: multiclass format is not supported\n",
            "\n",
            "  warnings.warn(\n",
            "/usr/local/lib/python3.10/dist-packages/sklearn/linear_model/_logistic.py:458: ConvergenceWarning: lbfgs failed to converge (status=1):\n",
            "STOP: TOTAL NO. of ITERATIONS REACHED LIMIT.\n",
            "\n",
            "Increase the number of iterations (max_iter) or scale the data as shown in:\n",
            "    https://scikit-learn.org/stable/modules/preprocessing.html\n",
            "Please also refer to the documentation for alternative solver options:\n",
            "    https://scikit-learn.org/stable/modules/linear_model.html#logistic-regression\n",
            "  n_iter_i = _check_optimize_result(\n",
            "/usr/local/lib/python3.10/dist-packages/sklearn/model_selection/_validation.py:778: UserWarning: Scoring failed. The score on this train-test partition for these parameters will be set to nan. Details: \n",
            "Traceback (most recent call last):\n",
            "  File \"/usr/local/lib/python3.10/dist-packages/sklearn/model_selection/_validation.py\", line 767, in _score\n",
            "    scores = scorer(estimator, X_test, y_test)\n",
            "  File \"/usr/local/lib/python3.10/dist-packages/sklearn/metrics/_scorer.py\", line 234, in __call__\n",
            "    return self._score(\n",
            "  File \"/usr/local/lib/python3.10/dist-packages/sklearn/metrics/_scorer.py\", line 367, in _score\n",
            "    raise ValueError(\"{0} format is not supported\".format(y_type))\n",
            "ValueError: multiclass format is not supported\n",
            "\n",
            "  warnings.warn(\n",
            "/usr/local/lib/python3.10/dist-packages/sklearn/linear_model/_logistic.py:458: ConvergenceWarning: lbfgs failed to converge (status=1):\n",
            "STOP: TOTAL NO. of ITERATIONS REACHED LIMIT.\n",
            "\n",
            "Increase the number of iterations (max_iter) or scale the data as shown in:\n",
            "    https://scikit-learn.org/stable/modules/preprocessing.html\n",
            "Please also refer to the documentation for alternative solver options:\n",
            "    https://scikit-learn.org/stable/modules/linear_model.html#logistic-regression\n",
            "  n_iter_i = _check_optimize_result(\n",
            "/usr/local/lib/python3.10/dist-packages/sklearn/model_selection/_validation.py:778: UserWarning: Scoring failed. The score on this train-test partition for these parameters will be set to nan. Details: \n",
            "Traceback (most recent call last):\n",
            "  File \"/usr/local/lib/python3.10/dist-packages/sklearn/model_selection/_validation.py\", line 767, in _score\n",
            "    scores = scorer(estimator, X_test, y_test)\n",
            "  File \"/usr/local/lib/python3.10/dist-packages/sklearn/metrics/_scorer.py\", line 234, in __call__\n",
            "    return self._score(\n",
            "  File \"/usr/local/lib/python3.10/dist-packages/sklearn/metrics/_scorer.py\", line 367, in _score\n",
            "    raise ValueError(\"{0} format is not supported\".format(y_type))\n",
            "ValueError: multiclass format is not supported\n",
            "\n",
            "  warnings.warn(\n",
            "/usr/local/lib/python3.10/dist-packages/sklearn/linear_model/_logistic.py:458: ConvergenceWarning: lbfgs failed to converge (status=1):\n",
            "STOP: TOTAL NO. of ITERATIONS REACHED LIMIT.\n",
            "\n",
            "Increase the number of iterations (max_iter) or scale the data as shown in:\n",
            "    https://scikit-learn.org/stable/modules/preprocessing.html\n",
            "Please also refer to the documentation for alternative solver options:\n",
            "    https://scikit-learn.org/stable/modules/linear_model.html#logistic-regression\n",
            "  n_iter_i = _check_optimize_result(\n",
            "/usr/local/lib/python3.10/dist-packages/sklearn/model_selection/_validation.py:778: UserWarning: Scoring failed. The score on this train-test partition for these parameters will be set to nan. Details: \n",
            "Traceback (most recent call last):\n",
            "  File \"/usr/local/lib/python3.10/dist-packages/sklearn/model_selection/_validation.py\", line 767, in _score\n",
            "    scores = scorer(estimator, X_test, y_test)\n",
            "  File \"/usr/local/lib/python3.10/dist-packages/sklearn/metrics/_scorer.py\", line 234, in __call__\n",
            "    return self._score(\n",
            "  File \"/usr/local/lib/python3.10/dist-packages/sklearn/metrics/_scorer.py\", line 367, in _score\n",
            "    raise ValueError(\"{0} format is not supported\".format(y_type))\n",
            "ValueError: multiclass format is not supported\n",
            "\n",
            "  warnings.warn(\n",
            "/usr/local/lib/python3.10/dist-packages/sklearn/linear_model/_logistic.py:458: ConvergenceWarning: lbfgs failed to converge (status=1):\n",
            "STOP: TOTAL NO. of ITERATIONS REACHED LIMIT.\n",
            "\n",
            "Increase the number of iterations (max_iter) or scale the data as shown in:\n",
            "    https://scikit-learn.org/stable/modules/preprocessing.html\n",
            "Please also refer to the documentation for alternative solver options:\n",
            "    https://scikit-learn.org/stable/modules/linear_model.html#logistic-regression\n",
            "  n_iter_i = _check_optimize_result(\n",
            "/usr/local/lib/python3.10/dist-packages/sklearn/model_selection/_validation.py:778: UserWarning: Scoring failed. The score on this train-test partition for these parameters will be set to nan. Details: \n",
            "Traceback (most recent call last):\n",
            "  File \"/usr/local/lib/python3.10/dist-packages/sklearn/model_selection/_validation.py\", line 767, in _score\n",
            "    scores = scorer(estimator, X_test, y_test)\n",
            "  File \"/usr/local/lib/python3.10/dist-packages/sklearn/metrics/_scorer.py\", line 234, in __call__\n",
            "    return self._score(\n",
            "  File \"/usr/local/lib/python3.10/dist-packages/sklearn/metrics/_scorer.py\", line 367, in _score\n",
            "    raise ValueError(\"{0} format is not supported\".format(y_type))\n",
            "ValueError: multiclass format is not supported\n",
            "\n",
            "  warnings.warn(\n",
            "/usr/local/lib/python3.10/dist-packages/sklearn/linear_model/_logistic.py:458: ConvergenceWarning: lbfgs failed to converge (status=1):\n",
            "STOP: TOTAL NO. of ITERATIONS REACHED LIMIT.\n",
            "\n",
            "Increase the number of iterations (max_iter) or scale the data as shown in:\n",
            "    https://scikit-learn.org/stable/modules/preprocessing.html\n",
            "Please also refer to the documentation for alternative solver options:\n",
            "    https://scikit-learn.org/stable/modules/linear_model.html#logistic-regression\n",
            "  n_iter_i = _check_optimize_result(\n",
            "/usr/local/lib/python3.10/dist-packages/sklearn/model_selection/_validation.py:778: UserWarning: Scoring failed. The score on this train-test partition for these parameters will be set to nan. Details: \n",
            "Traceback (most recent call last):\n",
            "  File \"/usr/local/lib/python3.10/dist-packages/sklearn/model_selection/_validation.py\", line 767, in _score\n",
            "    scores = scorer(estimator, X_test, y_test)\n",
            "  File \"/usr/local/lib/python3.10/dist-packages/sklearn/metrics/_scorer.py\", line 234, in __call__\n",
            "    return self._score(\n",
            "  File \"/usr/local/lib/python3.10/dist-packages/sklearn/metrics/_scorer.py\", line 367, in _score\n",
            "    raise ValueError(\"{0} format is not supported\".format(y_type))\n",
            "ValueError: multiclass format is not supported\n",
            "\n",
            "  warnings.warn(\n",
            "/usr/local/lib/python3.10/dist-packages/sklearn/linear_model/_logistic.py:458: ConvergenceWarning: lbfgs failed to converge (status=1):\n",
            "STOP: TOTAL NO. of ITERATIONS REACHED LIMIT.\n",
            "\n",
            "Increase the number of iterations (max_iter) or scale the data as shown in:\n",
            "    https://scikit-learn.org/stable/modules/preprocessing.html\n",
            "Please also refer to the documentation for alternative solver options:\n",
            "    https://scikit-learn.org/stable/modules/linear_model.html#logistic-regression\n",
            "  n_iter_i = _check_optimize_result(\n",
            "/usr/local/lib/python3.10/dist-packages/sklearn/model_selection/_validation.py:778: UserWarning: Scoring failed. The score on this train-test partition for these parameters will be set to nan. Details: \n",
            "Traceback (most recent call last):\n",
            "  File \"/usr/local/lib/python3.10/dist-packages/sklearn/model_selection/_validation.py\", line 767, in _score\n",
            "    scores = scorer(estimator, X_test, y_test)\n",
            "  File \"/usr/local/lib/python3.10/dist-packages/sklearn/metrics/_scorer.py\", line 234, in __call__\n",
            "    return self._score(\n",
            "  File \"/usr/local/lib/python3.10/dist-packages/sklearn/metrics/_scorer.py\", line 367, in _score\n",
            "    raise ValueError(\"{0} format is not supported\".format(y_type))\n",
            "ValueError: multiclass format is not supported\n",
            "\n",
            "  warnings.warn(\n",
            "/usr/local/lib/python3.10/dist-packages/sklearn/linear_model/_logistic.py:458: ConvergenceWarning: lbfgs failed to converge (status=1):\n",
            "STOP: TOTAL NO. of ITERATIONS REACHED LIMIT.\n",
            "\n",
            "Increase the number of iterations (max_iter) or scale the data as shown in:\n",
            "    https://scikit-learn.org/stable/modules/preprocessing.html\n",
            "Please also refer to the documentation for alternative solver options:\n",
            "    https://scikit-learn.org/stable/modules/linear_model.html#logistic-regression\n",
            "  n_iter_i = _check_optimize_result(\n",
            "/usr/local/lib/python3.10/dist-packages/sklearn/model_selection/_validation.py:778: UserWarning: Scoring failed. The score on this train-test partition for these parameters will be set to nan. Details: \n",
            "Traceback (most recent call last):\n",
            "  File \"/usr/local/lib/python3.10/dist-packages/sklearn/model_selection/_validation.py\", line 767, in _score\n",
            "    scores = scorer(estimator, X_test, y_test)\n",
            "  File \"/usr/local/lib/python3.10/dist-packages/sklearn/metrics/_scorer.py\", line 234, in __call__\n",
            "    return self._score(\n",
            "  File \"/usr/local/lib/python3.10/dist-packages/sklearn/metrics/_scorer.py\", line 367, in _score\n",
            "    raise ValueError(\"{0} format is not supported\".format(y_type))\n",
            "ValueError: multiclass format is not supported\n",
            "\n",
            "  warnings.warn(\n",
            "/usr/local/lib/python3.10/dist-packages/sklearn/linear_model/_logistic.py:458: ConvergenceWarning: lbfgs failed to converge (status=1):\n",
            "STOP: TOTAL NO. of ITERATIONS REACHED LIMIT.\n",
            "\n",
            "Increase the number of iterations (max_iter) or scale the data as shown in:\n",
            "    https://scikit-learn.org/stable/modules/preprocessing.html\n",
            "Please also refer to the documentation for alternative solver options:\n",
            "    https://scikit-learn.org/stable/modules/linear_model.html#logistic-regression\n",
            "  n_iter_i = _check_optimize_result(\n",
            "/usr/local/lib/python3.10/dist-packages/sklearn/model_selection/_validation.py:778: UserWarning: Scoring failed. The score on this train-test partition for these parameters will be set to nan. Details: \n",
            "Traceback (most recent call last):\n",
            "  File \"/usr/local/lib/python3.10/dist-packages/sklearn/model_selection/_validation.py\", line 767, in _score\n",
            "    scores = scorer(estimator, X_test, y_test)\n",
            "  File \"/usr/local/lib/python3.10/dist-packages/sklearn/metrics/_scorer.py\", line 234, in __call__\n",
            "    return self._score(\n",
            "  File \"/usr/local/lib/python3.10/dist-packages/sklearn/metrics/_scorer.py\", line 367, in _score\n",
            "    raise ValueError(\"{0} format is not supported\".format(y_type))\n",
            "ValueError: multiclass format is not supported\n",
            "\n",
            "  warnings.warn(\n",
            "/usr/local/lib/python3.10/dist-packages/sklearn/linear_model/_logistic.py:458: ConvergenceWarning: lbfgs failed to converge (status=1):\n",
            "STOP: TOTAL NO. of ITERATIONS REACHED LIMIT.\n",
            "\n",
            "Increase the number of iterations (max_iter) or scale the data as shown in:\n",
            "    https://scikit-learn.org/stable/modules/preprocessing.html\n",
            "Please also refer to the documentation for alternative solver options:\n",
            "    https://scikit-learn.org/stable/modules/linear_model.html#logistic-regression\n",
            "  n_iter_i = _check_optimize_result(\n",
            "/usr/local/lib/python3.10/dist-packages/sklearn/model_selection/_validation.py:778: UserWarning: Scoring failed. The score on this train-test partition for these parameters will be set to nan. Details: \n",
            "Traceback (most recent call last):\n",
            "  File \"/usr/local/lib/python3.10/dist-packages/sklearn/model_selection/_validation.py\", line 767, in _score\n",
            "    scores = scorer(estimator, X_test, y_test)\n",
            "  File \"/usr/local/lib/python3.10/dist-packages/sklearn/metrics/_scorer.py\", line 234, in __call__\n",
            "    return self._score(\n",
            "  File \"/usr/local/lib/python3.10/dist-packages/sklearn/metrics/_scorer.py\", line 367, in _score\n",
            "    raise ValueError(\"{0} format is not supported\".format(y_type))\n",
            "ValueError: multiclass format is not supported\n",
            "\n",
            "  warnings.warn(\n",
            "/usr/local/lib/python3.10/dist-packages/sklearn/linear_model/_logistic.py:458: ConvergenceWarning: lbfgs failed to converge (status=1):\n",
            "STOP: TOTAL NO. of ITERATIONS REACHED LIMIT.\n",
            "\n",
            "Increase the number of iterations (max_iter) or scale the data as shown in:\n",
            "    https://scikit-learn.org/stable/modules/preprocessing.html\n",
            "Please also refer to the documentation for alternative solver options:\n",
            "    https://scikit-learn.org/stable/modules/linear_model.html#logistic-regression\n",
            "  n_iter_i = _check_optimize_result(\n",
            "/usr/local/lib/python3.10/dist-packages/sklearn/model_selection/_validation.py:778: UserWarning: Scoring failed. The score on this train-test partition for these parameters will be set to nan. Details: \n",
            "Traceback (most recent call last):\n",
            "  File \"/usr/local/lib/python3.10/dist-packages/sklearn/model_selection/_validation.py\", line 767, in _score\n",
            "    scores = scorer(estimator, X_test, y_test)\n",
            "  File \"/usr/local/lib/python3.10/dist-packages/sklearn/metrics/_scorer.py\", line 234, in __call__\n",
            "    return self._score(\n",
            "  File \"/usr/local/lib/python3.10/dist-packages/sklearn/metrics/_scorer.py\", line 367, in _score\n",
            "    raise ValueError(\"{0} format is not supported\".format(y_type))\n",
            "ValueError: multiclass format is not supported\n",
            "\n",
            "  warnings.warn(\n",
            "/usr/local/lib/python3.10/dist-packages/sklearn/linear_model/_logistic.py:458: ConvergenceWarning: lbfgs failed to converge (status=1):\n",
            "STOP: TOTAL NO. of ITERATIONS REACHED LIMIT.\n",
            "\n",
            "Increase the number of iterations (max_iter) or scale the data as shown in:\n",
            "    https://scikit-learn.org/stable/modules/preprocessing.html\n",
            "Please also refer to the documentation for alternative solver options:\n",
            "    https://scikit-learn.org/stable/modules/linear_model.html#logistic-regression\n",
            "  n_iter_i = _check_optimize_result(\n",
            "/usr/local/lib/python3.10/dist-packages/sklearn/model_selection/_validation.py:778: UserWarning: Scoring failed. The score on this train-test partition for these parameters will be set to nan. Details: \n",
            "Traceback (most recent call last):\n",
            "  File \"/usr/local/lib/python3.10/dist-packages/sklearn/model_selection/_validation.py\", line 767, in _score\n",
            "    scores = scorer(estimator, X_test, y_test)\n",
            "  File \"/usr/local/lib/python3.10/dist-packages/sklearn/metrics/_scorer.py\", line 234, in __call__\n",
            "    return self._score(\n",
            "  File \"/usr/local/lib/python3.10/dist-packages/sklearn/metrics/_scorer.py\", line 367, in _score\n",
            "    raise ValueError(\"{0} format is not supported\".format(y_type))\n",
            "ValueError: multiclass format is not supported\n",
            "\n",
            "  warnings.warn(\n",
            "/usr/local/lib/python3.10/dist-packages/sklearn/linear_model/_logistic.py:458: ConvergenceWarning: lbfgs failed to converge (status=1):\n",
            "STOP: TOTAL NO. of ITERATIONS REACHED LIMIT.\n",
            "\n",
            "Increase the number of iterations (max_iter) or scale the data as shown in:\n",
            "    https://scikit-learn.org/stable/modules/preprocessing.html\n",
            "Please also refer to the documentation for alternative solver options:\n",
            "    https://scikit-learn.org/stable/modules/linear_model.html#logistic-regression\n",
            "  n_iter_i = _check_optimize_result(\n",
            "/usr/local/lib/python3.10/dist-packages/sklearn/model_selection/_validation.py:778: UserWarning: Scoring failed. The score on this train-test partition for these parameters will be set to nan. Details: \n",
            "Traceback (most recent call last):\n",
            "  File \"/usr/local/lib/python3.10/dist-packages/sklearn/model_selection/_validation.py\", line 767, in _score\n",
            "    scores = scorer(estimator, X_test, y_test)\n",
            "  File \"/usr/local/lib/python3.10/dist-packages/sklearn/metrics/_scorer.py\", line 234, in __call__\n",
            "    return self._score(\n",
            "  File \"/usr/local/lib/python3.10/dist-packages/sklearn/metrics/_scorer.py\", line 367, in _score\n",
            "    raise ValueError(\"{0} format is not supported\".format(y_type))\n",
            "ValueError: multiclass format is not supported\n",
            "\n",
            "  warnings.warn(\n",
            "/usr/local/lib/python3.10/dist-packages/sklearn/linear_model/_logistic.py:458: ConvergenceWarning: lbfgs failed to converge (status=1):\n",
            "STOP: TOTAL NO. of ITERATIONS REACHED LIMIT.\n",
            "\n",
            "Increase the number of iterations (max_iter) or scale the data as shown in:\n",
            "    https://scikit-learn.org/stable/modules/preprocessing.html\n",
            "Please also refer to the documentation for alternative solver options:\n",
            "    https://scikit-learn.org/stable/modules/linear_model.html#logistic-regression\n",
            "  n_iter_i = _check_optimize_result(\n",
            "/usr/local/lib/python3.10/dist-packages/sklearn/model_selection/_validation.py:778: UserWarning: Scoring failed. The score on this train-test partition for these parameters will be set to nan. Details: \n",
            "Traceback (most recent call last):\n",
            "  File \"/usr/local/lib/python3.10/dist-packages/sklearn/model_selection/_validation.py\", line 767, in _score\n",
            "    scores = scorer(estimator, X_test, y_test)\n",
            "  File \"/usr/local/lib/python3.10/dist-packages/sklearn/metrics/_scorer.py\", line 234, in __call__\n",
            "    return self._score(\n",
            "  File \"/usr/local/lib/python3.10/dist-packages/sklearn/metrics/_scorer.py\", line 367, in _score\n",
            "    raise ValueError(\"{0} format is not supported\".format(y_type))\n",
            "ValueError: multiclass format is not supported\n",
            "\n",
            "  warnings.warn(\n",
            "/usr/local/lib/python3.10/dist-packages/sklearn/linear_model/_logistic.py:458: ConvergenceWarning: lbfgs failed to converge (status=1):\n",
            "STOP: TOTAL NO. of ITERATIONS REACHED LIMIT.\n",
            "\n",
            "Increase the number of iterations (max_iter) or scale the data as shown in:\n",
            "    https://scikit-learn.org/stable/modules/preprocessing.html\n",
            "Please also refer to the documentation for alternative solver options:\n",
            "    https://scikit-learn.org/stable/modules/linear_model.html#logistic-regression\n",
            "  n_iter_i = _check_optimize_result(\n",
            "/usr/local/lib/python3.10/dist-packages/sklearn/model_selection/_validation.py:778: UserWarning: Scoring failed. The score on this train-test partition for these parameters will be set to nan. Details: \n",
            "Traceback (most recent call last):\n",
            "  File \"/usr/local/lib/python3.10/dist-packages/sklearn/model_selection/_validation.py\", line 767, in _score\n",
            "    scores = scorer(estimator, X_test, y_test)\n",
            "  File \"/usr/local/lib/python3.10/dist-packages/sklearn/metrics/_scorer.py\", line 234, in __call__\n",
            "    return self._score(\n",
            "  File \"/usr/local/lib/python3.10/dist-packages/sklearn/metrics/_scorer.py\", line 367, in _score\n",
            "    raise ValueError(\"{0} format is not supported\".format(y_type))\n",
            "ValueError: multiclass format is not supported\n",
            "\n",
            "  warnings.warn(\n",
            "/usr/local/lib/python3.10/dist-packages/sklearn/linear_model/_logistic.py:458: ConvergenceWarning: lbfgs failed to converge (status=1):\n",
            "STOP: TOTAL NO. of ITERATIONS REACHED LIMIT.\n",
            "\n",
            "Increase the number of iterations (max_iter) or scale the data as shown in:\n",
            "    https://scikit-learn.org/stable/modules/preprocessing.html\n",
            "Please also refer to the documentation for alternative solver options:\n",
            "    https://scikit-learn.org/stable/modules/linear_model.html#logistic-regression\n",
            "  n_iter_i = _check_optimize_result(\n",
            "/usr/local/lib/python3.10/dist-packages/sklearn/model_selection/_validation.py:778: UserWarning: Scoring failed. The score on this train-test partition for these parameters will be set to nan. Details: \n",
            "Traceback (most recent call last):\n",
            "  File \"/usr/local/lib/python3.10/dist-packages/sklearn/model_selection/_validation.py\", line 767, in _score\n",
            "    scores = scorer(estimator, X_test, y_test)\n",
            "  File \"/usr/local/lib/python3.10/dist-packages/sklearn/metrics/_scorer.py\", line 234, in __call__\n",
            "    return self._score(\n",
            "  File \"/usr/local/lib/python3.10/dist-packages/sklearn/metrics/_scorer.py\", line 367, in _score\n",
            "    raise ValueError(\"{0} format is not supported\".format(y_type))\n",
            "ValueError: multiclass format is not supported\n",
            "\n",
            "  warnings.warn(\n",
            "/usr/local/lib/python3.10/dist-packages/sklearn/linear_model/_logistic.py:458: ConvergenceWarning: lbfgs failed to converge (status=1):\n",
            "STOP: TOTAL NO. of ITERATIONS REACHED LIMIT.\n",
            "\n",
            "Increase the number of iterations (max_iter) or scale the data as shown in:\n",
            "    https://scikit-learn.org/stable/modules/preprocessing.html\n",
            "Please also refer to the documentation for alternative solver options:\n",
            "    https://scikit-learn.org/stable/modules/linear_model.html#logistic-regression\n",
            "  n_iter_i = _check_optimize_result(\n",
            "/usr/local/lib/python3.10/dist-packages/sklearn/model_selection/_validation.py:778: UserWarning: Scoring failed. The score on this train-test partition for these parameters will be set to nan. Details: \n",
            "Traceback (most recent call last):\n",
            "  File \"/usr/local/lib/python3.10/dist-packages/sklearn/model_selection/_validation.py\", line 767, in _score\n",
            "    scores = scorer(estimator, X_test, y_test)\n",
            "  File \"/usr/local/lib/python3.10/dist-packages/sklearn/metrics/_scorer.py\", line 234, in __call__\n",
            "    return self._score(\n",
            "  File \"/usr/local/lib/python3.10/dist-packages/sklearn/metrics/_scorer.py\", line 367, in _score\n",
            "    raise ValueError(\"{0} format is not supported\".format(y_type))\n",
            "ValueError: multiclass format is not supported\n",
            "\n",
            "  warnings.warn(\n",
            "/usr/local/lib/python3.10/dist-packages/sklearn/linear_model/_logistic.py:458: ConvergenceWarning: lbfgs failed to converge (status=1):\n",
            "STOP: TOTAL NO. of ITERATIONS REACHED LIMIT.\n",
            "\n",
            "Increase the number of iterations (max_iter) or scale the data as shown in:\n",
            "    https://scikit-learn.org/stable/modules/preprocessing.html\n",
            "Please also refer to the documentation for alternative solver options:\n",
            "    https://scikit-learn.org/stable/modules/linear_model.html#logistic-regression\n",
            "  n_iter_i = _check_optimize_result(\n",
            "/usr/local/lib/python3.10/dist-packages/sklearn/model_selection/_validation.py:778: UserWarning: Scoring failed. The score on this train-test partition for these parameters will be set to nan. Details: \n",
            "Traceback (most recent call last):\n",
            "  File \"/usr/local/lib/python3.10/dist-packages/sklearn/model_selection/_validation.py\", line 767, in _score\n",
            "    scores = scorer(estimator, X_test, y_test)\n",
            "  File \"/usr/local/lib/python3.10/dist-packages/sklearn/metrics/_scorer.py\", line 234, in __call__\n",
            "    return self._score(\n",
            "  File \"/usr/local/lib/python3.10/dist-packages/sklearn/metrics/_scorer.py\", line 367, in _score\n",
            "    raise ValueError(\"{0} format is not supported\".format(y_type))\n",
            "ValueError: multiclass format is not supported\n",
            "\n",
            "  warnings.warn(\n",
            "/usr/local/lib/python3.10/dist-packages/sklearn/model_selection/_search.py:952: UserWarning: One or more of the test scores are non-finite: [nan nan nan nan nan nan nan nan nan]\n",
            "  warnings.warn(\n",
            "/usr/local/lib/python3.10/dist-packages/sklearn/linear_model/_logistic.py:458: ConvergenceWarning: lbfgs failed to converge (status=1):\n",
            "STOP: TOTAL NO. of ITERATIONS REACHED LIMIT.\n",
            "\n",
            "Increase the number of iterations (max_iter) or scale the data as shown in:\n",
            "    https://scikit-learn.org/stable/modules/preprocessing.html\n",
            "Please also refer to the documentation for alternative solver options:\n",
            "    https://scikit-learn.org/stable/modules/linear_model.html#logistic-regression\n",
            "  n_iter_i = _check_optimize_result(\n"
          ]
        },
        {
          "data": {
            "text/html": [
              "<style>#sk-container-id-5 {color: black;background-color: white;}#sk-container-id-5 pre{padding: 0;}#sk-container-id-5 div.sk-toggleable {background-color: white;}#sk-container-id-5 label.sk-toggleable__label {cursor: pointer;display: block;width: 100%;margin-bottom: 0;padding: 0.3em;box-sizing: border-box;text-align: center;}#sk-container-id-5 label.sk-toggleable__label-arrow:before {content: \"▸\";float: left;margin-right: 0.25em;color: #696969;}#sk-container-id-5 label.sk-toggleable__label-arrow:hover:before {color: black;}#sk-container-id-5 div.sk-estimator:hover label.sk-toggleable__label-arrow:before {color: black;}#sk-container-id-5 div.sk-toggleable__content {max-height: 0;max-width: 0;overflow: hidden;text-align: left;background-color: #f0f8ff;}#sk-container-id-5 div.sk-toggleable__content pre {margin: 0.2em;color: black;border-radius: 0.25em;background-color: #f0f8ff;}#sk-container-id-5 input.sk-toggleable__control:checked~div.sk-toggleable__content {max-height: 200px;max-width: 100%;overflow: auto;}#sk-container-id-5 input.sk-toggleable__control:checked~label.sk-toggleable__label-arrow:before {content: \"▾\";}#sk-container-id-5 div.sk-estimator input.sk-toggleable__control:checked~label.sk-toggleable__label {background-color: #d4ebff;}#sk-container-id-5 div.sk-label input.sk-toggleable__control:checked~label.sk-toggleable__label {background-color: #d4ebff;}#sk-container-id-5 input.sk-hidden--visually {border: 0;clip: rect(1px 1px 1px 1px);clip: rect(1px, 1px, 1px, 1px);height: 1px;margin: -1px;overflow: hidden;padding: 0;position: absolute;width: 1px;}#sk-container-id-5 div.sk-estimator {font-family: monospace;background-color: #f0f8ff;border: 1px dotted black;border-radius: 0.25em;box-sizing: border-box;margin-bottom: 0.5em;}#sk-container-id-5 div.sk-estimator:hover {background-color: #d4ebff;}#sk-container-id-5 div.sk-parallel-item::after {content: \"\";width: 100%;border-bottom: 1px solid gray;flex-grow: 1;}#sk-container-id-5 div.sk-label:hover label.sk-toggleable__label {background-color: #d4ebff;}#sk-container-id-5 div.sk-serial::before {content: \"\";position: absolute;border-left: 1px solid gray;box-sizing: border-box;top: 0;bottom: 0;left: 50%;z-index: 0;}#sk-container-id-5 div.sk-serial {display: flex;flex-direction: column;align-items: center;background-color: white;padding-right: 0.2em;padding-left: 0.2em;position: relative;}#sk-container-id-5 div.sk-item {position: relative;z-index: 1;}#sk-container-id-5 div.sk-parallel {display: flex;align-items: stretch;justify-content: center;background-color: white;position: relative;}#sk-container-id-5 div.sk-item::before, #sk-container-id-5 div.sk-parallel-item::before {content: \"\";position: absolute;border-left: 1px solid gray;box-sizing: border-box;top: 0;bottom: 0;left: 50%;z-index: -1;}#sk-container-id-5 div.sk-parallel-item {display: flex;flex-direction: column;z-index: 1;position: relative;background-color: white;}#sk-container-id-5 div.sk-parallel-item:first-child::after {align-self: flex-end;width: 50%;}#sk-container-id-5 div.sk-parallel-item:last-child::after {align-self: flex-start;width: 50%;}#sk-container-id-5 div.sk-parallel-item:only-child::after {width: 0;}#sk-container-id-5 div.sk-dashed-wrapped {border: 1px dashed gray;margin: 0 0.4em 0.5em 0.4em;box-sizing: border-box;padding-bottom: 0.4em;background-color: white;}#sk-container-id-5 div.sk-label label {font-family: monospace;font-weight: bold;display: inline-block;line-height: 1.2em;}#sk-container-id-5 div.sk-label-container {text-align: center;}#sk-container-id-5 div.sk-container {/* jupyter's `normalize.less` sets `[hidden] { display: none; }` but bootstrap.min.css set `[hidden] { display: none !important; }` so we also need the `!important` here to be able to override the default hidden behavior on the sphinx rendered scikit-learn.org. See: https://github.com/scikit-learn/scikit-learn/issues/21755 */display: inline-block !important;position: relative;}#sk-container-id-5 div.sk-text-repr-fallback {display: none;}</style><div id=\"sk-container-id-5\" class=\"sk-top-container\"><div class=\"sk-text-repr-fallback\"><pre>RandomizedSearchCV(estimator=Pipeline(steps=[(&#x27;vect&#x27;,\n",
              "                                              CountVectorizer(analyzer=&#x27;char&#x27;)),\n",
              "                                             (&#x27;clf&#x27;, LogisticRegression())]),\n",
              "                   param_distributions={&#x27;clf__C&#x27;: [1.0, 0.1, 0.01],\n",
              "                                        &#x27;clf__penalty&#x27;: [&#x27;l2&#x27;],\n",
              "                                        &#x27;vect__ngram_range&#x27;: [(1, 1), (1, 2),\n",
              "                                                              (1, 3)]},\n",
              "                   scoring=&#x27;roc_auc&#x27;)</pre><b>In a Jupyter environment, please rerun this cell to show the HTML representation or trust the notebook. <br />On GitHub, the HTML representation is unable to render, please try loading this page with nbviewer.org.</b></div><div class=\"sk-container\" hidden><div class=\"sk-item sk-dashed-wrapped\"><div class=\"sk-label-container\"><div class=\"sk-label sk-toggleable\"><input class=\"sk-toggleable__control sk-hidden--visually\" id=\"sk-estimator-id-17\" type=\"checkbox\" ><label for=\"sk-estimator-id-17\" class=\"sk-toggleable__label sk-toggleable__label-arrow\">RandomizedSearchCV</label><div class=\"sk-toggleable__content\"><pre>RandomizedSearchCV(estimator=Pipeline(steps=[(&#x27;vect&#x27;,\n",
              "                                              CountVectorizer(analyzer=&#x27;char&#x27;)),\n",
              "                                             (&#x27;clf&#x27;, LogisticRegression())]),\n",
              "                   param_distributions={&#x27;clf__C&#x27;: [1.0, 0.1, 0.01],\n",
              "                                        &#x27;clf__penalty&#x27;: [&#x27;l2&#x27;],\n",
              "                                        &#x27;vect__ngram_range&#x27;: [(1, 1), (1, 2),\n",
              "                                                              (1, 3)]},\n",
              "                   scoring=&#x27;roc_auc&#x27;)</pre></div></div></div><div class=\"sk-parallel\"><div class=\"sk-parallel-item\"><div class=\"sk-item\"><div class=\"sk-label-container\"><div class=\"sk-label sk-toggleable\"><input class=\"sk-toggleable__control sk-hidden--visually\" id=\"sk-estimator-id-18\" type=\"checkbox\" ><label for=\"sk-estimator-id-18\" class=\"sk-toggleable__label sk-toggleable__label-arrow\">estimator: Pipeline</label><div class=\"sk-toggleable__content\"><pre>Pipeline(steps=[(&#x27;vect&#x27;, CountVectorizer(analyzer=&#x27;char&#x27;)),\n",
              "                (&#x27;clf&#x27;, LogisticRegression())])</pre></div></div></div><div class=\"sk-serial\"><div class=\"sk-item\"><div class=\"sk-serial\"><div class=\"sk-item\"><div class=\"sk-estimator sk-toggleable\"><input class=\"sk-toggleable__control sk-hidden--visually\" id=\"sk-estimator-id-19\" type=\"checkbox\" ><label for=\"sk-estimator-id-19\" class=\"sk-toggleable__label sk-toggleable__label-arrow\">CountVectorizer</label><div class=\"sk-toggleable__content\"><pre>CountVectorizer(analyzer=&#x27;char&#x27;)</pre></div></div></div><div class=\"sk-item\"><div class=\"sk-estimator sk-toggleable\"><input class=\"sk-toggleable__control sk-hidden--visually\" id=\"sk-estimator-id-20\" type=\"checkbox\" ><label for=\"sk-estimator-id-20\" class=\"sk-toggleable__label sk-toggleable__label-arrow\">LogisticRegression</label><div class=\"sk-toggleable__content\"><pre>LogisticRegression()</pre></div></div></div></div></div></div></div></div></div></div></div></div>"
            ],
            "text/plain": [
              "RandomizedSearchCV(estimator=Pipeline(steps=[('vect',\n",
              "                                              CountVectorizer(analyzer='char')),\n",
              "                                             ('clf', LogisticRegression())]),\n",
              "                   param_distributions={'clf__C': [1.0, 0.1, 0.01],\n",
              "                                        'clf__penalty': ['l2'],\n",
              "                                        'vect__ngram_range': [(1, 1), (1, 2),\n",
              "                                                              (1, 3)]},\n",
              "                   scoring='roc_auc')"
            ]
          },
          "execution_count": 60,
          "metadata": {},
          "output_type": "execute_result"
        }
      ],
      "source": [
        "random_search_6 = RandomizedSearchCV(pipeline_6, param_distributions=param_grid_6, n_iter=10, cv=1, scoring='roc_auc')\n",
        "random_search_6.fit(X_train, y_train)"
      ]
    },
    {
      "cell_type": "code",
      "execution_count": null,
      "metadata": {
        "id": "RkBpnmz-Wd83"
      },
      "outputs": [],
      "source": [
        "best_model_6 = random_search_6.best_estimator_"
      ]
    },
    {
      "cell_type": "code",
      "execution_count": null,
      "metadata": {
        "id": "m-GUZ3wVWd84"
      },
      "outputs": [],
      "source": [
        "y_pred_6 = best_model_6.predict_proba(X_val)\n",
        "auroc_6 = roc_auc_score(y_val, y_pred_6)"
      ]
    },
    {
      "cell_type": "code",
      "execution_count": null,
      "metadata": {
        "colab": {
          "base_uri": "https://localhost:8080/"
        },
        "id": "vKuVNClXWd84",
        "outputId": "5b9ff27b-6851-4844-cd4f-fb53c2cc4687"
      },
      "outputs": [
        {
          "name": "stdout",
          "output_type": "stream",
          "text": [
            "AUROC for Iteration 6: 0.5777998792699628\n"
          ]
        }
      ],
      "source": [
        "# Print AUROC for trial 6\n",
        "print(\"AUROC for Iteration 6:\", auroc_6)"
      ]
    },
    {
      "cell_type": "markdown",
      "source": [
        "##**Observations:**\n",
        "* AUROC : `0.5778` aligns with the lower expectation, suggesting that character-level analysis may not be the best choice for this task."
      ],
      "metadata": {
        "id": "L7x1Hr8roXaS"
      }
    },
    {
      "cell_type": "markdown",
      "metadata": {
        "id": "W7u8TuxtnTmx"
      },
      "source": [
        "### **Load the testing data**"
      ]
    },
    {
      "cell_type": "code",
      "execution_count": null,
      "metadata": {
        "id": "ZVpny7KznXXs"
      },
      "outputs": [],
      "source": [
        "test_data = pd.read_csv('/content/gdrive/MyDrive/x_test.csv')"
      ]
    },
    {
      "cell_type": "code",
      "execution_count": null,
      "metadata": {
        "id": "t9HHVJIcXxx7"
      },
      "outputs": [],
      "source": [
        "total_samples = len(test_data['id'])\n",
        "non_english_samples = []\n",
        "english_samples = []\n",
        "\n",
        "for idx, text in zip(test_data['id'], test_data['text']):\n",
        "    try:\n",
        "        lang = detect(text)\n",
        "        # Check if language is English\n",
        "        if lang == 'en':\n",
        "            # Store the ID and text of English samples\n",
        "            english_samples.append((idx, text))\n",
        "        else:\n",
        "            # Store the ID of non-English sample\n",
        "            non_english_samples.append(idx)\n",
        "    except:\n",
        "        pass  # Handle exceptions gracefully"
      ]
    },
    {
      "cell_type": "code",
      "execution_count": null,
      "metadata": {
        "colab": {
          "base_uri": "https://localhost:8080/"
        },
        "id": "TDQwOrx0XxyE",
        "outputId": "46607b96-6861-4f7d-ac73-633f836c2c48"
      },
      "outputs": [
        {
          "name": "stdout",
          "output_type": "stream",
          "text": [
            "Sample IDs that are not in English: [0, 1, 4, 7, 17, 20, 28, 33, 42, 46, 47, 52, 54, 64, 73, 84, 90, 92, 99, 103, 109, 116, 121, 126, 144, 148, 159, 164, 180, 184, 186, 193, 194, 198, 204, 210, 217, 224, 236, 240, 241, 242, 244, 248, 253, 256, 259, 262, 265, 280, 283, 288, 292, 293, 294, 295, 297, 303, 325, 342, 349, 351, 358, 361, 363, 364, 368, 380, 387, 391, 399, 402, 405, 419, 425, 426, 430, 432, 434, 435, 444, 448, 453, 456, 457, 462, 464, 479, 489, 491, 493, 494, 496, 503, 510, 519, 523, 526, 534, 536, 539, 548, 551, 556, 557, 564, 567, 569, 575, 576, 590, 594, 597, 600, 601, 602, 631, 639, 642, 643, 646, 650, 651, 670, 672, 683, 685, 686, 691, 695, 698, 704, 708, 710, 711, 718, 722, 731, 734, 737, 741, 759, 765, 771, 775, 781, 783, 787, 793, 794, 798, 805, 815, 820, 824, 826, 845, 846, 849, 854, 856, 863, 864, 865, 869, 892, 896, 901, 904, 913, 917, 920, 922, 927, 941, 943, 949, 957, 959, 960, 970, 980, 981, 994, 997, 1009, 1020, 1024, 1026, 1027, 1032, 1035, 1038, 1041, 1045, 1046, 1049, 1050, 1059, 1063, 1069, 1070, 1079, 1091, 1092, 1094, 1114, 1125, 1127, 1129, 1134, 1135, 1146, 1163, 1167, 1169, 1176, 1183, 1188, 1208, 1210, 1215, 1218, 1222, 1223, 1225, 1231, 1234, 1242, 1251, 1256, 1258, 1261, 1271, 1287, 1293, 1307, 1310, 1316, 1319, 1323, 1325, 1335, 1347, 1354, 1361, 1370, 1372, 1379, 1382, 1386, 1387, 1388, 1393, 1395, 1401, 1403, 1404, 1408, 1410, 1412, 1414, 1417, 1422, 1423, 1430, 1446, 1447, 1448, 1450, 1458, 1462, 1465, 1468, 1471, 1486, 1512, 1530, 1533, 1536, 1543, 1544, 1545, 1552, 1554, 1557, 1561, 1571, 1573, 1577, 1578, 1582, 1584, 1587, 1588, 1590, 1597, 1599, 1602, 1613, 1614, 1622, 1632, 1652, 1657, 1660, 1665, 1666, 1668, 1672, 1676, 1683, 1688, 1692, 1696, 1707, 1731, 1737, 1739, 1749, 1769, 1786, 1787, 1791, 1796, 1801, 1807, 1810, 1812, 1824, 1825, 1827, 1829, 1830, 1835, 1836, 1845, 1848, 1851, 1855, 1861, 1862, 1865, 1867, 1872, 1884, 1885, 1887, 1901, 1905, 1910, 1914, 1915, 1937, 1939, 1944, 1953, 1963, 1964, 1965, 1971, 1975, 1982, 1983, 1993, 2014, 2025, 2053, 2056, 2059, 2062, 2064, 2072, 2085, 2088, 2099, 2103, 2106, 2107, 2115, 2117, 2120, 2121, 2123, 2127, 2129, 2135, 2136, 2138, 2141, 2148, 2152, 2153, 2157, 2158, 2167, 2181, 2186, 2192, 2195, 2200, 2208, 2209, 2210, 2213, 2217, 2223, 2228, 2234, 2235, 2237, 2242, 2249, 2250, 2253, 2254, 2255, 2256, 2262, 2269, 2274, 2288, 2293, 2296, 2297, 2305, 2316, 2337, 2339, 2346, 2348, 2349, 2374, 2378, 2385, 2388, 2397, 2400, 2406, 2411, 2416, 2423, 2425, 2428, 2430, 2432, 2434, 2436, 2440, 2442, 2444, 2452, 2460, 2464, 2465, 2469, 2479, 2483, 2491, 2495, 2496, 2522, 2535, 2538, 2540, 2541, 2550, 2563, 2565, 2572, 2577, 2578, 2582, 2585, 2592, 2594, 2605, 2608, 2611, 2621, 2623, 2628, 2635, 2648, 2650, 2661, 2664, 2673, 2675, 2685, 2696, 2704, 2725, 2731, 2732, 2734, 2742, 2743, 2744, 2749, 2757, 2761, 2769, 2782, 2794, 2800, 2801, 2803, 2804, 2815, 2822, 2827, 2834, 2839, 2840, 2844, 2849, 2855, 2863, 2868, 2870, 2892, 2897, 2901, 2902, 2905, 2915, 2917, 2932, 2934, 2938, 2939, 2949, 2951, 2953, 2958, 2964, 2969, 2973, 2975, 2978, 2979, 2986, 2994, 2996, 3001, 3007, 3011, 3017, 3025, 3033, 3038, 3041, 3046, 3054, 3057, 3058, 3059, 3065, 3067, 3068, 3080, 3081, 3084, 3090, 3100, 3108, 3113, 3114, 3119, 3121, 3131, 3137, 3140, 3144, 3152, 3166, 3188, 3189, 3190, 3192, 3199, 3203, 3210, 3220, 3225, 3226, 3237, 3243, 3246, 3247, 3252, 3253, 3263, 3267, 3268, 3269, 3273, 3276, 3277, 3280, 3293, 3295, 3304, 3310, 3320, 3326, 3340, 3341, 3350, 3353, 3361, 3362, 3366, 3369, 3370, 3384, 3387, 3399, 3401, 3409, 3410, 3412, 3416, 3417, 3424, 3426, 3439, 3449, 3462, 3466, 3477, 3480, 3483, 3486, 3487, 3492, 3498, 3503, 3510, 3512, 3520, 3524, 3529, 3532, 3533, 3536, 3541, 3546, 3549, 3550, 3552, 3556, 3564, 3565, 3567, 3570, 3572, 3580, 3584, 3586, 3593, 3606, 3607, 3609, 3610, 3611, 3614, 3640, 3644, 3647, 3651, 3657, 3660, 3661, 3665, 3673, 3677, 3680, 3684, 3689, 3691, 3695, 3704, 3712, 3719, 3726, 3746, 3760, 3762, 3766, 3769, 3771, 3773, 3774, 3777, 3789, 3800, 3823, 3831, 3841, 3847, 3850, 3856, 3859, 3861, 3867, 3872, 3878, 3891, 3899, 3910, 3929, 3934, 3939, 3942, 3944, 3945, 3957, 3959, 3962, 3981, 3985, 3992, 3998, 4011, 4012, 4032, 4040, 4041, 4048, 4054, 4056, 4073, 4077, 4090, 4096, 4099, 4101, 4110, 4125, 4128, 4131, 4132, 4148, 4163, 4164, 4170, 4175, 4176, 4186, 4188, 4189, 4197, 4213, 4217, 4218, 4230, 4233, 4235, 4252, 4265, 4277, 4281, 4282, 4290, 4295, 4313, 4322, 4325, 4328, 4332, 4339, 4359, 4360, 4362, 4367, 4375, 4391, 4426, 4428, 4431, 4437, 4443, 4451, 4454, 4457, 4458, 4462, 4465, 4472, 4473, 4474, 4481, 4483, 4498, 4500, 4504, 4505, 4508, 4509, 4514, 4525, 4535, 4537, 4543, 4554, 4559, 4570, 4571, 4577, 4579, 4585, 4591, 4605, 4611, 4612, 4617, 4619, 4623, 4633, 4640, 4642, 4643, 4653, 4656, 4657, 4664, 4674, 4681, 4683, 4688, 4689, 4690, 4696, 4710, 4712, 4721, 4724, 4745, 4747, 4749, 4754, 4755, 4756, 4758, 4776, 4784, 4786, 4790, 4795, 4800, 4803, 4804, 4806, 4810, 4826, 4830, 4833, 4837, 4838, 4841, 4844, 4850, 4854, 4856, 4860, 4872, 4875, 4876, 4877, 4898, 4905, 4906, 4910, 4920, 4928, 4931, 4935, 4938, 4940, 4941, 4946, 4963, 4964, 4967, 4970, 4971, 4973, 4990, 4991, 4992, 4994, 5002, 5007, 5009, 5013, 5018, 5026, 5037, 5038, 5041, 5045, 5050, 5056, 5058, 5062, 5066, 5073, 5081, 5084, 5095, 5098, 5101, 5104, 5106, 5107, 5113, 5114, 5115, 5123, 5131, 5133, 5135, 5139, 5145, 5152, 5158, 5176, 5188, 5192, 5196, 5208, 5214, 5220, 5222, 5223, 5225, 5230, 5247, 5257, 5261, 5264, 5270, 5277, 5279, 5287, 5308, 5312, 5313, 5317, 5318, 5320, 5329, 5333, 5347, 5359, 5367, 5378, 5380, 5381, 5384, 5385, 5386, 5389, 5396, 5398, 5400, 5404, 5408, 5413, 5422, 5424, 5429, 5433, 5434, 5438, 5442, 5455, 5469, 5481, 5484, 5485, 5488, 5504, 5505, 5507, 5508, 5511, 5538, 5545, 5551, 5561, 5575, 5577, 5580, 5581, 5587, 5594, 5597, 5600, 5606, 5610, 5615, 5616, 5619, 5620, 5622, 5632, 5638, 5639, 5641, 5646, 5650, 5653, 5663, 5664, 5671, 5673, 5675, 5700, 5701, 5702, 5703, 5712, 5714, 5715, 5724, 5726, 5727, 5732, 5734, 5743, 5749, 5751, 5757, 5760, 5763, 5770, 5774, 5776, 5779, 5783, 5787, 5789, 5792, 5793, 5799, 5802, 5811, 5828, 5846, 5853, 5858, 5871, 5873, 5876, 5877, 5880, 5890, 5896, 5902, 5903, 5904, 5911, 5913, 5920, 5925, 5964, 5971, 5980, 5983, 5985, 5986, 5989, 5993, 6001, 6009, 6021, 6026, 6027, 6038, 6043, 6053, 6065, 6067, 6068, 6072, 6086, 6090, 6097, 6098, 6107, 6112, 6130, 6138, 6154, 6173, 6179, 6187, 6191, 6192, 6197, 6199, 6212, 6213, 6223, 6229, 6231, 6239, 6241, 6244, 6256, 6258, 6268, 6274, 6276, 6295, 6296, 6297, 6307, 6311, 6315, 6329, 6335, 6343, 6346, 6348, 6369, 6379, 6380, 6395, 6399, 6400, 6403, 6414, 6420, 6423, 6426, 6428, 6434, 6437, 6442, 6448, 6456, 6458, 6459, 6462, 6481, 6491, 6492, 6495, 6496, 6498, 6502, 6505, 6507, 6515, 6525, 6527, 6531, 6532, 6534, 6542, 6545, 6547, 6554, 6561, 6563, 6566, 6573, 6577, 6582, 6588, 6592, 6596, 6610, 6615, 6617, 6622, 6643, 6646, 6654, 6660, 6666, 6668, 6669, 6678, 6679, 6681, 6683, 6689, 6701, 6704, 6708, 6723, 6733, 6743, 6750, 6751, 6758, 6760, 6764, 6777, 6786, 6793, 6795, 6802, 6805, 6813, 6816, 6818, 6827, 6829, 6838, 6848, 6852, 6855, 6857, 6865, 6881, 6896, 6898, 6902, 6905, 6906, 6912, 6919, 6920, 6929, 6932, 6940, 6943, 6944, 6945, 6965, 6974, 6991, 6998, 7000, 7003, 7016, 7020, 7031, 7032, 7038, 7039, 7053, 7074, 7076, 7078, 7079, 7083, 7085, 7088, 7091, 7094, 7103, 7111, 7112, 7122, 7129, 7135, 7139, 7142, 7143, 7151, 7157, 7172, 7181, 7182, 7184, 7188, 7193, 7196, 7204, 7207, 7224, 7225, 7227, 7228, 7231, 7238, 7242, 7244, 7246, 7255, 7260, 7261, 7265, 7266, 7268, 7269, 7273, 7276, 7279, 7294, 7297, 7301, 7303, 7308, 7316, 7324, 7327, 7329, 7331, 7340, 7346, 7375, 7393, 7394, 7397, 7405, 7413, 7417, 7429, 7437, 7444, 7452, 7459, 7465, 7471, 7477, 7480, 7483, 7484, 7486, 7489, 7496, 7497, 7510, 7517, 7519, 7525, 7527, 7549, 7558, 7566, 7567, 7585, 7587, 7593, 7596, 7603, 7617, 7624, 7627, 7628, 7629, 7630, 7637, 7638, 7640, 7644, 7646, 7653, 7657, 7665, 7666, 7670, 7674, 7677, 7682, 7686, 7687, 7689, 7697, 7699, 7705, 7713, 7715, 7716, 7717, 7722, 7727, 7728, 7733, 7736, 7743, 7750, 7751, 7757, 7759, 7764, 7768, 7771, 7773, 7782, 7788, 7791, 7798, 7812, 7813, 7816, 7821, 7830, 7833, 7836, 7841, 7850, 7851, 7853, 7854, 7859, 7861, 7866, 7867, 7869, 7877, 7882, 7883, 7890, 7899, 7911, 7926, 7930, 7932, 7933, 7945, 7946, 7947, 7953, 7963, 7965, 7966, 7968, 7972, 7982, 7983, 7985, 7996, 8001, 8022, 8026, 8028, 8031, 8040, 8041, 8049, 8052, 8054, 8063, 8071, 8085, 8094, 8095, 8109, 8137, 8140, 8148, 8162, 8163, 8170, 8184, 8185, 8188, 8190, 8195, 8198, 8200, 8203, 8208, 8209, 8217, 8220, 8226, 8237, 8239, 8244, 8245, 8251, 8264, 8268, 8269, 8271, 8273, 8277, 8284, 8296, 8299, 8307, 8314, 8315, 8328, 8331, 8334, 8341, 8357, 8363, 8370, 8371, 8387, 8389, 8393, 8399, 8404, 8406, 8419, 8428, 8433, 8438, 8440, 8457, 8459, 8470, 8471, 8472, 8484, 8488, 8491, 8492, 8493, 8501, 8508, 8511, 8516, 8521, 8525, 8529, 8533, 8539, 8546, 8554, 8556, 8559, 8561, 8563, 8566, 8569, 8572, 8573, 8576, 8580, 8584, 8587, 8600, 8607, 8608, 8615, 8645, 8647, 8649, 8650, 8659, 8669, 8681, 8682, 8690, 8695, 8700, 8713, 8715, 8720, 8723, 8728, 8735, 8751, 8752, 8753, 8763, 8770, 8771, 8773, 8774, 8775, 8789, 8791, 8796, 8808, 8809, 8816, 8827, 8831, 8832, 8838, 8840, 8846, 8851, 8852, 8866, 8874, 8875, 8882, 8883, 8885, 8887, 8889, 8893, 8895, 8897, 8900, 8907, 8909, 8920, 8925, 8928, 8929, 8930, 8932, 8936, 8942, 8943, 8952, 8960, 8961, 8963, 8970, 8971, 8973, 8981, 8985, 8992, 8998, 8999, 9002, 9004, 9020, 9022, 9024, 9025, 9033, 9035, 9037, 9040, 9041, 9046, 9052, 9072, 9077, 9079, 9081, 9096, 9104, 9105, 9111, 9114, 9122, 9129, 9130, 9134, 9137, 9145, 9146, 9162, 9167, 9169, 9184, 9186, 9191, 9194, 9196, 9201, 9213, 9215, 9217, 9221, 9225, 9227, 9231, 9233, 9243, 9250, 9252, 9259, 9265, 9270, 9281, 9283, 9293, 9295, 9304, 9306, 9321, 9322, 9329, 9332, 9336, 9341, 9360, 9361, 9368, 9380, 9386, 9395, 9396, 9398, 9399, 9406, 9411, 9415, 9419, 9427, 9434, 9435, 9438, 9442, 9445, 9446, 9459, 9460, 9461, 9465, 9467, 9476, 9478, 9485, 9491, 9495, 9498, 9515, 9516, 9526, 9539, 9551, 9556, 9558, 9568, 9572, 9581, 9582, 9588, 9593, 9601, 9602, 9603, 9606, 9618, 9625, 9636, 9637, 9648, 9659, 9660, 9687, 9700, 9703, 9705, 9707, 9711, 9714, 9718, 9724, 9728, 9729, 9730, 9733, 9738, 9740, 9746, 9759, 9762, 9766, 9767, 9781, 9786, 9799, 9800, 9801, 9803, 9810, 9822, 9827, 9829, 9839, 9843, 9844, 9847, 9856, 9858, 9859, 9861, 9869, 9881, 9882, 9897, 9901, 9902, 9908, 9910, 9914, 9933, 9938, 9944, 9950, 9970, 9971, 9972, 9973, 9974, 9984, 9995, 9998, 10006, 10011, 10014, 10038, 10056, 10068, 10074, 10085, 10086, 10103, 10115, 10122, 10125, 10126, 10136, 10142, 10144, 10147, 10150, 10155, 10160, 10164, 10168, 10170, 10173, 10177, 10189, 10190, 10199, 10200, 10201, 10208, 10222, 10226, 10233, 10234, 10240, 10250, 10253, 10258, 10262, 10266, 10272, 10275, 10280, 10287, 10295, 10298, 10310, 10326, 10329, 10335, 10338, 10341, 10345, 10350, 10365, 10380, 10383, 10393, 10405, 10408, 10412, 10413, 10415, 10416, 10438, 10452, 10456, 10467, 10468, 10472, 10476, 10486, 10496, 10509, 10514, 10524, 10531, 10549, 10551, 10558, 10559, 10570, 10576, 10584, 10591, 10600, 10609, 10622, 10629, 10631, 10632, 10647, 10651, 10652, 10661, 10665, 10667, 10668, 10669, 10671, 10675, 10710, 10711, 10716, 10717, 10724, 10733, 10744, 10758, 10762, 10764, 10795, 10796, 10802, 10811, 10818, 10819, 10823, 10824, 10829, 10835, 10838, 10839, 10840, 10843, 10853, 10863, 10865, 10868, 10875, 10887, 10891, 10899, 10900, 10915, 10917, 10919, 10928, 10932, 10937, 10938, 10939, 10948, 10950, 10954, 10983, 10985, 10988, 10989, 11005, 11008, 11014, 11018, 11031, 11036, 11041, 11042, 11051, 11053, 11056, 11068, 11077, 11081, 11082, 11090, 11093, 11094, 11097, 11098, 11105, 11110, 11111, 11112, 11115, 11117, 11118, 11119, 11130, 11131, 11134, 11136, 11139, 11140, 11148, 11149, 11155, 11162, 11166, 11168, 11174, 11188, 11210, 11216, 11220, 11221, 11224, 11230, 11241, 11242, 11247, 11249, 11253, 11255, 11260, 11268, 11273, 11288, 11291, 11292, 11294, 11298, 11303, 11310, 11313, 11315, 11319, 11322, 11323, 11325, 11328, 11330, 11335, 11338, 11345, 11353, 11354, 11358, 11376, 11379, 11386, 11387, 11394, 11397, 11398, 11401, 11405, 11407, 11409, 11411, 11418, 11422, 11423, 11428, 11429, 11430, 11436, 11440, 11447, 11448, 11450, 11455, 11468, 11472, 11478, 11482, 11491, 11508, 11514, 11519, 11520, 11529, 11536, 11559, 11560, 11566, 11567, 11569, 11572, 11578, 11590, 11593, 11604, 11605, 11608, 11610, 11613, 11622, 11626, 11647, 11648, 11654, 11660, 11663, 11667, 11669, 11671, 11674, 11678, 11689, 11690, 11696, 11698, 11700, 11703, 11718, 11722, 11731, 11732, 11748, 11752, 11764, 11773, 11780, 11787, 11789, 11802, 11805, 11810, 11817, 11826, 11829, 11834, 11836, 11840, 11849, 11851, 11855, 11857, 11864, 11873, 11899, 11902, 11906, 11913, 11940, 11942, 11945, 11952, 11953, 11960, 11964, 11967, 11970, 11982, 11983, 11988, 11993, 12001, 12007, 12015, 12018, 12031, 12032, 12034, 12047, 12055, 12059, 12069, 12080, 12107, 12108, 12112, 12153, 12158, 12159, 12165, 12172, 12175, 12178, 12193, 12197, 12205, 12207, 12209, 12212, 12213, 12214, 12221, 12227, 12241, 12248, 12250, 12254, 12257, 12260, 12262, 12264, 12265, 12268, 12271, 12276, 12287, 12289, 12306, 12307, 12310, 12313, 12316, 12335, 12342, 12348, 12365, 12369, 12381, 12386, 12405, 12431, 12437, 12439, 12440, 12448, 12449, 12455, 12457, 12464, 12467, 12472, 12477, 12478, 12497, 12514, 12529, 12531, 12535, 12555, 12561, 12567, 12569, 12571, 12585, 12586, 12587, 12590, 12592, 12593, 12608, 12616, 12627, 12628, 12633, 12638, 12652, 12658, 12659, 12670, 12677, 12679, 12680, 12686, 12690, 12693, 12696, 12699, 12719, 12723, 12730, 12732, 12734, 12744, 12746, 12748, 12752, 12770, 12782, 12784, 12787, 12796, 12801, 12804, 12819, 12823, 12825, 12827, 12829, 12838, 12839, 12841, 12855, 12861, 12866, 12869, 12879, 12881, 12883, 12888, 12900, 12928, 12947, 12955, 12956, 12958, 12962, 12963, 12969, 12976, 12978, 12982, 12996, 13000, 13006, 13009, 13022, 13023, 13028, 13039, 13052, 13053, 13054, 13063, 13064, 13065, 13089, 13094, 13096, 13099, 13102, 13106, 13118, 13119, 13126, 13134, 13138, 13142, 13145, 13151, 13155, 13158, 13168, 13172, 13177, 13192, 13202, 13211, 13221, 13222, 13224, 13225, 13226, 13232, 13237, 13246, 13259, 13260, 13266, 13268, 13269, 13280, 13309, 13318, 13338, 13347, 13348, 13361, 13367, 13377, 13378, 13380, 13382, 13386, 13392, 13405, 13414, 13416, 13420, 13422, 13428, 13435, 13455, 13462, 13464, 13467, 13472, 13476, 13480, 13486, 13489, 13490, 13502, 13504, 13513, 13516, 13517, 13531, 13535, 13538, 13542, 13544, 13548, 13550, 13552, 13554, 13560, 13563, 13575, 13579, 13581, 13582, 13592, 13595, 13607, 13608, 13611, 13615, 13618, 13623, 13634, 13648, 13658, 13664, 13685, 13689, 13690, 13696, 13706, 13707, 13710, 13717, 13724, 13730, 13732, 13751, 13755, 13756, 13758, 13773, 13774, 13776, 13780, 13790, 13809, 13828, 13832, 13853, 13855, 13856, 13858, 13865, 13873, 13875, 13878, 13879, 13888, 13891, 13903, 13904, 13909, 13910, 13912, 13915, 13929, 13931, 13940, 13944, 13952, 13953, 13957, 13958, 13961, 13963, 13976, 13979, 13980, 13984, 13986, 13992, 13994, 14005, 14006, 14015, 14016, 14021, 14023, 14038, 14043, 14044, 14055, 14060, 14063, 14064, 14071, 14087, 14089, 14105, 14116, 14117, 14132, 14133, 14145, 14151, 14155, 14163, 14174, 14179, 14181, 14185, 14194, 14195, 14200, 14204, 14226, 14227, 14256, 14271, 14275, 14276, 14290, 14303, 14307, 14308, 14314, 14327, 14337, 14340, 14349, 14351, 14371, 14380, 14384, 14388, 14392, 14393, 14400, 14409, 14410, 14411, 14421, 14422, 14424, 14425, 14437, 14440, 14441, 14446, 14449, 14463, 14465, 14466, 14470, 14475, 14482, 14483, 14484, 14485, 14489, 14494, 14497, 14507, 14511, 14514, 14518, 14521, 14522, 14529, 14539, 14546, 14567, 14569, 14574, 14575, 14576, 14598, 14600, 14606, 14607, 14610, 14617, 14620, 14626, 14631, 14641, 14642, 14649, 14650, 14661, 14668, 14669, 14673, 14675, 14677, 14681, 14682, 14686, 14690, 14692, 14698, 14700, 14706, 14709, 14714, 14715, 14720, 14722, 14723, 14734, 14736, 14739, 14742, 14755, 14756, 14757, 14761, 14763, 14764, 14768, 14784, 14785, 14786, 14788, 14807, 14809, 14810, 14812, 14815, 14818, 14823, 14835, 14838, 14839, 14841, 14846, 14851, 14863, 14868, 14871, 14877, 14879, 14880, 14882, 14883, 14889, 14902, 14918, 14921, 14923, 14932, 14938, 14939, 14948, 14950, 14957, 14965, 14970, 14972, 14975, 14983, 14988, 14994, 14997, 14998, 15007, 15008, 15013, 15021, 15026, 15034, 15035, 15039, 15043, 15055, 15059, 15067, 15068, 15077, 15079, 15084, 15103, 15104, 15116, 15120, 15123, 15130, 15131, 15135, 15136, 15144, 15152, 15159, 15164, 15178, 15194, 15199, 15200, 15202, 15203, 15208, 15211, 15216, 15218, 15222, 15224, 15234, 15253, 15256, 15257, 15266, 15270, 15271, 15274, 15275, 15277, 15278, 15285, 15292, 15296, 15299, 15312, 15314, 15317, 15321, 15330, 15334, 15339, 15344, 15350, 15352, 15373, 15381, 15400, 15401, 15403, 15404, 15406, 15408, 15411, 15420, 15425, 15427, 15428, 15430, 15439, 15441, 15445, 15450, 15461, 15463, 15469, 15475, 15476, 15481, 15483, 15503, 15508, 15510, 15512, 15515, 15522, 15529, 15532, 15537, 15543, 15548, 15549, 15551, 15558, 15573, 15583, 15591, 15597, 15601, 15619, 15621, 15623, 15632, 15642, 15654, 15656, 15661, 15664, 15666, 15667, 15673, 15683, 15684, 15685, 15689, 15694, 15700, 15701, 15711, 15716, 15717, 15720, 15722, 15726, 15727, 15728, 15732, 15738, 15743, 15754, 15755, 15756, 15763, 15768, 15771, 15776, 15779, 15784, 15787, 15792, 15795, 15801, 15802, 15806, 15808, 15809, 15810, 15812, 15817, 15821, 15828, 15836, 15838, 15840, 15843, 15848, 15858, 15865, 15866, 15870, 15882, 15889, 15895, 15909, 15910, 15912, 15914, 15917, 15923, 15932, 15934, 15941, 15977, 15978, 15987, 15991, 15997, 16007, 16015, 16016, 16020, 16023, 16026, 16028, 16031, 16033, 16034, 16041, 16042, 16048, 16054, 16055, 16063, 16074, 16079, 16081, 16084, 16087, 16096, 16101, 16103, 16104, 16108, 16113, 16123, 16126, 16127, 16133, 16138, 16142, 16154, 16155, 16162, 16163, 16180, 16197, 16200, 16201, 16205, 16211, 16221, 16223, 16225, 16230, 16241, 16244, 16249, 16254, 16258, 16269, 16277, 16280, 16284, 16286, 16288, 16294, 16303, 16322, 16326, 16331, 16334, 16343, 16347, 16348, 16358, 16363, 16366, 16371, 16376, 16380, 16394, 16402, 16408, 16415, 16419, 16425, 16427, 16446, 16448, 16454, 16467, 16476, 16479, 16490, 16497, 16500, 16504, 16511, 16515, 16518, 16520, 16521, 16541, 16542, 16545, 16550, 16551, 16553, 16566, 16567, 16579, 16587, 16588, 16590, 16596, 16598, 16602, 16618, 16623, 16624, 16626, 16631, 16637, 16642, 16649, 16658, 16668, 16669, 16673, 16678, 16680, 16688, 16700, 16702, 16713, 16714, 16724, 16738, 16739, 16741, 16744, 16756, 16771, 16774, 16778, 16780, 16788, 16800, 16814, 16819, 16822, 16836, 16837, 16839, 16862, 16863, 16873, 16879, 16880, 16886, 16892, 16895, 16898, 16904, 16912, 16928, 16945, 16946, 16947, 16948, 16953, 16956, 16957, 16960, 16961, 16966, 16978, 16979, 16981, 16985, 16993, 16994, 17010, 17019, 17030, 17031, 17034, 17036, 17037, 17040, 17046, 17055, 17056, 17063, 17064, 17082, 17090, 17102, 17103, 17109, 17110, 17121, 17125, 17126, 17131, 17132, 17135, 17140, 17141, 17150, 17158, 17169, 17177, 17196, 17197, 17204, 17207, 17212, 17216, 17218, 17224, 17239, 17243, 17248, 17250, 17266, 17268, 17280, 17291, 17294, 17321, 17331, 17332, 17338, 17340, 17350, 17356, 17359, 17361, 17362, 17366, 17373, 17379, 17380, 17388, 17405, 17411, 17412, 17423, 17436, 17437, 17440, 17444, 17448, 17452, 17454, 17462, 17466, 17467, 17470, 17474, 17476, 17478, 17485, 17488, 17491, 17499, 17501, 17507, 17516, 17518, 17524, 17528, 17531, 17532, 17533, 17539, 17540, 17545, 17549, 17553, 17570, 17578, 17582, 17595, 17601, 17612, 17619, 17621, 17627, 17634, 17635, 17637, 17643, 17646, 17659, 17667, 17670, 17674, 17683, 17686, 17692, 17694, 17697, 17707, 17710, 17711, 17712, 17732, 17738, 17751, 17760, 17770, 17776, 17785, 17797, 17799, 17803, 17806, 17812, 17815, 17817, 17818, 17821, 17858, 17862, 17868, 17878, 17880, 17882, 17911, 17914, 17923, 17924, 17928, 17933, 17934, 17936, 17938, 17939, 17943, 17944, 17951, 17956, 17957, 17962, 17965, 17971, 17977, 17981, 17983, 17984, 17985, 17992, 17993, 18008, 18009, 18010, 18022, 18023, 18026, 18030, 18048, 18053, 18057, 18066, 18070, 18085, 18086, 18089, 18091, 18097, 18113, 18128, 18134, 18135, 18136, 18148, 18151, 18154, 18157, 18158, 18168, 18176, 18188, 18194, 18201, 18209, 18210, 18213, 18217, 18219, 18223, 18230, 18239, 18240, 18255, 18258, 18259, 18264, 18269, 18279, 18284, 18290, 18305, 18308, 18312, 18321, 18322, 18326, 18329, 18336, 18338, 18351, 18354, 18359, 18364, 18366, 18372, 18385, 18388, 18390, 18392, 18395, 18396, 18403, 18406, 18408, 18414, 18420, 18427, 18430, 18443, 18449, 18452, 18453, 18455, 18463, 18472, 18474, 18479, 18488, 18492, 18495, 18513, 18515, 18519, 18522, 18545, 18557, 18560, 18564, 18579, 18583, 18585, 18600, 18602, 18607, 18624, 18627, 18636, 18647, 18649, 18652, 18664, 18670, 18679, 18687, 18691, 18692, 18694, 18697, 18705, 18712, 18713, 18716, 18721, 18727, 18728, 18752, 18760, 18762, 18768, 18773, 18780, 18782, 18787, 18791, 18795, 18799, 18810, 18811, 18812, 18824, 18830, 18833, 18834, 18835, 18842, 18850, 18855, 18858, 18865, 18872, 18878, 18886, 18889, 18892, 18894, 18896, 18902, 18915, 18918, 18919, 18921, 18923, 18928, 18932, 18939, 18941, 18946, 18949, 18955, 18958, 18968, 18980, 18984, 18996, 19007, 19031, 19032, 19052, 19060, 19064, 19065, 19066, 19089, 19094, 19095, 19105, 19108, 19140, 19149, 19152, 19158, 19164, 19167, 19169, 19179, 19185, 19188, 19198, 19213, 19228, 19229, 19232, 19234, 19240, 19244, 19260, 19281, 19301, 19303, 19304, 19308, 19309, 19319, 19320, 19328, 19333, 19355, 19357, 19366, 19372, 19378, 19383, 19394, 19395, 19410, 19423, 19427, 19428, 19431, 19434, 19436, 19440, 19441, 19448, 19454, 19455, 19457, 19464, 19467, 19469, 19471, 19474, 19484, 19490, 19496, 19497, 19501, 19512, 19526, 19530, 19532, 19547, 19550, 19556, 19562, 19564, 19578, 19581, 19582, 19587, 19589, 19594, 19609, 19610, 19612, 19613, 19623, 19637, 19638, 19643, 19646, 19651, 19659, 19663, 19668, 19675, 19694, 19707, 19709, 19721, 19729, 19731, 19738, 19739, 19740, 19744, 19747, 19748, 19749, 19750, 19754, 19756, 19758, 19764, 19766, 19779, 19785, 19786, 19788, 19795, 19797, 19798, 19800, 19809, 19811, 19812, 19813, 19817, 19820, 19821, 19827, 19831, 19843, 19846, 19850, 19862, 19865, 19867, 19872, 19879, 19880, 19886, 19887, 19888, 19895, 19896, 19899, 19906, 19908, 19910, 19911, 19920, 19922, 19926, 19927, 19929, 19944, 19945, 19949, 19952, 19955, 19957, 19958, 19967, 19976, 19977, 19979, 19980, 19988, 19989, 19995, 20000, 20003, 20007, 20009, 20014, 20015, 20019, 20037, 20040, 20046, 20047, 20065, 20073, 20074, 20081, 20090, 20106, 20115, 20121, 20122, 20129, 20136, 20145, 20146, 20147, 20151, 20154, 20168, 20169, 20176, 20182, 20188, 20203, 20211, 20212, 20214, 20218, 20220, 20222, 20224, 20226, 20241, 20243, 20247, 20248, 20253, 20254, 20263, 20267, 20268, 20270, 20271, 20276, 20277, 20282, 20297, 20298, 20300, 20304, 20317, 20329, 20330, 20333, 20337, 20341, 20349, 20351, 20352, 20358, 20360, 20361, 20362, 20372, 20377, 20381, 20386, 20393, 20399, 20404, 20417, 20421, 20425, 20429, 20436, 20439, 20450, 20451, 20457, 20463, 20466, 20472, 20473, 20479, 20485, 20493, 20497, 20499, 20512, 20515, 20528, 20530, 20538, 20543, 20547, 20560, 20565, 20567, 20591, 20595, 20615, 20623, 20635, 20643, 20664, 20670, 20676, 20678, 20686, 20692, 20693, 20696, 20697, 20700, 20701, 20717, 20718, 20720, 20721, 20729, 20738, 20746, 20749, 20768, 20769, 20772, 20775, 20779, 20783, 20784, 20803, 20805, 20813, 20814, 20816, 20819, 20831, 20835, 20837, 20839, 20858, 20864, 20869, 20875, 20878, 20881, 20883, 20884, 20898, 20900, 20901, 20902, 20904, 20925, 20952, 20954, 20957, 20962, 20972, 20973, 20983, 21015, 21021, 21026, 21028, 21029, 21035, 21040, 21041, 21048, 21050, 21063, 21065, 21067, 21071, 21079, 21083, 21090, 21092, 21095, 21096, 21097, 21105, 21106, 21107, 21109, 21116, 21123, 21141, 21157, 21163, 21174, 21192, 21197, 21201, 21203, 21213, 21216, 21219, 21226, 21234, 21240, 21242, 21245, 21250, 21261, 21267, 21271, 21284, 21291, 21294, 21300, 21328, 21336, 21338, 21339, 21346, 21352, 21355, 21360, 21363, 21365, 21372, 21376, 21385, 21389, 21391, 21397, 21409, 21410, 21413, 21426, 21432, 21433, 21438, 21440, 21441, 21442, 21460, 21476, 21479, 21494, 21497, 21504, 21510, 21516, 21522, 21541, 21547, 21548, 21551, 21555, 21559, 21566, 21567, 21572, 21581, 21601, 21610, 21617, 21621, 21625, 21633, 21656, 21658, 21660, 21676, 21682, 21694, 21697, 21699, 21702, 21703, 21711, 21723, 21724, 21730, 21732, 21740, 21750, 21753, 21757, 21761, 21762, 21775, 21776, 21780, 21786, 21788, 21793, 21803, 21809, 21811, 21813, 21816, 21824, 21831, 21833, 21835, 21840, 21842, 21845, 21851, 21854, 21867, 21868, 21871, 21876, 21878, 21883, 21892, 21893, 21900, 21901, 21902, 21903, 21909, 21913, 21918, 21919, 21920, 21926, 21933, 21937, 21938, 21941, 21950, 21957, 21958, 21974, 21986, 21991, 21997, 22002, 22005, 22020, 22048, 22055, 22066, 22071, 22072, 22074, 22082, 22085, 22092, 22094, 22102, 22104, 22107, 22117, 22118, 22122, 22126, 22127, 22128, 22129, 22134, 22138, 22139, 22144, 22149, 22158, 22159, 22172, 22175, 22178, 22186, 22188, 22192, 22203, 22205, 22218, 22227, 22234, 22239, 22242, 22245, 22250, 22251, 22254, 22282, 22284, 22286, 22291, 22295, 22296, 22306, 22326, 22330, 22331, 22342, 22353, 22355, 22359, 22366, 22374, 22376, 22377, 22380, 22396, 22397, 22402, 22404, 22414, 22426, 22431, 22434, 22448, 22450, 22451, 22476, 22477, 22483, 22486, 22492, 22519, 22520, 22524, 22525, 22526, 22527, 22528, 22531, 22544, 22556, 22559, 22561, 22563, 22568, 22576, 22595, 22598, 22599, 22606, 22612, 22614, 22635, 22636, 22654, 22655, 22659, 22661, 22665, 22673, 22679, 22680, 22681, 22688, 22691, 22698, 22719, 22725, 22727, 22729, 22736, 22746, 22750, 22751, 22755, 22760, 22771, 22779, 22780, 22791, 22793, 22801, 22802, 22809, 22823, 22825, 22836, 22852, 22854, 22859, 22860, 22867, 22869, 22878, 22879, 22882, 22892, 22895, 22901, 22902, 22904, 22906, 22909, 22920, 22921, 22923, 22924, 22932, 22946, 22953, 22956, 22959, 22961, 22962, 22963, 22964, 22970, 22981, 22986, 22990, 23006, 23009, 23012, 23016, 23018, 23020, 23027, 23033, 23035, 23040, 23044, 23046, 23047, 23055, 23058, 23059, 23070, 23072, 23075, 23076, 23078, 23083, 23086, 23087, 23107, 23109, 23111, 23133, 23134, 23136, 23142, 23149, 23157, 23158, 23160, 23161, 23162, 23168, 23169, 23173, 23182, 23183, 23190, 23192, 23196, 23202, 23204, 23207, 23209, 23212, 23213, 23214, 23218, 23222, 23224, 23230, 23232, 23238, 23244, 23245, 23248, 23249, 23253, 23262, 23264, 23267, 23268, 23272, 23274, 23275, 23279, 23280, 23296, 23300, 23303, 23309, 23310, 23311, 23325, 23329, 23336, 23339, 23340, 23341, 23343, 23350, 23354, 23356, 23369, 23377, 23382, 23391, 23392, 23402, 23408, 23418, 23421, 23433, 23439, 23442, 23445, 23462, 23466, 23470, 23479, 23483, 23494, 23503, 23508, 23509, 23513, 23514, 23524, 23530, 23538, 23539, 23542, 23543, 23553, 23556, 23566, 23571, 23572, 23573, 23575, 23578, 23580, 23581, 23584, 23587, 23591, 23594, 23597, 23603, 23609, 23615, 23618, 23619, 23620, 23621, 23625, 23633, 23637, 23642, 23644, 23646, 23651, 23653, 23656, 23661, 23663, 23672, 23677, 23680, 23683, 23692, 23699, 23710, 23711, 23715, 23717, 23723, 23724, 23726, 23729, 23730, 23732, 23733, 23740, 23741, 23745, 23750, 23751, 23763, 23775, 23785, 23795, 23797, 23809, 23824, 23835, 23839, 23843, 23844, 23855, 23862, 23877, 23880, 23882, 23884, 23885, 23893, 23897, 23898, 23899, 23912, 23915, 23916, 23917, 23918, 23935, 23938, 23939, 23941, 23942, 23943, 23951, 23959, 23960, 23964, 23965, 23970, 23973, 23974, 23982, 23993, 23998, 24006, 24008, 24014, 24025, 24030, 24033, 24039, 24044, 24045, 24047, 24052, 24061, 24063, 24066, 24073, 24077, 24080, 24084, 24087, 24095, 24108, 24109, 24110, 24111, 24125, 24131, 24138, 24141, 24144, 24152, 24158, 24162, 24163, 24171, 24174, 24180, 24186, 24193, 24216, 24219, 24222, 24233, 24236, 24252, 24260, 24264, 24266, 24271, 24272, 24274, 24291, 24309, 24312, 24313, 24326, 24334, 24335, 24338, 24343, 24349, 24358, 24359, 24369, 24386, 24387, 24392, 24394, 24395, 24397, 24402, 24407, 24422, 24424, 24428, 24433, 24438, 24441, 24445, 24450, 24453, 24463, 24479, 24491, 24498, 24515, 24517, 24518, 24530, 24537, 24538, 24539, 24552, 24553, 24554, 24555, 24560, 24565, 24575, 24581, 24602, 24613, 24620, 24638, 24641, 24644, 24645, 24650, 24653, 24670, 24675, 24684, 24697, 24700, 24703, 24711, 24716, 24725, 24726, 24727, 24730, 24741, 24749, 24753, 24755, 24762, 24763, 24766, 24769, 24781, 24783, 24785, 24792, 24794, 24803, 24805, 24815, 24818, 24823, 24824, 24836, 24841, 24846, 24850, 24851, 24858, 24859, 24872, 24877, 24885, 24889, 24894, 24896, 24897, 24904, 24906, 24909, 24912, 24913, 24914, 24917, 24919, 24926, 24931, 24933, 24945, 24947, 24961, 24975, 24980, 24983, 24990, 24991, 24998, 25000, 25014, 25015, 25017, 25030, 25040, 25047, 25048, 25053, 25060, 25066, 25068, 25070, 25075, 25076, 25081, 25082, 25086, 25087, 25091, 25097, 25109, 25116, 25129, 25136, 25144, 25145, 25146, 25147, 25148, 25159, 25186, 25187, 25194, 25209, 25213, 25219, 25221, 25222, 25225, 25251, 25253, 25254, 25256, 25259, 25268, 25269, 25271, 25272, 25273, 25274, 25281, 25285, 25290, 25292, 25295, 25303, 25306, 25310, 25311, 25314, 25319, 25321, 25326, 25332, 25346, 25350, 25351, 25352, 25354, 25359, 25361, 25366, 25375, 25383, 25388, 25396, 25397, 25398, 25401, 25405, 25406, 25408, 25418, 25424, 25426, 25431, 25436, 25452, 25459, 25460, 25463, 25465, 25466, 25471, 25475, 25478, 25479, 25487, 25492, 25497, 25502, 25503, 25505, 25507, 25518, 25524, 25526, 25527, 25533, 25536, 25545, 25551, 25563, 25572, 25577, 25579, 25580, 25585, 25587, 25589, 25606, 25607, 25608, 25613, 25617, 25626, 25632, 25639, 25644, 25645, 25649, 25656, 25659, 25664, 25667, 25670, 25672, 25679, 25683, 25688, 25693, 25695, 25697, 25698, 25701, 25705, 25706, 25707, 25715, 25717, 25726, 25728, 25729, 25731, 25734, 25735, 25737, 25738, 25739, 25740, 25743, 25744, 25747, 25761, 25762, 25769, 25770, 25776, 25777, 25800, 25805, 25808, 25813, 25816, 25823, 25824, 25826, 25830, 25833, 25842, 25843, 25845, 25847, 25862, 25864, 25872, 25875, 25877, 25880, 25883, 25889, 25903, 25909, 25911, 25917, 25927, 25940, 25942, 25958, 25968, 25970, 25976, 25977, 25984, 25988, 25999, 26001, 26003, 26007, 26013, 26015, 26026, 26031, 26036, 26052, 26060, 26062, 26063, 26064, 26066, 26068, 26071, 26073, 26078, 26083, 26108, 26112, 26114, 26118, 26126, 26129, 26132, 26138, 26143, 26155, 26156, 26161, 26162, 26164, 26166, 26180, 26182, 26185, 26204, 26209, 26210, 26217, 26223, 26227, 26229, 26235, 26236, 26237, 26245, 26258, 26261, 26266, 26268, 26272, 26274, 26276, 26289, 26291, 26299, 26301, 26307, 26308, 26317, 26333, 26337, 26349, 26350, 26360, 26362, 26363, 26371, 26372, 26379, 26383, 26387, 26388, 26396, 26408, 26410, 26414, 26416, 26421, 26426, 26428, 26435, 26436, 26459, 26461, 26465, 26472, 26477, 26492, 26497, 26515, 26527, 26535, 26545, 26547, 26553, 26556, 26560, 26570, 26572, 26578, 26581, 26582, 26584, 26595, 26623, 26635, 26650, 26651, 26662, 26671, 26676, 26688, 26691, 26693, 26698, 26703, 26708, 26716, 26717, 26732, 26737, 26739, 26749, 26760, 26762, 26763, 26770, 26776, 26787, 26788, 26805, 26811, 26832, 26839, 26848, 26854, 26859, 26861, 26863, 26868, 26873, 26877, 26882, 26883, 26889, 26894, 26899, 26904, 26907, 26908, 26910, 26912, 26947, 26949, 26950, 26955, 26960, 26961, 26965, 26970, 26975, 26988, 26992, 27001, 27008, 27013, 27016, 27021, 27035, 27046, 27048, 27049, 27050, 27054, 27055, 27056, 27059, 27062, 27073, 27078, 27079, 27090, 27100, 27103, 27108, 27116, 27122, 27123, 27126, 27137, 27139, 27144, 27154, 27158, 27160, 27162, 27164, 27171, 27173, 27174, 27190, 27191, 27194, 27200, 27204, 27205, 27206, 27208, 27214, 27215, 27220, 27240, 27242, 27247, 27267, 27270, 27271, 27274, 27283, 27285, 27287, 27294, 27300, 27306, 27310, 27313, 27316, 27318, 27321, 27326, 27327, 27342, 27354, 27365, 27367, 27369, 27371, 27377, 27378, 27385, 27388, 27390, 27401, 27405, 27409, 27416, 27428, 27430, 27453, 27458, 27460, 27465, 27467, 27469, 27470, 27471, 27485, 27486, 27496, 27499, 27511, 27515, 27517, 27520, 27526, 27529, 27538, 27539, 27542, 27550, 27579, 27580, 27582, 27598, 27611, 27616, 27621, 27634, 27654, 27665, 27670, 27678, 27683, 27684, 27692, 27696, 27700, 27708, 27718, 27722, 27724, 27744, 27746, 27755, 27758, 27762, 27767, 27775, 27783, 27787, 27789, 27814, 27819, 27827, 27838, 27841, 27851, 27854, 27856, 27859, 27870, 27872, 27875, 27876, 27879, 27885, 27894, 27895, 27899, 27900, 27903, 27906, 27909, 27917, 27919, 27927, 27929, 27931, 27932, 27936, 27939, 27945, 27948, 27961, 27962, 27971, 27978, 27979, 27981, 27984, 27986, 27998, 28001, 28006, 28022, 28039, 28045, 28046, 28058, 28064, 28067, 28069, 28073, 28083, 28084, 28086, 28107, 28111, 28122, 28126, 28139, 28158, 28161, 28163, 28168, 28182, 28185, 28192, 28194, 28197, 28209, 28211, 28219, 28229, 28231, 28236, 28238, 28249, 28251, 28253, 28262, 28263, 28267, 28269, 28275, 28281, 28282, 28283, 28291, 28300, 28306, 28320, 28321, 28323, 28328, 28330, 28343, 28344, 28351, 28354, 28361, 28370, 28374, 28380, 28381, 28383, 28391, 28393, 28403, 28422, 28443, 28446, 28451, 28454, 28456, 28464, 28473, 28479, 28485, 28486, 28487, 28490, 28496, 28497, 28502, 28504, 28514, 28531, 28533, 28536, 28541, 28546, 28551, 28553, 28570, 28571, 28573, 28574, 28575, 28576, 28582, 28600, 28605, 28610, 28615, 28629, 28633, 28639, 28640, 28649, 28653, 28655, 28657, 28664, 28670, 28681, 28687, 28689, 28693, 28709, 28714, 28720, 28722, 28728, 28748, 28750, 28752, 28761, 28762, 28763, 28777, 28782, 28783, 28787, 28794, 28802, 28803, 28808, 28829, 28831, 28832, 28833, 28836, 28839, 28847, 28849, 28855, 28857, 28860, 28862, 28866, 28872, 28883, 28902, 28905, 28906, 28911, 28912, 28913, 28916, 28924, 28937, 28938, 28942, 28944, 28952, 28963, 28968, 28971, 28979, 28985, 28986, 28989, 28995, 29004, 29017, 29019, 29020, 29029, 29031, 29033, 29034, 29038, 29047, 29054, 29058, 29059, 29066, 29075, 29080, 29084, 29085, 29086, 29094, 29101, 29110, 29114, 29115, 29127, 29131, 29139, 29148, 29155, 29162, 29165, 29166, 29173, 29174, 29178, 29184, 29185, 29190, 29194, 29195, 29197, 29204, 29207, 29208, 29211, 29221, 29232, 29240, 29254, 29258, 29261, 29262, 29263, 29277, 29280, 29281, 29284, 29291, 29293, 29294, 29296, 29309, 29312, 29316, 29333, 29335, 29336, 29339, 29350, 29357, 29358, 29368, 29371, 29372, 29378, 29393, 29396, 29402, 29406, 29409, 29415, 29419, 29421, 29422, 29425, 29427, 29428, 29430, 29451, 29454, 29456, 29466, 29471, 29475, 29480, 29492, 29499, 29503, 29504, 29505, 29508, 29516, 29517, 29522, 29527, 29530, 29535, 29537, 29541, 29553, 29559, 29562, 29566, 29573, 29579, 29580, 29600, 29616, 29634, 29640, 29648, 29651, 29663, 29676, 29677, 29684, 29687, 29688, 29689, 29691, 29692, 29694, 29696, 29720, 29736, 29737, 29740, 29746, 29748, 29752, 29754, 29757, 29762, 29765, 29769, 29771, 29781, 29784, 29788, 29790, 29791, 29796, 29809, 29814, 29816, 29831, 29837, 29838, 29839, 29841, 29842, 29846, 29847, 29851, 29859, 29864, 29885, 29889, 29893, 29901, 29905, 29913, 29922, 29924, 29937, 29947, 29954, 29968, 29976, 29978, 29983, 29987, 29988, 29991, 29995, 30005, 30008, 30009, 30012, 30019, 30025, 30027, 30028, 30034, 30044, 30046, 30060, 30061, 30066, 30075, 30080, 30085, 30087, 30089, 30092, 30101, 30102, 30105, 30108, 30119, 30121, 30125, 30126, 30128, 30132, 30133, 30135, 30143, 30144, 30145, 30146, 30150, 30153, 30155, 30156, 30159, 30169, 30170, 30171, 30174, 30177, 30189, 30207, 30208, 30216, 30226, 30231, 30233, 30236, 30237, 30238, 30243, 30253, 30254, 30256, 30279, 30281, 30288, 30290, 30313, 30315, 30320, 30327, 30331, 30334, 30338, 30348, 30365, 30372, 30377, 30380, 30384, 30385, 30388, 30392, 30393, 30394, 30404, 30411, 30412, 30413, 30417, 30418, 30422, 30430, 30431, 30432, 30455, 30464, 30467, 30474, 30476, 30480, 30481, 30489, 30498, 30499, 30500, 30509, 30514, 30516, 30527, 30533, 30534, 30536, 30537, 30541, 30543, 30547, 30554, 30558, 30567, 30568, 30570, 30581, 30582, 30583, 30585, 30586, 30600, 30605, 30611, 30621, 30622, 30623, 30640, 30644, 30645, 30654, 30660, 30662, 30665, 30678, 30683, 30697, 30709, 30728, 30733, 30735, 30739, 30745, 30746, 30752, 30760, 30770, 30771, 30773, 30782, 30789, 30796, 30807, 30816, 30820, 30821, 30822, 30830, 30832, 30833, 30836, 30837, 30847, 30868, 30872, 30880, 30904, 30912, 30932, 30946, 30951, 30956, 30962, 30970, 30980, 30981, 30983, 30986, 30987, 30989, 30992, 31000, 31008, 31009, 31014, 31017, 31019, 31035, 31036, 31037, 31057, 31058, 31066, 31069, 31079, 31082, 31093, 31110, 31116, 31121, 31125, 31128, 31130, 31133, 31138, 31140, 31146, 31155, 31156, 31164, 31165, 31167, 31170, 31173, 31181, 31205, 31215, 31221, 31222, 31223, 31226, 31229, 31235, 31237, 31240, 31242, 31243, 31244, 31255, 31267, 31283, 31284, 31286, 31290, 31295, 31298, 31303, 31308, 31315, 31324, 31330, 31332, 31338, 31340, 31359, 31361, 31372, 31379, 31381, 31386, 31390, 31399, 31402, 31410, 31411, 31414, 31425, 31443, 31445, 31452, 31458, 31462, 31466, 31469, 31470, 31472, 31475, 31476, 31481, 31483, 31485, 31495, 31496, 31500, 31502, 31510, 31512, 31522, 31525, 31526, 31530, 31537, 31538, 31539, 31543, 31553, 31554, 31558, 31576, 31590, 31610, 31611, 31614, 31622, 31629, 31632, 31652, 31659, 31674, 31679, 31682, 31684, 31687, 31691, 31696, 31697, 31713, 31715, 31717, 31718, 31722, 31728, 31738, 31741, 31743, 31746, 31747, 31748, 31750, 31757, 31759, 31785, 31786, 31794, 31803, 31804, 31819, 31823, 31825, 31826, 31831, 31834, 31835, 31837, 31839, 31841, 31855, 31867, 31871, 31875, 31877, 31889, 31903, 31907, 31910, 31914, 31930, 31935, 31948, 31951, 31952, 31972, 31978, 31981, 31989, 31999, 32004, 32010, 32011, 32014, 32021, 32028, 32029, 32040, 32046, 32050, 32057, 32066, 32073, 32087, 32088, 32094, 32095, 32104, 32114, 32117, 32134, 32138, 32141, 32142, 32143, 32150, 32167, 32168, 32171, 32174, 32177, 32179, 32181, 32184, 32190, 32193, 32197, 32198, 32199, 32206, 32214, 32216, 32221, 32225, 32242, 32245, 32253, 32262, 32265, 32271, 32273, 32301, 32305, 32312, 32316, 32318, 32322, 32325, 32326, 32328, 32331, 32344, 32350, 32359, 32365, 32366, 32374, 32380, 32381, 32385, 32387, 32394, 32396, 32397, 32399, 32407, 32408, 32412, 32424, 32427, 32429, 32431, 32432, 32434, 32445, 32460, 32484, 32486, 32496, 32507, 32508, 32511, 32515, 32521, 32522, 32525, 32528, 32532, 32539, 32543, 32544, 32558, 32565, 32566, 32571, 32572, 32583, 32586, 32587, 32592, 32593, 32597, 32603, 32622, 32626, 32640, 32650, 32655, 32659, 32661, 32684, 32689, 32700, 32703, 32721, 32737, 32759, 32776, 32782, 32785, 32797, 32808, 32812, 32817, 32821, 32830, 32835, 32836, 32842, 32845, 32882, 32885, 32887, 32895, 32901, 32903, 32904, 32906, 32908, 32913, 32934, 32939, 32952, 32954, 32962, 32972, 32981, 32983, 32984, 32985, 32986, 32994, 32997, 32998, 32999, 33001, 33006, 33019, 33022, 33049, 33051, 33064, 33070, 33071, 33074, 33076, 33086, 33088, 33092, 33095, 33101, 33106, 33107, 33115, 33119, 33121, 33127, 33132, 33136, 33142, 33145, 33147, 33148, 33149, 33151, 33190, 33197, 33199, 33210, 33221, 33222, 33226, 33237, 33240, 33255, 33256, 33258, 33271, 33272, 33275, 33276, 33280, 33282, 33284, 33291, 33298, 33310, 33317, 33319, 33321, 33322, 33329, 33337, 33339, 33342, 33346, 33359, 33362, 33366, 33368, 33369, 33370, 33375, 33381, 33389, 33392, 33393, 33400, 33410, 33420, 33421, 33429, 33434, 33437, 33440, 33450, 33456, 33461, 33463, 33465, 33474, 33475, 33478, 33480, 33482, 33487, 33492, 33497, 33498, 33506, 33510, 33512, 33524, 33528, 33531, 33542, 33543, 33545, 33549, 33553, 33559, 33567, 33575, 33584, 33585, 33590, 33594, 33598, 33601, 33618, 33639, 33655, 33656, 33657, 33661, 33678, 33687, 33690, 33692, 33702, 33713, 33719, 33728, 33741, 33753, 33760, 33761, 33769, 33778, 33788, 33795, 33797, 33801, 33810, 33818, 33828, 33834, 33838, 33839, 33840, 33864, 33867, 33869, 33870, 33878, 33890, 33900, 33901, 33910, 33911, 33915, 33919, 33921, 33926, 33928, 33945, 33947, 33951, 33955, 33958, 33961, 33969, 33976, 33980, 33989, 33991, 33992, 34004, 34008, 34018, 34038, 34044, 34071, 34081, 34085, 34088, 34095, 34097, 34100, 34104, 34106, 34112, 34120, 34123, 34126, 34127, 34132, 34140, 34142, 34151, 34157, 34159, 34171, 34183, 34185, 34189, 34195, 34207, 34212, 34218, 34221, 34262, 34263, 34265, 34266, 34274, 34275, 34280, 34282, 34283, 34284, 34290, 34298, 34303, 34308, 34319, 34323, 34328, 34330, 34342, 34343, 34345, 34346, 34348, 34349, 34351, 34368, 34377, 34380, 34383, 34387, 34390, 34393, 34396, 34402, 34405, 34407, 34410, 34416, 34418, 34419, 34425, 34434, 34437, 34439, 34440, 34441, 34445, 34447, 34448, 34452, 34468, 34470, 34471, 34473, 34478, 34487, 34518, 34523, 34526, 34538, 34552, 34555, 34556, 34560, 34563, 34570, 34576, 34578, 34588, 34590, 34592, 34595, 34611, 34619, 34622, 34626, 34635, 34641, 34646, 34657, 34658, 34660, 34664, 34676, 34679, 34682, 34694, 34696, 34700, 34708, 34711, 34714, 34725, 34730, 34731, 34739, 34741, 34746, 34748, 34750, 34753, 34773, 34774, 34791, 34794, 34795, 34796, 34805, 34807, 34814, 34830, 34838, 34842, 34843, 34845, 34846, 34853, 34860, 34865, 34874, 34883, 34885, 34889, 34892, 34895, 34908, 34912, 34918, 34920, 34921, 34923, 34928, 34929, 34931, 34933, 34937, 34938, 34940, 34942, 34946, 34953, 34956, 34981, 34984, 34988, 34991, 34992, 34995, 35002, 35003, 35010, 35034, 35041, 35047, 35050, 35059, 35072, 35074, 35078, 35080, 35085, 35086, 35087, 35089, 35090, 35094, 35095, 35097, 35099, 35107, 35110, 35113, 35121, 35133, 35143, 35147, 35164, 35167, 35174, 35175, 35191, 35196, 35203, 35209, 35211, 35214, 35231, 35233, 35234, 35235, 35239, 35240, 35243, 35254, 35261, 35263, 35269, 35271, 35279, 35280, 35283, 35285, 35286, 35288, 35314, 35321, 35325, 35328, 35332, 35333, 35341, 35342, 35357, 35360, 35362, 35364, 35366, 35388, 35391, 35403, 35409, 35413, 35415, 35416, 35418, 35437, 35440, 35445, 35447, 35449, 35454, 35456, 35460, 35461, 35462, 35464, 35473, 35477, 35486, 35490, 35493, 35508, 35514, 35523, 35528, 35543, 35550, 35551, 35552, 35554, 35556, 35562, 35565, 35569, 35571, 35580, 35581, 35582, 35585, 35590, 35592, 35595, 35600, 35605, 35612, 35623, 35635, 35637, 35642, 35652, 35657, 35658, 35665, 35669, 35673, 35675, 35680, 35683, 35685, 35687, 35692, 35696, 35697, 35699, 35703, 35717, 35718, 35720, 35727, 35746, 35750, 35760, 35766, 35768, 35772, 35774, 35775, 35785, 35792, 35800, 35801, 35802, 35805, 35806, 35810, 35812, 35814, 35817, 35827, 35830, 35838, 35853, 35864, 35869, 35871, 35875, 35882, 35888, 35898, 35899, 35906, 35912, 35917, 35919, 35922, 35924, 35928, 35932, 35940, 35941, 35945, 35954, 35961, 35962, 35967, 35983, 35984, 35985, 35991, 36011, 36019, 36022, 36024, 36027, 36028, 36031, 36034, 36041, 36043, 36045, 36049, 36061, 36068, 36071, 36073, 36074, 36078, 36084, 36090, 36102, 36106, 36118, 36119, 36122, 36125, 36128, 36130, 36131, 36137, 36138, 36148, 36150, 36165, 36173, 36178, 36188, 36210, 36211, 36222, 36227, 36229, 36231, 36233, 36245, 36247, 36252, 36253, 36256, 36275, 36282, 36298, 36301, 36305, 36311, 36312, 36314, 36316, 36320, 36322, 36325, 36326, 36329, 36330, 36332, 36335, 36346, 36349, 36354, 36356, 36359, 36372, 36378, 36381, 36387, 36391, 36400, 36403, 36406, 36411, 36413, 36428, 36431, 36454, 36463, 36465, 36471, 36478, 36483, 36495, 36496, 36498, 36500, 36501, 36503, 36509, 36511, 36517, 36525, 36528, 36534, 36543, 36544, 36546, 36547, 36553, 36558, 36562, 36564, 36571, 36572, 36577, 36579, 36581, 36583, 36588, 36592, 36599, 36605, 36609, 36616, 36618, 36629, 36637, 36650, 36652, 36654, 36655, 36656, 36657, 36676, 36691, 36701, 36711, 36712, 36716, 36717, 36718, 36720, 36721, 36722, 36724, 36727, 36729, 36730, 36733, 36734, 36736, 36742, 36744, 36755, 36756, 36758, 36765, 36776, 36781, 36789, 36792, 36798, 36799, 36800, 36802, 36804, 36807, 36809, 36810, 36819, 36820, 36828, 36842, 36845, 36847, 36853, 36854, 36856, 36859, 36869, 36870, 36871, 36872, 36879, 36888, 36894, 36897, 36906, 36913, 36914, 36915, 36918, 36923, 36926, 36928, 36936, 36939, 36940, 36942, 36955, 36956, 36963, 36979, 36989, 36991, 37002, 37005, 37018, 37024, 37029, 37056, 37057, 37060, 37073, 37081, 37085, 37088, 37094, 37101, 37123, 37128, 37131, 37133, 37134, 37136, 37138, 37141, 37150, 37157, 37165, 37172, 37187, 37191, 37192, 37208, 37212, 37220, 37230, 37234, 37246, 37253, 37258, 37266, 37268, 37274, 37281, 37282, 37287, 37289, 37290, 37295, 37296, 37306, 37307, 37308, 37317, 37340, 37342, 37350, 37355, 37359, 37364, 37373, 37377, 37378, 37380, 37394, 37399, 37405, 37415, 37416, 37421, 37424, 37427, 37430, 37431, 37432, 37437, 37446, 37453, 37464, 37470, 37471, 37472, 37482, 37484, 37487, 37512, 37516, 37522, 37525, 37530, 37536, 37539, 37540, 37548, 37549, 37551, 37555, 37561, 37578, 37580, 37589, 37600, 37626, 37638, 37641, 37644, 37648, 37649, 37663, 37667, 37673, 37675, 37677, 37678, 37679, 37680, 37684, 37685, 37696, 37703, 37706, 37708, 37710, 37715, 37722, 37729, 37740, 37744, 37746, 37747, 37749, 37759, 37763, 37765, 37770, 37777, 37791, 37806, 37807, 37811, 37812, 37815, 37816, 37818, 37821, 37826, 37827, 37833, 37839, 37849, 37858, 37863, 37871, 37884, 37890, 37902, 37904, 37911, 37915, 37923, 37928, 37945, 37967, 37982, 37988, 37997, 37999, 38003, 38004, 38018, 38026, 38030, 38038, 38063, 38073, 38084, 38095, 38097, 38101, 38102, 38107, 38112, 38115, 38119, 38120, 38138, 38141, 38152, 38153, 38156, 38169, 38172, 38174, 38188, 38190, 38193, 38196, 38198, 38212, 38217, 38219, 38220, 38221, 38226, 38227, 38230, 38234, 38237, 38241, 38243, 38244, 38246, 38249, 38251, 38253, 38257, 38272, 38276, 38281, 38290, 38294, 38296, 38298, 38304, 38307, 38322, 38323, 38326, 38328, 38330, 38331, 38333, 38334, 38346, 38347, 38349, 38354, 38357, 38362, 38364, 38367, 38380, 38381, 38387, 38391, 38394, 38395, 38399, 38402, 38406, 38432, 38444, 38445, 38449, 38458, 38459, 38461, 38462, 38463, 38470, 38471, 38473, 38488, 38493, 38496, 38497, 38498, 38499, 38502, 38508, 38520, 38535, 38559, 38563, 38564, 38579, 38581, 38583, 38597, 38600, 38603, 38610, 38612, 38615, 38620, 38623, 38627, 38632, 38638, 38643, 38651, 38657, 38664, 38665, 38667, 38684, 38686, 38693, 38707, 38708, 38712, 38713, 38725, 38727, 38729, 38743, 38744, 38751, 38753, 38763, 38764, 38771, 38774, 38785, 38792, 38793, 38805, 38815, 38818, 38830, 38842, 38843, 38844, 38851, 38852, 38860, 38862, 38866, 38870, 38879, 38883, 38901, 38902, 38904, 38906, 38911, 38931, 38953, 38954, 38957, 38964, 38965, 38972, 38973, 38974, 38976, 38980, 38981, 38988, 38991, 38999, 39021, 39028, 39030, 39058, 39065, 39067, 39070, 39081, 39082, 39083, 39092, 39101, 39105, 39106, 39135, 39138, 39144, 39145, 39146, 39158, 39177, 39186, 39189, 39210, 39219, 39231, 39236, 39240, 39243, 39248, 39252, 39254, 39256, 39259, 39260, 39263, 39264, 39265, 39267, 39270, 39276, 39280, 39290, 39297, 39299, 39308, 39312, 39314, 39316, 39317, 39318, 39324, 39325, 39331, 39334, 39352, 39353, 39354, 39356, 39360, 39375, 39384, 39398, 39408, 39410, 39411, 39417, 39418, 39419, 39422, 39426, 39432, 39433, 39436, 39437, 39438, 39448, 39449, 39450, 39455, 39458, 39465, 39473, 39476, 39477, 39479, 39500, 39506, 39523, 39524, 39525, 39528, 39531, 39532, 39538, 39553, 39564, 39584, 39586, 39591, 39595, 39604, 39609, 39622, 39635, 39639, 39644, 39645, 39653, 39654, 39663, 39667, 39669, 39671, 39685, 39696, 39697, 39702, 39704, 39705, 39707, 39709, 39716, 39730, 39732, 39733, 39740, 39751, 39756, 39760, 39763, 39774, 39775, 39786, 39790, 39796, 39797, 39800, 39806, 39807, 39809, 39816, 39820, 39838, 39848, 39867, 39870, 39874, 39875, 39878, 39882, 39885, 39893, 39911, 39916, 39918, 39921, 39926, 39935, 39946, 39951, 39952, 39955, 39958, 39963, 39970, 39983, 39986, 39987, 39989, 39991, 39992, 40008, 40011, 40014, 40024, 40028, 40029, 40031, 40035, 40044, 40050, 40054, 40057, 40058, 40059, 40069, 40074, 40076, 40077, 40085, 40087, 40089, 40101, 40108, 40113, 40122, 40127, 40139, 40144, 40147, 40155, 40160, 40170, 40183, 40204, 40214, 40216, 40228, 40232, 40240, 40245, 40274, 40290, 40293, 40296, 40298, 40303, 40305, 40316, 40332, 40337, 40338, 40339, 40357, 40359, 40363, 40367, 40372, 40380, 40391, 40396, 40404, 40408, 40412, 40414, 40417, 40442, 40443, 40446, 40452, 40459, 40462, 40463, 40470, 40473, 40480, 40482, 40483, 40488, 40495, 40517, 40525, 40532, 40538, 40546, 40554, 40555, 40563, 40564, 40566, 40572, 40581, 40593, 40604, 40606, 40608, 40622, 40624, 40632, 40639, 40640, 40646, 40651, 40661, 40664, 40669, 40672, 40674, 40688, 40690, 40698, 40702, 40708, 40711, 40721, 40726, 40728, 40733, 40755, 40759, 40768, 40772, 40780, 40786, 40803, 40804, 40812, 40813, 40818, 40819, 40822, 40827, 40830, 40840, 40841, 40854, 40860, 40862, 40867, 40870, 40874, 40877, 40910, 40913, 40921, 40923, 40927, 40928, 40933, 40934, 40939, 40960, 40965, 40966, 40982, 40989, 40991, 40996, 40997, 40999, 41005, 41006, 41007, 41024, 41034, 41039, 41053, 41062, 41065, 41073, 41093, 41097, 41099, 41104, 41109, 41111, 41142, 41143, 41152, 41156, 41159, 41180, 41181, 41199, 41228, 41233, 41240, 41241, 41243, 41248, 41252, 41257, 41262, 41264, 41265, 41274, 41275, 41279, 41291, 41293, 41303, 41305, 41306, 41307, 41308, 41315, 41316, 41318, 41319, 41327, 41332, 41348, 41358, 41366, 41374, 41378, 41380, 41381, 41382, 41387, 41398, 41408, 41410, 41417, 41424, 41430, 41431, 41447, 41458, 41460, 41461, 41481, 41495, 41496, 41504, 41506, 41511, 41513, 41518, 41521, 41530, 41532, 41551, 41564, 41567, 41568, 41576, 41609, 41612, 41619, 41623, 41626, 41642, 41644, 41646, 41650, 41661, 41663, 41664, 41665, 41686, 41691, 41692, 41698, 41703, 41704, 41705, 41708, 41717, 41718, 41719, 41721, 41726, 41733, 41740, 41750, 41762, 41764, 41774, 41776, 41781, 41786, 41787, 41788, 41795, 41797, 41802, 41803, 41808, 41856, 41860, 41861, 41875, 41881, 41887, 41888, 41895, 41896, 41898, 41901, 41915, 41923, 41936, 41943, 41944, 41950, 41953, 41956, 41961, 41970, 41974, 41979, 41993, 42017, 42025, 42032, 42034, 42040, 42054, 42056, 42058, 42065, 42067, 42073, 42081, 42082, 42086, 42093, 42095, 42111, 42115, 42123, 42125, 42127, 42133, 42135, 42140, 42147, 42148, 42153, 42154, 42155, 42162, 42174, 42178, 42181, 42182, 42186, 42187, 42195, 42196, 42200, 42205, 42210, 42215, 42229, 42244, 42248, 42250, 42254, 42257, 42265, 42277, 42285, 42292, 42299, 42303, 42308, 42309, 42311, 42317, 42325, 42338, 42340, 42351, 42357, 42374, 42377, 42384, 42385, 42389, 42392, 42396, 42398, 42407, 42408, 42411, 42413, 42415, 42421, 42432, 42443, 42447, 42454, 42460, 42474, 42478, 42480, 42484, 42485, 42501, 42508, 42509, 42513, 42520, 42524, 42529, 42532, 42546, 42547, 42555, 42564, 42570, 42574, 42577, 42579, 42588, 42598, 42600, 42605, 42606, 42608, 42609, 42610, 42611, 42612, 42615, 42640, 42649, 42655, 42659, 42662, 42663, 42665, 42673, 42680, 42684, 42690, 42691, 42692, 42695, 42701, 42703, 42706, 42711, 42714, 42717, 42737, 42738, 42740, 42741, 42749, 42751, 42764, 42766, 42773, 42774, 42779, 42781, 42793, 42794, 42805, 42807, 42816, 42820, 42823, 42827, 42830, 42831, 42836, 42841, 42851, 42854, 42857, 42869, 42877, 42879, 42883, 42895, 42905, 42922, 42932, 42942, 42945, 42953, 42956, 42964, 42968, 42969, 42970, 42971, 42974, 42975, 42992, 42994, 42998, 43009, 43011, 43014, 43017, 43031, 43035, 43049, 43061, 43062, 43063, 43065, 43066, 43067, 43087, 43089, 43091, 43097, 43101, 43103, 43110, 43131, 43134, 43139, 43142, 43146, 43156, 43160, 43161, 43162, 43163, 43165, 43172, 43174, 43176, 43182, 43188, 43191, 43196, 43201, 43203, 43209, 43218, 43219, 43228, 43230, 43233, 43250, 43264, 43272, 43289, 43291, 43293, 43295, 43300, 43308, 43320, 43332, 43335, 43348, 43365, 43373, 43380, 43383, 43392, 43404, 43409, 43422, 43425, 43428, 43431, 43440, 43442, 43444, 43449, 43452, 43464, 43468, 43474, 43475, 43484, 43495, 43524, 43530, 43531, 43532, 43535, 43547, 43558, 43563, 43565, 43568, 43572, 43574, 43576, 43589, 43591, 43595, 43596, 43600, 43602, 43606, 43613, 43617, 43620, 43622, 43629, 43639, 43642, 43648, 43654, 43655, 43657, 43661, 43663, 43664, 43672, 43676, 43678, 43686, 43690, 43693, 43698, 43699, 43707, 43709, 43715, 43720, 43736, 43741, 43749, 43754, 43755, 43758, 43766, 43771, 43774, 43778, 43781, 43788, 43803, 43805, 43810, 43813, 43825, 43826, 43839, 43849, 43854, 43863, 43874, 43875, 43879, 43880, 43881, 43883, 43884, 43891, 43895, 43898, 43900, 43901, 43902, 43914, 43915, 43923, 43927, 43929, 43932, 43933, 43936, 43938, 43939, 43942, 43944, 43947, 43950, 43965, 43970, 43981, 43986, 43994, 43996, 44004, 44008, 44024, 44037, 44046, 44060, 44063, 44069, 44075, 44086, 44093, 44099, 44102, 44110, 44114, 44122, 44123, 44124, 44130, 44131, 44134, 44152, 44163, 44178, 44184, 44190, 44195, 44196, 44198, 44203, 44213, 44221, 44224, 44227, 44236, 44238, 44249, 44250, 44254, 44255, 44279, 44282, 44287, 44291, 44297, 44300, 44303, 44306, 44311, 44313, 44314, 44319, 44326, 44337, 44353, 44355, 44365, 44373, 44375, 44377, 44378, 44381, 44404, 44419, 44423, 44425, 44428, 44438, 44445, 44462, 44466, 44467, 44485, 44486, 44491, 44496, 44498, 44505, 44507, 44508, 44523, 44534, 44536, 44542, 44550, 44556, 44559, 44560, 44561, 44576, 44580, 44583, 44591, 44595, 44603, 44604, 44607, 44633, 44636, 44637, 44638, 44644, 44653, 44655, 44667, 44678, 44692, 44708, 44713, 44717, 44734, 44735, 44738, 44740, 44745, 44753, 44757, 44780, 44788, 44795, 44796, 44800, 44802, 44803, 44807, 44809, 44810, 44811, 44822, 44826, 44830, 44836, 44839, 44850, 44853, 44855, 44861, 44872, 44878, 44885, 44888, 44892, 44894, 44895, 44896, 44902, 44906, 44908, 44923, 44929, 44943, 44947, 44949, 44951, 44953, 44956, 44957, 44962, 44966, 44970, 44981, 44982, 44988, 44990, 44991, 44992, 45010, 45014, 45019, 45020, 45021, 45022, 45024, 45025, 45037, 45038, 45039, 45040, 45044, 45049, 45051, 45056, 45060, 45061, 45064, 45074, 45079, 45080, 45081, 45082, 45088, 45096, 45098, 45110, 45114, 45115, 45116, 45118, 45127, 45139, 45141, 45142, 45143, 45149, 45154, 45173, 45185, 45192, 45194, 45197, 45201, 45219, 45221, 45228, 45229, 45232, 45239, 45242, 45250, 45255, 45257, 45265, 45266, 45269, 45272, 45276, 45278, 45280, 45281, 45295, 45296, 45305, 45306, 45310, 45312, 45314, 45322, 45326, 45328, 45330, 45349, 45351, 45358, 45361, 45383, 45393, 45402, 45405, 45407, 45408, 45423, 45424, 45430, 45434, 45454, 45459, 45467, 45469, 45470, 45482, 45488, 45493, 45498, 45503, 45507, 45509, 45510, 45511, 45514, 45516, 45520, 45523, 45531, 45537, 45539, 45541, 45546, 45550, 45559, 45560, 45562, 45565, 45572, 45593, 45600, 45601, 45603, 45609, 45611, 45614, 45617, 45624, 45638, 45639, 45670, 45672, 45699, 45701, 45704, 45705, 45711, 45713, 45722, 45733, 45746, 45753, 45764, 45768, 45771, 45775, 45786, 45789, 45790, 45791, 45793, 45794, 45798, 45800, 45805, 45807, 45810, 45816, 45821, 45822, 45826, 45832, 45837, 45838, 45840, 45853, 45855, 45857, 45860, 45861, 45862, 45864, 45867, 45876, 45882, 45884, 45887, 45896, 45912, 45916, 45919, 45920, 45926, 45936, 45950, 45970, 45971, 45983, 45985, 45990, 45995, 45996, 45999, 46005, 46012, 46015, 46030, 46033, 46035, 46054, 46060, 46064, 46068, 46076, 46081, 46088, 46095, 46101, 46107, 46108, 46109, 46112, 46123, 46125, 46129, 46136, 46138, 46149, 46157, 46158, 46164, 46169, 46178, 46184, 46189, 46192, 46195, 46197, 46199, 46204, 46214, 46218, 46222, 46223, 46236, 46237, 46249, 46251, 46263, 46266, 46274, 46275, 46279, 46281, 46287, 46305, 46308, 46324, 46330, 46333, 46341, 46342, 46347, 46349, 46361, 46364, 46372, 46396, 46397, 46403, 46404, 46408, 46411, 46428, 46431, 46432, 46444, 46455, 46457, 46461, 46471, 46475, 46478, 46480, 46484, 46497, 46511, 46517, 46522, 46529, 46534, 46544, 46546, 46547, 46552, 46555, 46567, 46568, 46569, 46575, 46581, 46585, 46603, 46618, 46629, 46631, 46632, 46654, 46657, 46658, 46663, 46665, 46685, 46692, 46698, 46701, 46714, 46719, 46743, 46751, 46752, 46753, 46756, 46760, 46771, 46778, 46783, 46790, 46792, 46806, 46807, 46808, 46809, 46816, 46817, 46826, 46836, 46842, 46848, 46855, 46857, 46862, 46865, 46866, 46872, 46876, 46880, 46881, 46899, 46914, 46921, 46924, 46931, 46949, 46954, 46956, 46961, 46966, 46974, 46979, 46985, 46987, 47008, 47009, 47013, 47017, 47018, 47020, 47024, 47029, 47040, 47046, 47053, 47058, 47070, 47076, 47098, 47110, 47127, 47137, 47139, 47141, 47144, 47154, 47162, 47175, 47181, 47201, 47204, 47214, 47215, 47218, 47221, 47233, 47242, 47245, 47250, 47264, 47268, 47283, 47289, 47292, 47296, 47299, 47305, 47311, 47324, 47331, 47334, 47344, 47352, 47354, 47370, 47375, 47383, 47385, 47395, 47397, 47403, 47410, 47413, 47414, 47424, 47430, 47438, 47441, 47446, 47459, 47472, 47475, 47481, 47486, 47494, 47496, 47504, 47515, 47518, 47524, 47525, 47549, 47551, 47558, 47562, 47566, 47567, 47572, 47574, 47577, 47579, 47589, 47591, 47596, 47617, 47626, 47628, 47636, 47644, 47652, 47653, 47659, 47665, 47668, 47676, 47682, 47683, 47688, 47697, 47700, 47706, 47731, 47736, 47747, 47748, 47752, 47756, 47759, 47762, 47765, 47774, 47775, 47780, 47791, 47800, 47801, 47802, 47804, 47807, 47808, 47824, 47826, 47827, 47831, 47833, 47838, 47844, 47850, 47861, 47867, 47874, 47877, 47892, 47904, 47910, 47917, 47936, 47937, 47944, 47948, 47951, 47952, 47954, 47960, 47976, 47979, 47984, 47987, 47989, 47997, 48000, 48002, 48005, 48013, 48015, 48018, 48034, 48035, 48039, 48060, 48062, 48068, 48069, 48084, 48097, 48100, 48107, 48110, 48112, 48113, 48115, 48128, 48129, 48144, 48152, 48159, 48162, 48163, 48176, 48180, 48184, 48192, 48200, 48202, 48207, 48212, 48223, 48225, 48236, 48239, 48250, 48252, 48255, 48259, 48264, 48268, 48270, 48275, 48276, 48278, 48279, 48282, 48292, 48295, 48298, 48299, 48303, 48308, 48311, 48320, 48327, 48339, 48343, 48344, 48346, 48352, 48355, 48356, 48362, 48363, 48373, 48375, 48378, 48379, 48380, 48383, 48387, 48392, 48393, 48395, 48397, 48400, 48404, 48414, 48422, 48432, 48436, 48446, 48470, 48474, 48479, 48480, 48492, 48497, 48500, 48513, 48519, 48523, 48529, 48533, 48538, 48543, 48547, 48557, 48566, 48570, 48572, 48574, 48575, 48590, 48598, 48604, 48609, 48611, 48612, 48617, 48618, 48626, 48637, 48642, 48645, 48647, 48659, 48673, 48678, 48682, 48684, 48691, 48700, 48703, 48704, 48714, 48716, 48724, 48749, 48777, 48789, 48790, 48795, 48796, 48797, 48802, 48805, 48811, 48812, 48817, 48819, 48820, 48831, 48850, 48857, 48864, 48867, 48873, 48886, 48890, 48893, 48907, 48909, 48912, 48918, 48929, 48937, 48960, 48962, 48966, 48969, 48970, 48977, 48988, 48992, 48996, 49000, 49011, 49018, 49024, 49026, 49028, 49030, 49033, 49039, 49043, 49053, 49064, 49071, 49075, 49076, 49079, 49081, 49083, 49093, 49096, 49099, 49101, 49109, 49113, 49118, 49126, 49129, 49133, 49134, 49162, 49165, 49167, 49176, 49181, 49186, 49194, 49212, 49213, 49229, 49232, 49233, 49236, 49239, 49253, 49257, 49262, 49267, 49279, 49291, 49292, 49294, 49296, 49300, 49302, 49303, 49306, 49321, 49322, 49324, 49326, 49336, 49349, 49353, 49356, 49360, 49366, 49375, 49383, 49387, 49407, 49414, 49416, 49419, 49421, 49422, 49424, 49437, 49438, 49440, 49442, 49444, 49446, 49451, 49454, 49471, 49475, 49476, 49477, 49480, 49499, 49500, 49501, 49505, 49525, 49526, 49532, 49538, 49542, 49550, 49554, 49555, 49560, 49567, 49570, 49572, 49578, 49581, 49584, 49594, 49600, 49607, 49610, 49615, 49616, 49619, 49620, 49635, 49636, 49637, 49655, 49663, 49668, 49675, 49683, 49690, 49709, 49712, 49722, 49723, 49729, 49737, 49740, 49750, 49753, 49759, 49762, 49772, 49776, 49778, 49781, 49787, 49791, 49799, 49800, 49820, 49821, 49822, 49826, 49830, 49839, 49841, 49844, 49847, 49854, 49856, 49864, 49868, 49878, 49879, 49883, 49895, 49902, 49905, 49917, 49918, 49924, 49931, 49936, 49937, 49952, 49960, 49964, 49969, 49971, 49984, 49992, 49998, 49999, 50003, 50009, 50010, 50018, 50024, 50033, 50040, 50043, 50059, 50060, 50071, 50076, 50088, 50098, 50112, 50117, 50122, 50124, 50128, 50134, 50142, 50143, 50146, 50152, 50165, 50189, 50191, 50192, 50196, 50197, 50204, 50206, 50209, 50213, 50231, 50232, 50240, 50248, 50249, 50252, 50258, 50259, 50264, 50271, 50274, 50283, 50284, 50285, 50289, 50295, 50314, 50319, 50326, 50330, 50333, 50338, 50339, 50342, 50357, 50368, 50370, 50378, 50380, 50384, 50386, 50393, 50395, 50396, 50408, 50415, 50417, 50421, 50427, 50429, 50430, 50432, 50440, 50442, 50449, 50450, 50458, 50463, 50471, 50475, 50476, 50483, 50484, 50485, 50486, 50506, 50508, 50514, 50515, 50516, 50529, 50530, 50532, 50533, 50534, 50537, 50541, 50546, 50548, 50550, 50557, 50558, 50567, 50569, 50583, 50585, 50587, 50588, 50595, 50612, 50618, 50632, 50635, 50641, 50646, 50649, 50652, 50662, 50663, 50664, 50668, 50669, 50672, 50678, 50687, 50688, 50693, 50694, 50696, 50700, 50704, 50705, 50709, 50720, 50722, 50724, 50738, 50745, 50748, 50752, 50763, 50765, 50769, 50773, 50779, 50783, 50787, 50793, 50795, 50801, 50803, 50804, 50807, 50820, 50821, 50841, 50845, 50847, 50848, 50861, 50868, 50871, 50872, 50876, 50893, 50911, 50914, 50918, 50925, 50932, 50938, 50952, 50960, 50964, 50973, 50978, 50981, 50990, 50991, 50999, 51000, 51001, 51002, 51005, 51010, 51017, 51022, 51039, 51040, 51042, 51052, 51053, 51055, 51058, 51060, 51061, 51071, 51080, 51086, 51093, 51113, 51115, 51116, 51117, 51120, 51122, 51125, 51127, 51133, 51135, 51139, 51142, 51149, 51155, 51159, 51171, 51176, 51188, 51196, 51199, 51207, 51225, 51229, 51231, 51252, 51255, 51272, 51290, 51309, 51317, 51323, 51328, 51330, 51352, 51356, 51362, 51366, 51372, 51376, 51378, 51386, 51391, 51408, 51421, 51423, 51430, 51436, 51437, 51448, 51451, 51453, 51464, 51475, 51483, 51486, 51491, 51501, 51510, 51518, 51522, 51525, 51527, 51529, 51530, 51534, 51536, 51541, 51542, 51543, 51546, 51547, 51560, 51562, 51571, 51572, 51581, 51597, 51599, 51600, 51603, 51611, 51616, 51655, 51670, 51673, 51679, 51682, 51687, 51702, 51704, 51706, 51707, 51712, 51715, 51716, 51728, 51734, 51738, 51739, 51745, 51746, 51751, 51754, 51759, 51772, 51777, 51782, 51784, 51788, 51793, 51801, 51804, 51806, 51810, 51822, 51823, 51826, 51828, 51829, 51830, 51834, 51839, 51843, 51847, 51848, 51856, 51858, 51859, 51869, 51870, 51874, 51890, 51898, 51899, 51906, 51920, 51929, 51931, 51942, 51943, 51949, 51953, 51958, 51960, 51961, 51964, 51966, 51967, 51972, 51973, 51975, 51976, 51978, 51979, 51980, 51987, 51995, 51997, 52005, 52014, 52021, 52036, 52037, 52041, 52046, 52055, 52056, 52063, 52065, 52066, 52085, 52089, 52090, 52092, 52099, 52102, 52103, 52104, 52114, 52124, 52136, 52139, 52143, 52145, 52146, 52159, 52160, 52172, 52176, 52178, 52180, 52189, 52195, 52197, 52201, 52203, 52219, 52225, 52242, 52243, 52247, 52249, 52256, 52257, 52262, 52267, 52276, 52284, 52285, 52294, 52302, 52315, 52328, 52339, 52342, 52343, 52351, 52354, 52365, 52387, 52402, 52412, 52423, 52425, 52426, 52427, 52428, 52429, 52431, 52433, 52435, 52443, 52454, 52472, 52477, 52479, 52483, 52485, 52486, 52488, 52490, 52494, 52499, 52505, 52510, 52512, 52516, 52522, 52523, 52524, 52535, 52540, 52548, 52550, 52554, 52557, 52558, 52562, 52585, 52586, 52587, 52588, 52591, 52592, 52593, 52599, 52602, 52619, 52621, 52626, 52649, 52651, 52653, 52657, 52659, 52663, 52670, 52671, 52672, 52673, 52674, 52681, 52686, 52689, 52690, 52691, 52692, 52694, 52695, 52698, 52701, 52706, 52716, 52717, 52732, 52743, 52745, 52746, 52752, 52753, 52759, 52762, 52766, 52788, 52795, 52798, 52802, 52804, 52811, 52815, 52816, 52828, 52829, 52836, 52838, 52841, 52848, 52861, 52869, 52878, 52885, 52898, 52902, 52905, 52909, 52912, 52920, 52921, 52928, 52938, 52939, 52953, 52957, 52961, 52965, 52967, 52968, 52976, 52977, 52978, 52983, 52984, 52985, 52996, 53002, 53006, 53009, 53013, 53015, 53019, 53044, 53045, 53050, 53064, 53074, 53076, 53077, 53080, 53081, 53083, 53090, 53096, 53108, 53112, 53114, 53119, 53123, 53126, 53131, 53139, 53149, 53155, 53157, 53159, 53165, 53171, 53186, 53200, 53201, 53206, 53212, 53215, 53217, 53221, 53224, 53225, 53226, 53231, 53233, 53234, 53242, 53256, 53274, 53293, 53294, 53296, 53304, 53305, 53306, 53307, 53309, 53317, 53319, 53330, 53333, 53337, 53342, 53346, 53364, 53366, 53368, 53371, 53372, 53375, 53376, 53378, 53382, 53383, 53385, 53396, 53397, 53406, 53408, 53417, 53429, 53430, 53442, 53446, 53461, 53462, 53466, 53472, 53479, 53482, 53489, 53493, 53496, 53498, 53506, 53508, 53510, 53511, 53513, 53515, 53519, 53523, 53529, 53535, 53539, 53547, 53548, 53554, 53555, 53556, 53559, 53568, 53569, 53571, 53573, 53576, 53583, 53590, 53603, 53604, 53605, 53607, 53609, 53612, 53619, 53620, 53628, 53633, 53636, 53638, 53654, 53657, 53667, 53674, 53676, 53683, 53689, 53709, 53719, 53721, 53729, 53731, 53741, 53742, 53743, 53748, 53749, 53751, 53752, 53760, 53778, 53783, 53796, 53799, 53800, 53807, 53809, 53811, 53815, 53830, 53835, 53838, 53842, 53847, 53848, 53850, 53852, 53854, 53865, 53874, 53881, 53882, 53883, 53908, 53909, 53911, 53912, 53913, 53932, 53933, 53935, 53936, 53940, 53942, 53949, 53971, 53975, 53979, 53983, 53997, 54001, 54008, 54020, 54024, 54033, 54045, 54046, 54048, 54061, 54064, 54072, 54075, 54092, 54095, 54106, 54108, 54115, 54131, 54132, 54145, 54146, 54148, 54151, 54153, 54154, 54163, 54172, 54174, 54175, 54176, 54177, 54205, 54206, 54217, 54244, 54245, 54249, 54256, 54265, 54274, 54276, 54291, 54305, 54307, 54314, 54319, 54329, 54341, 54343, 54350, 54359, 54365, 54370, 54378, 54381, 54392, 54399, 54400, 54405, 54406, 54412, 54415, 54433, 54434, 54435, 54444, 54450, 54454, 54458, 54465, 54468, 54477, 54486, 54487, 54493, 54495, 54497, 54505, 54529, 54535, 54540, 54541, 54542, 54551, 54554, 54560, 54561, 54564, 54565, 54568, 54569, 54570, 54572, 54589, 54592, 54599, 54611, 54622, 54629, 54650, 54651, 54654, 54658, 54667, 54669, 54671, 54672, 54673, 54675, 54684, 54692, 54693, 54694, 54700, 54702, 54707, 54714, 54720, 54724, 54725, 54727, 54729, 54733, 54737, 54758, 54767, 54771, 54777, 54789, 54802, 54803, 54804, 54805, 54808, 54812, 54820, 54825, 54827, 54828, 54830, 54831, 54846, 54852, 54853, 54856, 54858, 54864, 54866, 54881, 54885, 54892, 54894, 54896, 54898, 54903, 54910, 54916, 54927, 54934, 54936, 54949, 54959, 54960, 54973, 54976, 54980, 54982, 54984, 54991, 55001, 55002, 55003, 55006, 55007, 55008, 55021, 55022, 55024, 55030, 55033, 55036, 55038, 55049, 55057, 55064, 55066, 55070, 55073, 55083, 55085, 55093, 55094, 55103, 55104, 55108, 55114, 55132, 55136, 55149, 55156, 55161, 55164, 55171, 55176, 55178, 55179, 55200, 55213, 55217, 55226, 55239, 55244, 55247, 55248, 55251, 55253, 55257, 55260, 55261, 55262, 55263, 55275, 55277, 55301, 55302, 55306, 55308, 55312, 55320, 55325, 55329, 55333, 55336, 55337, 55338, 55346, 55347, 55348, 55349, 55351, 55357, 55358, 55373, 55374, 55375, 55376, 55377, 55378, 55379, 55389, 55394, 55403, 55414, 55425, 55433, 55435, 55439, 55444, 55446, 55452, 55454, 55455, 55458, 55460, 55469, 55470, 55474, 55477, 55479, 55482, 55484, 55485, 55505, 55508, 55509, 55516, 55524, 55541, 55544, 55551, 55560, 55561, 55563, 55570, 55585, 55591, 55601, 55604, 55608, 55611, 55614, 55615, 55618, 55623, 55639, 55655, 55656, 55661, 55665, 55679, 55681, 55687, 55688, 55702, 55707, 55712, 55715, 55731, 55733, 55737, 55740, 55744, 55756, 55759, 55761, 55766, 55769, 55770, 55771, 55788, 55790, 55791, 55795, 55796, 55797, 55806, 55807, 55811, 55812, 55819, 55821, 55822, 55828, 55836, 55839, 55841, 55846, 55848, 55851, 55864, 55883, 55887, 55888, 55901, 55910, 55930, 55944, 55972, 55977, 55978, 55987, 55999, 56001, 56003, 56022, 56028, 56030, 56037, 56059, 56066, 56071, 56075, 56089, 56091, 56092, 56095, 56099, 56100, 56103, 56107, 56116, 56119, 56120, 56121, 56127, 56139, 56142, 56154, 56156, 56160, 56163, 56165, 56173, 56174, 56189, 56190, 56194, 56198, 56201, 56210, 56213, 56214, 56216, 56217, 56223, 56229, 56236, 56238, 56262, 56268, 56269, 56274, 56275, 56282, 56285, 56286, 56287, 56288, 56289, 56295, 56306, 56311, 56314, 56318, 56336, 56351, 56352, 56354, 56362, 56364, 56371, 56379, 56382, 56412, 56429, 56430, 56432, 56433, 56442, 56461, 56468, 56480, 56486, 56495, 56497, 56498, 56499, 56511, 56518, 56521, 56530, 56546, 56549, 56564, 56567, 56583, 56584, 56590, 56595, 56600, 56619, 56620, 56632, 56635, 56639, 56641, 56649, 56656, 56664, 56671, 56677, 56687, 56694, 56696, 56705, 56711, 56730, 56735, 56739, 56740, 56750, 56756, 56765, 56769, 56779, 56781, 56783, 56786, 56789, 56795, 56797, 56798, 56808, 56810, 56812, 56813, 56826, 56835, 56845, 56847, 56851, 56855, 56856, 56865, 56867, 56884, 56904, 56906, 56908, 56913, 56921, 56930, 56948, 56969, 56985, 56986, 56992, 56994, 57003, 57005, 57016, 57017, 57022, 57026, 57030, 57031, 57042, 57050, 57056, 57058, 57064, 57068, 57073, 57076, 57078, 57079, 57089, 57092, 57099, 57106, 57108, 57112, 57114, 57115, 57118, 57124, 57131, 57140, 57144, 57145, 57149, 57156, 57162, 57168, 57188, 57205, 57212, 57215, 57230, 57233, 57239, 57244, 57251, 57252, 57253, 57260, 57267, 57275, 57282, 57285, 57288, 57292, 57300, 57306, 57307, 57315, 57316, 57319, 57320, 57321, 57324, 57329, 57332, 57333, 57334, 57344, 57346, 57353, 57354, 57357, 57360, 57361, 57366, 57367, 57371, 57375, 57377, 57378, 57387, 57390, 57409, 57416, 57418, 57419, 57423, 57427, 57430, 57442, 57443, 57445, 57448, 57455, 57459, 57471, 57472, 57486, 57501, 57504, 57508, 57534, 57542, 57544, 57552, 57554, 57558, 57560, 57572, 57577, 57578, 57580, 57583, 57586, 57590, 57594, 57599, 57601, 57602, 57607, 57609, 57614, 57615, 57621, 57633, 57635, 57638, 57642, 57647, 57651, 57675, 57678, 57683, 57684, 57702, 57733, 57740, 57741, 57747, 57752, 57754, 57759, 57782, 57787, 57797, 57801, 57806, 57807, 57815, 57817, 57820, 57821, 57827, 57829, 57834, 57841, 57846, 57851, 57855, 57866, 57868, 57887, 57890, 57891, 57908, 57916, 57937, 57941, 57942, 57945, 57957, 57978, 57979, 57994, 57997, 58004, 58008, 58014, 58022, 58028, 58030, 58034, 58037, 58044, 58046, 58050, 58051, 58052, 58060, 58074, 58076, 58082, 58098, 58105, 58108, 58110, 58112, 58126, 58133, 58134, 58143, 58144, 58152, 58162, 58164, 58169, 58173, 58176, 58196, 58200, 58203, 58205, 58206, 58207, 58214, 58239, 58242, 58259, 58281, 58294, 58296, 58297, 58303, 58310, 58321, 58322, 58336, 58337, 58339, 58345, 58350, 58352, 58354, 58355, 58378, 58379, 58380, 58381, 58388, 58390, 58402, 58412, 58417, 58419, 58425, 58427, 58429, 58434, 58450, 58466, 58477, 58478, 58479, 58481, 58482, 58486, 58488, 58491, 58492, 58498, 58508, 58512, 58514, 58517, 58525, 58526, 58530, 58531, 58537, 58541, 58543, 58559, 58563, 58565, 58576, 58595, 58599, 58601, 58603, 58606, 58610, 58614, 58622, 58629, 58642, 58643, 58652, 58653, 58655, 58661, 58667, 58668, 58670, 58673, 58675, 58691, 58701, 58702, 58720, 58721, 58723, 58725, 58727, 58735, 58737, 58744, 58746, 58749, 58780, 58801, 58810, 58813, 58814, 58815, 58826, 58827, 58829, 58834, 58846, 58857, 58862, 58864, 58866, 58869, 58870, 58873, 58876, 58881, 58887, 58888, 58892, 58904, 58907, 58910, 58913, 58916, 58918, 58921, 58925, 58928, 58935, 58959, 58963, 58966, 58968, 58970, 58976, 58978, 58989, 58995, 59006, 59019, 59023, 59027, 59030, 59035, 59046, 59052, 59074, 59079, 59083, 59094, 59095, 59098, 59100, 59105, 59109, 59111, 59125, 59127, 59129, 59130, 59136, 59137, 59141, 59142, 59144]\n",
            "Percentage of text that is not in English language: 17.6565062298186 %\n"
          ]
        }
      ],
      "source": [
        "# Calculate the percentage of non-English text\n",
        "percentage_non_english = (len(non_english_samples) / total_samples) * 100\n",
        "\n",
        "print(\"Sample IDs that are not in English:\", non_english_samples)\n",
        "print(\"Percentage of text that is not in English language:\", percentage_non_english, \"%\")"
      ]
    },
    {
      "cell_type": "code",
      "execution_count": null,
      "metadata": {
        "colab": {
          "base_uri": "https://localhost:8080/"
        },
        "id": "pLKqnfoiXxyF",
        "outputId": "6b2c6bc9-95ea-4bdc-8812-5dfb67d20583"
      },
      "outputs": [
        {
          "data": {
            "text/plain": [
              "(59151, 2)"
            ]
          },
          "execution_count": 87,
          "metadata": {},
          "output_type": "execute_result"
        }
      ],
      "source": [
        "test_data.shape"
      ]
    },
    {
      "cell_type": "markdown",
      "metadata": {
        "id": "O82bocBMZynN"
      },
      "source": [
        "### **Preprocessing 1**"
      ]
    },
    {
      "cell_type": "code",
      "execution_count": null,
      "metadata": {
        "id": "atKHKM3WYY4N"
      },
      "outputs": [],
      "source": [
        "# Apply preprocessing function\n",
        "test_data['text_stemmer'] = test_data['text'].apply(preprocess_text_stemmer)"
      ]
    },
    {
      "cell_type": "code",
      "execution_count": null,
      "metadata": {
        "colab": {
          "base_uri": "https://localhost:8080/"
        },
        "id": "hwMMu34uYY4W",
        "outputId": "3c645e92-c6eb-4975-a73e-f5771be42dcd"
      },
      "outputs": [
        {
          "name": "stdout",
          "output_type": "stream",
          "text": [
            "\n",
            "Cleaned text:\n",
            "0                                             stargazer \n",
            "1                                                   yeah\n",
            "2         pd phoenix car thief get instruct youtub video\n",
            "3                   trump accus iran one problem credibl\n",
            "4                                   Believers Hezbollah \n",
            "                              ...                       \n",
            "59146                       bicycl taxi driver new delhi\n",
            "59147               trump blow gop formula win hous race\n",
            "59148    napoleon return exil island elba march colouris\n",
            "59149                      deep alway want ballet dancer\n",
            "59150         toddler miracul surviv stori fall land car\n",
            "Name: text_stemmer, Length: 59151, dtype: object\n"
          ]
        }
      ],
      "source": [
        "# Print cleaned texts\n",
        "print(\"\\nCleaned text:\")\n",
        "print(test_data['text_stemmer'])"
      ]
    },
    {
      "cell_type": "markdown",
      "metadata": {
        "id": "Ka490g0IZ99P"
      },
      "source": [
        "### **Preprocessing 2**"
      ]
    },
    {
      "cell_type": "code",
      "execution_count": null,
      "metadata": {
        "id": "WwBQgPcvYzqU"
      },
      "outputs": [],
      "source": [
        "# Apply preprocessing function\n",
        "test_data['text_lemmatized'] = test_data['text'].apply(preprocess_text_lemmatized)"
      ]
    },
    {
      "cell_type": "code",
      "execution_count": null,
      "metadata": {
        "colab": {
          "base_uri": "https://localhost:8080/"
        },
        "id": "XJfWr1PHYzqd",
        "outputId": "21bc609c-3a9a-458a-cd68-9d4645580aea"
      },
      "outputs": [
        {
          "name": "stdout",
          "output_type": "stream",
          "text": [
            "\n",
            "Cleaned text:\n",
            "0                                               stargazer \n",
            "1                                                     yeah\n",
            "2        PD Phoenix car thief get instruction YouTube v...\n",
            "3               Trump Accuses Iran One Problem Credibility\n",
            "4                                     Believers Hezbollah \n",
            "                               ...                        \n",
            "59146                        Bicycle taxi driver New Delhi\n",
            "59147            Trump blow GOP formula winning House race\n",
            "59148    Napoleon return exile island Elba March Colour...\n",
            "59149                     Deep always wanted ballet dancer\n",
            "59150    Toddler miraculously survives story fall landi...\n",
            "Name: text_lemmatized, Length: 59151, dtype: object\n"
          ]
        }
      ],
      "source": [
        "# Print cleaned texts\n",
        "print(\"\\nCleaned text:\")\n",
        "print(test_data['text_lemmatized'])"
      ]
    },
    {
      "cell_type": "code",
      "execution_count": null,
      "metadata": {
        "id": "BQQqyWV3pS78"
      },
      "outputs": [],
      "source": [
        "id =test_data['id']"
      ]
    },
    {
      "cell_type": "markdown",
      "metadata": {
        "id": "FHOW27UOns7p"
      },
      "source": [
        "### **Get Prediction**"
      ]
    },
    {
      "cell_type": "code",
      "execution_count": null,
      "metadata": {
        "colab": {
          "background_save": true
        },
        "id": "4XrTUfGIprlC"
      },
      "outputs": [],
      "source": [
        "y_test_pred_1 = best_model_1.predict_proba(test_data['text_stemmer'])[:, 1]\n",
        "y_test_pred_2 = best_model_2.predict_proba(test_data['text_stemmer'])[:, 1]\n",
        "y_test_pred_3 = best_model_3.predict_proba(test_data['text_stemmer'])[:, 1]\n",
        "y_test_pred_4 = best_model_4.predict_proba(test_data['text_lemmatized'])[:, 1]\n",
        "y_test_pred_5 = best_model_5.predict_proba(test_data['text_lemmatized'])[:, 1]\n",
        "y_test_pred_6 = best_model_6.predict_proba(test_data['text_lemmatized'])[:, 1]"
      ]
    },
    {
      "cell_type": "markdown",
      "metadata": {
        "id": "znY-1LqVn_BW"
      },
      "source": [
        "### **Saving prediction files**"
      ]
    },
    {
      "cell_type": "code",
      "execution_count": null,
      "metadata": {
        "id": "hQ_g-rDTnxA5"
      },
      "outputs": [],
      "source": [
        "submission_1 = pd.DataFrame({'id': id, 'label': y_test_pred_1})\n",
        "\n",
        "submission_1.to_csv('y_test_pred_1.csv', index=False)"
      ]
    },
    {
      "cell_type": "code",
      "execution_count": null,
      "metadata": {
        "id": "sfjOxnPPpziK"
      },
      "outputs": [],
      "source": [
        "submission_2 = pd.DataFrame({'id': id, 'label': y_test_pred_2})\n",
        "\n",
        "submission_2.to_csv('y_test_pred_2.csv', index=False)"
      ]
    },
    {
      "cell_type": "code",
      "execution_count": null,
      "metadata": {
        "id": "ib7mZ9bRpzoa"
      },
      "outputs": [],
      "source": [
        "submission_3 = pd.DataFrame({'id': id, 'label': y_test_pred_3})\n",
        "\n",
        "submission_3.to_csv('y_test_pred_3.csv', index=False)"
      ]
    },
    {
      "cell_type": "code",
      "execution_count": null,
      "metadata": {
        "id": "VBFrYzNNpztf"
      },
      "outputs": [],
      "source": [
        "submission_4 = pd.DataFrame({'id': id, 'label': y_test_pred_4})\n",
        "\n",
        "submission_4.to_csv('y_test_pred_4.csv', index=False)"
      ]
    },
    {
      "cell_type": "code",
      "execution_count": null,
      "metadata": {
        "id": "bi-yx_6SnxD9"
      },
      "outputs": [],
      "source": [
        "submission_5 = pd.DataFrame({'id': id, 'label': y_test_pred_5})\n",
        "\n",
        "submission_5.to_csv('y_test_pred_5.csv', index=False)"
      ]
    },
    {
      "cell_type": "code",
      "execution_count": null,
      "metadata": {
        "id": "KT7wkc7y8uF2"
      },
      "outputs": [],
      "source": [
        "submission_6 = pd.DataFrame({'id': id, 'label': y_test_pred_6})\n",
        "\n",
        "submission_6.to_csv('y_test_pred_6.csv', index=False)"
      ]
    },
    {
      "cell_type": "markdown",
      "metadata": {
        "id": "zLfLrxlZbBxB"
      },
      "source": [
        "#**Questions:**"
      ]
    },
    {
      "cell_type": "markdown",
      "metadata": {
        "id": "cJaR7yMYbIbI"
      },
      "source": [
        "1.\t**What is the difference between Character n-gram and Word n-gram? Which one tends to suffer more from the OOV issue??**\n",
        "\n"
      ]
    },
    {
      "cell_type": "markdown",
      "metadata": {
        "id": "6hbcLXH6bIdu"
      },
      "source": [
        "* **Character n-gram**: It involves breaking text into sequences of characters, such as \"hello\" being represented as ['h', 'e', 'l', 'l', 'o'] for a character 1-gram or ['he', 'el', 'll', 'lo'] for a character 2-gram (bigram).\n",
        "* **Word n-gram:** This approach breaks text into sequences of words, like \"natural language processing\" represented as ['natural', 'language', 'processing'] for a word 1-gram or ['natural language', 'language processing'] for a word 2-gram (bigram).\n",
        "* `Character n-grams tend to suffer more from the Out of Vocabulary (OOV) issue because they generate a larger number of unique n-grams, especially in languages with complex character structures like Chinese or languages with inflectional morphology like German.`"
      ]
    },
    {
      "cell_type": "markdown",
      "metadata": {
        "id": "-wh2Ke5dbcQn"
      },
      "source": [
        "2.\t **What is the difference between stop word removal and stemming? Are these techniques language-dependent?**\n"
      ]
    },
    {
      "cell_type": "markdown",
      "metadata": {
        "id": "O1GxU6fkbe_w"
      },
      "source": [
        "* **Stop word removal** involves filtering out common words (\"the,\" \"is,\" \"and\") that often do not contribute much to the meaning of a sentence.\n",
        "* **Stemming** involves reducing words to their base or root form (\"running\" to \"run\") to normalize variations.\n",
        "* `These techniques are generally language-independent, although specific stop word lists or stemming algorithms might be tailored for certain languages.`"
      ]
    },
    {
      "cell_type": "markdown",
      "metadata": {
        "id": "hTVnosPBbhs2"
      },
      "source": [
        "3.  **Is tokenization techniques language dependent? Why?**\n"
      ]
    },
    {
      "cell_type": "markdown",
      "metadata": {
        "id": "k2165k5ObmGV"
      },
      "source": [
        "* **Tokenization techniques** is the process of breaking text into smaller units, such as words, phrases, or characters. While basic tokenization like splitting on whitespace can be language-independent, more advanced tokenization techniques may be language-dependent\n",
        "* `Languages can have unique rules for word boundaries, compound words, punctuation handling, and tokenization exceptions. For example, languages like Chinese do not use spaces between words, requiring specialized tokenization techniques like Chinese word segmentation.`."
      ]
    },
    {
      "cell_type": "markdown",
      "metadata": {
        "id": "Zx28dzxqbrGv"
      },
      "source": [
        "4.\t**What is the difference between count vectorizer and tf-idf vectorizer? Would it be feasible to use all possible n-grams? If not, how should you select them?**"
      ]
    },
    {
      "cell_type": "markdown",
      "metadata": {
        "id": "AZ_MHg5Obugq"
      },
      "source": [
        "* **Count Vectorizer**  It represents text documents as frequency counts of words in a fixed vocabulary. Each document is represented by a vector where each element corresponds to the count of a word in the vocabulary.\n",
        "* **TF-IDF Vectorizer** TF-IDF (Term Frequency-Inverse Document Frequency) Vectorizer considers the importance of words by weighing them based on their frequency in the document (TF) and rarity across documents (IDF). It assigns higher weights to words that are frequent in a document but rare in the overall corpus, helping to emphasize more meaningful terms.\n",
        "\n",
        "* `It may not be feasible to use all possible n-grams due to the curse of dimensionality and computational complexity. N-gram selection depends on the dataset size, computational resources, and the specific task. Techniques like feature selection or dimensionality reduction can help select relevant n-grams efficiently.`"
      ]
    },
    {
      "cell_type": "code",
      "execution_count": null,
      "metadata": {
        "id": "fckkQc-JhsSt"
      },
      "outputs": [],
      "source": []
    }
  ],
  "metadata": {
    "accelerator": "GPU",
    "colab": {
      "gpuType": "T4",
      "provenance": []
    },
    "kernelspec": {
      "display_name": "Python 3",
      "name": "python3"
    },
    "language_info": {
      "name": "python"
    }
  },
  "nbformat": 4,
  "nbformat_minor": 0
}