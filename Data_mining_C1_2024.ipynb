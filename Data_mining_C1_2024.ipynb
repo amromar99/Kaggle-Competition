{
  "nbformat": 4,
  "nbformat_minor": 0,
  "metadata": {
    "colab": {
      "provenance": []
    },
    "kernelspec": {
      "name": "python3",
      "display_name": "Python 3"
    },
    "language_info": {
      "name": "python"
    }
  },
  "cells": [
    {
      "cell_type": "code",
      "execution_count": 64,
      "metadata": {
        "id": "QMWNhVmM8t_T"
      },
      "outputs": [],
      "source": [
        "from google.colab import drive\n",
        "import pandas as pd\n",
        "from sklearn import preprocessing\n",
        "from sklearn.model_selection import train_test_split\n",
        "from sklearn.tree import DecisionTreeClassifier\n",
        "from sklearn.svm import SVC\n",
        "from sklearn.naive_bayes import GaussianNB\n",
        "from sklearn.metrics import accuracy_score\n",
        "from sklearn.impute import SimpleImputer\n",
        "from sklearn.metrics import f1_score"
      ]
    },
    {
      "cell_type": "code",
      "source": [
        "drive.mount('/content/gdrive')"
      ],
      "metadata": {
        "colab": {
          "base_uri": "https://localhost:8080/"
        },
        "id": "V-qGoMDY9JlH",
        "outputId": "1bb99c40-14f2-4205-8b81-f422d77a460c"
      },
      "execution_count": 41,
      "outputs": [
        {
          "output_type": "stream",
          "name": "stdout",
          "text": [
            "Drive already mounted at /content/gdrive; to attempt to forcibly remount, call drive.mount(\"/content/gdrive\", force_remount=True).\n"
          ]
        }
      ]
    },
    {
      "cell_type": "markdown",
      "source": [
        "# Step 1: Load the training data"
      ],
      "metadata": {
        "id": "8ED4DEKVNsn6"
      }
    },
    {
      "cell_type": "code",
      "source": [
        "train_data = pd.read_csv('/content/gdrive/MyDrive/train_new.csv')"
      ],
      "metadata": {
        "id": "UnEHEwqkNljC"
      },
      "execution_count": 42,
      "outputs": []
    },
    {
      "cell_type": "code",
      "source": [
        "train_data.info()"
      ],
      "metadata": {
        "colab": {
          "base_uri": "https://localhost:8080/"
        },
        "id": "UVMkMPoAUcfR",
        "outputId": "fc920072-8a72-4370-abc6-d3a631880fab"
      },
      "execution_count": 43,
      "outputs": [
        {
          "output_type": "stream",
          "name": "stdout",
          "text": [
            "<class 'pandas.core.frame.DataFrame'>\n",
            "RangeIndex: 1094 entries, 0 to 1093\n",
            "Data columns (total 34 columns):\n",
            " #   Column                        Non-Null Count  Dtype  \n",
            "---  ------                        --------------  -----  \n",
            " 0   price                         1094 non-null   float64\n",
            " 1   retail_price                  1094 non-null   int64  \n",
            " 2   currency_buyer                1094 non-null   object \n",
            " 3   units_sold                    1094 non-null   int64  \n",
            " 4   uses_ad_boosts                1094 non-null   int64  \n",
            " 5   rating                        1094 non-null   float64\n",
            " 6   rating_count                  1094 non-null   int64  \n",
            " 7   badges_count                  1094 non-null   int64  \n",
            " 8   badge_local_product           1094 non-null   int64  \n",
            " 9   badge_product_quality         1094 non-null   int64  \n",
            " 10  badge_fast_shipping           1094 non-null   int64  \n",
            " 11  tags                          1094 non-null   object \n",
            " 12  product_color                 1065 non-null   object \n",
            " 13  product_variation_size_id     1082 non-null   object \n",
            " 14  product_variation_inventory   1094 non-null   int64  \n",
            " 15  shipping_option_name          1094 non-null   object \n",
            " 16  shipping_option_price         1094 non-null   int64  \n",
            " 17  shipping_is_express           1094 non-null   int64  \n",
            " 18  countries_shipped_to          1094 non-null   int64  \n",
            " 19  inventory_total               1094 non-null   int64  \n",
            " 20  has_urgency_banner            349 non-null    float64\n",
            " 21  urgency_text                  349 non-null    object \n",
            " 22  origin_country                1082 non-null   object \n",
            " 23  merchant_title                1094 non-null   object \n",
            " 24  merchant_name                 1090 non-null   object \n",
            " 25  merchant_info_subtitle        1094 non-null   object \n",
            " 26  merchant_rating_count         1094 non-null   int64  \n",
            " 27  merchant_rating               1094 non-null   float64\n",
            " 28  merchant_id                   1094 non-null   object \n",
            " 29  merchant_has_profile_picture  1094 non-null   int64  \n",
            " 30  merchant_profile_picture      170 non-null    object \n",
            " 31  theme                         1094 non-null   object \n",
            " 32  crawl_month                   1094 non-null   object \n",
            " 33  id                            1094 non-null   int64  \n",
            "dtypes: float64(4), int64(16), object(14)\n",
            "memory usage: 290.7+ KB\n"
          ]
        }
      ]
    },
    {
      "cell_type": "markdown",
      "source": [
        "# Step 2: Preprocessing"
      ],
      "metadata": {
        "id": "hvZ8SpMgNoXR"
      }
    },
    {
      "cell_type": "code",
      "source": [
        "# Drop irrelevant columns\n",
        "train_data = train_data.drop(['currency_buyer', 'tags', 'product_color', 'product_variation_size_id',\n",
        "                              'shipping_option_name', 'urgency_text', 'origin_country', 'merchant_title',\n",
        "                              'merchant_name', 'merchant_info_subtitle', 'merchant_id', 'merchant_has_profile_picture',\n",
        "                              'merchant_profile_picture', 'theme', 'crawl_month', 'id', 'units_sold'], axis=1)\n",
        "\n"
      ],
      "metadata": {
        "id": "5PZu-wTs9Jm3"
      },
      "execution_count": 44,
      "outputs": []
    },
    {
      "cell_type": "code",
      "source": [
        "# Convert categorical features to numerical using one-hot encoding\n",
        "train_data = pd.get_dummies(train_data)"
      ],
      "metadata": {
        "id": "-Oby9v-t9JqJ"
      },
      "execution_count": 45,
      "outputs": []
    },
    {
      "cell_type": "code",
      "source": [
        "# Impute missing values\n",
        "imputer = SimpleImputer(strategy='mean')\n",
        "train_data_imputed = imputer.fit_transform(train_data)"
      ],
      "metadata": {
        "id": "v1kqPZmtWriI"
      },
      "execution_count": 46,
      "outputs": []
    },
    {
      "cell_type": "code",
      "source": [
        "# Normalize the features\n",
        "scaler = preprocessing.MinMaxScaler()\n",
        "train_data_scaled = scaler.fit_transform(train_data_imputed )"
      ],
      "metadata": {
        "id": "09LUMIDn9JsL"
      },
      "execution_count": 47,
      "outputs": []
    },
    {
      "cell_type": "code",
      "source": [
        "# Split the data into features and target variable\n",
        "X_train = train_data_scaled\n",
        "y_train = pd.read_csv('/content/gdrive/MyDrive/train_new.csv')['units_sold']"
      ],
      "metadata": {
        "id": "kbSwva9DQGp7"
      },
      "execution_count": 48,
      "outputs": []
    },
    {
      "cell_type": "markdown",
      "source": [
        "# Step 3: Load the testing data\n"
      ],
      "metadata": {
        "id": "kq9iRVELRZlP"
      }
    },
    {
      "cell_type": "code",
      "source": [
        "test_data = pd.read_csv('/content/gdrive/MyDrive/test_new.csv')"
      ],
      "metadata": {
        "id": "4-jb6p79Rc7i"
      },
      "execution_count": 49,
      "outputs": []
    },
    {
      "cell_type": "markdown",
      "source": [
        "# Step 4: Preprocessing for testing data\n"
      ],
      "metadata": {
        "id": "WgTnIaFdRdZP"
      }
    },
    {
      "cell_type": "code",
      "source": [
        "# Drop irrelevant columns\n",
        "test_data = test_data.drop(['currency_buyer', 'tags', 'product_color', 'product_variation_size_id',\n",
        "                            'shipping_option_name', 'urgency_text', 'origin_country', 'merchant_title',\n",
        "                            'merchant_name', 'merchant_info_subtitle', 'merchant_id', 'merchant_has_profile_picture',\n",
        "                            'merchant_profile_picture', 'theme', 'crawl_month', 'id', 'units_sold'], axis=1)\n",
        "\n"
      ],
      "metadata": {
        "id": "tO-3p9ppQGr7"
      },
      "execution_count": 50,
      "outputs": []
    },
    {
      "cell_type": "code",
      "source": [
        "# Convert categorical features to numerical using one-hot encoding\n",
        "test_data = pd.get_dummies(test_data)\n",
        "\n"
      ],
      "metadata": {
        "id": "ash_bjMbRyaa"
      },
      "execution_count": 51,
      "outputs": []
    },
    {
      "cell_type": "code",
      "source": [
        "# Reorder test data columns to match training data columns\n",
        "missing_cols = set(train_data.columns) - set(test_data.columns)\n",
        "for col in missing_cols:\n",
        "    test_data[col] = 0\n",
        "test_data = test_data[train_data.columns]"
      ],
      "metadata": {
        "id": "hPCmxrmfRytJ"
      },
      "execution_count": 52,
      "outputs": []
    },
    {
      "cell_type": "code",
      "source": [
        "# Impute missing values\n",
        "test_data_imputed = imputer.transform(test_data)"
      ],
      "metadata": {
        "id": "EN6pcop5YA7t"
      },
      "execution_count": 53,
      "outputs": []
    },
    {
      "cell_type": "code",
      "source": [
        "# Normalize the features\n",
        "test_data_scaled = scaler.transform(test_data_imputed)"
      ],
      "metadata": {
        "id": "PqiRgFG2TS9Z"
      },
      "execution_count": 54,
      "outputs": []
    },
    {
      "cell_type": "code",
      "source": [
        "# Split the data into features and target variable\n",
        "X_test = test_data_scaled\n",
        "y_test = pd.read_csv('/content/gdrive/MyDrive/test_new.csv')['units_sold']"
      ],
      "metadata": {
        "id": "AvbTGbbXR3-c"
      },
      "execution_count": 62,
      "outputs": []
    },
    {
      "cell_type": "markdown",
      "source": [
        "# Step 5: Train and evaluate models"
      ],
      "metadata": {
        "id": "TEXlB4FXTpN2"
      }
    },
    {
      "cell_type": "markdown",
      "source": [
        "## Decision Tree"
      ],
      "metadata": {
        "id": "0lnedSMxTzCf"
      }
    },
    {
      "cell_type": "markdown",
      "source": [
        "### Model 1: Default configuration"
      ],
      "metadata": {
        "id": "mNINK1CZT6oB"
      }
    },
    {
      "cell_type": "code",
      "source": [
        "dt_model_1 = DecisionTreeClassifier(random_state=42)\n",
        "dt_model_1.fit(X_train, y_train)\n",
        "dt_pred_1 = dt_model_1.predict(X_test)\n",
        "dt_acc_1 = accuracy_score(y_test, dt_pred_1)\n",
        "dt_f1_1 = f1_score(y_test, dt_pred_1, average='weighted')\n"
      ],
      "metadata": {
        "id": "LFeGD0lVSEaW"
      },
      "execution_count": 65,
      "outputs": []
    },
    {
      "cell_type": "markdown",
      "source": [
        "### Model 2: Tuned configuration\n"
      ],
      "metadata": {
        "id": "pyzQPKCfVv1R"
      }
    },
    {
      "cell_type": "code",
      "source": [
        "dt_model_2 = DecisionTreeClassifier(max_depth=5, min_samples_split=2, random_state=42)\n",
        "dt_model_2.fit(X_train, y_train)\n",
        "dt_pred_2 = dt_model_2.predict(X_test)\n",
        "dt_acc_2 = accuracy_score(y_test, dt_pred_2)\n",
        "dt_f1_2 = f1_score(y_test, dt_pred_2, average='weighted')\n"
      ],
      "metadata": {
        "id": "IlVXHe4pToUr"
      },
      "execution_count": 66,
      "outputs": []
    },
    {
      "cell_type": "markdown",
      "source": [
        "## SVM"
      ],
      "metadata": {
        "id": "_A7qdCZMV8G1"
      }
    },
    {
      "cell_type": "markdown",
      "source": [
        "### Model 1: Default configuration\n"
      ],
      "metadata": {
        "id": "_qAQRrtgV8RV"
      }
    },
    {
      "cell_type": "code",
      "source": [
        "\n",
        "svm_model_1 = SVC(random_state=42)\n",
        "svm_model_1.fit(X_train, y_train)\n",
        "svm_pred_1 = svm_model_1.predict(X_test)\n",
        "svm_acc_1 = accuracy_score(y_test, svm_pred_1)\n",
        "svm_f1_1 = f1_score(y_test, svm_pred_1, average='weighted')"
      ],
      "metadata": {
        "id": "VI5kdjq6V6II"
      },
      "execution_count": 67,
      "outputs": []
    },
    {
      "cell_type": "markdown",
      "source": [
        "### Model 2: Tuned configuration"
      ],
      "metadata": {
        "id": "RPpNKaakWHeC"
      }
    },
    {
      "cell_type": "code",
      "source": [
        "svm_model_2 = SVC(kernel='poly', degree=3, random_state=42)\n",
        "svm_model_2.fit(X_train, y_train)\n",
        "svm_pred_2 = svm_model_2.predict(X_test)\n",
        "svm_acc_2 = accuracy_score(y_test, svm_pred_2)\n",
        "svm_f1_2 = f1_score(y_test, svm_pred_2, average='weighted')"
      ],
      "metadata": {
        "id": "Y6D1i1MqWLmn"
      },
      "execution_count": 68,
      "outputs": []
    },
    {
      "cell_type": "markdown",
      "source": [
        "## Naive Bayes"
      ],
      "metadata": {
        "id": "p3zJlut_WPwj"
      }
    },
    {
      "cell_type": "code",
      "source": [
        "nb_model = GaussianNB()\n",
        "nb_model.fit(X_train, y_train)\n",
        "nb_pred = nb_model.predict(X_test)\n",
        "nb_acc = accuracy_score(y_test, nb_pred)\n",
        "nb_f1 = f1_score(y_test, nb_pred, average='weighted')"
      ],
      "metadata": {
        "id": "irPTHfQzToW9"
      },
      "execution_count": 69,
      "outputs": []
    },
    {
      "cell_type": "code",
      "source": [
        "# Print the F1-Scores\n",
        "print(\"Decision Tree:\")\n",
        "print(\"Model 1 F1-Score:\", dt_f1_1)\n",
        "print(\"Model 2 F1-Score:\", dt_f1_2)\n",
        "print(\"\")\n",
        "\n",
        "print(\"SVM:\")\n",
        "print(\"Model 1 F1-Score:\", svm_f1_1)\n",
        "print(\"Model 2 F1-Score:\", svm_f1_2)\n",
        "print(\"\")\n",
        "\n",
        "print(\"Naive Bayes:\")\n",
        "print(\"F1-Score:\", nb_f1)"
      ],
      "metadata": {
        "colab": {
          "base_uri": "https://localhost:8080/"
        },
        "id": "LiYcQjnbaTaN",
        "outputId": "a23333cc-bbc0-46b8-cabd-32606ef3272c"
      },
      "execution_count": 70,
      "outputs": [
        {
          "output_type": "stream",
          "name": "stdout",
          "text": [
            "Decision Tree:\n",
            "Model 1 F1-Score: 0.6384595388705425\n",
            "Model 2 F1-Score: 0.7028240817292348\n",
            "\n",
            "SVM:\n",
            "Model 1 F1-Score: 0.1838527884331019\n",
            "Model 2 F1-Score: 0.21912105134329307\n",
            "\n",
            "Naive Bayes:\n",
            "F1-Score: 0.21963166199365086\n"
          ]
        }
      ]
    },
    {
      "cell_type": "code",
      "source": [
        "# Print the accuracies\n",
        "print(\"Decision Tree:\")\n",
        "print(\"Model 1 Accuracy:\", dt_acc_1)\n",
        "print(\"Model 2 Accuracy:\", dt_acc_2)\n",
        "print(\"\")\n",
        "\n",
        "print(\"SVM:\")\n",
        "print(\"Model 1 Accuracy:\", svm_acc_1)\n",
        "print(\"Model 2 Accuracy:\", svm_acc_2)\n",
        "print(\"\")\n",
        "\n",
        "print(\"Naive Bayes:\")\n",
        "print(\"Accuracy:\", nb_acc)"
      ],
      "metadata": {
        "colab": {
          "base_uri": "https://localhost:8080/"
        },
        "id": "A8f4W7faToaA",
        "outputId": "58d34890-fc35-45dc-f72d-2e3cc267b28b"
      },
      "execution_count": 71,
      "outputs": [
        {
          "output_type": "stream",
          "name": "stdout",
          "text": [
            "Decision Tree:\n",
            "Model 1 Accuracy: 0.6263048016701461\n",
            "Model 2 Accuracy: 0.7160751565762005\n",
            "\n",
            "SVM:\n",
            "Model 1 Accuracy: 0.33820459290187893\n",
            "Model 2 Accuracy: 0.35490605427974947\n",
            "\n",
            "Naive Bayes:\n",
            "Accuracy: 0.2797494780793319\n"
          ]
        }
      ]
    },
    {
      "cell_type": "markdown",
      "source": [
        "#Questions"
      ],
      "metadata": {
        "id": "zLfLrxlZbBxB"
      }
    },
    {
      "cell_type": "markdown",
      "source": [
        "1.\tWhy Data Mining is a misnomer? What is another preferred name?\n",
        "\n"
      ],
      "metadata": {
        "id": "cJaR7yMYbIbI"
      }
    },
    {
      "cell_type": "markdown",
      "source": [
        "Data Mining is considered a misnomer because it implies extracting data from a source, whereas the process involves discovering patterns and insights from data. Another preferred name is Knowledge Discovery in Databases (KDD)"
      ],
      "metadata": {
        "id": "6hbcLXH6bIdu"
      }
    },
    {
      "cell_type": "markdown",
      "source": [
        "2.\t What is the general knowledge discovery process? What is the difference between a data engineer and data scientist/AI engineer?\n"
      ],
      "metadata": {
        "id": "-wh2Ke5dbcQn"
      }
    },
    {
      "cell_type": "markdown",
      "source": [
        "The general knowledge discovery process involves data selection, preprocessing, transformation, data mining, interpretation, and evaluation. A data engineer focuses on the design and maintenance of data pipelines and infrastructure, while a data scientist/AI engineer is responsible for developing algorithms and models to extract insights from data."
      ],
      "metadata": {
        "id": "O1GxU6fkbe_w"
      }
    },
    {
      "cell_type": "markdown",
      "source": [
        "3.\tIn data mining, what is the difference between prediction and categorization?\n"
      ],
      "metadata": {
        "id": "hTVnosPBbhs2"
      }
    },
    {
      "cell_type": "markdown",
      "source": [
        "In data mining, prediction involves forecasting numerical values, while categorization involves assigning data into predefined classes or categories."
      ],
      "metadata": {
        "id": "k2165k5ObmGV"
      }
    },
    {
      "cell_type": "markdown",
      "source": [
        "4.\tWhy data science/machine learning is a bad idea in the context of information security?\n"
      ],
      "metadata": {
        "id": "Zx28dzxqbrGv"
      }
    },
    {
      "cell_type": "markdown",
      "source": [
        "Data science/machine learning can be a bad idea in information security if not implemented carefully, as it can introduce vulnerabilities if models are trained on sensitive data or manipulated by adversaries."
      ],
      "metadata": {
        "id": "AZ_MHg5Obugq"
      }
    },
    {
      "cell_type": "markdown",
      "source": [
        "\n",
        "5.\tWhat is CIA principle and how can we use it to access the security/privacy aspect of the AI\n",
        "\n",
        "\n"
      ],
      "metadata": {
        "id": "ERZFcR05bIgg"
      }
    },
    {
      "cell_type": "markdown",
      "source": [
        "The CIA principle stands for Confidentiality, Integrity, and Availability. We can use it to assess the security/privacy aspect of AI systems/pipelines by ensuring that data is kept confidential, that the system maintains integrity against tampering or unauthorized access, and that it remains available for legitimate users when needed."
      ],
      "metadata": {
        "id": "jPhtm3CrbIjF"
      }
    }
  ]
}