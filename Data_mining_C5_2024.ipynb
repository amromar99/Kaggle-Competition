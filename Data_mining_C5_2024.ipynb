{
  "cells": [
    {
      "cell_type": "code",
      "execution_count": 1,
      "metadata": {
        "id": "QMWNhVmM8t_T"
      },
      "outputs": [],
      "source": [
        "# Eng/Amr Mostafa Omar\n",
        "# Nile University ,Cairo, Egypt\n",
        "# Data 1/5/2024"
      ]
    },
    {
      "cell_type": "markdown",
      "metadata": {
        "id": "66YUfeviUt3I"
      },
      "source": [
        "##**The methodology used in this project involves several steps:**"
      ]
    },
    {
      "cell_type": "markdown",
      "source": [
        "**1. Reading SDF Files:** The project begins by defining a function read_sdf that reads an SDF (Structure Data File) containing information about chemical compounds. This involves parsing the file to extract data such as atom positions, connections, and other molecular properties.\n",
        "\n",
        "**2. Data Preprocessing:** After reading the SDF file, we preprocesses the data. This includes tokenization, where chemical compounds are represented as sequences of tokens. Padding is then applied to ensure that all sequences have the same length for batch processing.\n",
        "\n",
        "**3. Batch Generation:** Then we generates batches of data for training and validation. This step is crucial for efficient processing in machine learning models, especially when dealing with large datasets.\n",
        "\n",
        "**4. Model Training and Evaluation**: we  trained  and evaluated machine learning models using TensorFlow. we defined the model architecture, specifies the optimizer (Adam with adjusted learning rates), and applied techniques like dropout regularization and batch normalization to improve model performance.\n",
        "\n",
        "**5. Saving Predictions:** Finally, we saved the predictions made by the trained models to CSV files."
      ],
      "metadata": {
        "id": "JJGF5x4LYCjW"
      }
    },
    {
      "cell_type": "markdown",
      "source": [
        "##**1.Problem Definition:**\n",
        "\n"
      ],
      "metadata": {
        "id": "Pn6rEs6GX_v3"
      }
    },
    {
      "cell_type": "markdown",
      "source": [
        "**Input**:\n",
        "\n",
        "Graph representations of chemical compounds in SDF format, where nodes are atoms and edges are bonds.\n",
        "Labels indicating whether each compound is positive (1) or negative (0) for anti-cancer activity against non-small cell lung cancer.\n",
        "\n",
        "**Output**:\n",
        "\n",
        "Binary classification labels (1 for positive, 0 for negative) predicting the anti-cancer activity of each compound.\n",
        "\n",
        "**Data Mining Function:**\n",
        "\n",
        "The required data mining function is classification, specifically binary classification. This involves building a predictive model that learns patterns from the graph structures of chemical compounds to classify them as either positive or negative for anti-cancer activity.\n",
        "\n",
        "**Challenges**:\n",
        "\n",
        "**1. Graph Representation:**\n",
        "\n",
        "Handling graph-structured data requires specialized techniques such as Graph Neural Networks (GNNs) to effectively capture the structural information.\n",
        "\n",
        "**2. Data Complexity:**\n",
        "\n",
        "Chemical compound graphs can be complex and diverse, requiring robust models capable of generalizing well.\n",
        "\n",
        "**3. Class Imbalance:**\n",
        "\n",
        "The dataset  have an imbalance between positive and negative compounds, which can impact model training and evaluation.\n",
        "\n",
        "**4. Feature Engineering:**\n",
        "\n",
        "Extracting meaningful features from graph structures and encoding them appropriately for machine learning models is non-trivial.\n",
        "\n",
        "**5. Model Interpretability:**\n",
        "\n",
        "Interpreting the decisions of complex models like GNNs can be challenging, especially in domains like healthcare where interpretability is crucial.\n",
        "\n",
        "\n",
        "**Impact:**\n",
        "The impact of successfully solving this problem is significant in the field of medicine and pharmaceuticals. Accurate prediction of anti-cancer activity can expedite drug discovery processes, reduce costs, and lead to the development of more effective treatments for non-small cell lung cancer patients."
      ],
      "metadata": {
        "id": "MJ-OIGixzSGt"
      }
    },
    {
      "cell_type": "code",
      "source": [
        "#Installing some libiraries\n",
        "!pip install tf2_gnn"
      ],
      "metadata": {
        "id": "04aK9oOSw1vB",
        "colab": {
          "base_uri": "https://localhost:8080/"
        },
        "outputId": "73d0ce20-084c-4b59-e2ab-7ea3b399ae27"
      },
      "execution_count": 2,
      "outputs": [
        {
          "output_type": "stream",
          "name": "stdout",
          "text": [
            "Collecting tf2_gnn\n",
            "  Downloading tf2_gnn-2.14.0-py3-none-any.whl (77 kB)\n",
            "\u001b[2K     \u001b[90m━━━━━━━━━━━━━━━━━━━━━━━━━━━━━━━━━━━━━━━━\u001b[0m \u001b[32m77.4/77.4 kB\u001b[0m \u001b[31m860.3 kB/s\u001b[0m eta \u001b[36m0:00:00\u001b[0m\n",
            "\u001b[?25hRequirement already satisfied: numpy in /usr/local/lib/python3.10/dist-packages (from tf2_gnn) (1.25.2)\n",
            "Requirement already satisfied: tensorflow>=2.0.0 in /usr/local/lib/python3.10/dist-packages (from tf2_gnn) (2.15.0)\n",
            "Collecting dpu-utils>=0.2.7 (from tf2_gnn)\n",
            "  Downloading dpu_utils-0.6.1-py2.py3-none-any.whl (73 kB)\n",
            "\u001b[2K     \u001b[90m━━━━━━━━━━━━━━━━━━━━━━━━━━━━━━━━━━━━━━━━\u001b[0m \u001b[32m73.3/73.3 kB\u001b[0m \u001b[31m3.3 MB/s\u001b[0m eta \u001b[36m0:00:00\u001b[0m\n",
            "\u001b[?25hRequirement already satisfied: h5py in /usr/local/lib/python3.10/dist-packages (from tf2_gnn) (3.9.0)\n",
            "Requirement already satisfied: packaging in /usr/local/lib/python3.10/dist-packages (from tf2_gnn) (24.0)\n",
            "Collecting azure-storage-blob (from dpu-utils>=0.2.7->tf2_gnn)\n",
            "  Downloading azure_storage_blob-12.19.1-py3-none-any.whl (394 kB)\n",
            "\u001b[2K     \u001b[90m━━━━━━━━━━━━━━━━━━━━━━━━━━━━━━━━━━━━━━━━\u001b[0m \u001b[32m394.5/394.5 kB\u001b[0m \u001b[31m14.7 MB/s\u001b[0m eta \u001b[36m0:00:00\u001b[0m\n",
            "\u001b[?25hCollecting azure-identity (from dpu-utils>=0.2.7->tf2_gnn)\n",
            "  Downloading azure_identity-1.16.0-py3-none-any.whl (166 kB)\n",
            "\u001b[2K     \u001b[90m━━━━━━━━━━━━━━━━━━━━━━━━━━━━━━━━━━━━━━━━\u001b[0m \u001b[32m166.1/166.1 kB\u001b[0m \u001b[31m7.0 MB/s\u001b[0m eta \u001b[36m0:00:00\u001b[0m\n",
            "\u001b[?25hCollecting docopt (from dpu-utils>=0.2.7->tf2_gnn)\n",
            "  Downloading docopt-0.6.2.tar.gz (25 kB)\n",
            "  Preparing metadata (setup.py) ... \u001b[?25l\u001b[?25hdone\n",
            "Requirement already satisfied: tqdm in /usr/local/lib/python3.10/dist-packages (from dpu-utils>=0.2.7->tf2_gnn) (4.66.2)\n",
            "Collecting SetSimilaritySearch (from dpu-utils>=0.2.7->tf2_gnn)\n",
            "  Downloading SetSimilaritySearch-1.0.1-py3-none-any.whl (14 kB)\n",
            "Requirement already satisfied: sentencepiece in /usr/local/lib/python3.10/dist-packages (from dpu-utils>=0.2.7->tf2_gnn) (0.1.99)\n",
            "Requirement already satisfied: cffi in /usr/local/lib/python3.10/dist-packages (from dpu-utils>=0.2.7->tf2_gnn) (1.16.0)\n",
            "Requirement already satisfied: regex in /usr/local/lib/python3.10/dist-packages (from dpu-utils>=0.2.7->tf2_gnn) (2023.12.25)\n",
            "Requirement already satisfied: absl-py>=1.0.0 in /usr/local/lib/python3.10/dist-packages (from tensorflow>=2.0.0->tf2_gnn) (1.4.0)\n",
            "Requirement already satisfied: astunparse>=1.6.0 in /usr/local/lib/python3.10/dist-packages (from tensorflow>=2.0.0->tf2_gnn) (1.6.3)\n",
            "Requirement already satisfied: flatbuffers>=23.5.26 in /usr/local/lib/python3.10/dist-packages (from tensorflow>=2.0.0->tf2_gnn) (24.3.25)\n",
            "Requirement already satisfied: gast!=0.5.0,!=0.5.1,!=0.5.2,>=0.2.1 in /usr/local/lib/python3.10/dist-packages (from tensorflow>=2.0.0->tf2_gnn) (0.5.4)\n",
            "Requirement already satisfied: google-pasta>=0.1.1 in /usr/local/lib/python3.10/dist-packages (from tensorflow>=2.0.0->tf2_gnn) (0.2.0)\n",
            "Requirement already satisfied: libclang>=13.0.0 in /usr/local/lib/python3.10/dist-packages (from tensorflow>=2.0.0->tf2_gnn) (18.1.1)\n",
            "Requirement already satisfied: ml-dtypes~=0.2.0 in /usr/local/lib/python3.10/dist-packages (from tensorflow>=2.0.0->tf2_gnn) (0.2.0)\n",
            "Requirement already satisfied: opt-einsum>=2.3.2 in /usr/local/lib/python3.10/dist-packages (from tensorflow>=2.0.0->tf2_gnn) (3.3.0)\n",
            "Requirement already satisfied: protobuf!=4.21.0,!=4.21.1,!=4.21.2,!=4.21.3,!=4.21.4,!=4.21.5,<5.0.0dev,>=3.20.3 in /usr/local/lib/python3.10/dist-packages (from tensorflow>=2.0.0->tf2_gnn) (3.20.3)\n",
            "Requirement already satisfied: setuptools in /usr/local/lib/python3.10/dist-packages (from tensorflow>=2.0.0->tf2_gnn) (67.7.2)\n",
            "Requirement already satisfied: six>=1.12.0 in /usr/local/lib/python3.10/dist-packages (from tensorflow>=2.0.0->tf2_gnn) (1.16.0)\n",
            "Requirement already satisfied: termcolor>=1.1.0 in /usr/local/lib/python3.10/dist-packages (from tensorflow>=2.0.0->tf2_gnn) (2.4.0)\n",
            "Requirement already satisfied: typing-extensions>=3.6.6 in /usr/local/lib/python3.10/dist-packages (from tensorflow>=2.0.0->tf2_gnn) (4.11.0)\n",
            "Requirement already satisfied: wrapt<1.15,>=1.11.0 in /usr/local/lib/python3.10/dist-packages (from tensorflow>=2.0.0->tf2_gnn) (1.14.1)\n",
            "Requirement already satisfied: tensorflow-io-gcs-filesystem>=0.23.1 in /usr/local/lib/python3.10/dist-packages (from tensorflow>=2.0.0->tf2_gnn) (0.37.0)\n",
            "Requirement already satisfied: grpcio<2.0,>=1.24.3 in /usr/local/lib/python3.10/dist-packages (from tensorflow>=2.0.0->tf2_gnn) (1.63.0)\n",
            "Requirement already satisfied: tensorboard<2.16,>=2.15 in /usr/local/lib/python3.10/dist-packages (from tensorflow>=2.0.0->tf2_gnn) (2.15.2)\n",
            "Requirement already satisfied: tensorflow-estimator<2.16,>=2.15.0 in /usr/local/lib/python3.10/dist-packages (from tensorflow>=2.0.0->tf2_gnn) (2.15.0)\n",
            "Requirement already satisfied: keras<2.16,>=2.15.0 in /usr/local/lib/python3.10/dist-packages (from tensorflow>=2.0.0->tf2_gnn) (2.15.0)\n",
            "Requirement already satisfied: wheel<1.0,>=0.23.0 in /usr/local/lib/python3.10/dist-packages (from astunparse>=1.6.0->tensorflow>=2.0.0->tf2_gnn) (0.43.0)\n",
            "Requirement already satisfied: google-auth<3,>=1.6.3 in /usr/local/lib/python3.10/dist-packages (from tensorboard<2.16,>=2.15->tensorflow>=2.0.0->tf2_gnn) (2.27.0)\n",
            "Requirement already satisfied: google-auth-oauthlib<2,>=0.5 in /usr/local/lib/python3.10/dist-packages (from tensorboard<2.16,>=2.15->tensorflow>=2.0.0->tf2_gnn) (1.2.0)\n",
            "Requirement already satisfied: markdown>=2.6.8 in /usr/local/lib/python3.10/dist-packages (from tensorboard<2.16,>=2.15->tensorflow>=2.0.0->tf2_gnn) (3.6)\n",
            "Requirement already satisfied: requests<3,>=2.21.0 in /usr/local/lib/python3.10/dist-packages (from tensorboard<2.16,>=2.15->tensorflow>=2.0.0->tf2_gnn) (2.31.0)\n",
            "Requirement already satisfied: tensorboard-data-server<0.8.0,>=0.7.0 in /usr/local/lib/python3.10/dist-packages (from tensorboard<2.16,>=2.15->tensorflow>=2.0.0->tf2_gnn) (0.7.2)\n",
            "Requirement already satisfied: werkzeug>=1.0.1 in /usr/local/lib/python3.10/dist-packages (from tensorboard<2.16,>=2.15->tensorflow>=2.0.0->tf2_gnn) (3.0.2)\n",
            "Collecting azure-core>=1.23.0 (from azure-identity->dpu-utils>=0.2.7->tf2_gnn)\n",
            "  Downloading azure_core-1.30.1-py3-none-any.whl (193 kB)\n",
            "\u001b[2K     \u001b[90m━━━━━━━━━━━━━━━━━━━━━━━━━━━━━━━━━━━━━━━━\u001b[0m \u001b[32m193.4/193.4 kB\u001b[0m \u001b[31m14.8 MB/s\u001b[0m eta \u001b[36m0:00:00\u001b[0m\n",
            "\u001b[?25hRequirement already satisfied: cryptography>=2.5 in /usr/local/lib/python3.10/dist-packages (from azure-identity->dpu-utils>=0.2.7->tf2_gnn) (42.0.5)\n",
            "Collecting msal>=1.24.0 (from azure-identity->dpu-utils>=0.2.7->tf2_gnn)\n",
            "  Downloading msal-1.28.0-py3-none-any.whl (102 kB)\n",
            "\u001b[2K     \u001b[90m━━━━━━━━━━━━━━━━━━━━━━━━━━━━━━━━━━━━━━━━\u001b[0m \u001b[32m102.2/102.2 kB\u001b[0m \u001b[31m11.8 MB/s\u001b[0m eta \u001b[36m0:00:00\u001b[0m\n",
            "\u001b[?25hCollecting msal-extensions>=0.3.0 (from azure-identity->dpu-utils>=0.2.7->tf2_gnn)\n",
            "  Downloading msal_extensions-1.1.0-py3-none-any.whl (19 kB)\n",
            "Collecting isodate>=0.6.1 (from azure-storage-blob->dpu-utils>=0.2.7->tf2_gnn)\n",
            "  Downloading isodate-0.6.1-py2.py3-none-any.whl (41 kB)\n",
            "\u001b[2K     \u001b[90m━━━━━━━━━━━━━━━━━━━━━━━━━━━━━━━━━━━━━━━━\u001b[0m \u001b[32m41.7/41.7 kB\u001b[0m \u001b[31m3.7 MB/s\u001b[0m eta \u001b[36m0:00:00\u001b[0m\n",
            "\u001b[?25hRequirement already satisfied: pycparser in /usr/local/lib/python3.10/dist-packages (from cffi->dpu-utils>=0.2.7->tf2_gnn) (2.22)\n",
            "Requirement already satisfied: cachetools<6.0,>=2.0.0 in /usr/local/lib/python3.10/dist-packages (from google-auth<3,>=1.6.3->tensorboard<2.16,>=2.15->tensorflow>=2.0.0->tf2_gnn) (5.3.3)\n",
            "Requirement already satisfied: pyasn1-modules>=0.2.1 in /usr/local/lib/python3.10/dist-packages (from google-auth<3,>=1.6.3->tensorboard<2.16,>=2.15->tensorflow>=2.0.0->tf2_gnn) (0.4.0)\n",
            "Requirement already satisfied: rsa<5,>=3.1.4 in /usr/local/lib/python3.10/dist-packages (from google-auth<3,>=1.6.3->tensorboard<2.16,>=2.15->tensorflow>=2.0.0->tf2_gnn) (4.9)\n",
            "Requirement already satisfied: requests-oauthlib>=0.7.0 in /usr/local/lib/python3.10/dist-packages (from google-auth-oauthlib<2,>=0.5->tensorboard<2.16,>=2.15->tensorflow>=2.0.0->tf2_gnn) (1.3.1)\n",
            "Requirement already satisfied: PyJWT[crypto]<3,>=1.0.0 in /usr/lib/python3/dist-packages (from msal>=1.24.0->azure-identity->dpu-utils>=0.2.7->tf2_gnn) (2.3.0)\n",
            "Collecting portalocker<3,>=1.0 (from msal-extensions>=0.3.0->azure-identity->dpu-utils>=0.2.7->tf2_gnn)\n",
            "  Downloading portalocker-2.8.2-py3-none-any.whl (17 kB)\n",
            "Requirement already satisfied: charset-normalizer<4,>=2 in /usr/local/lib/python3.10/dist-packages (from requests<3,>=2.21.0->tensorboard<2.16,>=2.15->tensorflow>=2.0.0->tf2_gnn) (3.3.2)\n",
            "Requirement already satisfied: idna<4,>=2.5 in /usr/local/lib/python3.10/dist-packages (from requests<3,>=2.21.0->tensorboard<2.16,>=2.15->tensorflow>=2.0.0->tf2_gnn) (3.7)\n",
            "Requirement already satisfied: urllib3<3,>=1.21.1 in /usr/local/lib/python3.10/dist-packages (from requests<3,>=2.21.0->tensorboard<2.16,>=2.15->tensorflow>=2.0.0->tf2_gnn) (2.0.7)\n",
            "Requirement already satisfied: certifi>=2017.4.17 in /usr/local/lib/python3.10/dist-packages (from requests<3,>=2.21.0->tensorboard<2.16,>=2.15->tensorflow>=2.0.0->tf2_gnn) (2024.2.2)\n",
            "Requirement already satisfied: MarkupSafe>=2.1.1 in /usr/local/lib/python3.10/dist-packages (from werkzeug>=1.0.1->tensorboard<2.16,>=2.15->tensorflow>=2.0.0->tf2_gnn) (2.1.5)\n",
            "Requirement already satisfied: pyasn1<0.7.0,>=0.4.6 in /usr/local/lib/python3.10/dist-packages (from pyasn1-modules>=0.2.1->google-auth<3,>=1.6.3->tensorboard<2.16,>=2.15->tensorflow>=2.0.0->tf2_gnn) (0.6.0)\n",
            "Requirement already satisfied: oauthlib>=3.0.0 in /usr/local/lib/python3.10/dist-packages (from requests-oauthlib>=0.7.0->google-auth-oauthlib<2,>=0.5->tensorboard<2.16,>=2.15->tensorflow>=2.0.0->tf2_gnn) (3.2.2)\n",
            "Building wheels for collected packages: docopt\n",
            "  Building wheel for docopt (setup.py) ... \u001b[?25l\u001b[?25hdone\n",
            "  Created wheel for docopt: filename=docopt-0.6.2-py2.py3-none-any.whl size=13706 sha256=00ffa5b0bdab5616867c9bb0d3f8288ad6344cce1df9f1c3f22cd6fe1f6c9a71\n",
            "  Stored in directory: /root/.cache/pip/wheels/fc/ab/d4/5da2067ac95b36618c629a5f93f809425700506f72c9732fac\n",
            "Successfully built docopt\n",
            "Installing collected packages: docopt, SetSimilaritySearch, portalocker, isodate, azure-core, azure-storage-blob, msal, msal-extensions, azure-identity, dpu-utils, tf2_gnn\n",
            "Successfully installed SetSimilaritySearch-1.0.1 azure-core-1.30.1 azure-identity-1.16.0 azure-storage-blob-12.19.1 docopt-0.6.2 dpu-utils-0.6.1 isodate-0.6.1 msal-1.28.0 msal-extensions-1.1.0 portalocker-2.8.2 tf2_gnn-2.14.0\n"
          ]
        }
      ]
    },
    {
      "cell_type": "code",
      "execution_count": 3,
      "metadata": {
        "id": "yExks04z6sYy",
        "colab": {
          "base_uri": "https://localhost:8080/"
        },
        "outputId": "0c5b3cb7-2f76-45e8-c458-2ada105bfd90"
      },
      "outputs": [
        {
          "output_type": "stream",
          "name": "stderr",
          "text": [
            "WARNING:tensorflow:From /usr/local/lib/python3.10/dist-packages/tensorflow/python/util/deprecation.py:588: calling function (from tensorflow.python.eager.polymorphic_function.polymorphic_function) with experimental_relax_shapes is deprecated and will be removed in a future version.\n",
            "Instructions for updating:\n",
            "experimental_relax_shapes is deprecated, use reduce_retracing instead\n"
          ]
        }
      ],
      "source": [
        "# Import  libraries\n",
        "import numpy as np\n",
        "import pandas as pd\n",
        "import networkx as nx\n",
        "import matplotlib.pyplot as plt\n",
        "from matplotlib import cm\n",
        "from sklearn.utils import resample\n",
        "from sklearn.model_selection import train_test_split\n",
        "from tf2_gnn.layers.gnn import GNN, GNNInput\n",
        "from tensorflow.keras.layers import Embedding, Dense, Dropout, BatchNormalization\n",
        "from tensorflow.keras.optimizers import Adam\n",
        "from tensorflow.math import segment_mean\n",
        "from tensorflow.keras import Input, Model\n",
        "from tensorflow.keras.callbacks import EarlyStopping\n",
        "from tensorflow.keras.preprocessing.text import Tokenizer\n",
        "from tensorflow.keras.preprocessing.sequence import pad_sequences\n",
        "from sklearn.metrics import roc_auc_score\n",
        "import random\n",
        "import math"
      ]
    },
    {
      "cell_type": "code",
      "execution_count": 4,
      "metadata": {
        "id": "WgbKaVHU6vKI"
      },
      "outputs": [],
      "source": [
        "# Mount Google Drive to access files\n",
        "from google.colab import drive"
      ]
    },
    {
      "cell_type": "code",
      "execution_count": 5,
      "metadata": {
        "colab": {
          "base_uri": "https://localhost:8080/"
        },
        "id": "TjPXJq486ylr",
        "outputId": "5a25e29f-6007-4aa8-92ec-646e38b26bbb"
      },
      "outputs": [
        {
          "output_type": "stream",
          "name": "stdout",
          "text": [
            "Mounted at /content/gdrive\n"
          ]
        }
      ],
      "source": [
        "drive.mount('/content/gdrive')"
      ]
    },
    {
      "cell_type": "code",
      "source": [
        "# File path to your SDF file\n",
        "file_path_train = '/content/gdrive/MyDrive/train.sdf'\n",
        "file_path_test = '/content/gdrive/MyDrive/test_x.sdf'"
      ],
      "metadata": {
        "id": "6MGBQbj5EiHJ"
      },
      "execution_count": 6,
      "outputs": []
    },
    {
      "cell_type": "markdown",
      "metadata": {
        "id": "8ED4DEKVNsn6"
      },
      "source": [
        "##**2-Data Loading:**"
      ]
    },
    {
      "cell_type": "code",
      "source": [
        "# Read the SDF files and preprocess the data\n",
        "def read_sdf(file):\n",
        "    with open(file, 'r') as rf:\n",
        "        content = rf.read()\n",
        "    samples = content.split('$$$$')\n",
        "    def parse_sample(s):\n",
        "        lines = s.splitlines()\n",
        "        links = []\n",
        "        nodes = []\n",
        "        label = 0\n",
        "        for l in lines:\n",
        "            if l.strip() == '1.0':\n",
        "                label = 1\n",
        "            if l.strip() == '-1.0':\n",
        "                label = 0\n",
        "            if l.startswith('    '):\n",
        "                feature = l.split()\n",
        "                node = feature[3]\n",
        "                nodes.append(node)\n",
        "            elif l.startswith(' '):\n",
        "                lnk = l.split()\n",
        "                if int(lnk[0]) - 1 < len(nodes):\n",
        "                    links.append((\n",
        "                        int(lnk[0]) - 1,\n",
        "                        int(lnk[1]) - 1,\n",
        "                    ))\n",
        "        return nodes, np.array(links), label\n",
        "    return [parse_sample(s) for s in samples if len(s[0]) > 0]"
      ],
      "metadata": {
        "id": "VTnKlPBG4lNn"
      },
      "execution_count": 7,
      "outputs": []
    },
    {
      "cell_type": "code",
      "source": [
        "# Read train and test data\n",
        "train_data = read_sdf(file_path_train)\n",
        "test_data = read_sdf(file_path_test)"
      ],
      "metadata": {
        "id": "2OgVh47f6veq"
      },
      "execution_count": 8,
      "outputs": []
    },
    {
      "cell_type": "markdown",
      "metadata": {
        "id": "TAFk1AYul5AN"
      },
      "source": [
        "## **Split data into training and validation set**"
      ]
    },
    {
      "cell_type": "code",
      "source": [
        "# Split the data into train and validation sets\n",
        "train_set, validation_set = train_test_split(train_data, test_size=0.2, random_state=35)"
      ],
      "metadata": {
        "id": "eZOHwhCEHSY8"
      },
      "execution_count": 9,
      "outputs": []
    },
    {
      "cell_type": "markdown",
      "metadata": {
        "id": "gV47OYBT80kj"
      },
      "source": [
        "###**Exploration of  dataset**"
      ]
    },
    {
      "cell_type": "code",
      "source": [
        "# Print a sample from the training set\n",
        "print(train_set[0])"
      ],
      "metadata": {
        "colab": {
          "base_uri": "https://localhost:8080/"
        },
        "id": "3kLNgfp497Hl",
        "outputId": "e1ddcc67-302d-4f6b-c7e0-987171aa01da"
      },
      "execution_count": 10,
      "outputs": [
        {
          "output_type": "stream",
          "name": "stdout",
          "text": [
            "(['O', 'O', 'O', 'O', 'O', 'O', 'O', 'C', 'C', 'C', 'C', 'C', 'C', 'C', 'C', 'C', 'C', 'C', 'C', 'C', 'C', 'C'], array([[ 0,  8],\n",
            "       [ 0,  9],\n",
            "       [ 1, 10],\n",
            "       [11,  2],\n",
            "       [ 3, 15],\n",
            "       [ 4, 16],\n",
            "       [ 5, 19],\n",
            "       [ 6, 20],\n",
            "       [ 7,  9],\n",
            "       [ 7, 10],\n",
            "       [ 7, 13],\n",
            "       [ 8, 11],\n",
            "       [ 8, 12],\n",
            "       [ 9, 14],\n",
            "       [10, 11],\n",
            "       [12, 17],\n",
            "       [12, 18],\n",
            "       [13, 15],\n",
            "       [14, 16],\n",
            "       [15, 16],\n",
            "       [17, 19],\n",
            "       [18, 21],\n",
            "       [19, 20],\n",
            "       [20, 21]]), 0)\n"
          ]
        }
      ]
    },
    {
      "cell_type": "code",
      "source": [
        " # Convert training set to DataFrame for analysis\n",
        "df_train = pd.DataFrame(train_set, columns=['Nodes', 'Edges', 'Label'])"
      ],
      "metadata": {
        "id": "qwYU2eYN8cYZ"
      },
      "execution_count": null,
      "outputs": []
    },
    {
      "cell_type": "code",
      "source": [
        "# Get insights about the dataset\n",
        "num_samples = len(df_train)\n",
        "class_distribution = df_train['Label'].value_counts()\n",
        "num_positive_samples = class_distribution[1]\n",
        "num_negative_samples = class_distribution[0]"
      ],
      "metadata": {
        "id": "b1WBujRB8W_F"
      },
      "execution_count": null,
      "outputs": []
    },
    {
      "cell_type": "code",
      "source": [
        "print('num_samples is ',num_samples)"
      ],
      "metadata": {
        "colab": {
          "base_uri": "https://localhost:8080/"
        },
        "id": "_ZVKUCK3BE2o",
        "outputId": "399749bd-37ad-480a-bad5-24c904088bc0"
      },
      "execution_count": null,
      "outputs": [
        {
          "output_type": "stream",
          "name": "stdout",
          "text": [
            "num_samples is  20019\n"
          ]
        }
      ]
    },
    {
      "cell_type": "code",
      "source": [
        "print('distribution of classes as the following ',class_distribution)"
      ],
      "metadata": {
        "colab": {
          "base_uri": "https://localhost:8080/"
        },
        "id": "4dQjurLsBUBE",
        "outputId": "da686d51-6f3e-425c-ffbc-68e7985bd200"
      },
      "execution_count": null,
      "outputs": [
        {
          "output_type": "stream",
          "name": "stdout",
          "text": [
            "distribution of classes as the following  Label\n",
            "0    19018\n",
            "1     1001\n",
            "Name: count, dtype: int64\n"
          ]
        }
      ]
    },
    {
      "cell_type": "code",
      "execution_count": null,
      "metadata": {
        "colab": {
          "base_uri": "https://localhost:8080/",
          "height": 410
        },
        "id": "oN4il9eM80lD",
        "outputId": "6a81ca78-9b07-4ace-fd31-dcda4918d187"
      },
      "outputs": [
        {
          "output_type": "display_data",
          "data": {
            "text/plain": [
              "<Figure size 600x400 with 1 Axes>"
            ],
            "image/png": "[encoded data removed]"
          },
          "metadata": {}
        }
      ],
      "source": [
        "# Plot class distribution\n",
        "plt.figure(figsize=(6, 4))\n",
        "plt.bar(['Negative', 'Positive'], [num_negative_samples, num_positive_samples], color=['red', 'green'])\n",
        "plt.xlabel('Class')\n",
        "plt.ylabel('Count')\n",
        "plt.title('Class Distribution')\n",
        "plt.show()\n",
        "\n"
      ]
    },
    {
      "cell_type": "markdown",
      "source": [
        "`This unbalanced bar graph shows a class distribution. Red bars (negative) are outnumbered by green (positive class). This imbalance can affect machine learning models, favoring the more frequent negative class.`"
      ],
      "metadata": {
        "id": "_AmyoJE_DNtN"
      }
    },
    {
      "cell_type": "code",
      "source": [
        "# Visualize a sample graph from the dataset\n",
        "sample_graph = df_train.loc[0, 'Edges']\n",
        "G = nx.Graph()\n",
        "G.add_edges_from(sample_graph)\n",
        "pos = nx.spring_layout(G)\n",
        "plt.figure(figsize=(8, 6))\n",
        "nx.draw(G, pos, with_labels=True, node_color='skyblue', edge_color='black', linewidths=1, font_size=10)\n",
        "plt.title('Sample Graph Visualization')\n",
        "plt.show()"
      ],
      "metadata": {
        "colab": {
          "base_uri": "https://localhost:8080/",
          "height": 659
        },
        "id": "Hh5BPuKI9J9B",
        "outputId": "ae80f612-e9bf-4ddd-8bdf-c1a665000355"
      },
      "execution_count": null,
      "outputs": [
        {
          "output_type": "display_data",
          "data": {
            "text/plain": [
              "<Figure size 800x600 with 1 Axes>"
            ],
            "image/png": "[encoded data removed]"
          },
          "metadata": {}
        }
      ]
    },
    {
      "cell_type": "code",
      "source": [
        "# Calculate and plot the distribution of node features\n",
        "all_nodes = [node for nodes, _, _ in train_set for node in nodes]\n",
        "unique_nodes = set(all_nodes)\n",
        "node_counts = {node: all_nodes.count(node) for node in unique_nodes}\n",
        "\n",
        "plt.figure(figsize=(10, 20))\n",
        "plt.barh(list(node_counts.keys()), list(node_counts.values()))\n",
        "plt.xlabel('Count')\n",
        "plt.ylabel('Node Features')\n",
        "plt.title('Node Features Distribution')\n",
        "plt.show()"
      ],
      "metadata": {
        "id": "OvSUyUT-BmpS",
        "colab": {
          "base_uri": "https://localhost:8080/",
          "height": 1000
        },
        "outputId": "4cd3e7b7-1f4e-41c6-d9d1-f56feaf34ef4"
      },
      "execution_count": null,
      "outputs": [
        {
          "output_type": "display_data",
          "data": {
            "text/plain": [
              "<Figure size 1000x2000 with 1 Axes>"
            ],
            "image/png": "[encoded data removed]"
          },
          "metadata": {}
        }
      ]
    },
    {
      "cell_type": "markdown",
      "source": [
        "`This plot the shows the distribution of node features and illusterate the numbers of each chemical elements that exist in different chemical compounds`"
      ],
      "metadata": {
        "id": "s5PTzWcgGPS7"
      }
    },
    {
      "cell_type": "code",
      "source": [
        "# Calculate node degrees and plot their distribution\n",
        "node_degrees = dict(G.degree())\n",
        "plt.figure(figsize=(8, 6))\n",
        "plt.hist(list(node_degrees.values()), bins=20, edgecolor='black')\n",
        "plt.xlabel('Node Degree')\n",
        "plt.ylabel('Frequency')\n",
        "plt.title('Node Degree Distribution')\n",
        "plt.show()"
      ],
      "metadata": {
        "colab": {
          "base_uri": "https://localhost:8080/",
          "height": 564
        },
        "id": "PdhM5MfyDwJO",
        "outputId": "d1a04a89-ad19-4dde-cc29-e4c1c1559393"
      },
      "execution_count": null,
      "outputs": [
        {
          "output_type": "display_data",
          "data": {
            "text/plain": [
              "<Figure size 800x600 with 1 Axes>"
            ],
            "image/png": "[encoded data removed]"
          },
          "metadata": {}
        }
      ]
    },
    {
      "cell_type": "markdown",
      "metadata": {
        "id": "bJQ3y2PI6oCx"
      },
      "source": [
        "## **Data  Preprocessing**"
      ]
    },
    {
      "cell_type": "code",
      "source": [
        "# Define # Vocabulary size\n",
        "max_vocab = 500\n",
        "max_len = 100"
      ],
      "metadata": {
        "id": "r6X7WLPTv3VS"
      },
      "execution_count": 11,
      "outputs": []
    },
    {
      "cell_type": "code",
      "source": [
        "# build vocabulary from training set\n",
        "all_nodes = [s[0] for s in train_set]\n",
        "tokenizer = Tokenizer(num_words=max_vocab)\n",
        "tokenizer.fit_on_texts(all_nodes)"
      ],
      "metadata": {
        "id": "RBYHYeJMBvWa"
      },
      "execution_count": 12,
      "outputs": []
    },
    {
      "cell_type": "code",
      "source": [
        "def prepare_single_batch(samples):\n",
        "    sample_nodes = [s[0] for s in samples]\n",
        "    sample_nodes = tokenizer.texts_to_sequences(sample_nodes)\n",
        "    sample_nodes = pad_sequences(sample_nodes, padding='post')\n",
        "    max_nodes_len = np.shape(sample_nodes)[1]\n",
        "\n",
        "    edges = [s[1] + i * max_nodes_len for i, s in enumerate(samples)]\n",
        "    edges = [e for e in edges if len(e) > 0]\n",
        "\n",
        "    node_to_graph = [[i] * max_nodes_len for i in range(len(samples))]\n",
        "\n",
        "    all_nodes = np.reshape(sample_nodes, -1)\n",
        "    all_edges = np.concatenate(edges)\n",
        "\n",
        "    node_to_graph = np.reshape(node_to_graph, -1)\n",
        "\n",
        "    return {\n",
        "        'data': all_nodes,\n",
        "        'edges': all_edges,\n",
        "        'node2grah': node_to_graph,\n",
        "    }, np.array([s[2] for s in samples])"
      ],
      "metadata": {
        "id": "XJN-4kiLGlrC"
      },
      "execution_count": 13,
      "outputs": []
    },
    {
      "cell_type": "code",
      "source": [
        "def gen_batch(dataset, batch_size=16, repeat=False, shuffle=True):\n",
        "    while True:\n",
        "        dataset = list(dataset)\n",
        "        if shuffle:\n",
        "            random.shuffle(dataset)\n",
        "        l = len(dataset)\n",
        "        for ndx in range(0, l, batch_size):\n",
        "            batch_samples = dataset[ndx:min(ndx + batch_size, l)]\n",
        "            yield prepare_single_batch(batch_samples)\n",
        "        if not repeat:\n",
        "            break"
      ],
      "metadata": {
        "id": "7xetPZl2By0C"
      },
      "execution_count": 14,
      "outputs": []
    },
    {
      "cell_type": "code",
      "source": [
        "for train_batch in gen_batch(train_set, batch_size=4):\n",
        "    for k, v in train_batch[0].items():\n",
        "        print(k)\n",
        "        print(v)\n",
        "        pass\n",
        "    print('label', train_batch[1])\n",
        "    break"
      ],
      "metadata": {
        "colab": {
          "base_uri": "https://localhost:8080/"
        },
        "id": "9c0Y1-wLBy33",
        "outputId": "0fb15e1a-ea4b-4f61-8bdf-088348976466"
      },
      "execution_count": 15,
      "outputs": [
        {
          "output_type": "stream",
          "name": "stdout",
          "text": [
            "data\n",
            "[2 2 2 2 3 3 3 1 1 1 1 1 1 1 1 1 1 1 1 1 1 1 1 1 1 1 0 0 0 0 4 2 2 2 3 3 3\n",
            " 1 1 1 1 1 0 0 0 0 0 0 0 0 0 0 0 0 0 0 0 0 0 0 2 2 3 3 1 1 1 1 1 1 1 1 1 1\n",
            " 1 1 1 1 1 1 1 1 0 0 0 0 0 0 0 0 2 2 2 2 3 3 3 3 3 3 1 1 1 1 1 1 1 1 1 1 1\n",
            " 1 1 1 1 1 1 1 1 1]\n",
            "edges\n",
            "[[  0  12]\n",
            " [  0  22]\n",
            " [  1  12]\n",
            " [  2  13]\n",
            " [  2  23]\n",
            " [  3  17]\n",
            " [  3  24]\n",
            " [  4   7]\n",
            " [  4   9]\n",
            " [  5   8]\n",
            " [  5  10]\n",
            " [  6   7]\n",
            " [  6  11]\n",
            " [  7   8]\n",
            " [  8  12]\n",
            " [  9  10]\n",
            " [  9  14]\n",
            " [ 10  15]\n",
            " [ 11  16]\n",
            " [ 11  18]\n",
            " [ 13  16]\n",
            " [ 13  17]\n",
            " [ 14  20]\n",
            " [ 15  21]\n",
            " [ 17  19]\n",
            " [ 18  19]\n",
            " [ 20  21]\n",
            " [ 22  25]\n",
            " [ 30  37]\n",
            " [ 30  38]\n",
            " [ 31  37]\n",
            " [ 32  40]\n",
            " [ 33  41]\n",
            " [ 34  35]\n",
            " [ 34  37]\n",
            " [ 34  39]\n",
            " [ 35  38]\n",
            " [ 36  38]\n",
            " [ 39  40]\n",
            " [ 40  41]\n",
            " [ 60  69]\n",
            " [ 60  79]\n",
            " [ 61  69]\n",
            " [ 62  68]\n",
            " [ 62  72]\n",
            " [ 62  73]\n",
            " [ 63  66]\n",
            " [ 63  71]\n",
            " [ 64  65]\n",
            " [ 64  66]\n",
            " [ 64  67]\n",
            " [ 65  68]\n",
            " [ 65  70]\n",
            " [ 66  69]\n",
            " [ 67  71]\n",
            " [ 67  74]\n",
            " [ 70  72]\n",
            " [ 73  75]\n",
            " [ 73  76]\n",
            " [ 75  77]\n",
            " [ 76  78]\n",
            " [ 77  80]\n",
            " [ 78  80]\n",
            " [ 79  81]\n",
            " [ 90 108]\n",
            " [ 91 109]\n",
            " [ 92 110]\n",
            " [ 93 111]\n",
            " [ 94 108]\n",
            " [ 94 109]\n",
            " [ 95 110]\n",
            " [ 95 111]\n",
            " [ 96 116]\n",
            " [ 97 117]\n",
            " [ 98 118]\n",
            " [ 99 119]\n",
            " [100 102]\n",
            " [100 104]\n",
            " [100 105]\n",
            " [101 103]\n",
            " [101 106]\n",
            " [101 107]\n",
            " [102 113]\n",
            " [102 114]\n",
            " [103 112]\n",
            " [103 115]\n",
            " [104 108]\n",
            " [104 116]\n",
            " [105 109]\n",
            " [105 117]\n",
            " [106 110]\n",
            " [106 118]\n",
            " [107 111]\n",
            " [107 119]\n",
            " [112 113]\n",
            " [114 115]]\n",
            "node2grah\n",
            "[0 0 0 0 0 0 0 0 0 0 0 0 0 0 0 0 0 0 0 0 0 0 0 0 0 0 0 0 0 0 1 1 1 1 1 1 1\n",
            " 1 1 1 1 1 1 1 1 1 1 1 1 1 1 1 1 1 1 1 1 1 1 1 2 2 2 2 2 2 2 2 2 2 2 2 2 2\n",
            " 2 2 2 2 2 2 2 2 2 2 2 2 2 2 2 2 3 3 3 3 3 3 3 3 3 3 3 3 3 3 3 3 3 3 3 3 3\n",
            " 3 3 3 3 3 3 3 3 3]\n",
            "label [0 0 0 0]\n"
          ]
        }
      ]
    },
    {
      "cell_type": "code",
      "source": [
        "import tensorflow as tf\n",
        "from tensorflow import keras"
      ],
      "metadata": {
        "id": "CV7F7FpjJ5t7"
      },
      "execution_count": 16,
      "outputs": []
    },
    {
      "cell_type": "code",
      "source": [
        "batch_size = 16\n",
        "num_batchs = math.ceil(len(train_set) / batch_size)\n",
        "num_batchs_validation = math.ceil(len(validation_set) / batch_size)"
      ],
      "metadata": {
        "id": "m9TOzkzfLVNK"
      },
      "execution_count": 17,
      "outputs": []
    },
    {
      "cell_type": "code",
      "source": [
        "# Define GNNInput, tokenizer, and other necessary variables\n",
        "\n",
        "data = keras.Input(batch_shape=(None,))\n",
        "edge = keras.Input(batch_shape=(None, 2), dtype=tf.int32)\n",
        "node2graph = keras.Input(batch_shape=(None,), dtype=tf.int32)\n",
        "embeded = Embedding(tokenizer.num_words, 60)(data)\n",
        "num_graph = tf.reduce_max(node2graph)+1"
      ],
      "metadata": {
        "id": "0Q8MLxZ1Jtmj"
      },
      "execution_count": 18,
      "outputs": []
    },
    {
      "cell_type": "code",
      "source": [
        "gnn_input = GNNInput(\n",
        "    node_features=embeded,\n",
        "    adjacency_lists=(edge,),\n",
        "    node_to_graph_map=node2graph,\n",
        "    num_graphs=num_graph,\n",
        ")"
      ],
      "metadata": {
        "id": "CXRCZLrhIhhL"
      },
      "execution_count": 19,
      "outputs": []
    },
    {
      "cell_type": "markdown",
      "source": [
        "##**Expectation :Trial 1**\n",
        "\n",
        "As a baseline, Trial 1 sets initial performance expectations. Subsequent trials will be compared to its accuracy to assess improvements"
      ],
      "metadata": {
        "id": "Fasn-GC845U2"
      }
    },
    {
      "cell_type": "markdown",
      "metadata": {
        "id": "Rl-K7dMkgYEv"
      },
      "source": [
        "##**Trial 1**: Baseline model with mean aggregation and no up-sampling"
      ]
    },
    {
      "cell_type": "code",
      "source": [
        "params_attempt_1 = GNN.get_default_hyperparameters()\n",
        "params_attempt_1[\"hidden_dim\"] = 32\n",
        "params_attempt_1[\"message_calculation_class\"] = \"GGNN\"\n",
        "\n",
        "gnn_layer_attempt_1 = GNN(params_attempt_1)\n",
        "\n",
        "gnn_out_attempt_1 = gnn_layer_attempt_1(gnn_input)\n",
        "\n",
        "avg_attempt_1 = segment_mean(data=gnn_out_attempt_1, segment_ids=node2graph)\n",
        "\n",
        "pred_attempt_1 = Dense(1, activation='sigmoid')(avg_attempt_1)\n",
        "\n",
        "model_attempt_1 = Model(\n",
        "    inputs={\n",
        "        'data': data,\n",
        "        'edges': edge,\n",
        "        'node2grah': node2graph,\n",
        "    },\n",
        "    outputs=pred_attempt_1\n",
        ")"
      ],
      "metadata": {
        "id": "UiEdjKqJXHpp"
      },
      "execution_count": 20,
      "outputs": []
    },
    {
      "cell_type": "code",
      "source": [
        "model_attempt_1.compile(\n",
        "    optimizer=Adam(),\n",
        "    loss='BinaryCrossentropy',\n",
        "    metrics=['AUC']\n",
        ")"
      ],
      "metadata": {
        "id": "ZU0DjmDaHFqK"
      },
      "execution_count": null,
      "outputs": []
    },
    {
      "cell_type": "code",
      "source": [
        "history_attempt_1 = model_attempt_1.fit(\n",
        "    gen_batch(train_set, batch_size=batch_size, repeat=True),\n",
        "    steps_per_epoch=num_batchs,\n",
        "    epochs=10,\n",
        "    validation_data=gen_batch(validation_set, batch_size=batch_size, repeat=True),\n",
        "    validation_steps=num_batchs_validation,\n",
        ")"
      ],
      "metadata": {
        "colab": {
          "base_uri": "https://localhost:8080/"
        },
        "id": "WROBxcQeHFxm",
        "outputId": "2e8e940f-e38d-4d94-a074-fedb3e56a443"
      },
      "execution_count": null,
      "outputs": [
        {
          "output_type": "stream",
          "name": "stdout",
          "text": [
            "Epoch 1/10\n",
            "1252/1252 [==============================] - 39s 31ms/step - loss: 0.1882 - auc: 0.6683 - val_loss: 0.1716 - val_auc: 0.6838\n",
            "Epoch 2/10\n",
            "1252/1252 [==============================] - 33s 26ms/step - loss: 0.1882 - auc: 0.6744 - val_loss: 0.1669 - val_auc: 0.7192\n",
            "Epoch 3/10\n",
            "1252/1252 [==============================] - 37s 30ms/step - loss: 0.1872 - auc: 0.6784 - val_loss: 0.1695 - val_auc: 0.7031\n",
            "Epoch 4/10\n",
            "1252/1252 [==============================] - 35s 28ms/step - loss: 0.1844 - auc: 0.6960 - val_loss: 0.1638 - val_auc: 0.7066\n",
            "Epoch 5/10\n",
            "1252/1252 [==============================] - 38s 31ms/step - loss: 0.1839 - auc: 0.6940 - val_loss: 0.1640 - val_auc: 0.7416\n",
            "Epoch 6/10\n",
            "1252/1252 [==============================] - 37s 29ms/step - loss: 0.1789 - auc: 0.7214 - val_loss: 0.1594 - val_auc: 0.7327\n",
            "Epoch 7/10\n",
            "1252/1252 [==============================] - 35s 28ms/step - loss: 0.1780 - auc: 0.7282 - val_loss: 0.1592 - val_auc: 0.7593\n",
            "Epoch 8/10\n",
            "1252/1252 [==============================] - 38s 30ms/step - loss: 0.1777 - auc: 0.7389 - val_loss: 0.1618 - val_auc: 0.7408\n",
            "Epoch 9/10\n",
            "1252/1252 [==============================] - 37s 29ms/step - loss: 0.1773 - auc: 0.7505 - val_loss: 0.1613 - val_auc: 0.7366\n",
            "Epoch 10/10\n",
            "1252/1252 [==============================] - 37s 30ms/step - loss: 0.1727 - auc: 0.7678 - val_loss: 0.1589 - val_auc: 0.7825\n"
          ]
        }
      ]
    },
    {
      "cell_type": "code",
      "source": [
        "# Generate predictions using the trained model\n",
        "y_pred_trial_1 = model_attempt_1.predict(gen_batch(validation_set, batch_size=batch_size, repeat=False)).reshape(-1)\n",
        "\n",
        "# Calculate AUROC\n",
        "y_true_trial_1 = np.array([s[2] for s in validation_set])\n",
        "auroc_trial_1 = roc_auc_score(y_true_trial_1, y_pred_trial_1)\n",
        "print(\"AUROC for Trial 1:\", auroc_trial_1)"
      ],
      "metadata": {
        "colab": {
          "base_uri": "https://localhost:8080/"
        },
        "id": "PRVGG--xMET7",
        "outputId": "d7b84129-5f3e-4216-e6b7-f2974c79adc3"
      },
      "execution_count": null,
      "outputs": [
        {
          "output_type": "stream",
          "name": "stdout",
          "text": [
            "313/313 [==============================] - 3s 10ms/step\n",
            "AUROC for Trial 1: 0.49860923429926585\n"
          ]
        }
      ]
    },
    {
      "cell_type": "markdown",
      "source": [
        "##**Prediction:**\n",
        "\n"
      ],
      "metadata": {
        "id": "VuVD9K2IOOrW"
      }
    },
    {
      "cell_type": "code",
      "source": [
        "y_pred_1 = model_attempt_1.predict(gen_batch(test_data, batch_size=batch_size, shuffle=False))\n",
        "y_pred_1 = np.reshape(y_pred_1, -1)"
      ],
      "metadata": {
        "colab": {
          "base_uri": "https://localhost:8080/"
        },
        "id": "61nWjlYOOheu",
        "outputId": "60e196b9-796f-44ec-e478-6cdbb75b15bc"
      },
      "execution_count": null,
      "outputs": [
        {
          "output_type": "stream",
          "name": "stdout",
          "text": [
            "771/771 [==============================] - 17s 22ms/step\n"
          ]
        }
      ]
    },
    {
      "cell_type": "markdown",
      "source": [
        "##**Save model:**\n"
      ],
      "metadata": {
        "id": "H0vFMGmKOO7b"
      }
    },
    {
      "cell_type": "code",
      "source": [
        "submission_1 = pd.DataFrame({'label':y_pred_1})\n",
        "submission_1.index.name = 'id'\n",
        "submission_1.to_csv('trail_1.csv')"
      ],
      "metadata": {
        "id": "ZKRQKBKSOinJ"
      },
      "execution_count": null,
      "outputs": []
    },
    {
      "cell_type": "markdown",
      "source": [
        "##**Observations:**\n",
        "\n",
        "The AUROC of 0.4986 indicates poor model performance, suggesting the need for improvement in subsequent trials.\n"
      ],
      "metadata": {
        "id": "w5gHEBDM5qHj"
      }
    },
    {
      "cell_type": "markdown",
      "source": [
        "##**Expectation: Trial 2**\n",
        "\n",
        "Implementing mean aggregation with up-sampling in Trial 2 aims to address class imbalance, likely improving accuracy compared to Trial 1 by providing better representation of the minority class.\n"
      ],
      "metadata": {
        "id": "fSru1nBZ52R0"
      }
    },
    {
      "cell_type": "markdown",
      "metadata": {
        "id": "yRYJbFabhpFO"
      },
      "source": [
        "##**Trial 2**: Mean aggregation with up-sampling of positive class samples"
      ]
    },
    {
      "cell_type": "code",
      "source": [
        "from sklearn.utils import resample\n",
        "\n",
        "# Separate positive and negative samples\n",
        "positive_samples = [sample for sample in train_set if sample[2] == 1]\n",
        "negative_samples = [sample for sample in train_set if sample[2] == 0]\n",
        "\n",
        "# Determine the size of the up-sampled positive class\n",
        "num_positive_samples = len(positive_samples)\n",
        "num_negative_samples = len(negative_samples)\n",
        "desired_positive_samples = num_negative_samples  # Up-sample to match the negative class\n",
        "\n",
        "# Up-sample the positive class\n",
        "upsampled_positive = resample(positive_samples, replace=True, n_samples=desired_positive_samples, random_state=42)\n",
        "\n",
        "# Combine up-sampled positive class with original negative class\n",
        "train_set_upsampled = negative_samples + upsampled_positive"
      ],
      "metadata": {
        "id": "jsYIyiF-UbjS"
      },
      "execution_count": 21,
      "outputs": []
    },
    {
      "cell_type": "code",
      "source": [
        "# Define hyperparameters for the GNN model\n",
        "params_attempt_2 = GNN.get_default_hyperparameters()\n",
        "params_attempt_2[\"hidden_dim\"] = 32\n",
        "params_attempt_2[\"message_calculation_class\"] = \"GGNN\"\n",
        "\n",
        "# Initialize GNN layer with hyperparameters\n",
        "gnn_layer_attempt_2 = GNN(params_attempt_2)\n",
        "gnn_out_attempt_2 = gnn_layer_attempt_2(gnn_input)\n",
        "\n",
        "# Calculate mean aggregation\n",
        "avg_attempt_2 = segment_mean(data=gnn_out_attempt_2, segment_ids=node2graph)\n",
        "\n",
        "# Predictions using Dense layer\n",
        "pred_attempt_2 = Dense(1, activation='sigmoid')(avg_attempt_2)"
      ],
      "metadata": {
        "id": "G4AMNBTjUksc"
      },
      "execution_count": null,
      "outputs": []
    },
    {
      "cell_type": "code",
      "source": [
        "# Define the GNN model for Trial 2\n",
        "model_attempt_2 = Model(\n",
        "    inputs={\n",
        "        'data': data,\n",
        "        'edges': edge,\n",
        "        'node2grah': node2graph,\n",
        "    },\n",
        "    outputs=pred_attempt_2\n",
        ")"
      ],
      "metadata": {
        "id": "lwtohzNQUqq8"
      },
      "execution_count": null,
      "outputs": []
    },
    {
      "cell_type": "code",
      "source": [
        "# Compile the model\n",
        "model_attempt_2.compile(\n",
        "    optimizer=Adam(),\n",
        "    loss='BinaryCrossentropy',\n",
        "    metrics=['AUC']\n",
        ")"
      ],
      "metadata": {
        "id": "-RPYWuhzUsd9"
      },
      "execution_count": null,
      "outputs": []
    },
    {
      "cell_type": "code",
      "source": [
        "# Train the model with up-sampled data\n",
        "history_attempt_2 = model_attempt_2.fit(\n",
        "    gen_batch(train_set_upsampled, batch_size=batch_size, repeat=True),\n",
        "    steps_per_epoch=num_batchs,\n",
        "    epochs=10,\n",
        "    validation_data=gen_batch(validation_set, batch_size=batch_size, repeat=True),\n",
        "    validation_steps=num_batchs_validation,\n",
        ")"
      ],
      "metadata": {
        "colab": {
          "base_uri": "https://localhost:8080/"
        },
        "id": "-unkyG0iU5P1",
        "outputId": "8ec8cc41-34bb-4454-a9e2-64345d471078"
      },
      "execution_count": null,
      "outputs": [
        {
          "output_type": "stream",
          "name": "stdout",
          "text": [
            "Epoch 1/10\n",
            "1252/1252 [==============================] - 46s 37ms/step - loss: 0.4579 - auc: 0.8665 - val_loss: 0.4216 - val_auc: 0.8224\n",
            "Epoch 2/10\n",
            "1252/1252 [==============================] - 44s 35ms/step - loss: 0.4366 - auc: 0.8795 - val_loss: 0.4768 - val_auc: 0.8055\n",
            "Epoch 3/10\n",
            "1252/1252 [==============================] - 44s 35ms/step - loss: 0.4208 - auc: 0.8888 - val_loss: 0.5222 - val_auc: 0.8078\n",
            "Epoch 4/10\n",
            "1252/1252 [==============================] - 43s 34ms/step - loss: 0.4211 - auc: 0.8887 - val_loss: 0.5070 - val_auc: 0.8175\n",
            "Epoch 5/10\n",
            "1252/1252 [==============================] - 43s 34ms/step - loss: 0.3985 - auc: 0.9007 - val_loss: 0.6270 - val_auc: 0.8240\n",
            "Epoch 6/10\n",
            "1252/1252 [==============================] - 44s 35ms/step - loss: 0.3841 - auc: 0.9082 - val_loss: 0.6028 - val_auc: 0.8153\n",
            "Epoch 7/10\n",
            "1252/1252 [==============================] - 46s 36ms/step - loss: 0.3712 - auc: 0.9143 - val_loss: 0.4833 - val_auc: 0.8270\n",
            "Epoch 8/10\n",
            "1252/1252 [==============================] - 45s 36ms/step - loss: 0.3537 - auc: 0.9222 - val_loss: 0.4616 - val_auc: 0.8321\n",
            "Epoch 9/10\n",
            "1252/1252 [==============================] - 42s 33ms/step - loss: 0.3459 - auc: 0.9254 - val_loss: 0.3745 - val_auc: 0.8202\n",
            "Epoch 10/10\n",
            "1252/1252 [==============================] - 42s 34ms/step - loss: 0.3358 - auc: 0.9293 - val_loss: 0.5776 - val_auc: 0.8177\n"
          ]
        }
      ]
    },
    {
      "cell_type": "code",
      "source": [
        "# Generate predictions using the trained model for validation set\n",
        "y_pred_validation_attempt_2 = model_attempt_2.predict(gen_batch(validation_set, batch_size=batch_size, repeat=False)).reshape(-1)"
      ],
      "metadata": {
        "colab": {
          "base_uri": "https://localhost:8080/"
        },
        "id": "zAC-WNTlU7Jc",
        "outputId": "bc0b319f-7a3d-49fe-a8ca-aaefd8e25dae"
      },
      "execution_count": null,
      "outputs": [
        {
          "output_type": "stream",
          "name": "stdout",
          "text": [
            "313/313 [==============================] - 4s 11ms/step\n"
          ]
        }
      ]
    },
    {
      "cell_type": "code",
      "source": [
        "# Calculate AUROC for validation set\n",
        "y_true_validation = np.array([s[2] for s in validation_set])\n",
        "auroc_validation_attempt_2 = roc_auc_score(y_true_validation, y_pred_validation_attempt_2)\n",
        "print(f\"AUROC for Validation (Attempt 2): {auroc_validation_attempt_2}\")"
      ],
      "metadata": {
        "colab": {
          "base_uri": "https://localhost:8080/"
        },
        "id": "WpZ1ZK1cVA0t",
        "outputId": "58a26ded-1b8a-4192-bcb7-87592c16d995"
      },
      "execution_count": null,
      "outputs": [
        {
          "output_type": "stream",
          "name": "stdout",
          "text": [
            "AUROC for Validation (Attempt 2): 0.5373552929943908\n"
          ]
        }
      ]
    },
    {
      "cell_type": "markdown",
      "source": [
        "##**Prediction:**\n"
      ],
      "metadata": {
        "id": "KCvzIHbMVQAE"
      }
    },
    {
      "cell_type": "code",
      "source": [
        "# Generate predictions for test data\n",
        "y_pred_attempt_2 = model_attempt_2.predict(gen_batch(test_data, batch_size=batch_size, shuffle=False)).reshape(-1)"
      ],
      "metadata": {
        "colab": {
          "base_uri": "https://localhost:8080/"
        },
        "outputId": "7e3db80d-1176-4018-ba22-d4a05e0752fd",
        "id": "ayipL98hVQAi"
      },
      "execution_count": null,
      "outputs": [
        {
          "output_type": "stream",
          "name": "stdout",
          "text": [
            "771/771 [==============================] - 17s 22ms/step\n"
          ]
        }
      ]
    },
    {
      "cell_type": "markdown",
      "source": [
        "##**Save model:**\n"
      ],
      "metadata": {
        "id": "oaTjUfwDVQAk"
      }
    },
    {
      "cell_type": "code",
      "source": [
        "# Save predictions to a CSV file\n",
        "submission_attempt_2 = pd.DataFrame({'label': y_pred_attempt_2})\n",
        "submission_attempt_2.index.name = 'id'\n",
        "submission_attempt_2.to_csv('trail_2.csv')"
      ],
      "metadata": {
        "id": "ttrR56hZVQAl"
      },
      "execution_count": null,
      "outputs": []
    },
    {
      "cell_type": "markdown",
      "source": [
        "##**Observations: Trial 2**\n",
        "\n",
        "With an AUROC of 0.5374, Trial 2 shows a slight improvement over Trial 1, indicating that mean aggregation with up-sampling may help in better capturing class imbalances.\n"
      ],
      "metadata": {
        "id": "Uu7rwFEA676E"
      }
    },
    {
      "cell_type": "markdown",
      "source": [
        "##**Expectation: Trial 3**\n",
        "\n",
        "Trying max aggregation with up-sampling in Trial 3 explores another aggregation method. Accuracy might be similar to Trial 2 or slightly improved, offering insights into the effectiveness of different aggregation techniques.\n"
      ],
      "metadata": {
        "id": "WUpsXtY77K4t"
      }
    },
    {
      "cell_type": "markdown",
      "metadata": {
        "id": "YQsoE1Whhw2o"
      },
      "source": [
        "##**Trial 3**: Max aggregation with up-sampling of positive class samples."
      ]
    },
    {
      "cell_type": "code",
      "source": [
        "# Define the segment_max function\n",
        "def segment_max(data, segment_ids):\n",
        "    return tf.math.segment_max(data, segment_ids)"
      ],
      "metadata": {
        "id": "TdpmD-s8w4M3"
      },
      "execution_count": null,
      "outputs": []
    },
    {
      "cell_type": "code",
      "source": [
        "# Define hyperparameters for the GNN model\n",
        "params_attempt_3 = GNN.get_default_hyperparameters()\n",
        "params_attempt_3[\"hidden_dim\"] = 32\n",
        "params_attempt_3[\"message_calculation_class\"] = \"GGNN\"\n",
        "\n",
        "# Initialize GNN layer with hyperparameters\n",
        "gnn_layer_attempt_3 = GNN(params_attempt_3)\n",
        "gnn_out_attempt_3 = gnn_layer_attempt_3(gnn_input)\n",
        "\n",
        "# Calculate max aggregation\n",
        "max_attempt_3 = segment_max(data=gnn_out_attempt_3, segment_ids=node2graph)\n",
        "\n",
        "# Predictions using Dense layer\n",
        "pred_attempt_3 = Dense(1, activation='sigmoid')(max_attempt_3)"
      ],
      "metadata": {
        "id": "H73t971hxZ9x"
      },
      "execution_count": null,
      "outputs": []
    },
    {
      "cell_type": "code",
      "source": [
        "# Define the GNN model for Trial 3\n",
        "model_attempt_3 = Model(\n",
        "    inputs={\n",
        "        'data': data,\n",
        "        'edges': edge,\n",
        "        'node2grah': node2graph,\n",
        "    },\n",
        "    outputs=pred_attempt_3\n",
        ")"
      ],
      "metadata": {
        "id": "9qSnkmYAxd6F"
      },
      "execution_count": null,
      "outputs": []
    },
    {
      "cell_type": "code",
      "source": [
        "# Compile the model\n",
        "model_attempt_3.compile(\n",
        "    optimizer=Adam(),\n",
        "    loss='BinaryCrossentropy',\n",
        "    metrics=['AUC']\n",
        ")"
      ],
      "metadata": {
        "id": "C5nbarP3xgat"
      },
      "execution_count": null,
      "outputs": []
    },
    {
      "cell_type": "code",
      "source": [
        "# Train the model with up-sampled data\n",
        "history_attempt_3 = model_attempt_3.fit(\n",
        "    gen_batch(train_set_upsampled, batch_size=batch_size, repeat=True),\n",
        "    steps_per_epoch=num_batchs,\n",
        "    epochs=10,\n",
        "    validation_data=gen_batch(validation_set, batch_size=batch_size, repeat=True),\n",
        "    validation_steps=num_batchs_validation,\n",
        ")"
      ],
      "metadata": {
        "id": "i725yCqHxiGE",
        "colab": {
          "base_uri": "https://localhost:8080/"
        },
        "outputId": "1ec5f037-a011-43c3-ad00-616b8f9c4597"
      },
      "execution_count": null,
      "outputs": [
        {
          "output_type": "stream",
          "name": "stdout",
          "text": [
            "Epoch 1/10\n",
            "1252/1252 [==============================] - 31s 19ms/step - loss: 0.5928 - auc: 0.7409 - val_loss: 0.5281 - val_auc: 0.7724\n",
            "Epoch 2/10\n",
            "1252/1252 [==============================] - 22s 17ms/step - loss: 0.5253 - auc: 0.8167 - val_loss: 0.4141 - val_auc: 0.8054\n",
            "Epoch 3/10\n",
            "1252/1252 [==============================] - 23s 18ms/step - loss: 0.4551 - auc: 0.8691 - val_loss: 0.3913 - val_auc: 0.8108\n",
            "Epoch 4/10\n",
            "1252/1252 [==============================] - 22s 18ms/step - loss: 0.4267 - auc: 0.8859 - val_loss: 0.4060 - val_auc: 0.8258\n",
            "Epoch 5/10\n",
            "1252/1252 [==============================] - 21s 17ms/step - loss: 0.3917 - auc: 0.9052 - val_loss: 0.4010 - val_auc: 0.8435\n",
            "Epoch 6/10\n",
            "1252/1252 [==============================] - 24s 19ms/step - loss: 0.3710 - auc: 0.9152 - val_loss: 0.3637 - val_auc: 0.8438\n",
            "Epoch 7/10\n",
            "1252/1252 [==============================] - 22s 18ms/step - loss: 0.3444 - auc: 0.9273 - val_loss: 0.3962 - val_auc: 0.8435\n",
            "Epoch 8/10\n",
            "1252/1252 [==============================] - 23s 18ms/step - loss: 0.3199 - auc: 0.9376 - val_loss: 0.3117 - val_auc: 0.8494\n",
            "Epoch 9/10\n",
            "1252/1252 [==============================] - 22s 18ms/step - loss: 0.3000 - auc: 0.9446 - val_loss: 0.3507 - val_auc: 0.8495\n",
            "Epoch 10/10\n",
            "1252/1252 [==============================] - 22s 18ms/step - loss: 0.2735 - auc: 0.9536 - val_loss: 0.3309 - val_auc: 0.8460\n"
          ]
        }
      ]
    },
    {
      "cell_type": "code",
      "source": [
        "# Generate predictions using the trained model for validation set\n",
        "y_pred_validation_attempt_3 = model_attempt_3.predict(gen_batch(validation_set, batch_size=batch_size, repeat=False)).reshape(-1)\n",
        "\n",
        "# Calculate AUROC for validation set\n",
        "y_true_validation = np.array([s[2] for s in validation_set])\n",
        "auroc_validation_attempt_3 = roc_auc_score(y_true_validation, y_pred_validation_attempt_3)\n",
        "print(f\"AUROC for Validation (Attempt 3): {auroc_validation_attempt_3}\")"
      ],
      "metadata": {
        "id": "EdGsxet7xkGv",
        "colab": {
          "base_uri": "https://localhost:8080/"
        },
        "outputId": "4c4ccbd5-172e-4826-ae87-b6581f4088f1"
      },
      "execution_count": null,
      "outputs": [
        {
          "output_type": "stream",
          "name": "stdout",
          "text": [
            "313/313 [==============================] - 3s 7ms/step\n",
            "AUROC for Validation (Attempt 3): 0.475018190637885\n"
          ]
        }
      ]
    },
    {
      "cell_type": "markdown",
      "source": [
        "##**Prediction:**\n"
      ],
      "metadata": {
        "id": "wjdz5V48VP-a"
      }
    },
    {
      "cell_type": "code",
      "source": [
        "# Generate predictions for test data\n",
        "y_pred_attempt_3 = model_attempt_3.predict(gen_batch(test_data, batch_size=batch_size, shuffle=False)).reshape(-1)"
      ],
      "metadata": {
        "id": "Ucm6RKYsxonA",
        "colab": {
          "base_uri": "https://localhost:8080/"
        },
        "outputId": "dd03a568-41c3-40c1-cf64-e7de0e18a4f7"
      },
      "execution_count": null,
      "outputs": [
        {
          "output_type": "stream",
          "name": "stdout",
          "text": [
            "771/771 [==============================] - 4s 5ms/step\n"
          ]
        }
      ]
    },
    {
      "cell_type": "markdown",
      "source": [
        "##**Save model:**\n"
      ],
      "metadata": {
        "id": "p-7CV8gYVP-b"
      }
    },
    {
      "cell_type": "code",
      "source": [
        "# Save predictions to a CSV file\n",
        "submission_attempt_3 = pd.DataFrame({'label': y_pred_attempt_3})\n",
        "submission_attempt_3.index.name = 'id'\n",
        "submission_attempt_3.to_csv('trail_3.csv')"
      ],
      "metadata": {
        "id": "wQ9UqazVjp9I"
      },
      "execution_count": null,
      "outputs": []
    },
    {
      "cell_type": "markdown",
      "source": [
        "##**Observations: Trial 3**\n",
        "However, Trial 3's AUROC of 0.4750 is lower than Trial 2, suggesting that max aggregation might not be as effective as mean aggregation in this context."
      ],
      "metadata": {
        "id": "g9ZLHX5M7d6V"
      }
    },
    {
      "cell_type": "markdown",
      "source": [
        "##**Expectation: Trial 4**\n",
        "\n",
        "Testing sum aggregation with up-sampling in Trial 4 may provide comparable or slightly different accuracy compared to Trials 2 and 3, shedding light on the effectiveness of various aggregation techniques\n"
      ],
      "metadata": {
        "id": "funvVwrn71gp"
      }
    },
    {
      "cell_type": "markdown",
      "metadata": {
        "id": "P7fG-2Sshw8k"
      },
      "source": [
        "##**Trial 4** : Sum aggregation with up-sampling of positive class samples."
      ]
    },
    {
      "cell_type": "code",
      "source": [
        "def segment_sum(data, segment_ids):\n",
        "    return tf.math.segment_sum(data, segment_ids)"
      ],
      "metadata": {
        "id": "aC4Kvi6F0MtX"
      },
      "execution_count": null,
      "outputs": []
    },
    {
      "cell_type": "code",
      "source": [
        "# Define hyperparameters for the GNN model\n",
        "params_attempt_4 = GNN.get_default_hyperparameters()\n",
        "params_attempt_4[\"hidden_dim\"] = 32\n",
        "params_attempt_4[\"message_calculation_class\"] = \"GGNN\"\n",
        "\n",
        "# Initialize GNN layer with hyperparameters\n",
        "gnn_layer_attempt_4 = GNN(params_attempt_4)\n",
        "gnn_out_attempt_4 = gnn_layer_attempt_4(gnn_input)\n",
        "\n",
        "# Calculate sum aggregation\n",
        "sum_attempt_4 = segment_sum(data=gnn_out_attempt_4, segment_ids=node2graph)\n",
        "\n",
        "# Predictions using Dense layer\n",
        "pred_attempt_4 = Dense(1, activation='sigmoid')(sum_attempt_4)"
      ],
      "metadata": {
        "id": "UtXkRfB_0TWN"
      },
      "execution_count": null,
      "outputs": []
    },
    {
      "cell_type": "code",
      "source": [
        "# Define the GNN model for Attempt 4\n",
        "model_attempt_4 = Model(\n",
        "    inputs={\n",
        "        'data': data,\n",
        "        'edges': edge,\n",
        "        'node2grah': node2graph,\n",
        "    },\n",
        "    outputs=pred_attempt_4\n",
        ")"
      ],
      "metadata": {
        "id": "k-mGGBZs0WI5"
      },
      "execution_count": null,
      "outputs": []
    },
    {
      "cell_type": "code",
      "source": [
        "# Compile the model\n",
        "model_attempt_4.compile(\n",
        "    optimizer=Adam(),\n",
        "    loss='BinaryCrossentropy',\n",
        "    metrics=['AUC']\n",
        ")"
      ],
      "metadata": {
        "id": "MNc7EK4k0bDu"
      },
      "execution_count": null,
      "outputs": []
    },
    {
      "cell_type": "code",
      "source": [
        "# Train the model with up-sampled data\n",
        "history_attempt_4 = model_attempt_4.fit(\n",
        "    gen_batch(train_set_upsampled, batch_size=batch_size, repeat=True),\n",
        "    steps_per_epoch=num_batchs,\n",
        "    epochs=10,\n",
        "    validation_data=gen_batch(validation_set, batch_size=batch_size, repeat=True),\n",
        "    validation_steps=num_batchs_validation,\n",
        ")"
      ],
      "metadata": {
        "id": "RoP-J6sj0dIz",
        "colab": {
          "base_uri": "https://localhost:8080/"
        },
        "outputId": "70ac73d8-e81d-4955-85c5-b6c1171cf3c3"
      },
      "execution_count": null,
      "outputs": [
        {
          "output_type": "stream",
          "name": "stdout",
          "text": [
            "Epoch 1/10\n",
            "1252/1252 [==============================] - 36s 24ms/step - loss: 0.6199 - auc: 0.7102 - val_loss: 0.6669 - val_auc: 0.7378\n",
            "Epoch 2/10\n",
            "1252/1252 [==============================] - 22s 18ms/step - loss: 0.5901 - auc: 0.7523 - val_loss: 0.5711 - val_auc: 0.7404\n",
            "Epoch 3/10\n",
            "1252/1252 [==============================] - 22s 18ms/step - loss: 0.5392 - auc: 0.8025 - val_loss: 0.5598 - val_auc: 0.7781\n",
            "Epoch 4/10\n",
            "1252/1252 [==============================] - 22s 18ms/step - loss: 0.5080 - auc: 0.8322 - val_loss: 0.5484 - val_auc: 0.8013\n",
            "Epoch 5/10\n",
            "1252/1252 [==============================] - 24s 19ms/step - loss: 0.4731 - auc: 0.8574 - val_loss: 0.4543 - val_auc: 0.8102\n",
            "Epoch 6/10\n",
            "1252/1252 [==============================] - 24s 19ms/step - loss: 0.4453 - auc: 0.8748 - val_loss: 0.3941 - val_auc: 0.8352\n",
            "Epoch 7/10\n",
            "1252/1252 [==============================] - 23s 19ms/step - loss: 0.4192 - auc: 0.8907 - val_loss: 0.4426 - val_auc: 0.8390\n",
            "Epoch 8/10\n",
            "1252/1252 [==============================] - 23s 18ms/step - loss: 0.4037 - auc: 0.8993 - val_loss: 0.6476 - val_auc: 0.8451\n",
            "Epoch 9/10\n",
            "1252/1252 [==============================] - 24s 19ms/step - loss: 0.3840 - auc: 0.9093 - val_loss: 0.4868 - val_auc: 0.8531\n",
            "Epoch 10/10\n",
            "1252/1252 [==============================] - 25s 20ms/step - loss: 0.3678 - auc: 0.9173 - val_loss: 0.5498 - val_auc: 0.8582\n"
          ]
        }
      ]
    },
    {
      "cell_type": "code",
      "source": [
        "# Generate predictions using the trained model for validation set\n",
        "y_pred_validation_attempt_4 = model_attempt_4.predict(gen_batch(validation_set, batch_size=batch_size, repeat=False)).reshape(-1)\n",
        "\n",
        "# Calculate AUROC for validation set\n",
        "y_true_validation = np.array([s[2] for s in validation_set])\n",
        "auroc_validation_attempt_4 = roc_auc_score(y_true_validation, y_pred_validation_attempt_4)\n",
        "print(f\"AUROC for Validation (Attempt 4): {auroc_validation_attempt_4}\")"
      ],
      "metadata": {
        "id": "vOaCS12m0ey5",
        "colab": {
          "base_uri": "https://localhost:8080/"
        },
        "outputId": "468bdff2-110a-457e-efc9-6dec2c21ad76"
      },
      "execution_count": null,
      "outputs": [
        {
          "output_type": "stream",
          "name": "stdout",
          "text": [
            "313/313 [==============================] - 2s 5ms/step\n",
            "AUROC for Validation (Attempt 4): 0.4828931006471633\n"
          ]
        }
      ]
    },
    {
      "cell_type": "markdown",
      "source": [
        "##**Prediction:**\n"
      ],
      "metadata": {
        "id": "DdiB-46HViZB"
      }
    },
    {
      "cell_type": "code",
      "source": [
        "# Generate predictions for test data\n",
        "y_pred_attempt_4 = model_attempt_4.predict(gen_batch(test_data, batch_size=batch_size, shuffle=False)).reshape(-1)"
      ],
      "metadata": {
        "id": "cUeO5j3d0ifX",
        "colab": {
          "base_uri": "https://localhost:8080/"
        },
        "outputId": "5d96551e-8b18-4297-cdf8-1564eb9b0573"
      },
      "execution_count": null,
      "outputs": [
        {
          "output_type": "stream",
          "name": "stdout",
          "text": [
            "771/771 [==============================] - 4s 5ms/step\n"
          ]
        }
      ]
    },
    {
      "cell_type": "markdown",
      "source": [
        "##**Save model:**\n"
      ],
      "metadata": {
        "id": "E8t-Oj2tVae_"
      }
    },
    {
      "cell_type": "code",
      "source": [
        "# Save predictions to a CSV file\n",
        "submission_attempt_4 = pd.DataFrame({'label': y_pred_attempt_4})\n",
        "submission_attempt_4.index.name = 'id'\n",
        "submission_attempt_4.to_csv('trail_4.csv')"
      ],
      "metadata": {
        "id": "Zo8ke3jykxD6"
      },
      "execution_count": null,
      "outputs": []
    },
    {
      "cell_type": "markdown",
      "source": [
        "##**Observations: Trial 4**\n",
        "Trial 4's AUROC of 0.4829 shows marginal improvement compared to Trial 1, but it's still lower than Trial 2, indicating that sum aggregation might not provide significant benefits over mean aggregation.\n",
        "\n",
        "\n",
        "\n"
      ],
      "metadata": {
        "id": "CrEOO9Hr8VxF"
      }
    },
    {
      "cell_type": "markdown",
      "source": [
        "##**Expectation: Trial 5**\n",
        " Introducing increased hidden dimensionality in Trial 5 while using mean aggregation aims to capture more complex features, likely resulting in improved accuracy compared to Trial 1.\n",
        "\n"
      ],
      "metadata": {
        "id": "AuY8ywvR8nyn"
      }
    },
    {
      "cell_type": "markdown",
      "metadata": {
        "id": "4LFs3521hxDk"
      },
      "source": [
        "##**Trial 5**: Mean aggregation without up-sampling, but with increased hidden dimensionality in the GNN layers."
      ]
    },
    {
      "cell_type": "code",
      "source": [
        "# Define hyperparameters for the GNN model\n",
        "params_attempt_5 = GNN.get_default_hyperparameters()\n",
        "params_attempt_5[\"hidden_dim\"] = 64  # Increase hidden dimensionality to 64\n",
        "params_attempt_5[\"message_calculation_class\"] = \"GGNN\"\n",
        "\n",
        "# Initialize GNN layer with hyperparameters\n",
        "gnn_layer_attempt_5 = GNN(params_attempt_5)\n",
        "gnn_out_attempt_5 = gnn_layer_attempt_5(gnn_input)\n",
        "\n",
        "# Calculate mean aggregation\n",
        "mean_attempt_5 = tf.math.segment_mean(data=gnn_out_attempt_5, segment_ids=node2graph)\n",
        "\n",
        "# Predictions using Dense layer\n",
        "pred_attempt_5 = Dense(1, activation='sigmoid')(mean_attempt_5)"
      ],
      "metadata": {
        "id": "upxu6boP4_GA"
      },
      "execution_count": null,
      "outputs": []
    },
    {
      "cell_type": "code",
      "source": [
        "# Define the GNN model for Attempt 5\n",
        "model_attempt_5 = Model(\n",
        "    inputs={\n",
        "        'data': data,\n",
        "        'edges': edge,\n",
        "        'node2grah': node2graph,\n",
        "    },\n",
        "    outputs=pred_attempt_5\n",
        ")"
      ],
      "metadata": {
        "id": "DRu2PvhQ5B_n"
      },
      "execution_count": null,
      "outputs": []
    },
    {
      "cell_type": "code",
      "source": [
        "# Compile the model\n",
        "model_attempt_5.compile(\n",
        "    optimizer=Adam(),\n",
        "    loss='binary_crossentropy',\n",
        "    metrics=['AUC']\n",
        ")"
      ],
      "metadata": {
        "id": "BzTYg6vV5Xf3"
      },
      "execution_count": null,
      "outputs": []
    },
    {
      "cell_type": "code",
      "source": [
        "# Train the model\n",
        "num_batches = len(train_set) // batch_size\n",
        "history_attempt_5 = model_attempt_5.fit(\n",
        "    gen_batch(train_set, batch_size=batch_size, repeat=True),\n",
        "    steps_per_epoch=num_batches,\n",
        "    epochs=10,\n",
        "    validation_data=gen_batch(validation_set, batch_size=batch_size, repeat=True),\n",
        "    validation_steps=num_batchs_validation,\n",
        ")"
      ],
      "metadata": {
        "id": "musejdx65Zfo",
        "colab": {
          "base_uri": "https://localhost:8080/"
        },
        "outputId": "692e5401-ae49-432b-a68f-28dfe6b03891"
      },
      "execution_count": null,
      "outputs": [
        {
          "output_type": "stream",
          "name": "stdout",
          "text": [
            "Epoch 1/10\n",
            "1251/1251 [==============================] - 30s 20ms/step - loss: 0.1904 - auc: 0.6765 - val_loss: 0.1657 - val_auc: 0.7176\n",
            "Epoch 2/10\n",
            "1251/1251 [==============================] - 22s 17ms/step - loss: 0.1784 - auc: 0.7139 - val_loss: 0.1602 - val_auc: 0.7483\n",
            "Epoch 3/10\n",
            "1251/1251 [==============================] - 23s 18ms/step - loss: 0.1751 - auc: 0.7385 - val_loss: 0.1617 - val_auc: 0.7550\n",
            "Epoch 4/10\n",
            "1251/1251 [==============================] - 23s 18ms/step - loss: 0.1722 - auc: 0.7638 - val_loss: 0.1578 - val_auc: 0.7563\n",
            "Epoch 5/10\n",
            "1251/1251 [==============================] - 22s 18ms/step - loss: 0.1740 - auc: 0.7505 - val_loss: 0.1637 - val_auc: 0.7401\n",
            "Epoch 6/10\n",
            "1251/1251 [==============================] - 21s 17ms/step - loss: 0.1723 - auc: 0.7583 - val_loss: 0.1634 - val_auc: 0.7586\n",
            "Epoch 7/10\n",
            "1251/1251 [==============================] - 22s 17ms/step - loss: 0.1677 - auc: 0.7832 - val_loss: 0.1572 - val_auc: 0.7660\n",
            "Epoch 8/10\n",
            "1251/1251 [==============================] - 22s 17ms/step - loss: 0.1637 - auc: 0.8013 - val_loss: 0.1588 - val_auc: 0.7717\n",
            "Epoch 9/10\n",
            "1251/1251 [==============================] - 22s 18ms/step - loss: 0.1642 - auc: 0.7973 - val_loss: 0.1701 - val_auc: 0.7780\n",
            "Epoch 10/10\n",
            "1251/1251 [==============================] - 23s 19ms/step - loss: 0.1662 - auc: 0.7968 - val_loss: 0.1550 - val_auc: 0.7840\n"
          ]
        }
      ]
    },
    {
      "cell_type": "code",
      "source": [
        "# Generate predictions using the trained model for the validation set\n",
        "y_pred_validation_attempt_5 = model_attempt_5.predict(gen_batch(validation_set, batch_size=batch_size, repeat=False)).reshape(-1)\n",
        "\n",
        "# Calculate AUROC for the validation set\n",
        "y_true_validation = np.array([s[2] for s in validation_set])\n",
        "auroc_validation_attempt_5 = roc_auc_score(y_true_validation, y_pred_validation_attempt_5)\n",
        "print(f\"AUROC for Validation (Attempt 5): {auroc_validation_attempt_5}\")"
      ],
      "metadata": {
        "id": "1UB01t7G5b49",
        "colab": {
          "base_uri": "https://localhost:8080/"
        },
        "outputId": "51ec4072-8011-46d0-df20-4b5d3bf78620"
      },
      "execution_count": null,
      "outputs": [
        {
          "output_type": "stream",
          "name": "stdout",
          "text": [
            "313/313 [==============================] - 2s 5ms/step\n",
            "AUROC for Validation (Attempt 5): 0.5254500498558223\n"
          ]
        }
      ]
    },
    {
      "cell_type": "markdown",
      "source": [
        "##**Prediction:**\n"
      ],
      "metadata": {
        "id": "PG2FDZOmVoyN"
      }
    },
    {
      "cell_type": "code",
      "source": [
        "# Generate predictions for the test data\n",
        "y_pred_attempt_5 = model_attempt_5.predict(gen_batch(test_data, batch_size=batch_size, shuffle=False)).reshape(-1)"
      ],
      "metadata": {
        "id": "dTpU9FCn5ifk",
        "colab": {
          "base_uri": "https://localhost:8080/"
        },
        "outputId": "481ad3ed-48a0-4a79-bf69-f48dcad2e76c"
      },
      "execution_count": null,
      "outputs": [
        {
          "output_type": "stream",
          "name": "stdout",
          "text": [
            "771/771 [==============================] - 4s 5ms/step\n"
          ]
        }
      ]
    },
    {
      "cell_type": "markdown",
      "source": [
        "##**Save model:**\n"
      ],
      "metadata": {
        "id": "DkU5ixi1VoyO"
      }
    },
    {
      "cell_type": "code",
      "source": [
        "# Save predictions to a CSV file\n",
        "submission_attempt_5 = pd.DataFrame({'label': y_pred_attempt_5})\n",
        "submission_attempt_5.index.name = 'id'\n",
        "submission_attempt_5.to_csv('trail_5.csv')"
      ],
      "metadata": {
        "id": "m0CEWcDi5ioB"
      },
      "execution_count": null,
      "outputs": []
    },
    {
      "cell_type": "markdown",
      "source": [
        "##**Observations:  Trial 5**\n",
        "Despite an AUROC of 0.5255, Trial 5 demonstrates an improvement over Trial 1, indicating that increasing hidden dimensionality might contribute to capturing more complex features.\n"
      ],
      "metadata": {
        "id": "ouU31ayUnZyb"
      }
    },
    {
      "cell_type": "markdown",
      "source": [
        "##**Expectation: Trial 6**\n",
        "\n",
        "Combining mean aggregation with up-sampling and increased hidden dimensionality in Trial 6 could lead to further accuracy improvements compared to Trial 5, enhancing both feature representation and class balance.\n"
      ],
      "metadata": {
        "id": "DTnIQilPn-P8"
      }
    },
    {
      "cell_type": "markdown",
      "metadata": {
        "id": "5TeqSKfRVagR"
      },
      "source": [
        "##**Trial 6** : Mean aggregation with up-sampling and increased hidden dimensionality."
      ]
    },
    {
      "cell_type": "code",
      "source": [
        "# Define hyperparameters for the GNN model\n",
        "params_attempt_6 = GNN.get_default_hyperparameters()\n",
        "params_attempt_6[\"hidden_dim\"] = 128  # Increase hidden dimensionality to 128\n",
        "params_attempt_6[\"message_calculation_class\"] = \"GGNN\"\n",
        "\n",
        "# Initialize GNN layer with hyperparameters\n",
        "gnn_layer_attempt_6 = GNN(params_attempt_6)\n",
        "gnn_out_attempt_6 = gnn_layer_attempt_6(gnn_input)\n",
        "\n",
        "# Calculate mean aggregation\n",
        "mean_attempt_6 = tf.math.segment_mean(data=gnn_out_attempt_6, segment_ids=node2graph)\n",
        "\n",
        "# Predictions using Dense layer\n",
        "pred_attempt_6 = Dense(1, activation='sigmoid')(mean_attempt_6)"
      ],
      "metadata": {
        "id": "n3rfQnhZUmEP"
      },
      "execution_count": null,
      "outputs": []
    },
    {
      "cell_type": "code",
      "source": [
        "# Define the GNN model for Attempt 6\n",
        "model_attempt_6 = Model(\n",
        "    inputs={\n",
        "        'data': data,\n",
        "        'edges': edge,\n",
        "        'node2grah': node2graph,\n",
        "    },\n",
        "    outputs=pred_attempt_6\n",
        ")"
      ],
      "metadata": {
        "id": "vZ7RopjJUp7N"
      },
      "execution_count": null,
      "outputs": []
    },
    {
      "cell_type": "code",
      "source": [
        "# Compile the model\n",
        "model_attempt_6.compile(\n",
        "    optimizer=Adam(),\n",
        "    loss='binary_crossentropy',\n",
        "    metrics=['AUC']\n",
        ")"
      ],
      "metadata": {
        "id": "ESxYarG_Urwp"
      },
      "execution_count": null,
      "outputs": []
    },
    {
      "cell_type": "code",
      "source": [
        "# Train the model\n",
        "num_batches = len(train_set_upsampled) // batch_size\n",
        "\n",
        "history_attempt_6 = model_attempt_6.fit(\n",
        "    gen_batch(train_set_upsampled, batch_size=batch_size, repeat=True),\n",
        "    steps_per_epoch=num_batches,\n",
        "    epochs=10,\n",
        "    validation_data=gen_batch(validation_set, batch_size=batch_size, repeat=True),\n",
        "    validation_steps=num_batchs_validation,\n",
        ")"
      ],
      "metadata": {
        "colab": {
          "base_uri": "https://localhost:8080/"
        },
        "id": "4bqAkecyUtnC",
        "outputId": "f88a8523-3f8c-4396-be76-0ecdbfc250b4"
      },
      "execution_count": null,
      "outputs": [
        {
          "output_type": "stream",
          "name": "stdout",
          "text": [
            "Epoch 1/10\n",
            "2377/2377 [==============================] - 324s 134ms/step - loss: 0.6223 - auc: 0.7131 - val_loss: 0.6838 - val_auc: 0.7574\n",
            "Epoch 2/10\n",
            "2377/2377 [==============================] - 308s 130ms/step - loss: 0.5800 - auc: 0.7667 - val_loss: 0.5923 - val_auc: 0.7616\n",
            "Epoch 3/10\n",
            "2377/2377 [==============================] - 319s 134ms/step - loss: 0.5441 - auc: 0.8063 - val_loss: 0.6485 - val_auc: 0.7762\n",
            "Epoch 4/10\n",
            "2377/2377 [==============================] - 323s 136ms/step - loss: 0.5138 - auc: 0.8351 - val_loss: 0.7020 - val_auc: 0.8024\n",
            "Epoch 5/10\n",
            "2377/2377 [==============================] - 344s 145ms/step - loss: 0.4683 - auc: 0.8656 - val_loss: 0.5266 - val_auc: 0.8078\n",
            "Epoch 6/10\n",
            "2377/2377 [==============================] - 317s 134ms/step - loss: 0.4194 - auc: 0.8931 - val_loss: 0.4268 - val_auc: 0.8187\n",
            "Epoch 7/10\n",
            "2377/2377 [==============================] - 315s 133ms/step - loss: 0.3836 - auc: 0.9107 - val_loss: 0.4413 - val_auc: 0.8243\n",
            "Epoch 8/10\n",
            "2377/2377 [==============================] - 325s 137ms/step - loss: 0.3410 - auc: 0.9297 - val_loss: 0.3797 - val_auc: 0.8363\n",
            "Epoch 9/10\n",
            "2377/2377 [==============================] - 314s 132ms/step - loss: 0.3189 - auc: 0.9385 - val_loss: 0.3627 - val_auc: 0.8449\n",
            "Epoch 10/10\n",
            "2377/2377 [==============================] - 303s 128ms/step - loss: 0.2954 - auc: 0.9474 - val_loss: 0.4151 - val_auc: 0.8290\n"
          ]
        }
      ]
    },
    {
      "cell_type": "code",
      "source": [
        "# Generate predictions using the trained model for the validation set\n",
        "y_pred_validation_attempt_6 = model_attempt_6.predict(gen_batch(validation_set, batch_size=batch_size, repeat=False)).reshape(-1)\n",
        "\n",
        "# Calculate AUROC for the validation set\n",
        "y_true_validation = np.array([s[2] for s in validation_set])\n",
        "auroc_validation_attempt_6 = roc_auc_score(y_true_validation, y_pred_validation_attempt_6)\n",
        "print(f\"AUROC for Validation (Attempt 6): {auroc_validation_attempt_6}\")"
      ],
      "metadata": {
        "colab": {
          "base_uri": "https://localhost:8080/"
        },
        "id": "rwkFq1xYUxMD",
        "outputId": "4e82543c-581e-48e7-e1ca-e033d1c3ffd4"
      },
      "execution_count": null,
      "outputs": [
        {
          "output_type": "stream",
          "name": "stdout",
          "text": [
            "313/313 [==============================] - 12s 39ms/step\n",
            "AUROC for Validation (Attempt 6): 0.5209259708410812\n"
          ]
        }
      ]
    },
    {
      "cell_type": "markdown",
      "source": [
        "##**Prediction:**\n"
      ],
      "metadata": {
        "id": "CpsWqAciVvOc"
      }
    },
    {
      "cell_type": "code",
      "source": [
        "# Generate predictions for the test data\n",
        "y_pred_attempt_6 = model_attempt_6.predict(gen_batch(test_data, batch_size=batch_size, shuffle=False)).reshape(-1)"
      ],
      "metadata": {
        "colab": {
          "base_uri": "https://localhost:8080/"
        },
        "id": "VSmUWNDPVwJo",
        "outputId": "e303e610-1a23-4892-875c-7a1fa90b70a8"
      },
      "execution_count": null,
      "outputs": [
        {
          "output_type": "stream",
          "name": "stdout",
          "text": [
            "771/771 [==============================] - 29s 38ms/step\n"
          ]
        }
      ]
    },
    {
      "cell_type": "markdown",
      "source": [
        "##**Save model:**\n"
      ],
      "metadata": {
        "id": "gBWEyOHLVvOd"
      }
    },
    {
      "cell_type": "code",
      "source": [
        "# Save predictions to a CSV file\n",
        "submission_attempt_6 = pd.DataFrame({'label': y_pred_attempt_6})\n",
        "submission_attempt_6.index.name = 'id'\n",
        "submission_attempt_6.to_csv('trail_6.csv')"
      ],
      "metadata": {
        "id": "UU1cPm5awIhj"
      },
      "execution_count": null,
      "outputs": []
    },
    {
      "cell_type": "markdown",
      "source": [
        "##**Observations:**\n",
        "With an AUROC of 0.5209, Trial 6 maintains performance similar to Trial 5, suggesting that further increasing hidden dimensionality might not necessarily lead to significant improvements.\n"
      ],
      "metadata": {
        "id": "L7x1Hr8roXaS"
      }
    },
    {
      "cell_type": "markdown",
      "source": [
        "##**Expectation: Trial 7**\n",
        "\n",
        "Implementing batch normalization alongside mean aggregation and up-sampling in Trial 7 aims to stabilize training. Accuracy might improve compared to Trial 6 by mitigating overfitting and enhancing model generalization.\n"
      ],
      "metadata": {
        "id": "7qQ9H_MyFnyq"
      }
    },
    {
      "cell_type": "markdown",
      "metadata": {
        "id": "7hg4UP6vFny0"
      },
      "source": [
        "##**Trial 7** : Mean aggregation with up-sampling and batch normalization for improved training stability."
      ]
    },
    {
      "cell_type": "code",
      "source": [
        "# Define hyperparameters for the GNN model\n",
        "params_attempt_7 = GNN.get_default_hyperparameters()\n",
        "params_attempt_7[\"hidden_dim\"] = 128  # Increase hidden dimensionality to 128\n",
        "params_attempt_7[\"message_calculation_class\"] = \"GGNN\"\n",
        "\n",
        "# Initialize GNN layer with hyperparameters\n",
        "gnn_layer_attempt_7 = GNN(params_attempt_7)\n",
        "gnn_out_attempt_7 = gnn_layer_attempt_7(gnn_input)\n",
        "\n",
        "# Calculate mean aggregation\n",
        "mean_attempt_7 = tf.math.segment_mean(data=gnn_out_attempt_7, segment_ids=node2graph)\n",
        "\n",
        "# Apply dropout regularization\n",
        "dropout_rate = 0.5\n",
        "dropout_attempt_7 = Dropout(dropout_rate)(mean_attempt_7)\n",
        "\n",
        "# Predictions using Dense layer\n",
        "pred_attempt_7 = Dense(1, activation='sigmoid')(dropout_attempt_7)"
      ],
      "metadata": {
        "id": "63O7RJCTFny0"
      },
      "execution_count": null,
      "outputs": []
    },
    {
      "cell_type": "code",
      "source": [
        "# Define the GNN model for Attempt 7\n",
        "model_attempt_7 = Model(\n",
        "    inputs={\n",
        "        'data': data,\n",
        "        'edges': edge,\n",
        "        'node2grah': node2graph,\n",
        "    },\n",
        "    outputs=pred_attempt_7\n",
        ")"
      ],
      "metadata": {
        "id": "nn719hrT-oo0"
      },
      "execution_count": null,
      "outputs": []
    },
    {
      "cell_type": "code",
      "source": [
        "# Compile the model\n",
        "model_attempt_7.compile(\n",
        "    optimizer=Adam(),\n",
        "    loss='binary_crossentropy',\n",
        "    metrics=['AUC']\n",
        ")"
      ],
      "metadata": {
        "id": "A2aSo7ou-rdW"
      },
      "execution_count": null,
      "outputs": []
    },
    {
      "cell_type": "code",
      "source": [
        "# Train the model\n",
        "num_batches = len(train_set_upsampled) // batch_size\n",
        "history_attempt_7 = model_attempt_7.fit(\n",
        "    gen_batch(train_set_upsampled, batch_size=batch_size, repeat=True),\n",
        "    steps_per_epoch=num_batches,\n",
        "    epochs=10,\n",
        "    validation_data=gen_batch(validation_set, batch_size=batch_size, repeat=True),\n",
        "    validation_steps=num_batchs_validation,\n",
        ")"
      ],
      "metadata": {
        "colab": {
          "base_uri": "https://localhost:8080/"
        },
        "id": "U613Xwhu-uA5",
        "outputId": "361fa895-a0c6-467d-a467-0130a95ac413"
      },
      "execution_count": null,
      "outputs": [
        {
          "output_type": "stream",
          "name": "stdout",
          "text": [
            "Epoch 1/10\n",
            "2377/2377 [==============================] - 331s 137ms/step - loss: 0.6021 - auc: 0.7377 - val_loss: 0.7613 - val_auc: 0.7799\n",
            "Epoch 2/10\n",
            "2377/2377 [==============================] - 307s 129ms/step - loss: 0.5207 - auc: 0.8219 - val_loss: 0.5613 - val_auc: 0.8036\n",
            "Epoch 3/10\n",
            "2377/2377 [==============================] - 318s 134ms/step - loss: 0.4635 - auc: 0.8637 - val_loss: 0.5625 - val_auc: 0.8119\n",
            "Epoch 4/10\n",
            "2377/2377 [==============================] - 318s 134ms/step - loss: 0.4066 - auc: 0.8969 - val_loss: 0.6287 - val_auc: 0.8179\n",
            "Epoch 5/10\n",
            "2377/2377 [==============================] - 303s 127ms/step - loss: 0.3502 - auc: 0.9242 - val_loss: 0.3841 - val_auc: 0.8190\n",
            "Epoch 6/10\n",
            "2377/2377 [==============================] - 303s 128ms/step - loss: 0.3098 - auc: 0.9398 - val_loss: 0.4322 - val_auc: 0.8311\n",
            "Epoch 7/10\n",
            "2377/2377 [==============================] - 301s 127ms/step - loss: 0.2742 - auc: 0.9519 - val_loss: 0.4354 - val_auc: 0.8288\n",
            "Epoch 8/10\n",
            "2377/2377 [==============================] - 303s 128ms/step - loss: 0.2345 - auc: 0.9633 - val_loss: 0.4605 - val_auc: 0.8239\n",
            "Epoch 9/10\n",
            "2377/2377 [==============================] - 314s 132ms/step - loss: 0.2180 - auc: 0.9679 - val_loss: 0.3516 - val_auc: 0.8250\n",
            "Epoch 10/10\n",
            "2377/2377 [==============================] - 312s 131ms/step - loss: 0.2016 - auc: 0.9721 - val_loss: 0.3389 - val_auc: 0.8433\n"
          ]
        }
      ]
    },
    {
      "cell_type": "code",
      "source": [
        "# Generate predictions using the trained model for the validation set\n",
        "y_pred_validation_attempt_7 = model_attempt_7.predict(gen_batch(validation_set, batch_size=batch_size, repeat=False)).reshape(-1)\n",
        "\n",
        "# Calculate AUROC for the validation set\n",
        "y_true_validation = np.array([s[2] for s in validation_set])\n",
        "auroc_validation_attempt_7 = roc_auc_score(y_true_validation, y_pred_validation_attempt_7)\n",
        "print(f\"AUROC for Validation (Attempt 7): {auroc_validation_attempt_7}\")"
      ],
      "metadata": {
        "colab": {
          "base_uri": "https://localhost:8080/"
        },
        "id": "Oj64MwPf-v5o",
        "outputId": "fd723702-7ffd-4713-b61b-4bd9f1d72d7b"
      },
      "execution_count": null,
      "outputs": [
        {
          "output_type": "stream",
          "name": "stdout",
          "text": [
            "313/313 [==============================] - 11s 35ms/step\n",
            "AUROC for Validation (Attempt 7): 0.522601626955253\n"
          ]
        }
      ]
    },
    {
      "cell_type": "markdown",
      "source": [
        "##**Prediction:**\n"
      ],
      "metadata": {
        "id": "YY3l346wV2-f"
      }
    },
    {
      "cell_type": "code",
      "source": [
        "# Generate predictions for the test data\n",
        "y_pred_attempt_7 = model_attempt_7.predict(gen_batch(test_data, batch_size=batch_size, shuffle=False)).reshape(-1)"
      ],
      "metadata": {
        "colab": {
          "base_uri": "https://localhost:8080/"
        },
        "id": "TLaM2Em1V1_7",
        "outputId": "21364042-21f3-407b-867f-ce0e1a43a881"
      },
      "execution_count": null,
      "outputs": [
        {
          "output_type": "stream",
          "name": "stdout",
          "text": [
            "771/771 [==============================] - 28s 36ms/step\n"
          ]
        }
      ]
    },
    {
      "cell_type": "markdown",
      "source": [
        "##**Save model:**\n"
      ],
      "metadata": {
        "id": "FI3G_p5SV2-4"
      }
    },
    {
      "cell_type": "code",
      "source": [
        "# Save predictions to a CSV file\n",
        "submission_attempt_7 = pd.DataFrame({'label': y_pred_attempt_7})\n",
        "submission_attempt_7.index.name = 'id'\n",
        "submission_attempt_7.to_csv('trail_7.csv')"
      ],
      "metadata": {
        "id": "hFAt5hVLV5Gg"
      },
      "execution_count": null,
      "outputs": []
    },
    {
      "cell_type": "markdown",
      "source": [
        "##**Observations:**\n",
        "\n",
        "Trial 7's AUROC of 0.5226 shows consistency with Trials 5 and 6, indicating that adding batch normalization does not significantly impact performance.\n"
      ],
      "metadata": {
        "id": "15J0ShNMFny0"
      }
    },
    {
      "cell_type": "markdown",
      "source": [
        "##**Expectation: Trial 8**\n",
        "\n",
        "Integrating batch normalization and alternative optimization techniques with mean aggregation and up-sampling in Trial 8 may further improve accuracy compared to Trial 7 by optimizing convergence and avoiding local minima.\n"
      ],
      "metadata": {
        "id": "3fc5mZT2FsME"
      }
    },
    {
      "cell_type": "markdown",
      "metadata": {
        "id": "rBg71NB-FsMY"
      },
      "source": [
        "##**Trial 8** : Mean aggregation with up-sampling and batch normalization for improved training stability."
      ]
    },
    {
      "cell_type": "code",
      "source": [
        "# Define hyperparameters for the GNN model\n",
        "params_attempt_8 = GNN.get_default_hyperparameters()\n",
        "params_attempt_8[\"hidden_dim\"] = 128  # Increase hidden dimensionality to 128\n",
        "params_attempt_8[\"message_calculation_class\"] = \"GGNN\"\n",
        "\n",
        "# Initialize GNN layer with hyperparameters\n",
        "gnn_layer_attempt_8 = GNN(params_attempt_8)\n",
        "gnn_out_attempt_8 = gnn_layer_attempt_8(gnn_input)\n",
        "\n",
        "# Calculate mean aggregation\n",
        "mean_attempt_8 = tf.math.segment_mean(data=gnn_out_attempt_8, segment_ids=node2graph)\n",
        "\n",
        "# Apply batch normalization\n",
        "normalized_attempt_8 = BatchNormalization()(mean_attempt_8)\n",
        "\n",
        "# Predictions using Dense layer\n",
        "pred_attempt_8 = Dense(1, activation='sigmoid')(normalized_attempt_8)"
      ],
      "metadata": {
        "id": "jfBGBIO9J3MX"
      },
      "execution_count": null,
      "outputs": []
    },
    {
      "cell_type": "code",
      "source": [
        "# Define the GNN model for Attempt 8\n",
        "model_attempt_8  = Model(\n",
        "    inputs={\n",
        "        'data': data,\n",
        "        'edges': edge,\n",
        "        'node2grah': node2graph,\n",
        "    },\n",
        "    outputs=pred_attempt_8\n",
        ")"
      ],
      "metadata": {
        "id": "ypD9hQJBJ8B6"
      },
      "execution_count": null,
      "outputs": []
    },
    {
      "cell_type": "code",
      "source": [
        "\n",
        "# Compile the model\n",
        "model_attempt_8.compile(\n",
        "    optimizer=Adam(),\n",
        "    loss='binary_crossentropy',\n",
        "    metrics=['AUC']\n",
        ")"
      ],
      "metadata": {
        "id": "wZFdok64J53R"
      },
      "execution_count": null,
      "outputs": []
    },
    {
      "cell_type": "code",
      "source": [
        "# Train the model\n",
        "num_batches = len(train_set_upsampled) // batch_size\n",
        "history_attempt_8 = model_attempt_8.fit(\n",
        "    gen_batch(train_set_upsampled, batch_size=batch_size, repeat=True),\n",
        "    steps_per_epoch=num_batches,\n",
        "    epochs=10,\n",
        "    validation_data=gen_batch(validation_set, batch_size=batch_size, repeat=True),\n",
        "    validation_steps=num_batchs_validation,\n",
        ")"
      ],
      "metadata": {
        "colab": {
          "base_uri": "https://localhost:8080/"
        },
        "id": "37-wdtoaJ-0A",
        "outputId": "3a8b23b0-0fd5-4eee-87bb-0d4e4f4ab8fd"
      },
      "execution_count": null,
      "outputs": [
        {
          "output_type": "stream",
          "name": "stdout",
          "text": [
            "Epoch 1/10\n",
            "2377/2377 [==============================] - 57s 19ms/step - loss: 0.6097 - auc: 0.7275 - val_loss: 0.6158 - val_auc: 0.7495\n",
            "Epoch 2/10\n",
            "2377/2377 [==============================] - 42s 18ms/step - loss: 0.5429 - auc: 0.8019 - val_loss: 0.7176 - val_auc: 0.7641\n",
            "Epoch 3/10\n",
            "2377/2377 [==============================] - 60s 25ms/step - loss: 0.4926 - auc: 0.8431 - val_loss: 0.5564 - val_auc: 0.8046\n",
            "Epoch 4/10\n",
            "2377/2377 [==============================] - 41s 17ms/step - loss: 0.4290 - auc: 0.8848 - val_loss: 0.5719 - val_auc: 0.8321\n",
            "Epoch 5/10\n",
            "2377/2377 [==============================] - 42s 18ms/step - loss: 0.3823 - auc: 0.9092 - val_loss: 0.5509 - val_auc: 0.8430\n",
            "Epoch 6/10\n",
            "2377/2377 [==============================] - 42s 18ms/step - loss: 0.3466 - auc: 0.9254 - val_loss: 0.4806 - val_auc: 0.8302\n",
            "Epoch 7/10\n",
            "2377/2377 [==============================] - 42s 18ms/step - loss: 0.3116 - auc: 0.9391 - val_loss: 0.3897 - val_auc: 0.8304\n",
            "Epoch 8/10\n",
            "2377/2377 [==============================] - 40s 17ms/step - loss: 0.2966 - auc: 0.9448 - val_loss: 0.4372 - val_auc: 0.8490\n",
            "Epoch 9/10\n",
            "2377/2377 [==============================] - 42s 17ms/step - loss: 0.2639 - auc: 0.9558 - val_loss: 0.3884 - val_auc: 0.8005\n",
            "Epoch 10/10\n",
            "2377/2377 [==============================] - 42s 17ms/step - loss: 0.2465 - auc: 0.9608 - val_loss: 0.5304 - val_auc: 0.8197\n"
          ]
        }
      ]
    },
    {
      "cell_type": "code",
      "source": [
        "# Generate predictions using the trained model for the validation set\n",
        "y_pred_validation_attempt_8 = model_attempt_8.predict(gen_batch(validation_set, batch_size=batch_size, repeat=False)).reshape(-1)\n",
        "\n",
        "# Calculate AUROC for the validation set\n",
        "y_true_validation = np.array([s[2] for s in validation_set])\n",
        "auroc_validation_attempt_8 = roc_auc_score(y_true_validation, y_pred_validation_attempt_8)\n",
        "print(f\"AUROC for Validation (Attempt 8): {auroc_validation_attempt_8}\")"
      ],
      "metadata": {
        "id": "PZ73KYEYKAcV",
        "colab": {
          "base_uri": "https://localhost:8080/"
        },
        "outputId": "a8ea2879-a2bb-4f53-ce28-7ca2b4ea1e98"
      },
      "execution_count": null,
      "outputs": [
        {
          "output_type": "stream",
          "name": "stdout",
          "text": [
            "313/313 [==============================] - 2s 5ms/step\n",
            "AUROC for Validation (Attempt 8): 0.5134312355389241\n"
          ]
        }
      ]
    },
    {
      "cell_type": "markdown",
      "source": [
        "##**Prediction:**\n"
      ],
      "metadata": {
        "id": "jgzvPfHuV709"
      }
    },
    {
      "cell_type": "code",
      "source": [
        "# Generate predictions for the test data\n",
        "y_pred_attempt_8 = model_attempt_8.predict(gen_batch(test_data, batch_size=batch_size, shuffle=False)).reshape(-1)"
      ],
      "metadata": {
        "id": "_7vMxQQJV70-",
        "colab": {
          "base_uri": "https://localhost:8080/"
        },
        "outputId": "7e6abf43-1995-465d-c928-40f7c038abb6"
      },
      "execution_count": null,
      "outputs": [
        {
          "output_type": "stream",
          "name": "stdout",
          "text": [
            "771/771 [==============================] - 4s 6ms/step\n"
          ]
        }
      ]
    },
    {
      "cell_type": "markdown",
      "source": [
        "##**Save model:**\n"
      ],
      "metadata": {
        "id": "LjGMniq6V70-"
      }
    },
    {
      "cell_type": "code",
      "source": [
        "# Save predictions to a CSV file\n",
        "submission_attempt_8 = pd.DataFrame({'label': y_pred_attempt_8})\n",
        "submission_attempt_8.index.name = 'id'\n",
        "submission_attempt_8.to_csv('trail_8.csv')"
      ],
      "metadata": {
        "id": "fdtiULTTV70-"
      },
      "execution_count": null,
      "outputs": []
    },
    {
      "cell_type": "markdown",
      "source": [
        "##**Observations:**\n",
        "\n",
        "Despite incorporating batch normalization, Trial 8's AUROC of 0.5134 is similar to Trials 5, 6, and 7, suggesting that the choice of optimizer and batch normalization might not provide substantial performance gains.\n"
      ],
      "metadata": {
        "id": "S25JN92nFsMY"
      }
    },
    {
      "cell_type": "markdown",
      "source": [
        "##**Expectation: Trial 9**\n",
        "\n",
        "Testing a different optimizer with sum aggregation and up-sampling in Trial 9 could lead to accuracy improvements if the new optimizer better suits the dataset's characteristics, potentially surpassing Trial 4's performance."
      ],
      "metadata": {
        "id": "b7gZmAi2Fwt3"
      }
    },
    {
      "cell_type": "markdown",
      "metadata": {
        "id": "u4X4jnY7FwuB"
      },
      "source": [
        "##**Trial 9** :Sum aggregation with up-sampling and a different optimizer Adam with adjusted learning rate"
      ]
    },
    {
      "cell_type": "code",
      "source": [
        "# Define hyperparameters for the GNN model\n",
        "params_attempt_9 = GNN.get_default_hyperparameters()\n",
        "params_attempt_9[\"hidden_dim\"] = 128  # Increase hidden dimensionality to 128\n",
        "params_attempt_9[\"message_calculation_class\"] = \"GGNN\"\n",
        "\n",
        "# Initialize GNN layer with hyperparameters\n",
        "gnn_layer_attempt_9 = GNN(params_attempt_9)\n",
        "gnn_out_attempt_9 = gnn_layer_attempt_9(gnn_input)\n",
        "\n",
        "# Calculate sum aggregation\n",
        "sum_attempt_9 = tf.math.segment_sum(data=gnn_out_attempt_9, segment_ids=node2graph)\n",
        "\n",
        "# Apply batch normalization\n",
        "normalized_attempt_9 = BatchNormalization()(sum_attempt_9)\n",
        "\n",
        "# Predictions using Dense layer\n",
        "pred_attempt_9 = Dense(1, activation='sigmoid')(normalized_attempt_9)"
      ],
      "metadata": {
        "id": "3aRkhj8IMmz0"
      },
      "execution_count": null,
      "outputs": []
    },
    {
      "cell_type": "code",
      "source": [
        "# Define the GNN model for Attempt 9\n",
        "model_attempt_9 = Model(\n",
        "    inputs={\n",
        "        'data': data,\n",
        "        'edges': edge,\n",
        "        'node2grah': node2graph,\n",
        "    },\n",
        "    outputs=pred_attempt_9\n",
        ")"
      ],
      "metadata": {
        "id": "vPW8m_S7Mqr9"
      },
      "execution_count": null,
      "outputs": []
    },
    {
      "cell_type": "code",
      "source": [
        "from tensorflow.keras.optimizers import Nadam\n",
        "# Compile the model with adjusted learning rate\n",
        "optimizer_attempt_9 = Nadam(learning_rate=0.001)  # Adjusted learning rate\n",
        "model_attempt_9.compile(\n",
        "    optimizer=optimizer_attempt_9,\n",
        "    loss='binary_crossentropy',\n",
        "    metrics=['AUC']\n",
        ")"
      ],
      "metadata": {
        "id": "EZuU81MzMs04"
      },
      "execution_count": null,
      "outputs": []
    },
    {
      "cell_type": "code",
      "source": [
        "# Train the model\n",
        "num_batches = len(train_set_upsampled) // batch_size\n",
        "history_attempt_9 = model_attempt_9.fit(\n",
        "    gen_batch(train_set_upsampled, batch_size=batch_size, repeat=True),\n",
        "    steps_per_epoch=num_batches,\n",
        "    epochs=10,\n",
        "    validation_data=gen_batch(validation_set, batch_size=batch_size, repeat=True),\n",
        "    validation_steps=num_batchs_validation,\n",
        ")"
      ],
      "metadata": {
        "id": "vVxK2g9PMuYM",
        "colab": {
          "base_uri": "https://localhost:8080/"
        },
        "outputId": "4e04d1b4-ad11-450e-ee62-b3ad9c1389f8"
      },
      "execution_count": null,
      "outputs": [
        {
          "output_type": "stream",
          "name": "stdout",
          "text": [
            "Epoch 1/10\n",
            "2377/2377 [==============================] - 66s 23ms/step - loss: 0.5690 - auc: 0.7774 - val_loss: 0.8728 - val_auc: 0.7809\n",
            "Epoch 2/10\n",
            "2377/2377 [==============================] - 48s 20ms/step - loss: 0.4900 - auc: 0.8460 - val_loss: 0.4406 - val_auc: 0.8176\n",
            "Epoch 3/10\n",
            "2377/2377 [==============================] - 48s 20ms/step - loss: 0.4305 - auc: 0.8839 - val_loss: 0.4135 - val_auc: 0.8341\n",
            "Epoch 4/10\n",
            "2377/2377 [==============================] - 47s 20ms/step - loss: 0.3704 - auc: 0.9146 - val_loss: 0.5695 - val_auc: 0.8202\n",
            "Epoch 5/10\n",
            "2377/2377 [==============================] - 48s 20ms/step - loss: 0.3245 - auc: 0.9343 - val_loss: 0.4912 - val_auc: 0.8480\n",
            "Epoch 6/10\n",
            "2377/2377 [==============================] - 48s 20ms/step - loss: 0.2797 - auc: 0.9504 - val_loss: 0.4312 - val_auc: 0.8473\n",
            "Epoch 7/10\n",
            "2377/2377 [==============================] - 51s 22ms/step - loss: 0.2444 - auc: 0.9609 - val_loss: 0.3748 - val_auc: 0.8209\n",
            "Epoch 8/10\n",
            "2377/2377 [==============================] - 51s 21ms/step - loss: 0.2185 - auc: 0.9685 - val_loss: 0.4106 - val_auc: 0.8190\n",
            "Epoch 9/10\n",
            "2377/2377 [==============================] - 48s 20ms/step - loss: 0.1934 - auc: 0.9742 - val_loss: 0.4877 - val_auc: 0.8170\n",
            "Epoch 10/10\n",
            "2377/2377 [==============================] - 48s 20ms/step - loss: 0.1793 - auc: 0.9776 - val_loss: 0.5275 - val_auc: 0.8108\n"
          ]
        }
      ]
    },
    {
      "cell_type": "code",
      "source": [
        "# Generate predictions using the trained model for the validation set\n",
        "y_pred_validation_attempt_9 = model_attempt_9.predict(gen_batch(validation_set, batch_size=batch_size, repeat=False)).reshape(-1)\n",
        "\n",
        "# Calculate AUROC for the validation set\n",
        "y_true_validation = np.array([s[2] for s in validation_set])\n",
        "auroc_validation_attempt_9 = roc_auc_score(y_true_validation, y_pred_validation_attempt_9)\n",
        "print(f\"AUROC for Validation (Attempt 9): {auroc_validation_attempt_9}\")"
      ],
      "metadata": {
        "id": "FN9uyg9NMwTG",
        "colab": {
          "base_uri": "https://localhost:8080/"
        },
        "outputId": "5b1a6e24-597d-4e41-a48f-40534d9283ce"
      },
      "execution_count": null,
      "outputs": [
        {
          "output_type": "stream",
          "name": "stdout",
          "text": [
            "313/313 [==============================] - 2s 5ms/step\n",
            "AUROC for Validation (Attempt 9): 0.484649604040824\n"
          ]
        }
      ]
    },
    {
      "cell_type": "markdown",
      "source": [
        "##**Prediction:**\n"
      ],
      "metadata": {
        "id": "7zTVOpI5V8qA"
      }
    },
    {
      "cell_type": "code",
      "source": [
        "# Generate predictions for the test data\n",
        "y_pred_attempt_9 = model_attempt_9.predict(gen_batch(test_data, batch_size=batch_size, shuffle=False)).reshape(-1)"
      ],
      "metadata": {
        "id": "pvW-NOiTV8qB",
        "colab": {
          "base_uri": "https://localhost:8080/"
        },
        "outputId": "58d4401d-5756-4443-e5e4-fd779edafdc4"
      },
      "execution_count": null,
      "outputs": [
        {
          "output_type": "stream",
          "name": "stdout",
          "text": [
            "771/771 [==============================] - 5s 6ms/step\n"
          ]
        }
      ]
    },
    {
      "cell_type": "markdown",
      "source": [
        "##**Save model:**\n"
      ],
      "metadata": {
        "id": "W5NXN_ryV8qC"
      }
    },
    {
      "cell_type": "code",
      "source": [
        "# Save predictions to a CSV file\n",
        "submission_attempt_9 = pd.DataFrame({'label': y_pred_attempt_9})\n",
        "submission_attempt_9.index.name = 'id'\n",
        "submission_attempt_9.to_csv('trail_9.csv')"
      ],
      "metadata": {
        "id": "PIRSQ_lkV8qD"
      },
      "execution_count": null,
      "outputs": []
    },
    {
      "cell_type": "markdown",
      "source": [
        "##**Observations:**\n",
        "\n",
        "Trial 9's AUROC of 0.4846 is similar to Trial 3, indicating that using sum aggregation with a different optimizer does not improve performance significantly compared to previous trials.\n"
      ],
      "metadata": {
        "id": "QoXanhwBFwuB"
      }
    },
    {
      "cell_type": "markdown",
      "source": [
        "##**Expectation: Trial 10**\n",
        "\n",
        "Implementing early stopping with max aggregation and up-sampling in Trial 10 aims to prevent overfitting. Accuracy might improve compared to Trial 9 by ensuring the model generalizes well to unseen data."
      ],
      "metadata": {
        "id": "mdIJy9H4F0nP"
      }
    },
    {
      "cell_type": "markdown",
      "metadata": {
        "id": "knxLFmyEF0na"
      },
      "source": [
        "##**Trial 10** : Max aggregation with up-sampling and early stopping based on validation loss to prevent overfitting."
      ]
    },
    {
      "cell_type": "code",
      "source": [
        "# Define hyperparameters for the GNN model\n",
        "params_attempt_10 = GNN.get_default_hyperparameters()\n",
        "params_attempt_10[\"hidden_dim\"] = 128  # Increase hidden dimensionality to 128\n",
        "params_attempt_10[\"message_calculation_class\"] = \"GGNN\"\n",
        "\n",
        "# Initialize GNN layer with hyperparameters\n",
        "gnn_layer_attempt_10 = GNN(params_attempt_10)\n",
        "gnn_out_attempt_10 = gnn_layer_attempt_10(gnn_input)\n",
        "\n",
        "# Calculate max aggregation\n",
        "max_attempt_10 = tf.math.segment_max(data=gnn_out_attempt_10, segment_ids=node2graph)\n",
        "\n",
        "# Apply batch normalization\n",
        "normalized_attempt_10 = BatchNormalization()(max_attempt_10)\n",
        "\n",
        "# Predictions using Dense layer\n",
        "pred_attempt_10 = Dense(1, activation='sigmoid')(normalized_attempt_10)"
      ],
      "metadata": {
        "id": "rqPeRdy7Of_R"
      },
      "execution_count": null,
      "outputs": []
    },
    {
      "cell_type": "code",
      "source": [
        "# Define the GNN model for Attempt 10\n",
        "model_attempt_10 =  Model(\n",
        "    inputs={\n",
        "        'data': data,\n",
        "        'edges': edge,\n",
        "        'node2grah': node2graph,\n",
        "    },\n",
        "    outputs=pred_attempt_10\n",
        ")"
      ],
      "metadata": {
        "id": "z3U3-Qg0Oi3C"
      },
      "execution_count": null,
      "outputs": []
    },
    {
      "cell_type": "code",
      "source": [
        "# Compile the model with Adam optimizer and binary cross-entropy loss\n",
        "optimizer_attempt_10 = Adam()\n",
        "model_attempt_10.compile(\n",
        "    optimizer=optimizer_attempt_10,\n",
        "    loss='binary_crossentropy',\n",
        "    metrics=['AUC']\n",
        ")"
      ],
      "metadata": {
        "id": "d_kFpLKGOlCn"
      },
      "execution_count": null,
      "outputs": []
    },
    {
      "cell_type": "code",
      "source": [
        "# Define early stopping callback\n",
        "early_stopping = EarlyStopping(monitor='val_loss', patience=3, mode='min', restore_best_weights=True)\n",
        "\n",
        "# Train the model with early stopping\n",
        "num_batches = len(train_set_upsampled) // batch_size\n",
        "history_attempt_10 = model_attempt_10.fit(\n",
        "    gen_batch(train_set_upsampled, batch_size=batch_size, repeat=True),\n",
        "    steps_per_epoch=num_batches,\n",
        "    epochs=100,\n",
        "    validation_data=gen_batch(validation_set, batch_size=batch_size, repeat=True),\n",
        "    validation_steps=num_batchs_validation,\n",
        "    callbacks=[early_stopping]\n",
        ")"
      ],
      "metadata": {
        "id": "MG_pZTfTOnq9",
        "colab": {
          "base_uri": "https://localhost:8080/"
        },
        "outputId": "d637c7a3-fe87-411b-a235-0f57e2a71a6d"
      },
      "execution_count": null,
      "outputs": [
        {
          "output_type": "stream",
          "name": "stdout",
          "text": [
            "Epoch 1/100\n",
            "2377/2377 [==============================] - 52s 19ms/step - loss: 0.5745 - auc: 0.7711 - val_loss: 0.8285 - val_auc: 0.7579\n",
            "Epoch 2/100\n",
            "2377/2377 [==============================] - 43s 18ms/step - loss: 0.5282 - auc: 0.8146 - val_loss: 0.8277 - val_auc: 0.8005\n",
            "Epoch 3/100\n",
            "2377/2377 [==============================] - 43s 18ms/step - loss: 0.5015 - auc: 0.8360 - val_loss: 0.6552 - val_auc: 0.7970\n",
            "Epoch 4/100\n",
            "2377/2377 [==============================] - 43s 18ms/step - loss: 0.5046 - auc: 0.8343 - val_loss: 0.4404 - val_auc: 0.8082\n",
            "Epoch 5/100\n",
            "2377/2377 [==============================] - 43s 18ms/step - loss: 0.5180 - auc: 0.8236 - val_loss: 0.5194 - val_auc: 0.7854\n",
            "Epoch 6/100\n",
            "2377/2377 [==============================] - 41s 17ms/step - loss: 0.4839 - auc: 0.8495 - val_loss: 0.4076 - val_auc: 0.7813\n",
            "Epoch 7/100\n",
            "2377/2377 [==============================] - 42s 18ms/step - loss: 0.4634 - auc: 0.8637 - val_loss: 0.4638 - val_auc: 0.7928\n",
            "Epoch 8/100\n",
            "2377/2377 [==============================] - 42s 18ms/step - loss: 0.4145 - auc: 0.8927 - val_loss: 0.3731 - val_auc: 0.7954\n",
            "Epoch 9/100\n",
            "2377/2377 [==============================] - 42s 18ms/step - loss: 0.3811 - auc: 0.9097 - val_loss: 0.4552 - val_auc: 0.7954\n",
            "Epoch 10/100\n",
            "2377/2377 [==============================] - 41s 17ms/step - loss: 0.4141 - auc: 0.8928 - val_loss: 0.4716 - val_auc: 0.7918\n",
            "Epoch 11/100\n",
            "2377/2377 [==============================] - 42s 18ms/step - loss: 0.3599 - auc: 0.9198 - val_loss: 0.4258 - val_auc: 0.7857\n"
          ]
        }
      ]
    },
    {
      "cell_type": "code",
      "source": [
        "# Generate predictions using the trained model for the validation set\n",
        "y_pred_validation_attempt_10 = model_attempt_10.predict(gen_batch(validation_set, batch_size=batch_size, repeat=False)).reshape(-1)\n",
        "\n",
        "# Calculate AUROC for the validation set\n",
        "y_true_validation = np.array([s[2] for s in validation_set])\n",
        "auroc_validation_attempt_10 = roc_auc_score(y_true_validation, y_pred_validation_attempt_10)\n",
        "print(f\"AUROC for Validation (Attempt 10): {auroc_validation_attempt_10}\")"
      ],
      "metadata": {
        "id": "Q1NUKE4VOq1I",
        "colab": {
          "base_uri": "https://localhost:8080/"
        },
        "outputId": "ad9a65a3-379f-4f87-805f-d0d549197424"
      },
      "execution_count": null,
      "outputs": [
        {
          "output_type": "stream",
          "name": "stdout",
          "text": [
            "313/313 [==============================] - 2s 5ms/step\n",
            "AUROC for Validation (Attempt 10): 0.45787952985382047\n"
          ]
        }
      ]
    },
    {
      "cell_type": "markdown",
      "source": [
        "##**Prediction:**\n"
      ],
      "metadata": {
        "id": "B_-epNMbV9pm"
      }
    },
    {
      "cell_type": "code",
      "source": [
        "# Generate predictions for the test data\n",
        "y_pred_attempt_10 = model_attempt_10.predict(gen_batch(test_data, batch_size=batch_size, shuffle=False)).reshape(-1)"
      ],
      "metadata": {
        "id": "hLvXsiW-V9pn",
        "colab": {
          "base_uri": "https://localhost:8080/"
        },
        "outputId": "8f2530df-3617-422a-fd0a-eb245ebc0bce"
      },
      "execution_count": null,
      "outputs": [
        {
          "output_type": "stream",
          "name": "stdout",
          "text": [
            "771/771 [==============================] - 4s 5ms/step\n"
          ]
        }
      ]
    },
    {
      "cell_type": "markdown",
      "source": [
        "##**Save model:**\n"
      ],
      "metadata": {
        "id": "NJZatdEkV9po"
      }
    },
    {
      "cell_type": "code",
      "source": [
        "# Save predictions to a CSV file\n",
        "submission_attempt_10 = pd.DataFrame({'label': y_pred_attempt_10})\n",
        "submission_attempt_10.index.name = 'id'\n",
        "submission_attempt_10.to_csv('trail_10.csv')"
      ],
      "metadata": {
        "id": "KWgA6peFV9po"
      },
      "execution_count": null,
      "outputs": []
    },
    {
      "cell_type": "markdown",
      "source": [
        "##**Observations:**\n",
        " With an AUROC of 0.4579, Trial 10 demonstrates a decrease in performance compared to Trial 9, suggesting that early stopping with max aggregation might not be beneficial in this scenario.\n"
      ],
      "metadata": {
        "id": "toaUiEVYF0na"
      }
    },
    {
      "cell_type": "markdown",
      "source": [
        "\n",
        "##**Expectation for Trial 11:**\n",
        " Integrating mean aggregation, up-sampling, increased hidden dimensionality, and employing RGCN for message calculation is anticipated to enhance model performance significantly, particularly in capturing intricate graph relationships and improving generalization capabilities, thereby leading to a successful trial."
      ],
      "metadata": {
        "id": "_Is5Pyc3ssK_"
      }
    },
    {
      "cell_type": "markdown",
      "source": [
        "##**Trial 11:** Mean aggregation with up-sampling, but with increased hidden dimensionality in the GNN layers (using RGCN for message calculation)"
      ],
      "metadata": {
        "id": "J-ukcgYOXEhP"
      }
    },
    {
      "cell_type": "code",
      "source": [
        "# Define hyperparameters for the GNN model\n",
        "params_attempt_11 = GNN.get_default_hyperparameters()\n",
        "params_attempt_11[\"hidden_dim\"] = 64  # Increase hidden dimensionality to 64\n",
        "params_attempt_11[\"message_calculation_class\"] = \"RGCN\"  # Change message calculation class to RGCN\n",
        "\n",
        "# Initialize GNN layer with hyperparameters\n",
        "gnn_layer_attempt_11 = GNN(params_attempt_11)\n",
        "gnn_out_attempt_11 = gnn_layer_attempt_11(gnn_input)\n",
        "\n",
        "# Calculate mean aggregation\n",
        "mean_attempt_11 = tf.math.segment_mean(data=gnn_out_attempt_11, segment_ids=node2graph)\n",
        "\n",
        "# Predictions using Dense layer\n",
        "pred_attempt_11 = Dense(1, activation='sigmoid')(mean_attempt_11)\n"
      ],
      "metadata": {
        "id": "8PGEKC2UXuv0"
      },
      "execution_count": 29,
      "outputs": []
    },
    {
      "cell_type": "code",
      "source": [
        "# Define the GNN model for Attempt 11\n",
        "model_attempt_11 = Model(\n",
        "    inputs={\n",
        "        'data': data,\n",
        "        'edges': edge,\n",
        "        'node2grah': node2graph,\n",
        "    },\n",
        "    outputs=pred_attempt_11\n",
        ")"
      ],
      "metadata": {
        "id": "XremGsrQXwuT"
      },
      "execution_count": 30,
      "outputs": []
    },
    {
      "cell_type": "code",
      "source": [
        "# Compile the model\n",
        "model_attempt_11.compile(\n",
        "    optimizer=Adam(),\n",
        "    loss='binary_crossentropy',\n",
        "    metrics=['AUC']\n",
        ")"
      ],
      "metadata": {
        "id": "bUKwEwcgXyEr"
      },
      "execution_count": 31,
      "outputs": []
    },
    {
      "cell_type": "code",
      "source": [
        "# Train the model\n",
        "num_batches = len(train_set_upsampled) // batch_size\n",
        "history_attempt_11 = model_attempt_11.fit(\n",
        "    gen_batch(train_set_upsampled, batch_size=batch_size, repeat=True),\n",
        "    steps_per_epoch=num_batches,\n",
        "    epochs=10,\n",
        "    validation_data=gen_batch(validation_set, batch_size=batch_size, repeat=True),\n",
        "    validation_steps=num_batchs_validation,\n",
        ")"
      ],
      "metadata": {
        "colab": {
          "base_uri": "https://localhost:8080/"
        },
        "id": "2YSSnbP-X0bW",
        "outputId": "4d053690-cf72-4502-bf0f-6d4dde5e7d8f"
      },
      "execution_count": 32,
      "outputs": [
        {
          "output_type": "stream",
          "name": "stdout",
          "text": [
            "Epoch 1/10\n",
            "2377/2377 [==============================] - 40s 15ms/step - loss: 0.6038 - auc: 0.7369 - val_loss: 0.6180 - val_auc: 0.7310\n",
            "Epoch 2/10\n",
            "2377/2377 [==============================] - 31s 13ms/step - loss: 0.5598 - auc: 0.7851 - val_loss: 0.7692 - val_auc: 0.7560\n",
            "Epoch 3/10\n",
            "2377/2377 [==============================] - 34s 14ms/step - loss: 0.5164 - auc: 0.8242 - val_loss: 0.6827 - val_auc: 0.7721\n",
            "Epoch 4/10\n",
            "2377/2377 [==============================] - 35s 15ms/step - loss: 0.4872 - auc: 0.8469 - val_loss: 0.4868 - val_auc: 0.8000\n",
            "Epoch 5/10\n",
            "2377/2377 [==============================] - 39s 17ms/step - loss: 0.4613 - auc: 0.8642 - val_loss: 0.5522 - val_auc: 0.7919\n",
            "Epoch 6/10\n",
            "2377/2377 [==============================] - 35s 15ms/step - loss: 0.4426 - auc: 0.8762 - val_loss: 0.4550 - val_auc: 0.8063\n",
            "Epoch 7/10\n",
            "2377/2377 [==============================] - 42s 18ms/step - loss: 0.4194 - auc: 0.8893 - val_loss: 0.6872 - val_auc: 0.7913\n",
            "Epoch 8/10\n",
            "2377/2377 [==============================] - 32s 13ms/step - loss: 0.3971 - auc: 0.9013 - val_loss: 0.5392 - val_auc: 0.8051\n",
            "Epoch 9/10\n",
            "2377/2377 [==============================] - 33s 14ms/step - loss: 0.3765 - auc: 0.9115 - val_loss: 0.3811 - val_auc: 0.7926\n",
            "Epoch 10/10\n",
            "2377/2377 [==============================] - 31s 13ms/step - loss: 0.3608 - auc: 0.9195 - val_loss: 0.4837 - val_auc: 0.8043\n"
          ]
        }
      ]
    },
    {
      "cell_type": "code",
      "source": [
        "# Generate predictions using the trained model for the validation set\n",
        "y_pred_validation_attempt_11 = model_attempt_11.predict(gen_batch(validation_set, batch_size=batch_size, repeat=False)).reshape(-1)\n",
        "\n",
        "# Calculate AUROC for the validation set\n",
        "y_true_validation = np.array([s[2] for s in validation_set])\n",
        "auroc_validation_attempt_11 = roc_auc_score(y_true_validation, y_pred_validation_attempt_11)\n",
        "print(f\"AUROC for Validation (Attempt 11): {auroc_validation_attempt_11}\")"
      ],
      "metadata": {
        "colab": {
          "base_uri": "https://localhost:8080/"
        },
        "id": "T_tPK4mMX1eq",
        "outputId": "ea9e9eac-394c-4570-fbf7-c763af73a889"
      },
      "execution_count": 33,
      "outputs": [
        {
          "output_type": "stream",
          "name": "stdout",
          "text": [
            "313/313 [==============================] - 1s 4ms/step\n",
            "AUROC for Validation (Attempt 11): 0.4966111515347509\n"
          ]
        }
      ]
    },
    {
      "cell_type": "markdown",
      "source": [
        "##**Prediction:**\n"
      ],
      "metadata": {
        "id": "fkzgwoAgYAqY"
      }
    },
    {
      "cell_type": "code",
      "source": [
        "# Generate predictions for the test data\n",
        "y_pred_attempt_11 = model_attempt_11.predict(gen_batch(test_data, batch_size=batch_size, shuffle=False)).reshape(-1)\n"
      ],
      "metadata": {
        "colab": {
          "base_uri": "https://localhost:8080/"
        },
        "id": "fI9nRIH2YCW3",
        "outputId": "8a595c72-81d2-4328-b050-1f9a0edb28b2"
      },
      "execution_count": 34,
      "outputs": [
        {
          "output_type": "stream",
          "name": "stdout",
          "text": [
            "771/771 [==============================] - 4s 5ms/step\n"
          ]
        }
      ]
    },
    {
      "cell_type": "markdown",
      "source": [
        "##**Save model:**\n"
      ],
      "metadata": {
        "id": "U-NP6NtyYF5W"
      }
    },
    {
      "cell_type": "code",
      "source": [
        "# Save predictions to a CSV file\n",
        "submission_attempt_11 = pd.DataFrame({'label': y_pred_attempt_11})\n",
        "submission_attempt_11.index.name = 'id'\n",
        "submission_attempt_11.to_csv('trial_11.csv')"
      ],
      "metadata": {
        "id": "QETs5kmtYGiA"
      },
      "execution_count": 35,
      "outputs": []
    },
    {
      "cell_type": "markdown",
      "source": [
        "##**Observations: 11**\n",
        "Trial 11 has not shown substantial improvement in model performance compared to previous trials (Trial 5,6). This suggests that despite implementing mean aggregation, up-sampling, increased hidden dimensionality, and using RGCN for message calculation, the model's ability to distinguish between classes remains limited.\n"
      ],
      "metadata": {
        "id": "Rmd0U_oQYF5X"
      }
    },
    {
      "cell_type": "markdown",
      "source": [
        "##**Expectation trial 12**\n",
        "With increased hidden dimensionality, utilization of RGAT for message calculation, and inclusion of up-sampling, the trial is anticipated to succeed in enhancing model performance and generalization."
      ],
      "metadata": {
        "id": "K5HbqGKcsMJ9"
      }
    },
    {
      "cell_type": "markdown",
      "source": [
        "##**Trial 12:** Mean aggregation with up-sampling, but with increased hidden dimensionality in the GNN layers (using RGAT for message calculation)"
      ],
      "metadata": {
        "id": "Gf5qpP7tZSfs"
      }
    },
    {
      "cell_type": "code",
      "source": [
        "# Define hyperparameters for the GNN model\n",
        "params_attempt_12 = GNN.get_default_hyperparameters()\n",
        "params_attempt_12[\"hidden_dim\"] = 128  # Increase hidden dimensionality to 128\n",
        "params_attempt_12[\"message_calculation_class\"] = \"RGAT\"  # Use RGAT for message calculation\n",
        "params_attempt_12[\"num_heads\"] = 4  # Specify the number of attention heads\n",
        "\n",
        "# Initialize GNN layer with hyperparameters\n",
        "gnn_layer_attempt_12 = GNN(params_attempt_12)\n",
        "gnn_out_attempt_12 = gnn_layer_attempt_12(gnn_input)\n",
        "\n",
        "# Calculate mean aggregation\n",
        "mean_attempt_12 = tf.math.segment_mean(data=gnn_out_attempt_12, segment_ids=node2graph)\n",
        "\n",
        "# Predictions using Dense layer\n",
        "pred_attempt_12 = Dense(1, activation='sigmoid')(mean_attempt_12)"
      ],
      "metadata": {
        "id": "-3q_ANWZfK9X"
      },
      "execution_count": 40,
      "outputs": []
    },
    {
      "cell_type": "code",
      "source": [
        "# Define the GNN model for Attempt 12\n",
        "model_attempt_12 = Model(\n",
        "    inputs={\n",
        "        'data': data,\n",
        "        'edges': edge,\n",
        "        'node2grah': node2graph,\n",
        "    },\n",
        "    outputs=pred_attempt_12\n",
        ")"
      ],
      "metadata": {
        "id": "8TidUzWefK92"
      },
      "execution_count": 41,
      "outputs": []
    },
    {
      "cell_type": "code",
      "source": [
        "# Compile the model\n",
        "model_attempt_12.compile(\n",
        "    optimizer=Adam(),\n",
        "    loss='binary_crossentropy',\n",
        "    metrics=['AUC']\n",
        ")"
      ],
      "metadata": {
        "id": "EtikFZtWfK93"
      },
      "execution_count": 42,
      "outputs": []
    },
    {
      "cell_type": "code",
      "source": [
        "# Train the model\n",
        "num_batches = len(train_set_upsampled) // batch_size\n",
        "\n",
        "history_attempt_12 = model_attempt_12.fit(\n",
        "    gen_batch(train_set_upsampled, batch_size=batch_size, repeat=True),\n",
        "    steps_per_epoch=num_batches,\n",
        "    epochs=10,\n",
        "    validation_data=gen_batch(validation_set, batch_size=batch_size, repeat=True),\n",
        "    validation_steps=num_batchs_validation,\n",
        ")"
      ],
      "metadata": {
        "colab": {
          "base_uri": "https://localhost:8080/"
        },
        "outputId": "8a143021-6989-44ab-f808-33976ec70bf6",
        "id": "PioBVUAAfK94"
      },
      "execution_count": 43,
      "outputs": [
        {
          "output_type": "stream",
          "name": "stdout",
          "text": [
            "Epoch 1/10\n",
            "2377/2377 [==============================] - 79s 31ms/step - loss: 0.5862 - auc: 0.7580 - val_loss: 0.6751 - val_auc: 0.7796\n",
            "Epoch 2/10\n",
            "2377/2377 [==============================] - 65s 27ms/step - loss: 0.5185 - auc: 0.8227 - val_loss: 0.4686 - val_auc: 0.7977\n",
            "Epoch 3/10\n",
            "2377/2377 [==============================] - 62s 26ms/step - loss: 0.4606 - auc: 0.8654 - val_loss: 0.4424 - val_auc: 0.8063\n",
            "Epoch 4/10\n",
            "2377/2377 [==============================] - 80s 34ms/step - loss: 0.4095 - auc: 0.8951 - val_loss: 0.4005 - val_auc: 0.8304\n",
            "Epoch 5/10\n",
            "2377/2377 [==============================] - 70s 29ms/step - loss: 0.3726 - auc: 0.9136 - val_loss: 0.3809 - val_auc: 0.8239\n",
            "Epoch 6/10\n",
            "2377/2377 [==============================] - 62s 26ms/step - loss: 0.3467 - auc: 0.9258 - val_loss: 0.4269 - val_auc: 0.8150\n",
            "Epoch 7/10\n",
            "2377/2377 [==============================] - 75s 32ms/step - loss: 0.3089 - auc: 0.9405 - val_loss: 0.4215 - val_auc: 0.8330\n",
            "Epoch 8/10\n",
            "2377/2377 [==============================] - 61s 26ms/step - loss: 0.2865 - auc: 0.9483 - val_loss: 0.4536 - val_auc: 0.8240\n",
            "Epoch 9/10\n",
            "2377/2377 [==============================] - 65s 27ms/step - loss: 0.2608 - auc: 0.9565 - val_loss: 0.4064 - val_auc: 0.8146\n",
            "Epoch 10/10\n",
            "2377/2377 [==============================] - 71s 30ms/step - loss: 0.2474 - auc: 0.9608 - val_loss: 0.4056 - val_auc: 0.8110\n"
          ]
        }
      ]
    },
    {
      "cell_type": "code",
      "source": [
        "# Generate predictions using the trained model for the validation set\n",
        "y_pred_validation_attempt_12 = model_attempt_12.predict(gen_batch(validation_set, batch_size=batch_size, repeat=False)).reshape(-1)\n",
        "\n",
        "# Calculate AUROC for the validation set\n",
        "y_true_validation = np.array([s[2] for s in validation_set])\n",
        "auroc_validation_attempt_12 = roc_auc_score(y_true_validation, y_pred_validation_attempt_12)\n",
        "print(f\"AUROC for Validation (Attempt 12): {auroc_validation_attempt_12}\")"
      ],
      "metadata": {
        "colab": {
          "base_uri": "https://localhost:8080/"
        },
        "outputId": "e63cd545-0417-49e9-e70f-0df683b96c81",
        "id": "Krn3vxpafK96"
      },
      "execution_count": 44,
      "outputs": [
        {
          "output_type": "stream",
          "name": "stdout",
          "text": [
            "313/313 [==============================] - 2s 6ms/step\n",
            "AUROC for Validation (Attempt 12): 0.48288828830909836\n"
          ]
        }
      ]
    },
    {
      "cell_type": "markdown",
      "source": [
        "##**Prediction:**\n"
      ],
      "metadata": {
        "id": "M8c6qlRLfK97"
      }
    },
    {
      "cell_type": "code",
      "source": [
        "# Generate predictions for the test data\n",
        "y_pred_attempt_12 = model_attempt_12.predict(gen_batch(test_data, batch_size=batch_size, shuffle=False)).reshape(-1)\n"
      ],
      "metadata": {
        "colab": {
          "base_uri": "https://localhost:8080/"
        },
        "outputId": "85f97886-c614-449c-ccb2-54d19c944c42",
        "id": "4uG0UXcyfK97"
      },
      "execution_count": 45,
      "outputs": [
        {
          "output_type": "stream",
          "name": "stdout",
          "text": [
            "771/771 [==============================] - 4s 6ms/step\n"
          ]
        }
      ]
    },
    {
      "cell_type": "markdown",
      "source": [
        "##**Save model:**\n"
      ],
      "metadata": {
        "id": "bbDHOCfmfK98"
      }
    },
    {
      "cell_type": "code",
      "source": [
        "# Save predictions to a CSV file\n",
        "submission_attempt_12 = pd.DataFrame({'label': y_pred_attempt_12})\n",
        "submission_attempt_12.index.name = 'id'\n",
        "submission_attempt_12.to_csv('trail_12.csv')"
      ],
      "metadata": {
        "id": "UyHRbODWfK98"
      },
      "execution_count": 46,
      "outputs": []
    },
    {
      "cell_type": "markdown",
      "source": [
        "##**Observations: 12**\n",
        "Trial 12 has not exhibited notable enhancements in model effectiveness compared to prior experiments. Despite incorporating mean aggregation, up-sampling, increased hidden dimensionality, and employing RGCN for message calculation, the model's capacity to discern between classes remains constrained."
      ],
      "metadata": {
        "id": "OV8tGjdzuZJB"
      }
    },
    {
      "cell_type": "markdown",
      "source": [
        "##**Expectation trial 13**\n",
        "Implementing mean aggregation, up-sampling, increased hidden dimensionality, and using RGIN for message calculation is expected to lead to improved model performance and generalization, addressing class imbalance and capturing complex relationships in the graph data effectively."
      ],
      "metadata": {
        "id": "H5HhkLnxsF_n"
      }
    },
    {
      "cell_type": "markdown",
      "source": [
        "##**Trial 13:** Mean aggregation with up-sampling, but with increased hidden dimensionality in the GNN layers (using RGIN for message calculation)"
      ],
      "metadata": {
        "id": "J28NMe-1ZYG2"
      }
    },
    {
      "cell_type": "code",
      "source": [
        "# Define hyperparameters for the GNN model\n",
        "params_attempt_13 = GNN.get_default_hyperparameters()\n",
        "params_attempt_13[\"hidden_dim\"] = 128  # Increase hidden dimensionality to 128\n",
        "params_attempt_13[\"message_calculation_class\"] = \"RGIN\"  # Use RGIN for message calculation\n",
        "params_attempt_13[\"num_aggr_MLP_hidden_layers\"] = 2  # Specify the number of hidden layers in the aggregation MLP\n",
        "\n",
        "# Initialize GNN layer with hyperparameters\n",
        "gnn_layer_attempt_13 = GNN(params_attempt_13)\n",
        "gnn_out_attempt_13 = gnn_layer_attempt_13(gnn_input)\n",
        "\n",
        "# Calculate mean aggregation\n",
        "mean_attempt_13 = tf.math.segment_mean(data=gnn_out_attempt_13, segment_ids=node2graph)\n",
        "\n",
        "# Predictions using Dense layer\n",
        "pred_attempt_13 = Dense(1, activation='sigmoid')(mean_attempt_13)"
      ],
      "metadata": {
        "id": "lg6-dcbrf5Hl"
      },
      "execution_count": 50,
      "outputs": []
    },
    {
      "cell_type": "code",
      "source": [
        "# Define the GNN model for Attempt 13\n",
        "model_attempt_13 = Model(\n",
        "    inputs={\n",
        "        'data': data,\n",
        "        'edges': edge,\n",
        "        'node2grah': node2graph,\n",
        "    },\n",
        "    outputs=pred_attempt_13\n",
        ")"
      ],
      "metadata": {
        "id": "E8LYNG0ighef"
      },
      "execution_count": 51,
      "outputs": []
    },
    {
      "cell_type": "code",
      "source": [
        "# Compile the model\n",
        "model_attempt_13.compile(\n",
        "    optimizer=Adam(),\n",
        "    loss='binary_crossentropy',\n",
        "    metrics=['AUC']\n",
        ")"
      ],
      "metadata": {
        "id": "vuSPmCRsgnCj"
      },
      "execution_count": 52,
      "outputs": []
    },
    {
      "cell_type": "code",
      "source": [
        "# Train the model\n",
        "num_batches = len(train_set_upsampled) // batch_size\n",
        "\n",
        "history_attempt_13 = model_attempt_13.fit(\n",
        "    gen_batch(train_set_upsampled, batch_size=batch_size, repeat=True),\n",
        "    steps_per_epoch=num_batches,\n",
        "    epochs=10,\n",
        "    validation_data=gen_batch(validation_set, batch_size=batch_size, repeat=True),\n",
        "    validation_steps=num_batchs_validation,\n",
        ")"
      ],
      "metadata": {
        "colab": {
          "base_uri": "https://localhost:8080/"
        },
        "id": "SAQ0QRh2grGa",
        "outputId": "0b8f4f9e-fa1f-4a53-c455-abce1fc01bdf"
      },
      "execution_count": 53,
      "outputs": [
        {
          "output_type": "stream",
          "name": "stdout",
          "text": [
            "Epoch 1/10\n",
            "2377/2377 [==============================] - 44s 16ms/step - loss: 0.6211 - auc: 0.7157 - val_loss: 0.7066 - val_auc: 0.7182\n",
            "Epoch 2/10\n",
            "2377/2377 [==============================] - 37s 15ms/step - loss: 0.6052 - auc: 0.7344 - val_loss: 0.5739 - val_auc: 0.6804\n",
            "Epoch 3/10\n",
            "2377/2377 [==============================] - 37s 16ms/step - loss: 0.6324 - auc: 0.6992 - val_loss: 0.7004 - val_auc: 0.7330\n",
            "Epoch 4/10\n",
            "2377/2377 [==============================] - 39s 16ms/step - loss: 0.5938 - auc: 0.7537 - val_loss: 0.7849 - val_auc: 0.7512\n",
            "Epoch 5/10\n",
            "2377/2377 [==============================] - 39s 16ms/step - loss: 0.5667 - auc: 0.7826 - val_loss: 0.5423 - val_auc: 0.7655\n",
            "Epoch 6/10\n",
            "2377/2377 [==============================] - 37s 15ms/step - loss: 0.5514 - auc: 0.7982 - val_loss: 0.6377 - val_auc: 0.7766\n",
            "Epoch 7/10\n",
            "2377/2377 [==============================] - 37s 16ms/step - loss: 0.5530 - auc: 0.7983 - val_loss: 0.5741 - val_auc: 0.7544\n",
            "Epoch 8/10\n",
            "2377/2377 [==============================] - 38s 16ms/step - loss: 0.5792 - auc: 0.7727 - val_loss: 0.6328 - val_auc: 0.7524\n",
            "Epoch 9/10\n",
            "2377/2377 [==============================] - 36s 15ms/step - loss: 0.5892 - auc: 0.7624 - val_loss: 0.7477 - val_auc: 0.7756\n",
            "Epoch 10/10\n",
            "2377/2377 [==============================] - 37s 15ms/step - loss: 0.5874 - auc: 0.7641 - val_loss: 0.6018 - val_auc: 0.7497\n"
          ]
        }
      ]
    },
    {
      "cell_type": "code",
      "source": [
        "# Generate predictions using the trained model for the validation set\n",
        "y_pred_validation_attempt_13 = model_attempt_13.predict(gen_batch(validation_set, batch_size=batch_size, repeat=False)).reshape(-1)\n",
        "\n",
        "# Calculate AUROC for the validation set\n",
        "y_true_validation = np.array([s[2] for s in validation_set])\n",
        "auroc_validation_attempt_13 = roc_auc_score(y_true_validation, y_pred_validation_attempt_13)\n",
        "print(f\"AUROC for Validation (Attempt 13): {auroc_validation_attempt_13}\")"
      ],
      "metadata": {
        "colab": {
          "base_uri": "https://localhost:8080/"
        },
        "id": "gueaODPIgtLh",
        "outputId": "06bf33e2-41c5-4950-c389-2757570233c6"
      },
      "execution_count": 54,
      "outputs": [
        {
          "output_type": "stream",
          "name": "stdout",
          "text": [
            "313/313 [==============================] - 2s 5ms/step\n",
            "AUROC for Validation (Attempt 13): 0.5170717692849636\n"
          ]
        }
      ]
    },
    {
      "cell_type": "markdown",
      "source": [
        "##**Prediction:**\n"
      ],
      "metadata": {
        "id": "yj6HLgHsg6dK"
      }
    },
    {
      "cell_type": "code",
      "source": [
        "# Generate predictions for the test data\n",
        "y_pred_attempt_13 = model_attempt_13.predict(gen_batch(test_data, batch_size=batch_size, shuffle=False)).reshape(-1)"
      ],
      "metadata": {
        "colab": {
          "base_uri": "https://localhost:8080/"
        },
        "id": "lRmPtOTXgwee",
        "outputId": "d2f44582-7196-4907-ad31-64f21cc89fe7"
      },
      "execution_count": 55,
      "outputs": [
        {
          "output_type": "stream",
          "name": "stdout",
          "text": [
            "771/771 [==============================] - 4s 5ms/step\n"
          ]
        }
      ]
    },
    {
      "cell_type": "markdown",
      "source": [
        "##**Save model:**\n"
      ],
      "metadata": {
        "id": "X-Qlqueug6dU"
      }
    },
    {
      "cell_type": "code",
      "source": [
        "# Save predictions to a CSV file\n",
        "submission_attempt_13 = pd.DataFrame({'label': y_pred_attempt_13})\n",
        "submission_attempt_13.index.name = 'id'\n",
        "submission_attempt_13.to_csv('trail_13.csv')"
      ],
      "metadata": {
        "id": "x5iSLea9gzhs"
      },
      "execution_count": 64,
      "outputs": []
    },
    {
      "cell_type": "markdown",
      "source": [
        "##**Observation Trial 13**:\n",
        "Implementing mean aggregation, up-sampling, increased hidden dimensionalit and using RGIN for message calculation shows a slight improvement in AUROC=0.517  compared to previous trials (4,5 and 6), it falls short of achieving a significant enhancement in model performance."
      ],
      "metadata": {
        "id": "hNydeM2BvERL"
      }
    },
    {
      "cell_type": "markdown",
      "metadata": {
        "id": "zLfLrxlZbBxB"
      },
      "source": [
        "#**Questions:**"
      ]
    },
    {
      "cell_type": "markdown",
      "metadata": {
        "id": "cJaR7yMYbIbI"
      },
      "source": [
        "###1.**Based on the provided template, describe the format of the input file (sdf file).**\n",
        "\n"
      ]
    },
    {
      "cell_type": "markdown",
      "source": [
        "####The input file is on the structure of (SDF)  and provides information about a molecule's chemical composition, such as individual atom positions and connections. The SDF file is used to discriminate between various chemicals. Each sample or molecule begins with a header including the compound's name or title. Other portions include information about the amount of atoms, version number, and relationships, among other things. The atom block specifies the compound's constituents, whereas the bond block describes the bonding structure. In this assignment, both blocks are utilized to extract information from the compound and save it as edges and nodes. Each node corresponds to an atom in the chemical molecule."
      ],
      "metadata": {
        "id": "SlAjN1QlwQCj"
      }
    },
    {
      "cell_type": "markdown",
      "metadata": {
        "id": "-wh2Ke5dbcQn"
      },
      "source": [
        "###2. **What are the input tensors to the neural network model (their meaning, not just symbol)? What is each of their dims and their meaning (e.g. batch_size)?**\n"
      ]
    },
    {
      "cell_type": "markdown",
      "source": [
        "- The data is structured in a tokenized format, where each data point contains nodes representing chemical molecules. Processing this data involves extracting and tokenizing nodes for each compound using a tokenizer, followed by padding using the pad sequence method. The batch shape is determined by multiplying batch_size with max_len_nodes, where batch_size indicates the number of samples in the batch, and max_len_nodes represents the length of tokenized nodes after padding.\n",
        "\n",
        "- The edge tensor serves as an input tensor that encodes connectivity information between atoms within the chemical molecule. Its shape is (sum_of_all_edges, 2), where sum_of_all_edges refers to the total number of edges across all samples in the batch.\n",
        "\n",
        "- On the other hand, the node2graph tensor is a segmented mean input tensor that encodes segmented ID information. Each batch has a shape of (batch_size * max_len_nodes), where batch_size denotes the number of samples in the batch, and max_len_nodes represents the length of tokenized nodes after padding."
      ],
      "metadata": {
        "id": "d8F1SsFUZQGB"
      }
    },
    {
      "cell_type": "markdown",
      "metadata": {
        "id": "hTVnosPBbhs2"
      },
      "source": [
        "###**For each dim of gnn_out, what does it symbolize? For each dim of avg, what does it symbolize?**\n"
      ]
    },
    {
      "cell_type": "markdown",
      "source": [
        "\n",
        "* The gnn_out tensor has a shape of (batch_size_node_dimension, hidden_layers), where batch_size_node_dimension indicates the dimension of the input data vector, specifically the dimension of the tokenized vector for the entire batch. This tensor captures the model's aggregation output for each hidden layer.\n",
        "\n",
        "* The avg tensor is derived by computing the mean of the gnn_out tensor using segmented IDs. Each sample in the batch contributes to the gnn_out tensor, which has a shape of (tokenized_vector_dimension, hidden_layers) for each sample. The segment_mean tensor is then formed by averaging all output data in the gnn_out tensor across each hidden layer, resulting in a single number representing each sample. Consequently, the final shape of the avg tensor is (batch_size, hidden_layer), presenting summarized information for each sample as mean data."
      ],
      "metadata": {
        "id": "OrRNLEdxZmw3"
      }
    },
    {
      "cell_type": "markdown",
      "metadata": {
        "id": "Zx28dzxqbrGv"
      },
      "source": [
        "###4.\t**What is the difference between segment_mean and tf.reduce_mean? For each dim of pred, what does it symbolize?**"
      ]
    },
    {
      "cell_type": "markdown",
      "source": [
        "\n",
        "* The segment_mean function determines the average of data sharing common segmented IDs.\n",
        "\n",
        "* Meanwhile, the reduce_mean function calculates the mean across dimensions of a tensor based on specific parameters.\n",
        "\n",
        "* The pred tensor has dimensions of (batch_size, 1), serving as the ultimate output indicating the activity level of a chemical compound against cancer cells. Each sample yields a single numerical output representing the compound's likelihood of activity."
      ],
      "metadata": {
        "id": "cZg6WTwHZvXF"
      }
    },
    {
      "cell_type": "markdown",
      "metadata": {
        "id": "4Z3O5uvgZw3Q"
      },
      "source": [
        "###5.\t**What is the motivation/theory/idea to use multiple gcn layers comparing to just one? How many layers were used in the template?**"
      ]
    },
    {
      "cell_type": "markdown",
      "source": [
        "The standard configuration of the gcn_network employs a default setting for the layer count, set at 4 according to the documentation. The default message passing approach is rgcn (Graph convolution layers). Utilizing multiple gcn layers enhances the model's ability to comprehend the graph's intricacy, leading to improved model performance."
      ],
      "metadata": {
        "id": "F0Y2yRSvZviM"
      }
    }
  ],
  "metadata": {
    "accelerator": "GPU",
    "colab": {
      "gpuType": "T4",
      "provenance": []
    },
    "kernelspec": {
      "display_name": "Python 3",
      "name": "python3"
    },
    "language_info": {
      "name": "python"
    }
  },
  "nbformat": 4,
  "nbformat_minor": 0
}